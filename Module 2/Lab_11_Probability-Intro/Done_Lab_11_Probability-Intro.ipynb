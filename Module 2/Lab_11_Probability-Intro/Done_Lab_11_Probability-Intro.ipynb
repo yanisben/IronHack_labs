{
 "cells": [
  {
   "cell_type": "markdown",
   "metadata": {},
   "source": [
    "# Introduction To Probability\n",
    "## Challenge 1\n",
    "\n",
    "A and B are events of a probability space with $(\\omega, \\sigma, P)$ such that $P(A) = 0.3$, $P(B) = 0.6$ and $P(A \\cap B) = 0.1$\n",
    "\n",
    "Which of the following statements are false?\n",
    "* $P(A \\cup B) = 0.6$\n",
    "* $P(A \\cap B^{C}) = 0.2$\n",
    "* $P(A \\cap (B \\cup B^{C})) = 0.4$\n",
    "* $P(A^{C} \\cap B^{C}) = 0.3$\n",
    "* $P((A \\cap B)^{C}) = 0.9$"
   ]
  },
  {
   "cell_type": "code",
   "execution_count": null,
   "metadata": {},
   "outputs": [],
   "source": [
    "\"\"\"\n",
    "your solution here\n",
    "𝑃(𝐴∪𝐵)=0.6 FALSE\n",
    "𝑃(𝐴∩𝐵𝐶)=0.2 FALSE\n",
    "𝑃(𝐴∩(𝐵∪𝐵𝐶))=0.4 FALSE\n",
    "𝑃(𝐴𝐶∩𝐵𝐶)=0.3 it's equal to 0.28\n",
    "𝑃((𝐴∩𝐵)𝐶)=0.9 FALSE\n",
    "\n",
    "\"\"\""
   ]
  },
  {
   "cell_type": "markdown",
   "metadata": {},
   "source": [
    "## Challenge 2\n",
    "There is a box with 10 white balls, 12 red balls and 8 black balls. Calculate the probability of:\n",
    "* Taking a white ball out.\n",
    "* Taking a white ball out after taking a black ball out.\n",
    "* Taking a red ball out after taking a black and a red ball out.\n",
    "* Taking a red ball out after taking a black and a red ball out with reposition.\n",
    "\n",
    "**Hint**: Reposition means putting back the ball into the box after taking it out."
   ]
  },
  {
   "cell_type": "code",
   "execution_count": null,
   "metadata": {},
   "outputs": [],
   "source": [
    "\"\"\"\n",
    "your solution here\n",
    "\"\"\"\n",
    "\n",
    "# Probability of taking a white ball : 10 / (10 + 12 + 8) = 1 / 3\n",
    "# Taking a white ball out after taking a black ball out : \n",
    "    # Probability of taking a black ball out : 8 / 30 = 4 / 15\n",
    "    # Probability of taking a white ball after that = 4 / 15 * 10 / 29 = 40 / 435 = approx. 0.1\n",
    "# Probability of taking a red ball out after taking a black and a red ball out : 11 / 28\n",
    "# Probability of taking a red ball out after taking a black and a red ball out with reposition : \n",
    "    # (12 / 30) * (8 / 30) * (12 / 30)"
   ]
  },
  {
   "cell_type": "markdown",
   "metadata": {},
   "source": [
    "## Challenge 3\n",
    "\n",
    "You are planning to go on a picnic today but the morning is cloudy. You hate rain so you don't know whether to go out or stay home! To help you make a decision, you gather the following data about rainy days:\n",
    "\n",
    "* 50% of all rainy days start off cloudy!\n",
    "* Cloudy mornings are common. About 40% of days start cloudy. \n",
    "* This month is usually dry so only 3 of 30 days (10%) tend to be rainy. \n",
    "\n",
    "What is the chance of rain during the day?\n"
   ]
  },
  {
   "cell_type": "code",
   "execution_count": null,
   "metadata": {},
   "outputs": [],
   "source": [
    "\"\"\"\n",
    "your solution here\n",
    "\n",
    "p(cloudy|rain) = 0.5\n",
    "\n",
    "we are looking for : p(rain|cloudy)\n",
    "\n",
    "p(rain|cloudy) = (p(rain) * p(cloudy|rain)) / p(cloudy)\n",
    "p(rain|cloudy) = 0.1 * 0.5 / 0.4 = 0.02\n",
    "\n",
    "\"\"\""
   ]
  },
  {
   "cell_type": "markdown",
   "metadata": {},
   "source": [
    "## Challenge 4\n",
    "\n",
    "One thousand people were asked through a telephone survey whether they thought more street lighting is needed at night or not.\n",
    "\n",
    "Out of the 480 men that answered the survey, 324 said yes and 156 said no. On the other hand, out of the 520 women that answered, 351 said yes and 169 said no. \n",
    "\n",
    "We wonder if men and women have a different opinions about the street lighting matter. Is gender relevant or irrelevant to the question?\n",
    "\n",
    "Consider the following events:\n",
    "- The answer is yes, so the person that answered thinks that more street lighting is needed.\n",
    "- The person who answered is a man.\n",
    "\n",
    "We want to know if these events are independent, that is, if the fact of wanting more light depends on whether one is male or female. Are these events independent or not?\n",
    "\n",
    "**Hint**: To clearly compare the answers by gender, it is best to place the data in a table."
   ]
  },
  {
   "cell_type": "code",
   "execution_count": 11,
   "metadata": {},
   "outputs": [
    {
     "name": "stdout",
     "output_type": "stream",
     "text": [
      "P(Yes & Men) = 0.324\n",
      "P(Yes)*P(Men)=675 * 480 = 675 * 0.00048\n",
      "P(Yes & Women) = 0.351\n",
      "P(Yes)*P(Women) = 675 * 520 = 675 * 0.00052\n"
     ]
    }
   ],
   "source": [
    "# your code here\n",
    "import pandas as pd\n",
    "data=pd.read_excel(\"/Users/bene/Downloads/lab11.xlsx\")\n",
    "print(f\"P(Yes & Men) = {data['Men'][0]/1000}\")\n",
    "print(f\"P(Yes)*P(Men)={data['Total'][0]} * {data['Men'][2]} = {data['Total'][0]} * {data['Men'][2]/(1000*1000)}\")\n",
    "print(f\"P(Yes & Women) = {data['Women'][0]/1000}\")\n",
    "print(f\"P(Yes)*P(Women) = {data['Total'][0]} * {data['Women'][2]} = {data['Total'][0]} * {data['Women'][2]/(1000*1000)}\")"
   ]
  },
  {
   "cell_type": "code",
   "execution_count": null,
   "metadata": {},
   "outputs": [],
   "source": [
    "\"\"\"\n",
    "your solution here\n",
    "\"\"\""
   ]
  }
 ],
 "metadata": {
  "kernelspec": {
   "display_name": "Python 3",
   "language": "python",
   "name": "python3"
  },
  "language_info": {
   "codemirror_mode": {
    "name": "ipython",
    "version": 3
   },
   "file_extension": ".py",
   "mimetype": "text/x-python",
   "name": "python",
   "nbconvert_exporter": "python",
   "pygments_lexer": "ipython3",
   "version": "3.8.8"
  }
 },
 "nbformat": 4,
 "nbformat_minor": 2
}
