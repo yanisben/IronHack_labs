{
  "cells": [
    {
      "cell_type": "markdown",
      "metadata": {
        "id": "bgx66llINAs1"
      },
      "source": [
        "# Interactive Visualization Lab\n",
        "\n",
        "Complete the following set of exercises to solidify your knowledge of interactive visualization using Plotly, Cufflinks, and IPyWidgets."
      ]
    },
    {
      "cell_type": "code",
      "execution_count": 1,
      "metadata": {
        "colab": {
          "base_uri": "https://localhost:8080/",
          "height": 17
        },
        "id": "Bd1NfGejNAs5",
        "outputId": "a3351317-4659-4319-d103-260ed437b54c"
      },
      "outputs": [
        {
          "data": {
            "text/html": [
              "        <script type=\"text/javascript\">\n",
              "        window.PlotlyConfig = {MathJaxConfig: 'local'};\n",
              "        if (window.MathJax) {MathJax.Hub.Config({SVG: {font: \"STIX-Web\"}});}\n",
              "        if (typeof require !== 'undefined') {\n",
              "        require.undef(\"plotly\");\n",
              "        requirejs.config({\n",
              "            paths: {\n",
              "                'plotly': ['https://cdn.plot.ly/plotly-2.8.3.min']\n",
              "            }\n",
              "        });\n",
              "        require(['plotly'], function(Plotly) {\n",
              "            window._Plotly = Plotly;\n",
              "        });\n",
              "        }\n",
              "        </script>\n",
              "        "
            ]
          },
          "metadata": {},
          "output_type": "display_data"
        }
      ],
      "source": [
        "import pandas as pd;\n",
        "import plotly.offline as py;\n",
        "from plotly import tools;\n",
        "import plotly.graph_objs as go;\n",
        "import warnings;\n",
        "from ipywidgets import interact;\n",
        "import plotly.express as px\n",
        "\n",
        "warnings.filterwarnings('ignore')\n",
        "py.init_notebook_mode(connected=True)"
      ]
    },
    {
      "cell_type": "code",
      "execution_count": 2,
      "metadata": {
        "colab": {
          "base_uri": "https://localhost:8080/",
          "height": 328
        },
        "id": "zzrhxOv-NAs8",
        "outputId": "903bbb1a-6984-443c-b466-2a5d02c8b65e"
      },
      "outputs": [],
      "source": [
        "data = pd.read_excel('/Users/bene/Downloads/online_retail.xlsx')"
      ]
    },
    {
      "cell_type": "code",
      "execution_count": 3,
      "metadata": {},
      "outputs": [
        {
          "data": {
            "text/html": [
              "<div>\n",
              "<style scoped>\n",
              "    .dataframe tbody tr th:only-of-type {\n",
              "        vertical-align: middle;\n",
              "    }\n",
              "\n",
              "    .dataframe tbody tr th {\n",
              "        vertical-align: top;\n",
              "    }\n",
              "\n",
              "    .dataframe thead th {\n",
              "        text-align: right;\n",
              "    }\n",
              "</style>\n",
              "<table border=\"1\" class=\"dataframe\">\n",
              "  <thead>\n",
              "    <tr style=\"text-align: right;\">\n",
              "      <th></th>\n",
              "      <th>InvoiceNo</th>\n",
              "      <th>InvoiceDate</th>\n",
              "      <th>StockCode</th>\n",
              "      <th>Description</th>\n",
              "      <th>Quantity</th>\n",
              "      <th>UnitPrice</th>\n",
              "      <th>Revenue</th>\n",
              "      <th>CustomerID</th>\n",
              "      <th>Country</th>\n",
              "    </tr>\n",
              "  </thead>\n",
              "  <tbody>\n",
              "    <tr>\n",
              "      <th>0</th>\n",
              "      <td>536365</td>\n",
              "      <td>2010-12-01 08:26:00</td>\n",
              "      <td>85123A</td>\n",
              "      <td>CREAM HANGING HEART T-LIGHT HOLDER</td>\n",
              "      <td>6</td>\n",
              "      <td>2.55</td>\n",
              "      <td>15.3</td>\n",
              "      <td>17850</td>\n",
              "      <td>United Kingdom</td>\n",
              "    </tr>\n",
              "    <tr>\n",
              "      <th>1</th>\n",
              "      <td>536373</td>\n",
              "      <td>2010-12-01 09:02:00</td>\n",
              "      <td>85123A</td>\n",
              "      <td>CREAM HANGING HEART T-LIGHT HOLDER</td>\n",
              "      <td>6</td>\n",
              "      <td>2.55</td>\n",
              "      <td>15.3</td>\n",
              "      <td>17850</td>\n",
              "      <td>United Kingdom</td>\n",
              "    </tr>\n",
              "    <tr>\n",
              "      <th>2</th>\n",
              "      <td>536375</td>\n",
              "      <td>2010-12-01 09:32:00</td>\n",
              "      <td>85123A</td>\n",
              "      <td>CREAM HANGING HEART T-LIGHT HOLDER</td>\n",
              "      <td>6</td>\n",
              "      <td>2.55</td>\n",
              "      <td>15.3</td>\n",
              "      <td>17850</td>\n",
              "      <td>United Kingdom</td>\n",
              "    </tr>\n",
              "    <tr>\n",
              "      <th>3</th>\n",
              "      <td>536390</td>\n",
              "      <td>2010-12-01 10:19:00</td>\n",
              "      <td>85123A</td>\n",
              "      <td>CREAM HANGING HEART T-LIGHT HOLDER</td>\n",
              "      <td>64</td>\n",
              "      <td>2.55</td>\n",
              "      <td>163.2</td>\n",
              "      <td>17511</td>\n",
              "      <td>United Kingdom</td>\n",
              "    </tr>\n",
              "    <tr>\n",
              "      <th>4</th>\n",
              "      <td>536394</td>\n",
              "      <td>2010-12-01 10:39:00</td>\n",
              "      <td>85123A</td>\n",
              "      <td>CREAM HANGING HEART T-LIGHT HOLDER</td>\n",
              "      <td>32</td>\n",
              "      <td>2.55</td>\n",
              "      <td>81.6</td>\n",
              "      <td>13408</td>\n",
              "      <td>United Kingdom</td>\n",
              "    </tr>\n",
              "  </tbody>\n",
              "</table>\n",
              "</div>"
            ],
            "text/plain": [
              "   InvoiceNo         InvoiceDate StockCode  \\\n",
              "0     536365 2010-12-01 08:26:00    85123A   \n",
              "1     536373 2010-12-01 09:02:00    85123A   \n",
              "2     536375 2010-12-01 09:32:00    85123A   \n",
              "3     536390 2010-12-01 10:19:00    85123A   \n",
              "4     536394 2010-12-01 10:39:00    85123A   \n",
              "\n",
              "                          Description  Quantity  UnitPrice  Revenue  \\\n",
              "0  CREAM HANGING HEART T-LIGHT HOLDER         6       2.55     15.3   \n",
              "1  CREAM HANGING HEART T-LIGHT HOLDER         6       2.55     15.3   \n",
              "2  CREAM HANGING HEART T-LIGHT HOLDER         6       2.55     15.3   \n",
              "3  CREAM HANGING HEART T-LIGHT HOLDER        64       2.55    163.2   \n",
              "4  CREAM HANGING HEART T-LIGHT HOLDER        32       2.55     81.6   \n",
              "\n",
              "   CustomerID         Country  \n",
              "0       17850  United Kingdom  \n",
              "1       17850  United Kingdom  \n",
              "2       17850  United Kingdom  \n",
              "3       17511  United Kingdom  \n",
              "4       13408  United Kingdom  "
            ]
          },
          "execution_count": 3,
          "metadata": {},
          "output_type": "execute_result"
        }
      ],
      "source": [
        "data.head()"
      ]
    },
    {
      "cell_type": "markdown",
      "metadata": {
        "id": "yksInHB4NAs9"
      },
      "source": [
        "#### 1. Create an interactive bar chart showing total quantity and revenue by country (excluding United Kingdom) for the month of April 2011."
      ]
    },
    {
      "cell_type": "code",
      "execution_count": 5,
      "metadata": {},
      "outputs": [],
      "source": [
        "data['month'] = pd.DatetimeIndex(data['InvoiceDate']).month"
      ]
    },
    {
      "cell_type": "code",
      "execution_count": 6,
      "metadata": {},
      "outputs": [],
      "source": [
        "april = data[data['month']==4]"
      ]
    },
    {
      "cell_type": "code",
      "execution_count": 7,
      "metadata": {},
      "outputs": [
        {
          "data": {
            "text/html": [
              "<div>\n",
              "<style scoped>\n",
              "    .dataframe tbody tr th:only-of-type {\n",
              "        vertical-align: middle;\n",
              "    }\n",
              "\n",
              "    .dataframe tbody tr th {\n",
              "        vertical-align: top;\n",
              "    }\n",
              "\n",
              "    .dataframe thead th {\n",
              "        text-align: right;\n",
              "    }\n",
              "</style>\n",
              "<table border=\"1\" class=\"dataframe\">\n",
              "  <thead>\n",
              "    <tr style=\"text-align: right;\">\n",
              "      <th></th>\n",
              "      <th>InvoiceNo</th>\n",
              "      <th>InvoiceDate</th>\n",
              "      <th>StockCode</th>\n",
              "      <th>Description</th>\n",
              "      <th>Quantity</th>\n",
              "      <th>UnitPrice</th>\n",
              "      <th>Revenue</th>\n",
              "      <th>CustomerID</th>\n",
              "      <th>Country</th>\n",
              "      <th>month</th>\n",
              "    </tr>\n",
              "  </thead>\n",
              "  <tbody>\n",
              "    <tr>\n",
              "      <th>665</th>\n",
              "      <td>548550</td>\n",
              "      <td>2011-04-01 08:22:00</td>\n",
              "      <td>85123A</td>\n",
              "      <td>CREAM HANGING HEART T-LIGHT HOLDER</td>\n",
              "      <td>6</td>\n",
              "      <td>2.95</td>\n",
              "      <td>17.70</td>\n",
              "      <td>18161</td>\n",
              "      <td>United Kingdom</td>\n",
              "      <td>4</td>\n",
              "    </tr>\n",
              "    <tr>\n",
              "      <th>666</th>\n",
              "      <td>548552</td>\n",
              "      <td>2011-04-01 09:06:00</td>\n",
              "      <td>85123A</td>\n",
              "      <td>CREAM HANGING HEART T-LIGHT HOLDER</td>\n",
              "      <td>12</td>\n",
              "      <td>2.95</td>\n",
              "      <td>35.40</td>\n",
              "      <td>17613</td>\n",
              "      <td>United Kingdom</td>\n",
              "      <td>4</td>\n",
              "    </tr>\n",
              "    <tr>\n",
              "      <th>667</th>\n",
              "      <td>548560</td>\n",
              "      <td>2011-04-01 10:10:00</td>\n",
              "      <td>85123A</td>\n",
              "      <td>CREAM HANGING HEART T-LIGHT HOLDER</td>\n",
              "      <td>32</td>\n",
              "      <td>2.55</td>\n",
              "      <td>81.60</td>\n",
              "      <td>13468</td>\n",
              "      <td>United Kingdom</td>\n",
              "      <td>4</td>\n",
              "    </tr>\n",
              "    <tr>\n",
              "      <th>668</th>\n",
              "      <td>548561</td>\n",
              "      <td>2011-04-01 10:11:00</td>\n",
              "      <td>85123A</td>\n",
              "      <td>CREAM HANGING HEART T-LIGHT HOLDER</td>\n",
              "      <td>6</td>\n",
              "      <td>2.95</td>\n",
              "      <td>17.70</td>\n",
              "      <td>16609</td>\n",
              "      <td>United Kingdom</td>\n",
              "      <td>4</td>\n",
              "    </tr>\n",
              "    <tr>\n",
              "      <th>669</th>\n",
              "      <td>548610</td>\n",
              "      <td>2011-04-01 11:28:00</td>\n",
              "      <td>85123A</td>\n",
              "      <td>CREAM HANGING HEART T-LIGHT HOLDER</td>\n",
              "      <td>1</td>\n",
              "      <td>2.95</td>\n",
              "      <td>2.95</td>\n",
              "      <td>15860</td>\n",
              "      <td>United Kingdom</td>\n",
              "      <td>4</td>\n",
              "    </tr>\n",
              "  </tbody>\n",
              "</table>\n",
              "</div>"
            ],
            "text/plain": [
              "     InvoiceNo         InvoiceDate StockCode  \\\n",
              "665     548550 2011-04-01 08:22:00    85123A   \n",
              "666     548552 2011-04-01 09:06:00    85123A   \n",
              "667     548560 2011-04-01 10:10:00    85123A   \n",
              "668     548561 2011-04-01 10:11:00    85123A   \n",
              "669     548610 2011-04-01 11:28:00    85123A   \n",
              "\n",
              "                            Description  Quantity  UnitPrice  Revenue  \\\n",
              "665  CREAM HANGING HEART T-LIGHT HOLDER         6       2.95    17.70   \n",
              "666  CREAM HANGING HEART T-LIGHT HOLDER        12       2.95    35.40   \n",
              "667  CREAM HANGING HEART T-LIGHT HOLDER        32       2.55    81.60   \n",
              "668  CREAM HANGING HEART T-LIGHT HOLDER         6       2.95    17.70   \n",
              "669  CREAM HANGING HEART T-LIGHT HOLDER         1       2.95     2.95   \n",
              "\n",
              "     CustomerID         Country  month  \n",
              "665       18161  United Kingdom      4  \n",
              "666       17613  United Kingdom      4  \n",
              "667       13468  United Kingdom      4  \n",
              "668       16609  United Kingdom      4  \n",
              "669       15860  United Kingdom      4  "
            ]
          },
          "execution_count": 7,
          "metadata": {},
          "output_type": "execute_result"
        }
      ],
      "source": [
        "april.head()"
      ]
    },
    {
      "cell_type": "code",
      "execution_count": 9,
      "metadata": {},
      "outputs": [
        {
          "data": {
            "text/html": [
              "<div>\n",
              "<style scoped>\n",
              "    .dataframe tbody tr th:only-of-type {\n",
              "        vertical-align: middle;\n",
              "    }\n",
              "\n",
              "    .dataframe tbody tr th {\n",
              "        vertical-align: top;\n",
              "    }\n",
              "\n",
              "    .dataframe thead th {\n",
              "        text-align: right;\n",
              "    }\n",
              "</style>\n",
              "<table border=\"1\" class=\"dataframe\">\n",
              "  <thead>\n",
              "    <tr style=\"text-align: right;\">\n",
              "      <th></th>\n",
              "      <th>Revenue</th>\n",
              "      <th>Quantity</th>\n",
              "    </tr>\n",
              "    <tr>\n",
              "      <th>Country</th>\n",
              "      <th></th>\n",
              "      <th></th>\n",
              "    </tr>\n",
              "  </thead>\n",
              "  <tbody>\n",
              "    <tr>\n",
              "      <th>Australia</th>\n",
              "      <td>421.60</td>\n",
              "      <td>224</td>\n",
              "    </tr>\n",
              "    <tr>\n",
              "      <th>Austria</th>\n",
              "      <td>584.78</td>\n",
              "      <td>308</td>\n",
              "    </tr>\n",
              "    <tr>\n",
              "      <th>Belgium</th>\n",
              "      <td>1788.48</td>\n",
              "      <td>1170</td>\n",
              "    </tr>\n",
              "    <tr>\n",
              "      <th>Brazil</th>\n",
              "      <td>1143.60</td>\n",
              "      <td>356</td>\n",
              "    </tr>\n",
              "    <tr>\n",
              "      <th>Channel Islands</th>\n",
              "      <td>243.00</td>\n",
              "      <td>96</td>\n",
              "    </tr>\n",
              "    <tr>\n",
              "      <th>EIRE</th>\n",
              "      <td>7270.50</td>\n",
              "      <td>4129</td>\n",
              "    </tr>\n",
              "    <tr>\n",
              "      <th>Finland</th>\n",
              "      <td>1368.92</td>\n",
              "      <td>810</td>\n",
              "    </tr>\n",
              "    <tr>\n",
              "      <th>France</th>\n",
              "      <td>3899.31</td>\n",
              "      <td>2265</td>\n",
              "    </tr>\n",
              "    <tr>\n",
              "      <th>Germany</th>\n",
              "      <td>10994.79</td>\n",
              "      <td>5702</td>\n",
              "    </tr>\n",
              "    <tr>\n",
              "      <th>Greece</th>\n",
              "      <td>509.74</td>\n",
              "      <td>260</td>\n",
              "    </tr>\n",
              "    <tr>\n",
              "      <th>Iceland</th>\n",
              "      <td>636.25</td>\n",
              "      <td>483</td>\n",
              "    </tr>\n",
              "    <tr>\n",
              "      <th>Italy</th>\n",
              "      <td>737.83</td>\n",
              "      <td>653</td>\n",
              "    </tr>\n",
              "    <tr>\n",
              "      <th>Japan</th>\n",
              "      <td>6548.50</td>\n",
              "      <td>8058</td>\n",
              "    </tr>\n",
              "    <tr>\n",
              "      <th>Netherlands</th>\n",
              "      <td>2886.56</td>\n",
              "      <td>1762</td>\n",
              "    </tr>\n",
              "    <tr>\n",
              "      <th>Poland</th>\n",
              "      <td>705.84</td>\n",
              "      <td>432</td>\n",
              "    </tr>\n",
              "    <tr>\n",
              "      <th>Portugal</th>\n",
              "      <td>1687.75</td>\n",
              "      <td>951</td>\n",
              "    </tr>\n",
              "    <tr>\n",
              "      <th>Singapore</th>\n",
              "      <td>2118.74</td>\n",
              "      <td>1384</td>\n",
              "    </tr>\n",
              "    <tr>\n",
              "      <th>Spain</th>\n",
              "      <td>1645.65</td>\n",
              "      <td>948</td>\n",
              "    </tr>\n",
              "    <tr>\n",
              "      <th>Sweden</th>\n",
              "      <td>649.10</td>\n",
              "      <td>306</td>\n",
              "    </tr>\n",
              "    <tr>\n",
              "      <th>Switzerland</th>\n",
              "      <td>1756.94</td>\n",
              "      <td>878</td>\n",
              "    </tr>\n",
              "    <tr>\n",
              "      <th>USA</th>\n",
              "      <td>383.95</td>\n",
              "      <td>137</td>\n",
              "    </tr>\n",
              "  </tbody>\n",
              "</table>\n",
              "</div>"
            ],
            "text/plain": [
              "                  Revenue  Quantity\n",
              "Country                            \n",
              "Australia          421.60       224\n",
              "Austria            584.78       308\n",
              "Belgium           1788.48      1170\n",
              "Brazil            1143.60       356\n",
              "Channel Islands    243.00        96\n",
              "EIRE              7270.50      4129\n",
              "Finland           1368.92       810\n",
              "France            3899.31      2265\n",
              "Germany          10994.79      5702\n",
              "Greece             509.74       260\n",
              "Iceland            636.25       483\n",
              "Italy              737.83       653\n",
              "Japan             6548.50      8058\n",
              "Netherlands       2886.56      1762\n",
              "Poland             705.84       432\n",
              "Portugal          1687.75       951\n",
              "Singapore         2118.74      1384\n",
              "Spain             1645.65       948\n",
              "Sweden             649.10       306\n",
              "Switzerland       1756.94       878\n",
              "USA                383.95       137"
            ]
          },
          "execution_count": 9,
          "metadata": {},
          "output_type": "execute_result"
        }
      ],
      "source": [
        "total_qty_rvn = april.groupby('Country')['Revenue', 'Quantity'].agg('sum')\n",
        "total_qty_rvn = total_qty_rvn.drop(['United Kingdom'])\n",
        "total_qty_rvn"
      ]
    },
    {
      "cell_type": "code",
      "execution_count": 12,
      "metadata": {},
      "outputs": [
        {
          "data": {
            "application/vnd.plotly.v1+json": {
              "config": {
                "plotlyServerURL": "https://plot.ly"
              },
              "data": [
                {
                  "marker": {
                    "color": "red"
                  },
                  "name": "Revenue",
                  "type": "bar",
                  "x": [
                    "Australia",
                    "Austria",
                    "Belgium",
                    "Brazil",
                    "Channel Islands",
                    "EIRE",
                    "Finland",
                    "France",
                    "Germany",
                    "Greece",
                    "Iceland",
                    "Italy",
                    "Japan",
                    "Netherlands",
                    "Poland",
                    "Portugal",
                    "Singapore",
                    "Spain",
                    "Sweden",
                    "Switzerland",
                    "USA"
                  ],
                  "y": [
                    421.6,
                    584.78,
                    1788.48,
                    1143.6,
                    243,
                    7270.5,
                    1368.92,
                    3899.31,
                    10994.79,
                    509.74,
                    636.25,
                    737.83,
                    6548.5,
                    2886.56,
                    705.8399999999999,
                    1687.75,
                    2118.74,
                    1645.65,
                    649.1,
                    1756.94,
                    383.95
                  ]
                },
                {
                  "marker": {
                    "color": "orange"
                  },
                  "name": "Quantity",
                  "type": "bar",
                  "x": [
                    "Australia",
                    "Austria",
                    "Belgium",
                    "Brazil",
                    "Channel Islands",
                    "EIRE",
                    "Finland",
                    "France",
                    "Germany",
                    "Greece",
                    "Iceland",
                    "Italy",
                    "Japan",
                    "Netherlands",
                    "Poland",
                    "Portugal",
                    "Singapore",
                    "Spain",
                    "Sweden",
                    "Switzerland",
                    "USA"
                  ],
                  "y": [
                    224,
                    308,
                    1170,
                    356,
                    96,
                    4129,
                    810,
                    2265,
                    5702,
                    260,
                    483,
                    653,
                    8058,
                    1762,
                    432,
                    951,
                    1384,
                    948,
                    306,
                    878,
                    137
                  ]
                }
              ],
              "layout": {
                "barmode": "group",
                "template": {
                  "data": {
                    "bar": [
                      {
                        "error_x": {
                          "color": "#2a3f5f"
                        },
                        "error_y": {
                          "color": "#2a3f5f"
                        },
                        "marker": {
                          "line": {
                            "color": "#E5ECF6",
                            "width": 0.5
                          },
                          "pattern": {
                            "fillmode": "overlay",
                            "size": 10,
                            "solidity": 0.2
                          }
                        },
                        "type": "bar"
                      }
                    ],
                    "barpolar": [
                      {
                        "marker": {
                          "line": {
                            "color": "#E5ECF6",
                            "width": 0.5
                          },
                          "pattern": {
                            "fillmode": "overlay",
                            "size": 10,
                            "solidity": 0.2
                          }
                        },
                        "type": "barpolar"
                      }
                    ],
                    "carpet": [
                      {
                        "aaxis": {
                          "endlinecolor": "#2a3f5f",
                          "gridcolor": "white",
                          "linecolor": "white",
                          "minorgridcolor": "white",
                          "startlinecolor": "#2a3f5f"
                        },
                        "baxis": {
                          "endlinecolor": "#2a3f5f",
                          "gridcolor": "white",
                          "linecolor": "white",
                          "minorgridcolor": "white",
                          "startlinecolor": "#2a3f5f"
                        },
                        "type": "carpet"
                      }
                    ],
                    "choropleth": [
                      {
                        "colorbar": {
                          "outlinewidth": 0,
                          "ticks": ""
                        },
                        "type": "choropleth"
                      }
                    ],
                    "contour": [
                      {
                        "colorbar": {
                          "outlinewidth": 0,
                          "ticks": ""
                        },
                        "colorscale": [
                          [
                            0,
                            "#0d0887"
                          ],
                          [
                            0.1111111111111111,
                            "#46039f"
                          ],
                          [
                            0.2222222222222222,
                            "#7201a8"
                          ],
                          [
                            0.3333333333333333,
                            "#9c179e"
                          ],
                          [
                            0.4444444444444444,
                            "#bd3786"
                          ],
                          [
                            0.5555555555555556,
                            "#d8576b"
                          ],
                          [
                            0.6666666666666666,
                            "#ed7953"
                          ],
                          [
                            0.7777777777777778,
                            "#fb9f3a"
                          ],
                          [
                            0.8888888888888888,
                            "#fdca26"
                          ],
                          [
                            1,
                            "#f0f921"
                          ]
                        ],
                        "type": "contour"
                      }
                    ],
                    "contourcarpet": [
                      {
                        "colorbar": {
                          "outlinewidth": 0,
                          "ticks": ""
                        },
                        "type": "contourcarpet"
                      }
                    ],
                    "heatmap": [
                      {
                        "colorbar": {
                          "outlinewidth": 0,
                          "ticks": ""
                        },
                        "colorscale": [
                          [
                            0,
                            "#0d0887"
                          ],
                          [
                            0.1111111111111111,
                            "#46039f"
                          ],
                          [
                            0.2222222222222222,
                            "#7201a8"
                          ],
                          [
                            0.3333333333333333,
                            "#9c179e"
                          ],
                          [
                            0.4444444444444444,
                            "#bd3786"
                          ],
                          [
                            0.5555555555555556,
                            "#d8576b"
                          ],
                          [
                            0.6666666666666666,
                            "#ed7953"
                          ],
                          [
                            0.7777777777777778,
                            "#fb9f3a"
                          ],
                          [
                            0.8888888888888888,
                            "#fdca26"
                          ],
                          [
                            1,
                            "#f0f921"
                          ]
                        ],
                        "type": "heatmap"
                      }
                    ],
                    "heatmapgl": [
                      {
                        "colorbar": {
                          "outlinewidth": 0,
                          "ticks": ""
                        },
                        "colorscale": [
                          [
                            0,
                            "#0d0887"
                          ],
                          [
                            0.1111111111111111,
                            "#46039f"
                          ],
                          [
                            0.2222222222222222,
                            "#7201a8"
                          ],
                          [
                            0.3333333333333333,
                            "#9c179e"
                          ],
                          [
                            0.4444444444444444,
                            "#bd3786"
                          ],
                          [
                            0.5555555555555556,
                            "#d8576b"
                          ],
                          [
                            0.6666666666666666,
                            "#ed7953"
                          ],
                          [
                            0.7777777777777778,
                            "#fb9f3a"
                          ],
                          [
                            0.8888888888888888,
                            "#fdca26"
                          ],
                          [
                            1,
                            "#f0f921"
                          ]
                        ],
                        "type": "heatmapgl"
                      }
                    ],
                    "histogram": [
                      {
                        "marker": {
                          "pattern": {
                            "fillmode": "overlay",
                            "size": 10,
                            "solidity": 0.2
                          }
                        },
                        "type": "histogram"
                      }
                    ],
                    "histogram2d": [
                      {
                        "colorbar": {
                          "outlinewidth": 0,
                          "ticks": ""
                        },
                        "colorscale": [
                          [
                            0,
                            "#0d0887"
                          ],
                          [
                            0.1111111111111111,
                            "#46039f"
                          ],
                          [
                            0.2222222222222222,
                            "#7201a8"
                          ],
                          [
                            0.3333333333333333,
                            "#9c179e"
                          ],
                          [
                            0.4444444444444444,
                            "#bd3786"
                          ],
                          [
                            0.5555555555555556,
                            "#d8576b"
                          ],
                          [
                            0.6666666666666666,
                            "#ed7953"
                          ],
                          [
                            0.7777777777777778,
                            "#fb9f3a"
                          ],
                          [
                            0.8888888888888888,
                            "#fdca26"
                          ],
                          [
                            1,
                            "#f0f921"
                          ]
                        ],
                        "type": "histogram2d"
                      }
                    ],
                    "histogram2dcontour": [
                      {
                        "colorbar": {
                          "outlinewidth": 0,
                          "ticks": ""
                        },
                        "colorscale": [
                          [
                            0,
                            "#0d0887"
                          ],
                          [
                            0.1111111111111111,
                            "#46039f"
                          ],
                          [
                            0.2222222222222222,
                            "#7201a8"
                          ],
                          [
                            0.3333333333333333,
                            "#9c179e"
                          ],
                          [
                            0.4444444444444444,
                            "#bd3786"
                          ],
                          [
                            0.5555555555555556,
                            "#d8576b"
                          ],
                          [
                            0.6666666666666666,
                            "#ed7953"
                          ],
                          [
                            0.7777777777777778,
                            "#fb9f3a"
                          ],
                          [
                            0.8888888888888888,
                            "#fdca26"
                          ],
                          [
                            1,
                            "#f0f921"
                          ]
                        ],
                        "type": "histogram2dcontour"
                      }
                    ],
                    "mesh3d": [
                      {
                        "colorbar": {
                          "outlinewidth": 0,
                          "ticks": ""
                        },
                        "type": "mesh3d"
                      }
                    ],
                    "parcoords": [
                      {
                        "line": {
                          "colorbar": {
                            "outlinewidth": 0,
                            "ticks": ""
                          }
                        },
                        "type": "parcoords"
                      }
                    ],
                    "pie": [
                      {
                        "automargin": true,
                        "type": "pie"
                      }
                    ],
                    "scatter": [
                      {
                        "marker": {
                          "colorbar": {
                            "outlinewidth": 0,
                            "ticks": ""
                          }
                        },
                        "type": "scatter"
                      }
                    ],
                    "scatter3d": [
                      {
                        "line": {
                          "colorbar": {
                            "outlinewidth": 0,
                            "ticks": ""
                          }
                        },
                        "marker": {
                          "colorbar": {
                            "outlinewidth": 0,
                            "ticks": ""
                          }
                        },
                        "type": "scatter3d"
                      }
                    ],
                    "scattercarpet": [
                      {
                        "marker": {
                          "colorbar": {
                            "outlinewidth": 0,
                            "ticks": ""
                          }
                        },
                        "type": "scattercarpet"
                      }
                    ],
                    "scattergeo": [
                      {
                        "marker": {
                          "colorbar": {
                            "outlinewidth": 0,
                            "ticks": ""
                          }
                        },
                        "type": "scattergeo"
                      }
                    ],
                    "scattergl": [
                      {
                        "marker": {
                          "colorbar": {
                            "outlinewidth": 0,
                            "ticks": ""
                          }
                        },
                        "type": "scattergl"
                      }
                    ],
                    "scattermapbox": [
                      {
                        "marker": {
                          "colorbar": {
                            "outlinewidth": 0,
                            "ticks": ""
                          }
                        },
                        "type": "scattermapbox"
                      }
                    ],
                    "scatterpolar": [
                      {
                        "marker": {
                          "colorbar": {
                            "outlinewidth": 0,
                            "ticks": ""
                          }
                        },
                        "type": "scatterpolar"
                      }
                    ],
                    "scatterpolargl": [
                      {
                        "marker": {
                          "colorbar": {
                            "outlinewidth": 0,
                            "ticks": ""
                          }
                        },
                        "type": "scatterpolargl"
                      }
                    ],
                    "scatterternary": [
                      {
                        "marker": {
                          "colorbar": {
                            "outlinewidth": 0,
                            "ticks": ""
                          }
                        },
                        "type": "scatterternary"
                      }
                    ],
                    "surface": [
                      {
                        "colorbar": {
                          "outlinewidth": 0,
                          "ticks": ""
                        },
                        "colorscale": [
                          [
                            0,
                            "#0d0887"
                          ],
                          [
                            0.1111111111111111,
                            "#46039f"
                          ],
                          [
                            0.2222222222222222,
                            "#7201a8"
                          ],
                          [
                            0.3333333333333333,
                            "#9c179e"
                          ],
                          [
                            0.4444444444444444,
                            "#bd3786"
                          ],
                          [
                            0.5555555555555556,
                            "#d8576b"
                          ],
                          [
                            0.6666666666666666,
                            "#ed7953"
                          ],
                          [
                            0.7777777777777778,
                            "#fb9f3a"
                          ],
                          [
                            0.8888888888888888,
                            "#fdca26"
                          ],
                          [
                            1,
                            "#f0f921"
                          ]
                        ],
                        "type": "surface"
                      }
                    ],
                    "table": [
                      {
                        "cells": {
                          "fill": {
                            "color": "#EBF0F8"
                          },
                          "line": {
                            "color": "white"
                          }
                        },
                        "header": {
                          "fill": {
                            "color": "#C8D4E3"
                          },
                          "line": {
                            "color": "white"
                          }
                        },
                        "type": "table"
                      }
                    ]
                  },
                  "layout": {
                    "annotationdefaults": {
                      "arrowcolor": "#2a3f5f",
                      "arrowhead": 0,
                      "arrowwidth": 1
                    },
                    "autotypenumbers": "strict",
                    "coloraxis": {
                      "colorbar": {
                        "outlinewidth": 0,
                        "ticks": ""
                      }
                    },
                    "colorscale": {
                      "diverging": [
                        [
                          0,
                          "#8e0152"
                        ],
                        [
                          0.1,
                          "#c51b7d"
                        ],
                        [
                          0.2,
                          "#de77ae"
                        ],
                        [
                          0.3,
                          "#f1b6da"
                        ],
                        [
                          0.4,
                          "#fde0ef"
                        ],
                        [
                          0.5,
                          "#f7f7f7"
                        ],
                        [
                          0.6,
                          "#e6f5d0"
                        ],
                        [
                          0.7,
                          "#b8e186"
                        ],
                        [
                          0.8,
                          "#7fbc41"
                        ],
                        [
                          0.9,
                          "#4d9221"
                        ],
                        [
                          1,
                          "#276419"
                        ]
                      ],
                      "sequential": [
                        [
                          0,
                          "#0d0887"
                        ],
                        [
                          0.1111111111111111,
                          "#46039f"
                        ],
                        [
                          0.2222222222222222,
                          "#7201a8"
                        ],
                        [
                          0.3333333333333333,
                          "#9c179e"
                        ],
                        [
                          0.4444444444444444,
                          "#bd3786"
                        ],
                        [
                          0.5555555555555556,
                          "#d8576b"
                        ],
                        [
                          0.6666666666666666,
                          "#ed7953"
                        ],
                        [
                          0.7777777777777778,
                          "#fb9f3a"
                        ],
                        [
                          0.8888888888888888,
                          "#fdca26"
                        ],
                        [
                          1,
                          "#f0f921"
                        ]
                      ],
                      "sequentialminus": [
                        [
                          0,
                          "#0d0887"
                        ],
                        [
                          0.1111111111111111,
                          "#46039f"
                        ],
                        [
                          0.2222222222222222,
                          "#7201a8"
                        ],
                        [
                          0.3333333333333333,
                          "#9c179e"
                        ],
                        [
                          0.4444444444444444,
                          "#bd3786"
                        ],
                        [
                          0.5555555555555556,
                          "#d8576b"
                        ],
                        [
                          0.6666666666666666,
                          "#ed7953"
                        ],
                        [
                          0.7777777777777778,
                          "#fb9f3a"
                        ],
                        [
                          0.8888888888888888,
                          "#fdca26"
                        ],
                        [
                          1,
                          "#f0f921"
                        ]
                      ]
                    },
                    "colorway": [
                      "#636efa",
                      "#EF553B",
                      "#00cc96",
                      "#ab63fa",
                      "#FFA15A",
                      "#19d3f3",
                      "#FF6692",
                      "#B6E880",
                      "#FF97FF",
                      "#FECB52"
                    ],
                    "font": {
                      "color": "#2a3f5f"
                    },
                    "geo": {
                      "bgcolor": "white",
                      "lakecolor": "white",
                      "landcolor": "#E5ECF6",
                      "showlakes": true,
                      "showland": true,
                      "subunitcolor": "white"
                    },
                    "hoverlabel": {
                      "align": "left"
                    },
                    "hovermode": "closest",
                    "mapbox": {
                      "style": "light"
                    },
                    "paper_bgcolor": "white",
                    "plot_bgcolor": "#E5ECF6",
                    "polar": {
                      "angularaxis": {
                        "gridcolor": "white",
                        "linecolor": "white",
                        "ticks": ""
                      },
                      "bgcolor": "#E5ECF6",
                      "radialaxis": {
                        "gridcolor": "white",
                        "linecolor": "white",
                        "ticks": ""
                      }
                    },
                    "scene": {
                      "xaxis": {
                        "backgroundcolor": "#E5ECF6",
                        "gridcolor": "white",
                        "gridwidth": 2,
                        "linecolor": "white",
                        "showbackground": true,
                        "ticks": "",
                        "zerolinecolor": "white"
                      },
                      "yaxis": {
                        "backgroundcolor": "#E5ECF6",
                        "gridcolor": "white",
                        "gridwidth": 2,
                        "linecolor": "white",
                        "showbackground": true,
                        "ticks": "",
                        "zerolinecolor": "white"
                      },
                      "zaxis": {
                        "backgroundcolor": "#E5ECF6",
                        "gridcolor": "white",
                        "gridwidth": 2,
                        "linecolor": "white",
                        "showbackground": true,
                        "ticks": "",
                        "zerolinecolor": "white"
                      }
                    },
                    "shapedefaults": {
                      "line": {
                        "color": "#2a3f5f"
                      }
                    },
                    "ternary": {
                      "aaxis": {
                        "gridcolor": "white",
                        "linecolor": "white",
                        "ticks": ""
                      },
                      "baxis": {
                        "gridcolor": "white",
                        "linecolor": "white",
                        "ticks": ""
                      },
                      "bgcolor": "#E5ECF6",
                      "caxis": {
                        "gridcolor": "white",
                        "linecolor": "white",
                        "ticks": ""
                      }
                    },
                    "title": {
                      "x": 0.05
                    },
                    "xaxis": {
                      "automargin": true,
                      "gridcolor": "white",
                      "linecolor": "white",
                      "ticks": "",
                      "title": {
                        "standoff": 15
                      },
                      "zerolinecolor": "white",
                      "zerolinewidth": 2
                    },
                    "yaxis": {
                      "automargin": true,
                      "gridcolor": "white",
                      "linecolor": "white",
                      "ticks": "",
                      "title": {
                        "standoff": 15
                      },
                      "zerolinecolor": "white",
                      "zerolinewidth": 2
                    }
                  }
                },
                "title": {
                  "text": "Total Revenue and Quantitty by country",
                  "x": 0.5
                },
                "xaxis": {
                  "tickangle": -45,
                  "title": {
                    "text": "Country"
                  }
                },
                "yaxis": {
                  "title": {
                    "text": "Total"
                  }
                }
              }
            },
            "text/html": [
              "<div>                            <div id=\"b728841d-253d-45b2-a879-a8638233a9f0\" class=\"plotly-graph-div\" style=\"height:525px; width:100%;\"></div>            <script type=\"text/javascript\">                require([\"plotly\"], function(Plotly) {                    window.PLOTLYENV=window.PLOTLYENV || {};                                    if (document.getElementById(\"b728841d-253d-45b2-a879-a8638233a9f0\")) {                    Plotly.newPlot(                        \"b728841d-253d-45b2-a879-a8638233a9f0\",                        [{\"marker\":{\"color\":\"red\"},\"name\":\"Revenue\",\"x\":[\"Australia\",\"Austria\",\"Belgium\",\"Brazil\",\"Channel Islands\",\"EIRE\",\"Finland\",\"France\",\"Germany\",\"Greece\",\"Iceland\",\"Italy\",\"Japan\",\"Netherlands\",\"Poland\",\"Portugal\",\"Singapore\",\"Spain\",\"Sweden\",\"Switzerland\",\"USA\"],\"y\":[421.6,584.78,1788.48,1143.6,243.0,7270.5,1368.92,3899.31,10994.79,509.74,636.25,737.83,6548.5,2886.56,705.8399999999999,1687.75,2118.74,1645.65,649.1,1756.94,383.95],\"type\":\"bar\"},{\"marker\":{\"color\":\"orange\"},\"name\":\"Quantity\",\"x\":[\"Australia\",\"Austria\",\"Belgium\",\"Brazil\",\"Channel Islands\",\"EIRE\",\"Finland\",\"France\",\"Germany\",\"Greece\",\"Iceland\",\"Italy\",\"Japan\",\"Netherlands\",\"Poland\",\"Portugal\",\"Singapore\",\"Spain\",\"Sweden\",\"Switzerland\",\"USA\"],\"y\":[224,308,1170,356,96,4129,810,2265,5702,260,483,653,8058,1762,432,951,1384,948,306,878,137],\"type\":\"bar\"}],                        {\"template\":{\"data\":{\"bar\":[{\"error_x\":{\"color\":\"#2a3f5f\"},\"error_y\":{\"color\":\"#2a3f5f\"},\"marker\":{\"line\":{\"color\":\"#E5ECF6\",\"width\":0.5},\"pattern\":{\"fillmode\":\"overlay\",\"size\":10,\"solidity\":0.2}},\"type\":\"bar\"}],\"barpolar\":[{\"marker\":{\"line\":{\"color\":\"#E5ECF6\",\"width\":0.5},\"pattern\":{\"fillmode\":\"overlay\",\"size\":10,\"solidity\":0.2}},\"type\":\"barpolar\"}],\"carpet\":[{\"aaxis\":{\"endlinecolor\":\"#2a3f5f\",\"gridcolor\":\"white\",\"linecolor\":\"white\",\"minorgridcolor\":\"white\",\"startlinecolor\":\"#2a3f5f\"},\"baxis\":{\"endlinecolor\":\"#2a3f5f\",\"gridcolor\":\"white\",\"linecolor\":\"white\",\"minorgridcolor\":\"white\",\"startlinecolor\":\"#2a3f5f\"},\"type\":\"carpet\"}],\"choropleth\":[{\"colorbar\":{\"outlinewidth\":0,\"ticks\":\"\"},\"type\":\"choropleth\"}],\"contour\":[{\"colorbar\":{\"outlinewidth\":0,\"ticks\":\"\"},\"colorscale\":[[0.0,\"#0d0887\"],[0.1111111111111111,\"#46039f\"],[0.2222222222222222,\"#7201a8\"],[0.3333333333333333,\"#9c179e\"],[0.4444444444444444,\"#bd3786\"],[0.5555555555555556,\"#d8576b\"],[0.6666666666666666,\"#ed7953\"],[0.7777777777777778,\"#fb9f3a\"],[0.8888888888888888,\"#fdca26\"],[1.0,\"#f0f921\"]],\"type\":\"contour\"}],\"contourcarpet\":[{\"colorbar\":{\"outlinewidth\":0,\"ticks\":\"\"},\"type\":\"contourcarpet\"}],\"heatmap\":[{\"colorbar\":{\"outlinewidth\":0,\"ticks\":\"\"},\"colorscale\":[[0.0,\"#0d0887\"],[0.1111111111111111,\"#46039f\"],[0.2222222222222222,\"#7201a8\"],[0.3333333333333333,\"#9c179e\"],[0.4444444444444444,\"#bd3786\"],[0.5555555555555556,\"#d8576b\"],[0.6666666666666666,\"#ed7953\"],[0.7777777777777778,\"#fb9f3a\"],[0.8888888888888888,\"#fdca26\"],[1.0,\"#f0f921\"]],\"type\":\"heatmap\"}],\"heatmapgl\":[{\"colorbar\":{\"outlinewidth\":0,\"ticks\":\"\"},\"colorscale\":[[0.0,\"#0d0887\"],[0.1111111111111111,\"#46039f\"],[0.2222222222222222,\"#7201a8\"],[0.3333333333333333,\"#9c179e\"],[0.4444444444444444,\"#bd3786\"],[0.5555555555555556,\"#d8576b\"],[0.6666666666666666,\"#ed7953\"],[0.7777777777777778,\"#fb9f3a\"],[0.8888888888888888,\"#fdca26\"],[1.0,\"#f0f921\"]],\"type\":\"heatmapgl\"}],\"histogram\":[{\"marker\":{\"pattern\":{\"fillmode\":\"overlay\",\"size\":10,\"solidity\":0.2}},\"type\":\"histogram\"}],\"histogram2d\":[{\"colorbar\":{\"outlinewidth\":0,\"ticks\":\"\"},\"colorscale\":[[0.0,\"#0d0887\"],[0.1111111111111111,\"#46039f\"],[0.2222222222222222,\"#7201a8\"],[0.3333333333333333,\"#9c179e\"],[0.4444444444444444,\"#bd3786\"],[0.5555555555555556,\"#d8576b\"],[0.6666666666666666,\"#ed7953\"],[0.7777777777777778,\"#fb9f3a\"],[0.8888888888888888,\"#fdca26\"],[1.0,\"#f0f921\"]],\"type\":\"histogram2d\"}],\"histogram2dcontour\":[{\"colorbar\":{\"outlinewidth\":0,\"ticks\":\"\"},\"colorscale\":[[0.0,\"#0d0887\"],[0.1111111111111111,\"#46039f\"],[0.2222222222222222,\"#7201a8\"],[0.3333333333333333,\"#9c179e\"],[0.4444444444444444,\"#bd3786\"],[0.5555555555555556,\"#d8576b\"],[0.6666666666666666,\"#ed7953\"],[0.7777777777777778,\"#fb9f3a\"],[0.8888888888888888,\"#fdca26\"],[1.0,\"#f0f921\"]],\"type\":\"histogram2dcontour\"}],\"mesh3d\":[{\"colorbar\":{\"outlinewidth\":0,\"ticks\":\"\"},\"type\":\"mesh3d\"}],\"parcoords\":[{\"line\":{\"colorbar\":{\"outlinewidth\":0,\"ticks\":\"\"}},\"type\":\"parcoords\"}],\"pie\":[{\"automargin\":true,\"type\":\"pie\"}],\"scatter\":[{\"marker\":{\"colorbar\":{\"outlinewidth\":0,\"ticks\":\"\"}},\"type\":\"scatter\"}],\"scatter3d\":[{\"line\":{\"colorbar\":{\"outlinewidth\":0,\"ticks\":\"\"}},\"marker\":{\"colorbar\":{\"outlinewidth\":0,\"ticks\":\"\"}},\"type\":\"scatter3d\"}],\"scattercarpet\":[{\"marker\":{\"colorbar\":{\"outlinewidth\":0,\"ticks\":\"\"}},\"type\":\"scattercarpet\"}],\"scattergeo\":[{\"marker\":{\"colorbar\":{\"outlinewidth\":0,\"ticks\":\"\"}},\"type\":\"scattergeo\"}],\"scattergl\":[{\"marker\":{\"colorbar\":{\"outlinewidth\":0,\"ticks\":\"\"}},\"type\":\"scattergl\"}],\"scattermapbox\":[{\"marker\":{\"colorbar\":{\"outlinewidth\":0,\"ticks\":\"\"}},\"type\":\"scattermapbox\"}],\"scatterpolar\":[{\"marker\":{\"colorbar\":{\"outlinewidth\":0,\"ticks\":\"\"}},\"type\":\"scatterpolar\"}],\"scatterpolargl\":[{\"marker\":{\"colorbar\":{\"outlinewidth\":0,\"ticks\":\"\"}},\"type\":\"scatterpolargl\"}],\"scatterternary\":[{\"marker\":{\"colorbar\":{\"outlinewidth\":0,\"ticks\":\"\"}},\"type\":\"scatterternary\"}],\"surface\":[{\"colorbar\":{\"outlinewidth\":0,\"ticks\":\"\"},\"colorscale\":[[0.0,\"#0d0887\"],[0.1111111111111111,\"#46039f\"],[0.2222222222222222,\"#7201a8\"],[0.3333333333333333,\"#9c179e\"],[0.4444444444444444,\"#bd3786\"],[0.5555555555555556,\"#d8576b\"],[0.6666666666666666,\"#ed7953\"],[0.7777777777777778,\"#fb9f3a\"],[0.8888888888888888,\"#fdca26\"],[1.0,\"#f0f921\"]],\"type\":\"surface\"}],\"table\":[{\"cells\":{\"fill\":{\"color\":\"#EBF0F8\"},\"line\":{\"color\":\"white\"}},\"header\":{\"fill\":{\"color\":\"#C8D4E3\"},\"line\":{\"color\":\"white\"}},\"type\":\"table\"}]},\"layout\":{\"annotationdefaults\":{\"arrowcolor\":\"#2a3f5f\",\"arrowhead\":0,\"arrowwidth\":1},\"autotypenumbers\":\"strict\",\"coloraxis\":{\"colorbar\":{\"outlinewidth\":0,\"ticks\":\"\"}},\"colorscale\":{\"diverging\":[[0,\"#8e0152\"],[0.1,\"#c51b7d\"],[0.2,\"#de77ae\"],[0.3,\"#f1b6da\"],[0.4,\"#fde0ef\"],[0.5,\"#f7f7f7\"],[0.6,\"#e6f5d0\"],[0.7,\"#b8e186\"],[0.8,\"#7fbc41\"],[0.9,\"#4d9221\"],[1,\"#276419\"]],\"sequential\":[[0.0,\"#0d0887\"],[0.1111111111111111,\"#46039f\"],[0.2222222222222222,\"#7201a8\"],[0.3333333333333333,\"#9c179e\"],[0.4444444444444444,\"#bd3786\"],[0.5555555555555556,\"#d8576b\"],[0.6666666666666666,\"#ed7953\"],[0.7777777777777778,\"#fb9f3a\"],[0.8888888888888888,\"#fdca26\"],[1.0,\"#f0f921\"]],\"sequentialminus\":[[0.0,\"#0d0887\"],[0.1111111111111111,\"#46039f\"],[0.2222222222222222,\"#7201a8\"],[0.3333333333333333,\"#9c179e\"],[0.4444444444444444,\"#bd3786\"],[0.5555555555555556,\"#d8576b\"],[0.6666666666666666,\"#ed7953\"],[0.7777777777777778,\"#fb9f3a\"],[0.8888888888888888,\"#fdca26\"],[1.0,\"#f0f921\"]]},\"colorway\":[\"#636efa\",\"#EF553B\",\"#00cc96\",\"#ab63fa\",\"#FFA15A\",\"#19d3f3\",\"#FF6692\",\"#B6E880\",\"#FF97FF\",\"#FECB52\"],\"font\":{\"color\":\"#2a3f5f\"},\"geo\":{\"bgcolor\":\"white\",\"lakecolor\":\"white\",\"landcolor\":\"#E5ECF6\",\"showlakes\":true,\"showland\":true,\"subunitcolor\":\"white\"},\"hoverlabel\":{\"align\":\"left\"},\"hovermode\":\"closest\",\"mapbox\":{\"style\":\"light\"},\"paper_bgcolor\":\"white\",\"plot_bgcolor\":\"#E5ECF6\",\"polar\":{\"angularaxis\":{\"gridcolor\":\"white\",\"linecolor\":\"white\",\"ticks\":\"\"},\"bgcolor\":\"#E5ECF6\",\"radialaxis\":{\"gridcolor\":\"white\",\"linecolor\":\"white\",\"ticks\":\"\"}},\"scene\":{\"xaxis\":{\"backgroundcolor\":\"#E5ECF6\",\"gridcolor\":\"white\",\"gridwidth\":2,\"linecolor\":\"white\",\"showbackground\":true,\"ticks\":\"\",\"zerolinecolor\":\"white\"},\"yaxis\":{\"backgroundcolor\":\"#E5ECF6\",\"gridcolor\":\"white\",\"gridwidth\":2,\"linecolor\":\"white\",\"showbackground\":true,\"ticks\":\"\",\"zerolinecolor\":\"white\"},\"zaxis\":{\"backgroundcolor\":\"#E5ECF6\",\"gridcolor\":\"white\",\"gridwidth\":2,\"linecolor\":\"white\",\"showbackground\":true,\"ticks\":\"\",\"zerolinecolor\":\"white\"}},\"shapedefaults\":{\"line\":{\"color\":\"#2a3f5f\"}},\"ternary\":{\"aaxis\":{\"gridcolor\":\"white\",\"linecolor\":\"white\",\"ticks\":\"\"},\"baxis\":{\"gridcolor\":\"white\",\"linecolor\":\"white\",\"ticks\":\"\"},\"bgcolor\":\"#E5ECF6\",\"caxis\":{\"gridcolor\":\"white\",\"linecolor\":\"white\",\"ticks\":\"\"}},\"title\":{\"x\":0.05},\"xaxis\":{\"automargin\":true,\"gridcolor\":\"white\",\"linecolor\":\"white\",\"ticks\":\"\",\"title\":{\"standoff\":15},\"zerolinecolor\":\"white\",\"zerolinewidth\":2},\"yaxis\":{\"automargin\":true,\"gridcolor\":\"white\",\"linecolor\":\"white\",\"ticks\":\"\",\"title\":{\"standoff\":15},\"zerolinecolor\":\"white\",\"zerolinewidth\":2}}},\"xaxis\":{\"tickangle\":-45,\"title\":{\"text\":\"Country\"}},\"title\":{\"text\":\"Total Revenue and Quantitty by country\",\"x\":0.5},\"barmode\":\"group\",\"yaxis\":{\"title\":{\"text\":\"Total\"}}},                        {\"responsive\": true}                    ).then(function(){\n",
              "                            \n",
              "var gd = document.getElementById('b728841d-253d-45b2-a879-a8638233a9f0');\n",
              "var x = new MutationObserver(function (mutations, observer) {{\n",
              "        var display = window.getComputedStyle(gd).display;\n",
              "        if (!display || display === 'none') {{\n",
              "            console.log([gd, 'removed!']);\n",
              "            Plotly.purge(gd);\n",
              "            observer.disconnect();\n",
              "        }}\n",
              "}});\n",
              "\n",
              "// Listen for the removal of the full notebook cells\n",
              "var notebookContainer = gd.closest('#notebook-container');\n",
              "if (notebookContainer) {{\n",
              "    x.observe(notebookContainer, {childList: true});\n",
              "}}\n",
              "\n",
              "// Listen for the clearing of the current output cell\n",
              "var outputEl = gd.closest('.output');\n",
              "if (outputEl) {{\n",
              "    x.observe(outputEl, {childList: true});\n",
              "}}\n",
              "\n",
              "                        })                };                });            </script>        </div>"
            ]
          },
          "metadata": {},
          "output_type": "display_data"
        }
      ],
      "source": [
        "\n",
        "countries = total_qty_rvn.index.tolist()\n",
        "# Traces\n",
        "fig = go.Figure()\n",
        "fig.add_trace(go.Bar(\n",
        "    x=countries,\n",
        "    y=total_qty_rvn['Revenue'],\n",
        "    name='Revenue',\n",
        "    marker_color='red'\n",
        "))\n",
        "fig.add_trace(go.Bar(\n",
        "    x=countries,\n",
        "    y=total_qty_rvn['Quantity'],\n",
        "    name='Quantity',\n",
        "    marker_color='orange'\n",
        "))\n",
        "\n",
        "# Layout\n",
        "fig.update_layout(barmode='group', xaxis_tickangle=-45,title=\"Total Revenue and Quantitty by country\",title_x=0.5,xaxis_title=\"Country\",\n",
        "    yaxis_title=\"Total\",)\n",
        "# Plot\n",
        "fig.show()"
      ]
    },
    {
      "cell_type": "code",
      "execution_count": 13,
      "metadata": {
        "id": "YAZlj3jQNAs-",
        "outputId": "7345db26-94ad-4c40-b3fa-74694431de77"
      },
      "outputs": [
        {
          "data": {
            "text/plain": [
              "<function plotly.offline.offline.iplot(figure_or_data, show_link=False, link_text='Export to plot.ly', validate=True, image=None, filename='plot_image', image_width=800, image_height=600, config=None, auto_play=True, animation_opts=None)>"
            ]
          },
          "execution_count": 13,
          "metadata": {},
          "output_type": "execute_result"
        }
      ],
      "source": [
        "py.iplot"
      ]
    },
    {
      "cell_type": "markdown",
      "metadata": {
        "id": "MQ3_rCBxNAs_"
      },
      "source": [
        "#### 2. Create an interactive line chart showing quantity and revenue sold to France between January 1st and May 31st 2011."
      ]
    },
    {
      "cell_type": "code",
      "execution_count": 14,
      "metadata": {},
      "outputs": [],
      "source": [
        "data['year'] = pd.DatetimeIndex(data['InvoiceDate']).year"
      ]
    },
    {
      "cell_type": "code",
      "execution_count": 15,
      "metadata": {},
      "outputs": [
        {
          "data": {
            "text/html": [
              "<div>\n",
              "<style scoped>\n",
              "    .dataframe tbody tr th:only-of-type {\n",
              "        vertical-align: middle;\n",
              "    }\n",
              "\n",
              "    .dataframe tbody tr th {\n",
              "        vertical-align: top;\n",
              "    }\n",
              "\n",
              "    .dataframe thead th {\n",
              "        text-align: right;\n",
              "    }\n",
              "</style>\n",
              "<table border=\"1\" class=\"dataframe\">\n",
              "  <thead>\n",
              "    <tr style=\"text-align: right;\">\n",
              "      <th></th>\n",
              "      <th>InvoiceNo</th>\n",
              "      <th>InvoiceDate</th>\n",
              "      <th>StockCode</th>\n",
              "      <th>Description</th>\n",
              "      <th>Quantity</th>\n",
              "      <th>UnitPrice</th>\n",
              "      <th>Revenue</th>\n",
              "      <th>CustomerID</th>\n",
              "      <th>Country</th>\n",
              "      <th>month</th>\n",
              "      <th>year</th>\n",
              "    </tr>\n",
              "  </thead>\n",
              "  <tbody>\n",
              "    <tr>\n",
              "      <th>807</th>\n",
              "      <td>551163</td>\n",
              "      <td>2011-04-26 15:52:00</td>\n",
              "      <td>85123A</td>\n",
              "      <td>CREAM HANGING HEART T-LIGHT HOLDER</td>\n",
              "      <td>9</td>\n",
              "      <td>2.95</td>\n",
              "      <td>26.55</td>\n",
              "      <td>12573</td>\n",
              "      <td>France</td>\n",
              "      <td>4</td>\n",
              "      <td>2011</td>\n",
              "    </tr>\n",
              "    <tr>\n",
              "      <th>2645</th>\n",
              "      <td>540976</td>\n",
              "      <td>2011-01-12 15:00:00</td>\n",
              "      <td>84029G</td>\n",
              "      <td>KNITTED UNION FLAG HOT WATER BOTTLE</td>\n",
              "      <td>4</td>\n",
              "      <td>3.75</td>\n",
              "      <td>15.00</td>\n",
              "      <td>12652</td>\n",
              "      <td>France</td>\n",
              "      <td>1</td>\n",
              "      <td>2011</td>\n",
              "    </tr>\n",
              "    <tr>\n",
              "      <th>3290</th>\n",
              "      <td>545181</td>\n",
              "      <td>2011-02-28 14:45:00</td>\n",
              "      <td>22752</td>\n",
              "      <td>SET 7 BABUSHKA NESTING BOXES</td>\n",
              "      <td>4</td>\n",
              "      <td>8.50</td>\n",
              "      <td>34.00</td>\n",
              "      <td>12509</td>\n",
              "      <td>France</td>\n",
              "      <td>2</td>\n",
              "      <td>2011</td>\n",
              "    </tr>\n",
              "    <tr>\n",
              "      <th>4614</th>\n",
              "      <td>542629</td>\n",
              "      <td>2011-01-31 09:57:00</td>\n",
              "      <td>84879</td>\n",
              "      <td>ASSORTED COLOUR BIRD ORNAMENT</td>\n",
              "      <td>160</td>\n",
              "      <td>1.45</td>\n",
              "      <td>232.00</td>\n",
              "      <td>12731</td>\n",
              "      <td>France</td>\n",
              "      <td>1</td>\n",
              "      <td>2011</td>\n",
              "    </tr>\n",
              "    <tr>\n",
              "      <th>4795</th>\n",
              "      <td>548409</td>\n",
              "      <td>2011-03-31 10:27:00</td>\n",
              "      <td>84879</td>\n",
              "      <td>ASSORTED COLOUR BIRD ORNAMENT</td>\n",
              "      <td>160</td>\n",
              "      <td>1.45</td>\n",
              "      <td>232.00</td>\n",
              "      <td>12731</td>\n",
              "      <td>France</td>\n",
              "      <td>3</td>\n",
              "      <td>2011</td>\n",
              "    </tr>\n",
              "  </tbody>\n",
              "</table>\n",
              "</div>"
            ],
            "text/plain": [
              "      InvoiceNo         InvoiceDate StockCode  \\\n",
              "807      551163 2011-04-26 15:52:00    85123A   \n",
              "2645     540976 2011-01-12 15:00:00    84029G   \n",
              "3290     545181 2011-02-28 14:45:00     22752   \n",
              "4614     542629 2011-01-31 09:57:00     84879   \n",
              "4795     548409 2011-03-31 10:27:00     84879   \n",
              "\n",
              "                              Description  Quantity  UnitPrice  Revenue  \\\n",
              "807    CREAM HANGING HEART T-LIGHT HOLDER         9       2.95    26.55   \n",
              "2645  KNITTED UNION FLAG HOT WATER BOTTLE         4       3.75    15.00   \n",
              "3290         SET 7 BABUSHKA NESTING BOXES         4       8.50    34.00   \n",
              "4614        ASSORTED COLOUR BIRD ORNAMENT       160       1.45   232.00   \n",
              "4795        ASSORTED COLOUR BIRD ORNAMENT       160       1.45   232.00   \n",
              "\n",
              "      CustomerID Country  month  year  \n",
              "807        12573  France      4  2011  \n",
              "2645       12652  France      1  2011  \n",
              "3290       12509  France      2  2011  \n",
              "4614       12731  France      1  2011  \n",
              "4795       12731  France      3  2011  "
            ]
          },
          "execution_count": 15,
          "metadata": {},
          "output_type": "execute_result"
        }
      ],
      "source": [
        "france_5m_2011 = data[((data.month ==1) |(data.month ==2) | (data.month ==3)| (data.month ==4)| (data.month ==5)) &(data.year==2011) & (data.Country=='France') ]\n",
        "france_5m_2011.head()"
      ]
    },
    {
      "cell_type": "code",
      "execution_count": 16,
      "metadata": {},
      "outputs": [
        {
          "data": {
            "text/plain": [
              "France    2471\n",
              "Name: Country, dtype: int64"
            ]
          },
          "execution_count": 16,
          "metadata": {},
          "output_type": "execute_result"
        }
      ],
      "source": [
        "france_5m_2011.Country.value_counts()"
      ]
    },
    {
      "cell_type": "code",
      "execution_count": 17,
      "metadata": {},
      "outputs": [
        {
          "data": {
            "text/html": [
              "<div>\n",
              "<style scoped>\n",
              "    .dataframe tbody tr th:only-of-type {\n",
              "        vertical-align: middle;\n",
              "    }\n",
              "\n",
              "    .dataframe tbody tr th {\n",
              "        vertical-align: top;\n",
              "    }\n",
              "\n",
              "    .dataframe thead th {\n",
              "        text-align: right;\n",
              "    }\n",
              "</style>\n",
              "<table border=\"1\" class=\"dataframe\">\n",
              "  <thead>\n",
              "    <tr style=\"text-align: right;\">\n",
              "      <th></th>\n",
              "      <th>InvoiceDate</th>\n",
              "      <th>Revenue</th>\n",
              "      <th>Quantity</th>\n",
              "    </tr>\n",
              "  </thead>\n",
              "  <tbody>\n",
              "    <tr>\n",
              "      <th>807</th>\n",
              "      <td>2011-04-26 15:52:00</td>\n",
              "      <td>26.55</td>\n",
              "      <td>9</td>\n",
              "    </tr>\n",
              "    <tr>\n",
              "      <th>2645</th>\n",
              "      <td>2011-01-12 15:00:00</td>\n",
              "      <td>15.00</td>\n",
              "      <td>4</td>\n",
              "    </tr>\n",
              "    <tr>\n",
              "      <th>3290</th>\n",
              "      <td>2011-02-28 14:45:00</td>\n",
              "      <td>34.00</td>\n",
              "      <td>4</td>\n",
              "    </tr>\n",
              "    <tr>\n",
              "      <th>4614</th>\n",
              "      <td>2011-01-31 09:57:00</td>\n",
              "      <td>232.00</td>\n",
              "      <td>160</td>\n",
              "    </tr>\n",
              "    <tr>\n",
              "      <th>4795</th>\n",
              "      <td>2011-03-31 10:27:00</td>\n",
              "      <td>232.00</td>\n",
              "      <td>160</td>\n",
              "    </tr>\n",
              "  </tbody>\n",
              "</table>\n",
              "</div>"
            ],
            "text/plain": [
              "             InvoiceDate  Revenue  Quantity\n",
              "807  2011-04-26 15:52:00    26.55         9\n",
              "2645 2011-01-12 15:00:00    15.00         4\n",
              "3290 2011-02-28 14:45:00    34.00         4\n",
              "4614 2011-01-31 09:57:00   232.00       160\n",
              "4795 2011-03-31 10:27:00   232.00       160"
            ]
          },
          "execution_count": 17,
          "metadata": {},
          "output_type": "execute_result"
        }
      ],
      "source": [
        "france_qty_rvn = france_5m_2011[['InvoiceDate','Revenue', 'Quantity']]\n",
        "france_qty_rvn.head()"
      ]
    },
    {
      "cell_type": "code",
      "execution_count": 18,
      "metadata": {},
      "outputs": [
        {
          "data": {
            "text/html": [
              "<div>\n",
              "<style scoped>\n",
              "    .dataframe tbody tr th:only-of-type {\n",
              "        vertical-align: middle;\n",
              "    }\n",
              "\n",
              "    .dataframe tbody tr th {\n",
              "        vertical-align: top;\n",
              "    }\n",
              "\n",
              "    .dataframe thead th {\n",
              "        text-align: right;\n",
              "    }\n",
              "</style>\n",
              "<table border=\"1\" class=\"dataframe\">\n",
              "  <thead>\n",
              "    <tr style=\"text-align: right;\">\n",
              "      <th></th>\n",
              "      <th>Revenue</th>\n",
              "      <th>Quantity</th>\n",
              "    </tr>\n",
              "    <tr>\n",
              "      <th>InvoiceDate</th>\n",
              "      <th></th>\n",
              "      <th></th>\n",
              "    </tr>\n",
              "  </thead>\n",
              "  <tbody>\n",
              "    <tr>\n",
              "      <th>2011-01-05</th>\n",
              "      <td>1265.18</td>\n",
              "      <td>728</td>\n",
              "    </tr>\n",
              "    <tr>\n",
              "      <th>2011-01-06</th>\n",
              "      <td>709.02</td>\n",
              "      <td>438</td>\n",
              "    </tr>\n",
              "    <tr>\n",
              "      <th>2011-01-07</th>\n",
              "      <td>975.09</td>\n",
              "      <td>591</td>\n",
              "    </tr>\n",
              "    <tr>\n",
              "      <th>2011-01-09</th>\n",
              "      <td>114.00</td>\n",
              "      <td>78</td>\n",
              "    </tr>\n",
              "    <tr>\n",
              "      <th>2011-01-10</th>\n",
              "      <td>1112.06</td>\n",
              "      <td>628</td>\n",
              "    </tr>\n",
              "    <tr>\n",
              "      <th>...</th>\n",
              "      <td>...</td>\n",
              "      <td>...</td>\n",
              "    </tr>\n",
              "    <tr>\n",
              "      <th>2011-05-24</th>\n",
              "      <td>357.34</td>\n",
              "      <td>208</td>\n",
              "    </tr>\n",
              "    <tr>\n",
              "      <th>2011-05-25</th>\n",
              "      <td>1136.82</td>\n",
              "      <td>734</td>\n",
              "    </tr>\n",
              "    <tr>\n",
              "      <th>2011-05-26</th>\n",
              "      <td>558.50</td>\n",
              "      <td>510</td>\n",
              "    </tr>\n",
              "    <tr>\n",
              "      <th>2011-05-27</th>\n",
              "      <td>367.09</td>\n",
              "      <td>155</td>\n",
              "    </tr>\n",
              "    <tr>\n",
              "      <th>2011-05-31</th>\n",
              "      <td>404.84</td>\n",
              "      <td>200</td>\n",
              "    </tr>\n",
              "  </tbody>\n",
              "</table>\n",
              "<p>75 rows × 2 columns</p>\n",
              "</div>"
            ],
            "text/plain": [
              "             Revenue  Quantity\n",
              "InvoiceDate                   \n",
              "2011-01-05   1265.18       728\n",
              "2011-01-06    709.02       438\n",
              "2011-01-07    975.09       591\n",
              "2011-01-09    114.00        78\n",
              "2011-01-10   1112.06       628\n",
              "...              ...       ...\n",
              "2011-05-24    357.34       208\n",
              "2011-05-25   1136.82       734\n",
              "2011-05-26    558.50       510\n",
              "2011-05-27    367.09       155\n",
              "2011-05-31    404.84       200\n",
              "\n",
              "[75 rows x 2 columns]"
            ]
          },
          "execution_count": 18,
          "metadata": {},
          "output_type": "execute_result"
        }
      ],
      "source": [
        "france_qty_rvn = france_qty_rvn.groupby([france_qty_rvn['InvoiceDate'].dt.date]).sum()\n",
        "france_qty_rvn"
      ]
    },
    {
      "cell_type": "code",
      "execution_count": 19,
      "metadata": {},
      "outputs": [],
      "source": [
        "dates = france_qty_rvn.index.tolist()"
      ]
    },
    {
      "cell_type": "code",
      "execution_count": 21,
      "metadata": {},
      "outputs": [
        {
          "data": {
            "application/vnd.plotly.v1+json": {
              "config": {
                "plotlyServerURL": "https://plot.ly"
              },
              "data": [
                {
                  "marker": {
                    "color": "red"
                  },
                  "name": "Revenue",
                  "type": "scatter",
                  "x": [
                    "2011-01-05",
                    "2011-01-06",
                    "2011-01-07",
                    "2011-01-09",
                    "2011-01-10",
                    "2011-01-11",
                    "2011-01-12",
                    "2011-01-14",
                    "2011-01-17",
                    "2011-01-19",
                    "2011-01-20",
                    "2011-01-23",
                    "2011-01-24",
                    "2011-01-28",
                    "2011-01-31",
                    "2011-02-01",
                    "2011-02-02",
                    "2011-02-04",
                    "2011-02-08",
                    "2011-02-09",
                    "2011-02-10",
                    "2011-02-15",
                    "2011-02-16",
                    "2011-02-17",
                    "2011-02-18",
                    "2011-02-21",
                    "2011-02-23",
                    "2011-02-27",
                    "2011-02-28",
                    "2011-03-01",
                    "2011-03-03",
                    "2011-03-04",
                    "2011-03-11",
                    "2011-03-13",
                    "2011-03-14",
                    "2011-03-15",
                    "2011-03-16",
                    "2011-03-20",
                    "2011-03-21",
                    "2011-03-22",
                    "2011-03-23",
                    "2011-03-25",
                    "2011-03-27",
                    "2011-03-28",
                    "2011-03-31",
                    "2011-04-01",
                    "2011-04-04",
                    "2011-04-07",
                    "2011-04-14",
                    "2011-04-17",
                    "2011-04-20",
                    "2011-04-21",
                    "2011-04-26",
                    "2011-04-28",
                    "2011-05-03",
                    "2011-05-05",
                    "2011-05-08",
                    "2011-05-09",
                    "2011-05-10",
                    "2011-05-11",
                    "2011-05-12",
                    "2011-05-13",
                    "2011-05-15",
                    "2011-05-16",
                    "2011-05-17",
                    "2011-05-18",
                    "2011-05-19",
                    "2011-05-20",
                    "2011-05-22",
                    "2011-05-23",
                    "2011-05-24",
                    "2011-05-25",
                    "2011-05-26",
                    "2011-05-27",
                    "2011-05-31"
                  ],
                  "y": [
                    1265.18,
                    709.02,
                    975.0899999999999,
                    114,
                    1112.06,
                    1332.6399999999999,
                    1235.6299999999999,
                    1592.43,
                    642.14,
                    698.75,
                    1408.68,
                    406.5,
                    190.2,
                    953.83,
                    3537.97,
                    456.84999999999997,
                    587.39,
                    1128.73,
                    165.85999999999999,
                    401.02,
                    285.56,
                    219.6,
                    829.66,
                    214,
                    884.5999999999999,
                    728.8199999999999,
                    403.76,
                    92.6,
                    1289.51,
                    1038.26,
                    501.16,
                    281.25,
                    676.8499999999999,
                    307.28999999999996,
                    425.40000000000003,
                    511.53999999999996,
                    244.79999999999998,
                    298.02,
                    205.87,
                    469.98,
                    1675.28,
                    303.91,
                    128.05,
                    1028.3,
                    5593.59,
                    390.75,
                    513.55,
                    312.2,
                    615.2,
                    594.22,
                    469.20000000000005,
                    652.55,
                    160.54000000000002,
                    191.10000000000002,
                    1673.3400000000001,
                    200,
                    984.4300000000001,
                    500.9,
                    453.09999999999997,
                    3018.73,
                    278.53000000000003,
                    946.51,
                    133.4,
                    672.6199999999999,
                    739.62,
                    743.53,
                    878.51,
                    956.4,
                    784.71,
                    385.96,
                    357.34,
                    1136.82,
                    558.5,
                    367.09,
                    404.84000000000003
                  ]
                },
                {
                  "marker": {
                    "color": "orange"
                  },
                  "name": "Quantity",
                  "type": "scatter",
                  "x": [
                    "2011-01-05",
                    "2011-01-06",
                    "2011-01-07",
                    "2011-01-09",
                    "2011-01-10",
                    "2011-01-11",
                    "2011-01-12",
                    "2011-01-14",
                    "2011-01-17",
                    "2011-01-19",
                    "2011-01-20",
                    "2011-01-23",
                    "2011-01-24",
                    "2011-01-28",
                    "2011-01-31",
                    "2011-02-01",
                    "2011-02-02",
                    "2011-02-04",
                    "2011-02-08",
                    "2011-02-09",
                    "2011-02-10",
                    "2011-02-15",
                    "2011-02-16",
                    "2011-02-17",
                    "2011-02-18",
                    "2011-02-21",
                    "2011-02-23",
                    "2011-02-27",
                    "2011-02-28",
                    "2011-03-01",
                    "2011-03-03",
                    "2011-03-04",
                    "2011-03-11",
                    "2011-03-13",
                    "2011-03-14",
                    "2011-03-15",
                    "2011-03-16",
                    "2011-03-20",
                    "2011-03-21",
                    "2011-03-22",
                    "2011-03-23",
                    "2011-03-25",
                    "2011-03-27",
                    "2011-03-28",
                    "2011-03-31",
                    "2011-04-01",
                    "2011-04-04",
                    "2011-04-07",
                    "2011-04-14",
                    "2011-04-17",
                    "2011-04-20",
                    "2011-04-21",
                    "2011-04-26",
                    "2011-04-28",
                    "2011-05-03",
                    "2011-05-05",
                    "2011-05-08",
                    "2011-05-09",
                    "2011-05-10",
                    "2011-05-11",
                    "2011-05-12",
                    "2011-05-13",
                    "2011-05-15",
                    "2011-05-16",
                    "2011-05-17",
                    "2011-05-18",
                    "2011-05-19",
                    "2011-05-20",
                    "2011-05-22",
                    "2011-05-23",
                    "2011-05-24",
                    "2011-05-25",
                    "2011-05-26",
                    "2011-05-27",
                    "2011-05-31"
                  ],
                  "y": [
                    728,
                    438,
                    591,
                    78,
                    628,
                    978,
                    672,
                    1061,
                    263,
                    383,
                    702,
                    120,
                    84,
                    567,
                    1819,
                    197,
                    365,
                    611,
                    214,
                    298,
                    452,
                    96,
                    772,
                    114,
                    763,
                    333,
                    360,
                    70,
                    649,
                    574,
                    338,
                    123,
                    323,
                    183,
                    184,
                    314,
                    159,
                    422,
                    90,
                    198,
                    1221,
                    261,
                    59,
                    842,
                    3349,
                    328,
                    293,
                    236,
                    284,
                    400,
                    196,
                    298,
                    84,
                    146,
                    1036,
                    98,
                    773,
                    494,
                    458,
                    1593,
                    105,
                    502,
                    140,
                    278,
                    476,
                    327,
                    560,
                    464,
                    291,
                    304,
                    208,
                    734,
                    510,
                    155,
                    200
                  ]
                }
              ],
              "layout": {
                "barmode": "group",
                "template": {
                  "data": {
                    "bar": [
                      {
                        "error_x": {
                          "color": "#2a3f5f"
                        },
                        "error_y": {
                          "color": "#2a3f5f"
                        },
                        "marker": {
                          "line": {
                            "color": "#E5ECF6",
                            "width": 0.5
                          },
                          "pattern": {
                            "fillmode": "overlay",
                            "size": 10,
                            "solidity": 0.2
                          }
                        },
                        "type": "bar"
                      }
                    ],
                    "barpolar": [
                      {
                        "marker": {
                          "line": {
                            "color": "#E5ECF6",
                            "width": 0.5
                          },
                          "pattern": {
                            "fillmode": "overlay",
                            "size": 10,
                            "solidity": 0.2
                          }
                        },
                        "type": "barpolar"
                      }
                    ],
                    "carpet": [
                      {
                        "aaxis": {
                          "endlinecolor": "#2a3f5f",
                          "gridcolor": "white",
                          "linecolor": "white",
                          "minorgridcolor": "white",
                          "startlinecolor": "#2a3f5f"
                        },
                        "baxis": {
                          "endlinecolor": "#2a3f5f",
                          "gridcolor": "white",
                          "linecolor": "white",
                          "minorgridcolor": "white",
                          "startlinecolor": "#2a3f5f"
                        },
                        "type": "carpet"
                      }
                    ],
                    "choropleth": [
                      {
                        "colorbar": {
                          "outlinewidth": 0,
                          "ticks": ""
                        },
                        "type": "choropleth"
                      }
                    ],
                    "contour": [
                      {
                        "colorbar": {
                          "outlinewidth": 0,
                          "ticks": ""
                        },
                        "colorscale": [
                          [
                            0,
                            "#0d0887"
                          ],
                          [
                            0.1111111111111111,
                            "#46039f"
                          ],
                          [
                            0.2222222222222222,
                            "#7201a8"
                          ],
                          [
                            0.3333333333333333,
                            "#9c179e"
                          ],
                          [
                            0.4444444444444444,
                            "#bd3786"
                          ],
                          [
                            0.5555555555555556,
                            "#d8576b"
                          ],
                          [
                            0.6666666666666666,
                            "#ed7953"
                          ],
                          [
                            0.7777777777777778,
                            "#fb9f3a"
                          ],
                          [
                            0.8888888888888888,
                            "#fdca26"
                          ],
                          [
                            1,
                            "#f0f921"
                          ]
                        ],
                        "type": "contour"
                      }
                    ],
                    "contourcarpet": [
                      {
                        "colorbar": {
                          "outlinewidth": 0,
                          "ticks": ""
                        },
                        "type": "contourcarpet"
                      }
                    ],
                    "heatmap": [
                      {
                        "colorbar": {
                          "outlinewidth": 0,
                          "ticks": ""
                        },
                        "colorscale": [
                          [
                            0,
                            "#0d0887"
                          ],
                          [
                            0.1111111111111111,
                            "#46039f"
                          ],
                          [
                            0.2222222222222222,
                            "#7201a8"
                          ],
                          [
                            0.3333333333333333,
                            "#9c179e"
                          ],
                          [
                            0.4444444444444444,
                            "#bd3786"
                          ],
                          [
                            0.5555555555555556,
                            "#d8576b"
                          ],
                          [
                            0.6666666666666666,
                            "#ed7953"
                          ],
                          [
                            0.7777777777777778,
                            "#fb9f3a"
                          ],
                          [
                            0.8888888888888888,
                            "#fdca26"
                          ],
                          [
                            1,
                            "#f0f921"
                          ]
                        ],
                        "type": "heatmap"
                      }
                    ],
                    "heatmapgl": [
                      {
                        "colorbar": {
                          "outlinewidth": 0,
                          "ticks": ""
                        },
                        "colorscale": [
                          [
                            0,
                            "#0d0887"
                          ],
                          [
                            0.1111111111111111,
                            "#46039f"
                          ],
                          [
                            0.2222222222222222,
                            "#7201a8"
                          ],
                          [
                            0.3333333333333333,
                            "#9c179e"
                          ],
                          [
                            0.4444444444444444,
                            "#bd3786"
                          ],
                          [
                            0.5555555555555556,
                            "#d8576b"
                          ],
                          [
                            0.6666666666666666,
                            "#ed7953"
                          ],
                          [
                            0.7777777777777778,
                            "#fb9f3a"
                          ],
                          [
                            0.8888888888888888,
                            "#fdca26"
                          ],
                          [
                            1,
                            "#f0f921"
                          ]
                        ],
                        "type": "heatmapgl"
                      }
                    ],
                    "histogram": [
                      {
                        "marker": {
                          "pattern": {
                            "fillmode": "overlay",
                            "size": 10,
                            "solidity": 0.2
                          }
                        },
                        "type": "histogram"
                      }
                    ],
                    "histogram2d": [
                      {
                        "colorbar": {
                          "outlinewidth": 0,
                          "ticks": ""
                        },
                        "colorscale": [
                          [
                            0,
                            "#0d0887"
                          ],
                          [
                            0.1111111111111111,
                            "#46039f"
                          ],
                          [
                            0.2222222222222222,
                            "#7201a8"
                          ],
                          [
                            0.3333333333333333,
                            "#9c179e"
                          ],
                          [
                            0.4444444444444444,
                            "#bd3786"
                          ],
                          [
                            0.5555555555555556,
                            "#d8576b"
                          ],
                          [
                            0.6666666666666666,
                            "#ed7953"
                          ],
                          [
                            0.7777777777777778,
                            "#fb9f3a"
                          ],
                          [
                            0.8888888888888888,
                            "#fdca26"
                          ],
                          [
                            1,
                            "#f0f921"
                          ]
                        ],
                        "type": "histogram2d"
                      }
                    ],
                    "histogram2dcontour": [
                      {
                        "colorbar": {
                          "outlinewidth": 0,
                          "ticks": ""
                        },
                        "colorscale": [
                          [
                            0,
                            "#0d0887"
                          ],
                          [
                            0.1111111111111111,
                            "#46039f"
                          ],
                          [
                            0.2222222222222222,
                            "#7201a8"
                          ],
                          [
                            0.3333333333333333,
                            "#9c179e"
                          ],
                          [
                            0.4444444444444444,
                            "#bd3786"
                          ],
                          [
                            0.5555555555555556,
                            "#d8576b"
                          ],
                          [
                            0.6666666666666666,
                            "#ed7953"
                          ],
                          [
                            0.7777777777777778,
                            "#fb9f3a"
                          ],
                          [
                            0.8888888888888888,
                            "#fdca26"
                          ],
                          [
                            1,
                            "#f0f921"
                          ]
                        ],
                        "type": "histogram2dcontour"
                      }
                    ],
                    "mesh3d": [
                      {
                        "colorbar": {
                          "outlinewidth": 0,
                          "ticks": ""
                        },
                        "type": "mesh3d"
                      }
                    ],
                    "parcoords": [
                      {
                        "line": {
                          "colorbar": {
                            "outlinewidth": 0,
                            "ticks": ""
                          }
                        },
                        "type": "parcoords"
                      }
                    ],
                    "pie": [
                      {
                        "automargin": true,
                        "type": "pie"
                      }
                    ],
                    "scatter": [
                      {
                        "marker": {
                          "colorbar": {
                            "outlinewidth": 0,
                            "ticks": ""
                          }
                        },
                        "type": "scatter"
                      }
                    ],
                    "scatter3d": [
                      {
                        "line": {
                          "colorbar": {
                            "outlinewidth": 0,
                            "ticks": ""
                          }
                        },
                        "marker": {
                          "colorbar": {
                            "outlinewidth": 0,
                            "ticks": ""
                          }
                        },
                        "type": "scatter3d"
                      }
                    ],
                    "scattercarpet": [
                      {
                        "marker": {
                          "colorbar": {
                            "outlinewidth": 0,
                            "ticks": ""
                          }
                        },
                        "type": "scattercarpet"
                      }
                    ],
                    "scattergeo": [
                      {
                        "marker": {
                          "colorbar": {
                            "outlinewidth": 0,
                            "ticks": ""
                          }
                        },
                        "type": "scattergeo"
                      }
                    ],
                    "scattergl": [
                      {
                        "marker": {
                          "colorbar": {
                            "outlinewidth": 0,
                            "ticks": ""
                          }
                        },
                        "type": "scattergl"
                      }
                    ],
                    "scattermapbox": [
                      {
                        "marker": {
                          "colorbar": {
                            "outlinewidth": 0,
                            "ticks": ""
                          }
                        },
                        "type": "scattermapbox"
                      }
                    ],
                    "scatterpolar": [
                      {
                        "marker": {
                          "colorbar": {
                            "outlinewidth": 0,
                            "ticks": ""
                          }
                        },
                        "type": "scatterpolar"
                      }
                    ],
                    "scatterpolargl": [
                      {
                        "marker": {
                          "colorbar": {
                            "outlinewidth": 0,
                            "ticks": ""
                          }
                        },
                        "type": "scatterpolargl"
                      }
                    ],
                    "scatterternary": [
                      {
                        "marker": {
                          "colorbar": {
                            "outlinewidth": 0,
                            "ticks": ""
                          }
                        },
                        "type": "scatterternary"
                      }
                    ],
                    "surface": [
                      {
                        "colorbar": {
                          "outlinewidth": 0,
                          "ticks": ""
                        },
                        "colorscale": [
                          [
                            0,
                            "#0d0887"
                          ],
                          [
                            0.1111111111111111,
                            "#46039f"
                          ],
                          [
                            0.2222222222222222,
                            "#7201a8"
                          ],
                          [
                            0.3333333333333333,
                            "#9c179e"
                          ],
                          [
                            0.4444444444444444,
                            "#bd3786"
                          ],
                          [
                            0.5555555555555556,
                            "#d8576b"
                          ],
                          [
                            0.6666666666666666,
                            "#ed7953"
                          ],
                          [
                            0.7777777777777778,
                            "#fb9f3a"
                          ],
                          [
                            0.8888888888888888,
                            "#fdca26"
                          ],
                          [
                            1,
                            "#f0f921"
                          ]
                        ],
                        "type": "surface"
                      }
                    ],
                    "table": [
                      {
                        "cells": {
                          "fill": {
                            "color": "#EBF0F8"
                          },
                          "line": {
                            "color": "white"
                          }
                        },
                        "header": {
                          "fill": {
                            "color": "#C8D4E3"
                          },
                          "line": {
                            "color": "white"
                          }
                        },
                        "type": "table"
                      }
                    ]
                  },
                  "layout": {
                    "annotationdefaults": {
                      "arrowcolor": "#2a3f5f",
                      "arrowhead": 0,
                      "arrowwidth": 1
                    },
                    "autotypenumbers": "strict",
                    "coloraxis": {
                      "colorbar": {
                        "outlinewidth": 0,
                        "ticks": ""
                      }
                    },
                    "colorscale": {
                      "diverging": [
                        [
                          0,
                          "#8e0152"
                        ],
                        [
                          0.1,
                          "#c51b7d"
                        ],
                        [
                          0.2,
                          "#de77ae"
                        ],
                        [
                          0.3,
                          "#f1b6da"
                        ],
                        [
                          0.4,
                          "#fde0ef"
                        ],
                        [
                          0.5,
                          "#f7f7f7"
                        ],
                        [
                          0.6,
                          "#e6f5d0"
                        ],
                        [
                          0.7,
                          "#b8e186"
                        ],
                        [
                          0.8,
                          "#7fbc41"
                        ],
                        [
                          0.9,
                          "#4d9221"
                        ],
                        [
                          1,
                          "#276419"
                        ]
                      ],
                      "sequential": [
                        [
                          0,
                          "#0d0887"
                        ],
                        [
                          0.1111111111111111,
                          "#46039f"
                        ],
                        [
                          0.2222222222222222,
                          "#7201a8"
                        ],
                        [
                          0.3333333333333333,
                          "#9c179e"
                        ],
                        [
                          0.4444444444444444,
                          "#bd3786"
                        ],
                        [
                          0.5555555555555556,
                          "#d8576b"
                        ],
                        [
                          0.6666666666666666,
                          "#ed7953"
                        ],
                        [
                          0.7777777777777778,
                          "#fb9f3a"
                        ],
                        [
                          0.8888888888888888,
                          "#fdca26"
                        ],
                        [
                          1,
                          "#f0f921"
                        ]
                      ],
                      "sequentialminus": [
                        [
                          0,
                          "#0d0887"
                        ],
                        [
                          0.1111111111111111,
                          "#46039f"
                        ],
                        [
                          0.2222222222222222,
                          "#7201a8"
                        ],
                        [
                          0.3333333333333333,
                          "#9c179e"
                        ],
                        [
                          0.4444444444444444,
                          "#bd3786"
                        ],
                        [
                          0.5555555555555556,
                          "#d8576b"
                        ],
                        [
                          0.6666666666666666,
                          "#ed7953"
                        ],
                        [
                          0.7777777777777778,
                          "#fb9f3a"
                        ],
                        [
                          0.8888888888888888,
                          "#fdca26"
                        ],
                        [
                          1,
                          "#f0f921"
                        ]
                      ]
                    },
                    "colorway": [
                      "#636efa",
                      "#EF553B",
                      "#00cc96",
                      "#ab63fa",
                      "#FFA15A",
                      "#19d3f3",
                      "#FF6692",
                      "#B6E880",
                      "#FF97FF",
                      "#FECB52"
                    ],
                    "font": {
                      "color": "#2a3f5f"
                    },
                    "geo": {
                      "bgcolor": "white",
                      "lakecolor": "white",
                      "landcolor": "#E5ECF6",
                      "showlakes": true,
                      "showland": true,
                      "subunitcolor": "white"
                    },
                    "hoverlabel": {
                      "align": "left"
                    },
                    "hovermode": "closest",
                    "mapbox": {
                      "style": "light"
                    },
                    "paper_bgcolor": "white",
                    "plot_bgcolor": "#E5ECF6",
                    "polar": {
                      "angularaxis": {
                        "gridcolor": "white",
                        "linecolor": "white",
                        "ticks": ""
                      },
                      "bgcolor": "#E5ECF6",
                      "radialaxis": {
                        "gridcolor": "white",
                        "linecolor": "white",
                        "ticks": ""
                      }
                    },
                    "scene": {
                      "xaxis": {
                        "backgroundcolor": "#E5ECF6",
                        "gridcolor": "white",
                        "gridwidth": 2,
                        "linecolor": "white",
                        "showbackground": true,
                        "ticks": "",
                        "zerolinecolor": "white"
                      },
                      "yaxis": {
                        "backgroundcolor": "#E5ECF6",
                        "gridcolor": "white",
                        "gridwidth": 2,
                        "linecolor": "white",
                        "showbackground": true,
                        "ticks": "",
                        "zerolinecolor": "white"
                      },
                      "zaxis": {
                        "backgroundcolor": "#E5ECF6",
                        "gridcolor": "white",
                        "gridwidth": 2,
                        "linecolor": "white",
                        "showbackground": true,
                        "ticks": "",
                        "zerolinecolor": "white"
                      }
                    },
                    "shapedefaults": {
                      "line": {
                        "color": "#2a3f5f"
                      }
                    },
                    "ternary": {
                      "aaxis": {
                        "gridcolor": "white",
                        "linecolor": "white",
                        "ticks": ""
                      },
                      "baxis": {
                        "gridcolor": "white",
                        "linecolor": "white",
                        "ticks": ""
                      },
                      "bgcolor": "#E5ECF6",
                      "caxis": {
                        "gridcolor": "white",
                        "linecolor": "white",
                        "ticks": ""
                      }
                    },
                    "title": {
                      "x": 0.05
                    },
                    "xaxis": {
                      "automargin": true,
                      "gridcolor": "white",
                      "linecolor": "white",
                      "ticks": "",
                      "title": {
                        "standoff": 15
                      },
                      "zerolinecolor": "white",
                      "zerolinewidth": 2
                    },
                    "yaxis": {
                      "automargin": true,
                      "gridcolor": "white",
                      "linecolor": "white",
                      "ticks": "",
                      "title": {
                        "standoff": 15
                      },
                      "zerolinecolor": "white",
                      "zerolinewidth": 2
                    }
                  }
                },
                "title": {
                  "text": "Total Revenue and Quantitty in France over time (Jan-May",
                  "x": 0.5
                },
                "xaxis": {
                  "tickangle": -45,
                  "title": {
                    "text": "Date"
                  }
                },
                "yaxis": {
                  "title": {
                    "text": "Total"
                  }
                }
              }
            },
            "text/html": [
              "<div>                            <div id=\"c5f3fe0c-4e5a-4a11-add6-70727399d764\" class=\"plotly-graph-div\" style=\"height:525px; width:100%;\"></div>            <script type=\"text/javascript\">                require([\"plotly\"], function(Plotly) {                    window.PLOTLYENV=window.PLOTLYENV || {};                                    if (document.getElementById(\"c5f3fe0c-4e5a-4a11-add6-70727399d764\")) {                    Plotly.newPlot(                        \"c5f3fe0c-4e5a-4a11-add6-70727399d764\",                        [{\"name\":\"Revenue\",\"x\":[\"2011-01-05\",\"2011-01-06\",\"2011-01-07\",\"2011-01-09\",\"2011-01-10\",\"2011-01-11\",\"2011-01-12\",\"2011-01-14\",\"2011-01-17\",\"2011-01-19\",\"2011-01-20\",\"2011-01-23\",\"2011-01-24\",\"2011-01-28\",\"2011-01-31\",\"2011-02-01\",\"2011-02-02\",\"2011-02-04\",\"2011-02-08\",\"2011-02-09\",\"2011-02-10\",\"2011-02-15\",\"2011-02-16\",\"2011-02-17\",\"2011-02-18\",\"2011-02-21\",\"2011-02-23\",\"2011-02-27\",\"2011-02-28\",\"2011-03-01\",\"2011-03-03\",\"2011-03-04\",\"2011-03-11\",\"2011-03-13\",\"2011-03-14\",\"2011-03-15\",\"2011-03-16\",\"2011-03-20\",\"2011-03-21\",\"2011-03-22\",\"2011-03-23\",\"2011-03-25\",\"2011-03-27\",\"2011-03-28\",\"2011-03-31\",\"2011-04-01\",\"2011-04-04\",\"2011-04-07\",\"2011-04-14\",\"2011-04-17\",\"2011-04-20\",\"2011-04-21\",\"2011-04-26\",\"2011-04-28\",\"2011-05-03\",\"2011-05-05\",\"2011-05-08\",\"2011-05-09\",\"2011-05-10\",\"2011-05-11\",\"2011-05-12\",\"2011-05-13\",\"2011-05-15\",\"2011-05-16\",\"2011-05-17\",\"2011-05-18\",\"2011-05-19\",\"2011-05-20\",\"2011-05-22\",\"2011-05-23\",\"2011-05-24\",\"2011-05-25\",\"2011-05-26\",\"2011-05-27\",\"2011-05-31\"],\"y\":[1265.18,709.02,975.0899999999999,114.0,1112.06,1332.6399999999999,1235.6299999999999,1592.43,642.14,698.75,1408.68,406.5,190.2,953.83,3537.97,456.84999999999997,587.39,1128.73,165.85999999999999,401.02,285.56,219.6,829.66,214.0,884.5999999999999,728.8199999999999,403.76,92.6,1289.51,1038.26,501.16,281.25,676.8499999999999,307.28999999999996,425.40000000000003,511.53999999999996,244.79999999999998,298.02,205.87,469.98,1675.28,303.91,128.05,1028.3,5593.59,390.75,513.55,312.2,615.2,594.22,469.20000000000005,652.55,160.54000000000002,191.10000000000002,1673.3400000000001,200.0,984.4300000000001,500.9,453.09999999999997,3018.73,278.53000000000003,946.51,133.4,672.6199999999999,739.62,743.53,878.51,956.4,784.71,385.96,357.34,1136.82,558.5,367.09,404.84000000000003],\"type\":\"scatter\",\"marker\":{\"color\":\"red\"}},{\"name\":\"Quantity\",\"x\":[\"2011-01-05\",\"2011-01-06\",\"2011-01-07\",\"2011-01-09\",\"2011-01-10\",\"2011-01-11\",\"2011-01-12\",\"2011-01-14\",\"2011-01-17\",\"2011-01-19\",\"2011-01-20\",\"2011-01-23\",\"2011-01-24\",\"2011-01-28\",\"2011-01-31\",\"2011-02-01\",\"2011-02-02\",\"2011-02-04\",\"2011-02-08\",\"2011-02-09\",\"2011-02-10\",\"2011-02-15\",\"2011-02-16\",\"2011-02-17\",\"2011-02-18\",\"2011-02-21\",\"2011-02-23\",\"2011-02-27\",\"2011-02-28\",\"2011-03-01\",\"2011-03-03\",\"2011-03-04\",\"2011-03-11\",\"2011-03-13\",\"2011-03-14\",\"2011-03-15\",\"2011-03-16\",\"2011-03-20\",\"2011-03-21\",\"2011-03-22\",\"2011-03-23\",\"2011-03-25\",\"2011-03-27\",\"2011-03-28\",\"2011-03-31\",\"2011-04-01\",\"2011-04-04\",\"2011-04-07\",\"2011-04-14\",\"2011-04-17\",\"2011-04-20\",\"2011-04-21\",\"2011-04-26\",\"2011-04-28\",\"2011-05-03\",\"2011-05-05\",\"2011-05-08\",\"2011-05-09\",\"2011-05-10\",\"2011-05-11\",\"2011-05-12\",\"2011-05-13\",\"2011-05-15\",\"2011-05-16\",\"2011-05-17\",\"2011-05-18\",\"2011-05-19\",\"2011-05-20\",\"2011-05-22\",\"2011-05-23\",\"2011-05-24\",\"2011-05-25\",\"2011-05-26\",\"2011-05-27\",\"2011-05-31\"],\"y\":[728,438,591,78,628,978,672,1061,263,383,702,120,84,567,1819,197,365,611,214,298,452,96,772,114,763,333,360,70,649,574,338,123,323,183,184,314,159,422,90,198,1221,261,59,842,3349,328,293,236,284,400,196,298,84,146,1036,98,773,494,458,1593,105,502,140,278,476,327,560,464,291,304,208,734,510,155,200],\"type\":\"scatter\",\"marker\":{\"color\":\"orange\"}}],                        {\"template\":{\"data\":{\"bar\":[{\"error_x\":{\"color\":\"#2a3f5f\"},\"error_y\":{\"color\":\"#2a3f5f\"},\"marker\":{\"line\":{\"color\":\"#E5ECF6\",\"width\":0.5},\"pattern\":{\"fillmode\":\"overlay\",\"size\":10,\"solidity\":0.2}},\"type\":\"bar\"}],\"barpolar\":[{\"marker\":{\"line\":{\"color\":\"#E5ECF6\",\"width\":0.5},\"pattern\":{\"fillmode\":\"overlay\",\"size\":10,\"solidity\":0.2}},\"type\":\"barpolar\"}],\"carpet\":[{\"aaxis\":{\"endlinecolor\":\"#2a3f5f\",\"gridcolor\":\"white\",\"linecolor\":\"white\",\"minorgridcolor\":\"white\",\"startlinecolor\":\"#2a3f5f\"},\"baxis\":{\"endlinecolor\":\"#2a3f5f\",\"gridcolor\":\"white\",\"linecolor\":\"white\",\"minorgridcolor\":\"white\",\"startlinecolor\":\"#2a3f5f\"},\"type\":\"carpet\"}],\"choropleth\":[{\"colorbar\":{\"outlinewidth\":0,\"ticks\":\"\"},\"type\":\"choropleth\"}],\"contour\":[{\"colorbar\":{\"outlinewidth\":0,\"ticks\":\"\"},\"colorscale\":[[0.0,\"#0d0887\"],[0.1111111111111111,\"#46039f\"],[0.2222222222222222,\"#7201a8\"],[0.3333333333333333,\"#9c179e\"],[0.4444444444444444,\"#bd3786\"],[0.5555555555555556,\"#d8576b\"],[0.6666666666666666,\"#ed7953\"],[0.7777777777777778,\"#fb9f3a\"],[0.8888888888888888,\"#fdca26\"],[1.0,\"#f0f921\"]],\"type\":\"contour\"}],\"contourcarpet\":[{\"colorbar\":{\"outlinewidth\":0,\"ticks\":\"\"},\"type\":\"contourcarpet\"}],\"heatmap\":[{\"colorbar\":{\"outlinewidth\":0,\"ticks\":\"\"},\"colorscale\":[[0.0,\"#0d0887\"],[0.1111111111111111,\"#46039f\"],[0.2222222222222222,\"#7201a8\"],[0.3333333333333333,\"#9c179e\"],[0.4444444444444444,\"#bd3786\"],[0.5555555555555556,\"#d8576b\"],[0.6666666666666666,\"#ed7953\"],[0.7777777777777778,\"#fb9f3a\"],[0.8888888888888888,\"#fdca26\"],[1.0,\"#f0f921\"]],\"type\":\"heatmap\"}],\"heatmapgl\":[{\"colorbar\":{\"outlinewidth\":0,\"ticks\":\"\"},\"colorscale\":[[0.0,\"#0d0887\"],[0.1111111111111111,\"#46039f\"],[0.2222222222222222,\"#7201a8\"],[0.3333333333333333,\"#9c179e\"],[0.4444444444444444,\"#bd3786\"],[0.5555555555555556,\"#d8576b\"],[0.6666666666666666,\"#ed7953\"],[0.7777777777777778,\"#fb9f3a\"],[0.8888888888888888,\"#fdca26\"],[1.0,\"#f0f921\"]],\"type\":\"heatmapgl\"}],\"histogram\":[{\"marker\":{\"pattern\":{\"fillmode\":\"overlay\",\"size\":10,\"solidity\":0.2}},\"type\":\"histogram\"}],\"histogram2d\":[{\"colorbar\":{\"outlinewidth\":0,\"ticks\":\"\"},\"colorscale\":[[0.0,\"#0d0887\"],[0.1111111111111111,\"#46039f\"],[0.2222222222222222,\"#7201a8\"],[0.3333333333333333,\"#9c179e\"],[0.4444444444444444,\"#bd3786\"],[0.5555555555555556,\"#d8576b\"],[0.6666666666666666,\"#ed7953\"],[0.7777777777777778,\"#fb9f3a\"],[0.8888888888888888,\"#fdca26\"],[1.0,\"#f0f921\"]],\"type\":\"histogram2d\"}],\"histogram2dcontour\":[{\"colorbar\":{\"outlinewidth\":0,\"ticks\":\"\"},\"colorscale\":[[0.0,\"#0d0887\"],[0.1111111111111111,\"#46039f\"],[0.2222222222222222,\"#7201a8\"],[0.3333333333333333,\"#9c179e\"],[0.4444444444444444,\"#bd3786\"],[0.5555555555555556,\"#d8576b\"],[0.6666666666666666,\"#ed7953\"],[0.7777777777777778,\"#fb9f3a\"],[0.8888888888888888,\"#fdca26\"],[1.0,\"#f0f921\"]],\"type\":\"histogram2dcontour\"}],\"mesh3d\":[{\"colorbar\":{\"outlinewidth\":0,\"ticks\":\"\"},\"type\":\"mesh3d\"}],\"parcoords\":[{\"line\":{\"colorbar\":{\"outlinewidth\":0,\"ticks\":\"\"}},\"type\":\"parcoords\"}],\"pie\":[{\"automargin\":true,\"type\":\"pie\"}],\"scatter\":[{\"marker\":{\"colorbar\":{\"outlinewidth\":0,\"ticks\":\"\"}},\"type\":\"scatter\"}],\"scatter3d\":[{\"line\":{\"colorbar\":{\"outlinewidth\":0,\"ticks\":\"\"}},\"marker\":{\"colorbar\":{\"outlinewidth\":0,\"ticks\":\"\"}},\"type\":\"scatter3d\"}],\"scattercarpet\":[{\"marker\":{\"colorbar\":{\"outlinewidth\":0,\"ticks\":\"\"}},\"type\":\"scattercarpet\"}],\"scattergeo\":[{\"marker\":{\"colorbar\":{\"outlinewidth\":0,\"ticks\":\"\"}},\"type\":\"scattergeo\"}],\"scattergl\":[{\"marker\":{\"colorbar\":{\"outlinewidth\":0,\"ticks\":\"\"}},\"type\":\"scattergl\"}],\"scattermapbox\":[{\"marker\":{\"colorbar\":{\"outlinewidth\":0,\"ticks\":\"\"}},\"type\":\"scattermapbox\"}],\"scatterpolar\":[{\"marker\":{\"colorbar\":{\"outlinewidth\":0,\"ticks\":\"\"}},\"type\":\"scatterpolar\"}],\"scatterpolargl\":[{\"marker\":{\"colorbar\":{\"outlinewidth\":0,\"ticks\":\"\"}},\"type\":\"scatterpolargl\"}],\"scatterternary\":[{\"marker\":{\"colorbar\":{\"outlinewidth\":0,\"ticks\":\"\"}},\"type\":\"scatterternary\"}],\"surface\":[{\"colorbar\":{\"outlinewidth\":0,\"ticks\":\"\"},\"colorscale\":[[0.0,\"#0d0887\"],[0.1111111111111111,\"#46039f\"],[0.2222222222222222,\"#7201a8\"],[0.3333333333333333,\"#9c179e\"],[0.4444444444444444,\"#bd3786\"],[0.5555555555555556,\"#d8576b\"],[0.6666666666666666,\"#ed7953\"],[0.7777777777777778,\"#fb9f3a\"],[0.8888888888888888,\"#fdca26\"],[1.0,\"#f0f921\"]],\"type\":\"surface\"}],\"table\":[{\"cells\":{\"fill\":{\"color\":\"#EBF0F8\"},\"line\":{\"color\":\"white\"}},\"header\":{\"fill\":{\"color\":\"#C8D4E3\"},\"line\":{\"color\":\"white\"}},\"type\":\"table\"}]},\"layout\":{\"annotationdefaults\":{\"arrowcolor\":\"#2a3f5f\",\"arrowhead\":0,\"arrowwidth\":1},\"autotypenumbers\":\"strict\",\"coloraxis\":{\"colorbar\":{\"outlinewidth\":0,\"ticks\":\"\"}},\"colorscale\":{\"diverging\":[[0,\"#8e0152\"],[0.1,\"#c51b7d\"],[0.2,\"#de77ae\"],[0.3,\"#f1b6da\"],[0.4,\"#fde0ef\"],[0.5,\"#f7f7f7\"],[0.6,\"#e6f5d0\"],[0.7,\"#b8e186\"],[0.8,\"#7fbc41\"],[0.9,\"#4d9221\"],[1,\"#276419\"]],\"sequential\":[[0.0,\"#0d0887\"],[0.1111111111111111,\"#46039f\"],[0.2222222222222222,\"#7201a8\"],[0.3333333333333333,\"#9c179e\"],[0.4444444444444444,\"#bd3786\"],[0.5555555555555556,\"#d8576b\"],[0.6666666666666666,\"#ed7953\"],[0.7777777777777778,\"#fb9f3a\"],[0.8888888888888888,\"#fdca26\"],[1.0,\"#f0f921\"]],\"sequentialminus\":[[0.0,\"#0d0887\"],[0.1111111111111111,\"#46039f\"],[0.2222222222222222,\"#7201a8\"],[0.3333333333333333,\"#9c179e\"],[0.4444444444444444,\"#bd3786\"],[0.5555555555555556,\"#d8576b\"],[0.6666666666666666,\"#ed7953\"],[0.7777777777777778,\"#fb9f3a\"],[0.8888888888888888,\"#fdca26\"],[1.0,\"#f0f921\"]]},\"colorway\":[\"#636efa\",\"#EF553B\",\"#00cc96\",\"#ab63fa\",\"#FFA15A\",\"#19d3f3\",\"#FF6692\",\"#B6E880\",\"#FF97FF\",\"#FECB52\"],\"font\":{\"color\":\"#2a3f5f\"},\"geo\":{\"bgcolor\":\"white\",\"lakecolor\":\"white\",\"landcolor\":\"#E5ECF6\",\"showlakes\":true,\"showland\":true,\"subunitcolor\":\"white\"},\"hoverlabel\":{\"align\":\"left\"},\"hovermode\":\"closest\",\"mapbox\":{\"style\":\"light\"},\"paper_bgcolor\":\"white\",\"plot_bgcolor\":\"#E5ECF6\",\"polar\":{\"angularaxis\":{\"gridcolor\":\"white\",\"linecolor\":\"white\",\"ticks\":\"\"},\"bgcolor\":\"#E5ECF6\",\"radialaxis\":{\"gridcolor\":\"white\",\"linecolor\":\"white\",\"ticks\":\"\"}},\"scene\":{\"xaxis\":{\"backgroundcolor\":\"#E5ECF6\",\"gridcolor\":\"white\",\"gridwidth\":2,\"linecolor\":\"white\",\"showbackground\":true,\"ticks\":\"\",\"zerolinecolor\":\"white\"},\"yaxis\":{\"backgroundcolor\":\"#E5ECF6\",\"gridcolor\":\"white\",\"gridwidth\":2,\"linecolor\":\"white\",\"showbackground\":true,\"ticks\":\"\",\"zerolinecolor\":\"white\"},\"zaxis\":{\"backgroundcolor\":\"#E5ECF6\",\"gridcolor\":\"white\",\"gridwidth\":2,\"linecolor\":\"white\",\"showbackground\":true,\"ticks\":\"\",\"zerolinecolor\":\"white\"}},\"shapedefaults\":{\"line\":{\"color\":\"#2a3f5f\"}},\"ternary\":{\"aaxis\":{\"gridcolor\":\"white\",\"linecolor\":\"white\",\"ticks\":\"\"},\"baxis\":{\"gridcolor\":\"white\",\"linecolor\":\"white\",\"ticks\":\"\"},\"bgcolor\":\"#E5ECF6\",\"caxis\":{\"gridcolor\":\"white\",\"linecolor\":\"white\",\"ticks\":\"\"}},\"title\":{\"x\":0.05},\"xaxis\":{\"automargin\":true,\"gridcolor\":\"white\",\"linecolor\":\"white\",\"ticks\":\"\",\"title\":{\"standoff\":15},\"zerolinecolor\":\"white\",\"zerolinewidth\":2},\"yaxis\":{\"automargin\":true,\"gridcolor\":\"white\",\"linecolor\":\"white\",\"ticks\":\"\",\"title\":{\"standoff\":15},\"zerolinecolor\":\"white\",\"zerolinewidth\":2}}},\"xaxis\":{\"tickangle\":-45,\"title\":{\"text\":\"Date\"}},\"title\":{\"text\":\"Total Revenue and Quantitty in France over time (Jan-May\",\"x\":0.5},\"barmode\":\"group\",\"yaxis\":{\"title\":{\"text\":\"Total\"}}},                        {\"responsive\": true}                    ).then(function(){\n",
              "                            \n",
              "var gd = document.getElementById('c5f3fe0c-4e5a-4a11-add6-70727399d764');\n",
              "var x = new MutationObserver(function (mutations, observer) {{\n",
              "        var display = window.getComputedStyle(gd).display;\n",
              "        if (!display || display === 'none') {{\n",
              "            console.log([gd, 'removed!']);\n",
              "            Plotly.purge(gd);\n",
              "            observer.disconnect();\n",
              "        }}\n",
              "}});\n",
              "\n",
              "// Listen for the removal of the full notebook cells\n",
              "var notebookContainer = gd.closest('#notebook-container');\n",
              "if (notebookContainer) {{\n",
              "    x.observe(notebookContainer, {childList: true});\n",
              "}}\n",
              "\n",
              "// Listen for the clearing of the current output cell\n",
              "var outputEl = gd.closest('.output');\n",
              "if (outputEl) {{\n",
              "    x.observe(outputEl, {childList: true});\n",
              "}}\n",
              "\n",
              "                        })                };                });            </script>        </div>"
            ]
          },
          "metadata": {},
          "output_type": "display_data"
        }
      ],
      "source": [
        "# Traces\n",
        "fig = go.Figure()\n",
        "fig.add_trace(go.Line(\n",
        "    x=dates,\n",
        "    y=france_qty_rvn['Revenue'],\n",
        "    name='Revenue',\n",
        "    marker_color='red'\n",
        "))\n",
        "fig.add_trace(go.Line(\n",
        "    x=dates,\n",
        "    y=france_qty_rvn['Quantity'],\n",
        "    name='Quantity',\n",
        "    marker_color='orange'\n",
        "))\n",
        "# Layout\n",
        "fig.update_layout(barmode='group', xaxis_tickangle=-45,title=\"Total Revenue and Quantitty in France over time (Jan-May\",title_x=0.5,xaxis_title=\"Date\",\n",
        "    yaxis_title=\"Total\",)\n",
        "# Plot\n",
        "fig.show()\n"
      ]
    },
    {
      "cell_type": "code",
      "execution_count": 23,
      "metadata": {
        "id": "BcpCxOTpNAtB",
        "outputId": "aebd06d3-01e7-4a9c-8413-2843b3f863d3"
      },
      "outputs": [
        {
          "data": {
            "text/plain": [
              "<function plotly.offline.offline.iplot(figure_or_data, show_link=False, link_text='Export to plot.ly', validate=True, image=None, filename='plot_image', image_width=800, image_height=600, config=None, auto_play=True, animation_opts=None)>"
            ]
          },
          "execution_count": 23,
          "metadata": {},
          "output_type": "execute_result"
        }
      ],
      "source": [
        "# Plot\n",
        "py.iplot"
      ]
    },
    {
      "cell_type": "markdown",
      "metadata": {
        "id": "ha1KZGctNAtC"
      },
      "source": [
        "#### 3. Create an interactive scatter plot showing the relationship between average quantity (x-axis) and average unit price (y-axis) for the product PARTY BUNTING with the plot points color-coded by country (categories)."
      ]
    },
    {
      "cell_type": "code",
      "execution_count": 24,
      "metadata": {},
      "outputs": [
        {
          "data": {
            "text/html": [
              "<div>\n",
              "<style scoped>\n",
              "    .dataframe tbody tr th:only-of-type {\n",
              "        vertical-align: middle;\n",
              "    }\n",
              "\n",
              "    .dataframe tbody tr th {\n",
              "        vertical-align: top;\n",
              "    }\n",
              "\n",
              "    .dataframe thead th {\n",
              "        text-align: right;\n",
              "    }\n",
              "</style>\n",
              "<table border=\"1\" class=\"dataframe\">\n",
              "  <thead>\n",
              "    <tr style=\"text-align: right;\">\n",
              "      <th></th>\n",
              "      <th>InvoiceNo</th>\n",
              "      <th>InvoiceDate</th>\n",
              "      <th>StockCode</th>\n",
              "      <th>Description</th>\n",
              "      <th>Quantity</th>\n",
              "      <th>UnitPrice</th>\n",
              "      <th>Revenue</th>\n",
              "      <th>CustomerID</th>\n",
              "      <th>Country</th>\n",
              "      <th>month</th>\n",
              "      <th>year</th>\n",
              "    </tr>\n",
              "  </thead>\n",
              "  <tbody>\n",
              "    <tr>\n",
              "      <th>0</th>\n",
              "      <td>536365</td>\n",
              "      <td>2010-12-01 08:26:00</td>\n",
              "      <td>85123A</td>\n",
              "      <td>CREAM HANGING HEART T-LIGHT HOLDER</td>\n",
              "      <td>6</td>\n",
              "      <td>2.55</td>\n",
              "      <td>15.3</td>\n",
              "      <td>17850</td>\n",
              "      <td>United Kingdom</td>\n",
              "      <td>12</td>\n",
              "      <td>2010</td>\n",
              "    </tr>\n",
              "    <tr>\n",
              "      <th>1</th>\n",
              "      <td>536373</td>\n",
              "      <td>2010-12-01 09:02:00</td>\n",
              "      <td>85123A</td>\n",
              "      <td>CREAM HANGING HEART T-LIGHT HOLDER</td>\n",
              "      <td>6</td>\n",
              "      <td>2.55</td>\n",
              "      <td>15.3</td>\n",
              "      <td>17850</td>\n",
              "      <td>United Kingdom</td>\n",
              "      <td>12</td>\n",
              "      <td>2010</td>\n",
              "    </tr>\n",
              "    <tr>\n",
              "      <th>2</th>\n",
              "      <td>536375</td>\n",
              "      <td>2010-12-01 09:32:00</td>\n",
              "      <td>85123A</td>\n",
              "      <td>CREAM HANGING HEART T-LIGHT HOLDER</td>\n",
              "      <td>6</td>\n",
              "      <td>2.55</td>\n",
              "      <td>15.3</td>\n",
              "      <td>17850</td>\n",
              "      <td>United Kingdom</td>\n",
              "      <td>12</td>\n",
              "      <td>2010</td>\n",
              "    </tr>\n",
              "    <tr>\n",
              "      <th>3</th>\n",
              "      <td>536390</td>\n",
              "      <td>2010-12-01 10:19:00</td>\n",
              "      <td>85123A</td>\n",
              "      <td>CREAM HANGING HEART T-LIGHT HOLDER</td>\n",
              "      <td>64</td>\n",
              "      <td>2.55</td>\n",
              "      <td>163.2</td>\n",
              "      <td>17511</td>\n",
              "      <td>United Kingdom</td>\n",
              "      <td>12</td>\n",
              "      <td>2010</td>\n",
              "    </tr>\n",
              "    <tr>\n",
              "      <th>4</th>\n",
              "      <td>536394</td>\n",
              "      <td>2010-12-01 10:39:00</td>\n",
              "      <td>85123A</td>\n",
              "      <td>CREAM HANGING HEART T-LIGHT HOLDER</td>\n",
              "      <td>32</td>\n",
              "      <td>2.55</td>\n",
              "      <td>81.6</td>\n",
              "      <td>13408</td>\n",
              "      <td>United Kingdom</td>\n",
              "      <td>12</td>\n",
              "      <td>2010</td>\n",
              "    </tr>\n",
              "  </tbody>\n",
              "</table>\n",
              "</div>"
            ],
            "text/plain": [
              "   InvoiceNo         InvoiceDate StockCode  \\\n",
              "0     536365 2010-12-01 08:26:00    85123A   \n",
              "1     536373 2010-12-01 09:02:00    85123A   \n",
              "2     536375 2010-12-01 09:32:00    85123A   \n",
              "3     536390 2010-12-01 10:19:00    85123A   \n",
              "4     536394 2010-12-01 10:39:00    85123A   \n",
              "\n",
              "                          Description  Quantity  UnitPrice  Revenue  \\\n",
              "0  CREAM HANGING HEART T-LIGHT HOLDER         6       2.55     15.3   \n",
              "1  CREAM HANGING HEART T-LIGHT HOLDER         6       2.55     15.3   \n",
              "2  CREAM HANGING HEART T-LIGHT HOLDER         6       2.55     15.3   \n",
              "3  CREAM HANGING HEART T-LIGHT HOLDER        64       2.55    163.2   \n",
              "4  CREAM HANGING HEART T-LIGHT HOLDER        32       2.55     81.6   \n",
              "\n",
              "   CustomerID         Country  month  year  \n",
              "0       17850  United Kingdom     12  2010  \n",
              "1       17850  United Kingdom     12  2010  \n",
              "2       17850  United Kingdom     12  2010  \n",
              "3       17511  United Kingdom     12  2010  \n",
              "4       13408  United Kingdom     12  2010  "
            ]
          },
          "execution_count": 24,
          "metadata": {},
          "output_type": "execute_result"
        }
      ],
      "source": [
        "data.head()"
      ]
    },
    {
      "cell_type": "code",
      "execution_count": 25,
      "metadata": {
        "id": "3-entwHwNAtD"
      },
      "outputs": [],
      "source": [
        "# Transform the data\n",
        "party_bunting = data[data.Description == 'PARTY BUNTING']\n",
        "pb_country_qty_up = party_bunting.groupby('Country')['Quantity','UnitPrice'].agg('mean')"
      ]
    },
    {
      "cell_type": "code",
      "execution_count": 26,
      "metadata": {},
      "outputs": [],
      "source": [
        "pb_country_qty_up.reset_index(inplace=True)"
      ]
    },
    {
      "cell_type": "code",
      "execution_count": 27,
      "metadata": {},
      "outputs": [
        {
          "data": {
            "text/html": [
              "<div>\n",
              "<style scoped>\n",
              "    .dataframe tbody tr th:only-of-type {\n",
              "        vertical-align: middle;\n",
              "    }\n",
              "\n",
              "    .dataframe tbody tr th {\n",
              "        vertical-align: top;\n",
              "    }\n",
              "\n",
              "    .dataframe thead th {\n",
              "        text-align: right;\n",
              "    }\n",
              "</style>\n",
              "<table border=\"1\" class=\"dataframe\">\n",
              "  <thead>\n",
              "    <tr style=\"text-align: right;\">\n",
              "      <th></th>\n",
              "      <th>Country</th>\n",
              "      <th>Quantity</th>\n",
              "      <th>UnitPrice</th>\n",
              "    </tr>\n",
              "  </thead>\n",
              "  <tbody>\n",
              "    <tr>\n",
              "      <th>0</th>\n",
              "      <td>Australia</td>\n",
              "      <td>33.125000</td>\n",
              "      <td>4.712500</td>\n",
              "    </tr>\n",
              "    <tr>\n",
              "      <th>1</th>\n",
              "      <td>Austria</td>\n",
              "      <td>8.000000</td>\n",
              "      <td>4.950000</td>\n",
              "    </tr>\n",
              "    <tr>\n",
              "      <th>2</th>\n",
              "      <td>Belgium</td>\n",
              "      <td>4.000000</td>\n",
              "      <td>4.950000</td>\n",
              "    </tr>\n",
              "    <tr>\n",
              "      <th>3</th>\n",
              "      <td>Channel Islands</td>\n",
              "      <td>13.333333</td>\n",
              "      <td>4.950000</td>\n",
              "    </tr>\n",
              "    <tr>\n",
              "      <th>4</th>\n",
              "      <td>Cyprus</td>\n",
              "      <td>2.333333</td>\n",
              "      <td>4.750000</td>\n",
              "    </tr>\n",
              "    <tr>\n",
              "      <th>5</th>\n",
              "      <td>Denmark</td>\n",
              "      <td>12.000000</td>\n",
              "      <td>4.950000</td>\n",
              "    </tr>\n",
              "    <tr>\n",
              "      <th>6</th>\n",
              "      <td>EIRE</td>\n",
              "      <td>21.210526</td>\n",
              "      <td>4.739474</td>\n",
              "    </tr>\n",
              "    <tr>\n",
              "      <th>7</th>\n",
              "      <td>Finland</td>\n",
              "      <td>6.000000</td>\n",
              "      <td>4.950000</td>\n",
              "    </tr>\n",
              "    <tr>\n",
              "      <th>8</th>\n",
              "      <td>France</td>\n",
              "      <td>5.727273</td>\n",
              "      <td>4.922727</td>\n",
              "    </tr>\n",
              "    <tr>\n",
              "      <th>9</th>\n",
              "      <td>Germany</td>\n",
              "      <td>6.800000</td>\n",
              "      <td>4.890000</td>\n",
              "    </tr>\n",
              "    <tr>\n",
              "      <th>10</th>\n",
              "      <td>Israel</td>\n",
              "      <td>1.000000</td>\n",
              "      <td>4.950000</td>\n",
              "    </tr>\n",
              "    <tr>\n",
              "      <th>11</th>\n",
              "      <td>Japan</td>\n",
              "      <td>56.666667</td>\n",
              "      <td>4.183333</td>\n",
              "    </tr>\n",
              "    <tr>\n",
              "      <th>12</th>\n",
              "      <td>Lebanon</td>\n",
              "      <td>15.000000</td>\n",
              "      <td>4.650000</td>\n",
              "    </tr>\n",
              "    <tr>\n",
              "      <th>13</th>\n",
              "      <td>Netherlands</td>\n",
              "      <td>50.000000</td>\n",
              "      <td>4.150000</td>\n",
              "    </tr>\n",
              "    <tr>\n",
              "      <th>14</th>\n",
              "      <td>Norway</td>\n",
              "      <td>6.000000</td>\n",
              "      <td>4.950000</td>\n",
              "    </tr>\n",
              "    <tr>\n",
              "      <th>15</th>\n",
              "      <td>Singapore</td>\n",
              "      <td>8.000000</td>\n",
              "      <td>4.950000</td>\n",
              "    </tr>\n",
              "    <tr>\n",
              "      <th>16</th>\n",
              "      <td>South Africa</td>\n",
              "      <td>4.000000</td>\n",
              "      <td>4.950000</td>\n",
              "    </tr>\n",
              "    <tr>\n",
              "      <th>17</th>\n",
              "      <td>Spain</td>\n",
              "      <td>4.750000</td>\n",
              "      <td>4.837500</td>\n",
              "    </tr>\n",
              "    <tr>\n",
              "      <th>18</th>\n",
              "      <td>Switzerland</td>\n",
              "      <td>17.200000</td>\n",
              "      <td>4.790000</td>\n",
              "    </tr>\n",
              "    <tr>\n",
              "      <th>19</th>\n",
              "      <td>United Kingdom</td>\n",
              "      <td>10.705432</td>\n",
              "      <td>4.880926</td>\n",
              "    </tr>\n",
              "  </tbody>\n",
              "</table>\n",
              "</div>"
            ],
            "text/plain": [
              "            Country   Quantity  UnitPrice\n",
              "0         Australia  33.125000   4.712500\n",
              "1           Austria   8.000000   4.950000\n",
              "2           Belgium   4.000000   4.950000\n",
              "3   Channel Islands  13.333333   4.950000\n",
              "4            Cyprus   2.333333   4.750000\n",
              "5           Denmark  12.000000   4.950000\n",
              "6              EIRE  21.210526   4.739474\n",
              "7           Finland   6.000000   4.950000\n",
              "8            France   5.727273   4.922727\n",
              "9           Germany   6.800000   4.890000\n",
              "10           Israel   1.000000   4.950000\n",
              "11            Japan  56.666667   4.183333\n",
              "12          Lebanon  15.000000   4.650000\n",
              "13      Netherlands  50.000000   4.150000\n",
              "14           Norway   6.000000   4.950000\n",
              "15        Singapore   8.000000   4.950000\n",
              "16     South Africa   4.000000   4.950000\n",
              "17            Spain   4.750000   4.837500\n",
              "18      Switzerland  17.200000   4.790000\n",
              "19   United Kingdom  10.705432   4.880926"
            ]
          },
          "execution_count": 27,
          "metadata": {},
          "output_type": "execute_result"
        }
      ],
      "source": [
        "pb_country_qty_up"
      ]
    },
    {
      "cell_type": "code",
      "execution_count": 30,
      "metadata": {},
      "outputs": [
        {
          "ename": "AttributeError",
          "evalue": "module 'plotly.express' has no attribute 'Figure'",
          "output_type": "error",
          "traceback": [
            "\u001b[0;31m---------------------------------------------------------------------------\u001b[0m",
            "\u001b[0;31mAttributeError\u001b[0m                            Traceback (most recent call last)",
            "\u001b[0;32m/var/folders/zk/q8xgx55x0mbfk7s169n1t4lw0000gn/T/ipykernel_88591/4225461854.py\u001b[0m in \u001b[0;36m<module>\u001b[0;34m\u001b[0m\n\u001b[1;32m      5\u001b[0m \u001b[0;34m\u001b[0m\u001b[0m\n\u001b[1;32m      6\u001b[0m \u001b[0;31m# Plot\u001b[0m\u001b[0;34m\u001b[0m\u001b[0;34m\u001b[0m\u001b[0;34m\u001b[0m\u001b[0m\n\u001b[0;32m----> 7\u001b[0;31m \u001b[0mpy\u001b[0m\u001b[0;34m.\u001b[0m\u001b[0miplot\u001b[0m\u001b[0;34m(\u001b[0m\u001b[0mpx\u001b[0m\u001b[0;34m.\u001b[0m\u001b[0mFigure\u001b[0m\u001b[0;34m(\u001b[0m\u001b[0mdata\u001b[0m\u001b[0;34m=\u001b[0m\u001b[0mtraces\u001b[0m\u001b[0;34m)\u001b[0m\u001b[0;34m)\u001b[0m\u001b[0;34m\u001b[0m\u001b[0;34m\u001b[0m\u001b[0m\n\u001b[0m",
            "\u001b[0;31mAttributeError\u001b[0m: module 'plotly.express' has no attribute 'Figure'"
          ]
        }
      ],
      "source": [
        "# Traces\n",
        "traces = px.scatter(pb_country_qty_up, x='Quantity',y='UnitPrice', color='Country')\n",
        "traces\n",
        "# Layout \n",
        "\n",
        "# Plot\n",
        "py.iplot(px.Figure(data=traces))"
      ]
    },
    {
      "cell_type": "code",
      "execution_count": 31,
      "metadata": {},
      "outputs": [],
      "source": [
        "party_bunting = data[(data['Description'] == 'PARTY BUNTING') ]\n",
        "pb_country_qty_up = party_bunting.groupby('Country').mean()[['Quantity', 'UnitPrice']]"
      ]
    },
    {
      "cell_type": "code",
      "execution_count": 32,
      "metadata": {
        "id": "mukk7sHrNAtE",
        "outputId": "67c00f86-892b-4bf3-e6d1-2fee23f6585d"
      },
      "outputs": [
        {
          "data": {
            "application/vnd.plotly.v1+json": {
              "config": {
                "linkText": "Export to plot.ly",
                "plotlyServerURL": "https://plot.ly",
                "showLink": false
              },
              "data": [
                {
                  "mode": "markers",
                  "name": "Australia",
                  "type": "scatter",
                  "x": [
                    33.125
                  ],
                  "y": [
                    4.7125
                  ]
                },
                {
                  "mode": "markers",
                  "name": "Austria",
                  "type": "scatter",
                  "x": [
                    8
                  ],
                  "y": [
                    4.95
                  ]
                },
                {
                  "mode": "markers",
                  "name": "Belgium",
                  "type": "scatter",
                  "x": [
                    4
                  ],
                  "y": [
                    4.95
                  ]
                },
                {
                  "mode": "markers",
                  "name": "Channel Islands",
                  "type": "scatter",
                  "x": [
                    13.333333333333334
                  ],
                  "y": [
                    4.95
                  ]
                },
                {
                  "mode": "markers",
                  "name": "Cyprus",
                  "type": "scatter",
                  "x": [
                    2.3333333333333335
                  ],
                  "y": [
                    4.75
                  ]
                },
                {
                  "mode": "markers",
                  "name": "Denmark",
                  "type": "scatter",
                  "x": [
                    12
                  ],
                  "y": [
                    4.95
                  ]
                },
                {
                  "mode": "markers",
                  "name": "EIRE",
                  "type": "scatter",
                  "x": [
                    21.210526315789473
                  ],
                  "y": [
                    4.739473684210527
                  ]
                },
                {
                  "mode": "markers",
                  "name": "Finland",
                  "type": "scatter",
                  "x": [
                    6
                  ],
                  "y": [
                    4.95
                  ]
                },
                {
                  "mode": "markers",
                  "name": "France",
                  "type": "scatter",
                  "x": [
                    5.7272727272727275
                  ],
                  "y": [
                    4.922727272727273
                  ]
                },
                {
                  "mode": "markers",
                  "name": "Germany",
                  "type": "scatter",
                  "x": [
                    6.8
                  ],
                  "y": [
                    4.890000000000001
                  ]
                },
                {
                  "mode": "markers",
                  "name": "Israel",
                  "type": "scatter",
                  "x": [
                    1
                  ],
                  "y": [
                    4.95
                  ]
                },
                {
                  "mode": "markers",
                  "name": "Japan",
                  "type": "scatter",
                  "x": [
                    56.666666666666664
                  ],
                  "y": [
                    4.183333333333334
                  ]
                },
                {
                  "mode": "markers",
                  "name": "Lebanon",
                  "type": "scatter",
                  "x": [
                    15
                  ],
                  "y": [
                    4.65
                  ]
                },
                {
                  "mode": "markers",
                  "name": "Netherlands",
                  "type": "scatter",
                  "x": [
                    50
                  ],
                  "y": [
                    4.15
                  ]
                },
                {
                  "mode": "markers",
                  "name": "Norway",
                  "type": "scatter",
                  "x": [
                    6
                  ],
                  "y": [
                    4.95
                  ]
                },
                {
                  "mode": "markers",
                  "name": "Singapore",
                  "type": "scatter",
                  "x": [
                    8
                  ],
                  "y": [
                    4.95
                  ]
                },
                {
                  "mode": "markers",
                  "name": "South Africa",
                  "type": "scatter",
                  "x": [
                    4
                  ],
                  "y": [
                    4.95
                  ]
                },
                {
                  "mode": "markers",
                  "name": "Spain",
                  "type": "scatter",
                  "x": [
                    4.75
                  ],
                  "y": [
                    4.8375
                  ]
                },
                {
                  "mode": "markers",
                  "name": "Switzerland",
                  "type": "scatter",
                  "x": [
                    17.2
                  ],
                  "y": [
                    4.790000000000001
                  ]
                },
                {
                  "mode": "markers",
                  "name": "United Kingdom",
                  "type": "scatter",
                  "x": [
                    10.705432287681713
                  ],
                  "y": [
                    4.880925784238714
                  ]
                }
              ],
              "layout": {
                "height": 600,
                "template": {
                  "data": {
                    "bar": [
                      {
                        "error_x": {
                          "color": "#2a3f5f"
                        },
                        "error_y": {
                          "color": "#2a3f5f"
                        },
                        "marker": {
                          "line": {
                            "color": "#E5ECF6",
                            "width": 0.5
                          },
                          "pattern": {
                            "fillmode": "overlay",
                            "size": 10,
                            "solidity": 0.2
                          }
                        },
                        "type": "bar"
                      }
                    ],
                    "barpolar": [
                      {
                        "marker": {
                          "line": {
                            "color": "#E5ECF6",
                            "width": 0.5
                          },
                          "pattern": {
                            "fillmode": "overlay",
                            "size": 10,
                            "solidity": 0.2
                          }
                        },
                        "type": "barpolar"
                      }
                    ],
                    "carpet": [
                      {
                        "aaxis": {
                          "endlinecolor": "#2a3f5f",
                          "gridcolor": "white",
                          "linecolor": "white",
                          "minorgridcolor": "white",
                          "startlinecolor": "#2a3f5f"
                        },
                        "baxis": {
                          "endlinecolor": "#2a3f5f",
                          "gridcolor": "white",
                          "linecolor": "white",
                          "minorgridcolor": "white",
                          "startlinecolor": "#2a3f5f"
                        },
                        "type": "carpet"
                      }
                    ],
                    "choropleth": [
                      {
                        "colorbar": {
                          "outlinewidth": 0,
                          "ticks": ""
                        },
                        "type": "choropleth"
                      }
                    ],
                    "contour": [
                      {
                        "colorbar": {
                          "outlinewidth": 0,
                          "ticks": ""
                        },
                        "colorscale": [
                          [
                            0,
                            "#0d0887"
                          ],
                          [
                            0.1111111111111111,
                            "#46039f"
                          ],
                          [
                            0.2222222222222222,
                            "#7201a8"
                          ],
                          [
                            0.3333333333333333,
                            "#9c179e"
                          ],
                          [
                            0.4444444444444444,
                            "#bd3786"
                          ],
                          [
                            0.5555555555555556,
                            "#d8576b"
                          ],
                          [
                            0.6666666666666666,
                            "#ed7953"
                          ],
                          [
                            0.7777777777777778,
                            "#fb9f3a"
                          ],
                          [
                            0.8888888888888888,
                            "#fdca26"
                          ],
                          [
                            1,
                            "#f0f921"
                          ]
                        ],
                        "type": "contour"
                      }
                    ],
                    "contourcarpet": [
                      {
                        "colorbar": {
                          "outlinewidth": 0,
                          "ticks": ""
                        },
                        "type": "contourcarpet"
                      }
                    ],
                    "heatmap": [
                      {
                        "colorbar": {
                          "outlinewidth": 0,
                          "ticks": ""
                        },
                        "colorscale": [
                          [
                            0,
                            "#0d0887"
                          ],
                          [
                            0.1111111111111111,
                            "#46039f"
                          ],
                          [
                            0.2222222222222222,
                            "#7201a8"
                          ],
                          [
                            0.3333333333333333,
                            "#9c179e"
                          ],
                          [
                            0.4444444444444444,
                            "#bd3786"
                          ],
                          [
                            0.5555555555555556,
                            "#d8576b"
                          ],
                          [
                            0.6666666666666666,
                            "#ed7953"
                          ],
                          [
                            0.7777777777777778,
                            "#fb9f3a"
                          ],
                          [
                            0.8888888888888888,
                            "#fdca26"
                          ],
                          [
                            1,
                            "#f0f921"
                          ]
                        ],
                        "type": "heatmap"
                      }
                    ],
                    "heatmapgl": [
                      {
                        "colorbar": {
                          "outlinewidth": 0,
                          "ticks": ""
                        },
                        "colorscale": [
                          [
                            0,
                            "#0d0887"
                          ],
                          [
                            0.1111111111111111,
                            "#46039f"
                          ],
                          [
                            0.2222222222222222,
                            "#7201a8"
                          ],
                          [
                            0.3333333333333333,
                            "#9c179e"
                          ],
                          [
                            0.4444444444444444,
                            "#bd3786"
                          ],
                          [
                            0.5555555555555556,
                            "#d8576b"
                          ],
                          [
                            0.6666666666666666,
                            "#ed7953"
                          ],
                          [
                            0.7777777777777778,
                            "#fb9f3a"
                          ],
                          [
                            0.8888888888888888,
                            "#fdca26"
                          ],
                          [
                            1,
                            "#f0f921"
                          ]
                        ],
                        "type": "heatmapgl"
                      }
                    ],
                    "histogram": [
                      {
                        "marker": {
                          "pattern": {
                            "fillmode": "overlay",
                            "size": 10,
                            "solidity": 0.2
                          }
                        },
                        "type": "histogram"
                      }
                    ],
                    "histogram2d": [
                      {
                        "colorbar": {
                          "outlinewidth": 0,
                          "ticks": ""
                        },
                        "colorscale": [
                          [
                            0,
                            "#0d0887"
                          ],
                          [
                            0.1111111111111111,
                            "#46039f"
                          ],
                          [
                            0.2222222222222222,
                            "#7201a8"
                          ],
                          [
                            0.3333333333333333,
                            "#9c179e"
                          ],
                          [
                            0.4444444444444444,
                            "#bd3786"
                          ],
                          [
                            0.5555555555555556,
                            "#d8576b"
                          ],
                          [
                            0.6666666666666666,
                            "#ed7953"
                          ],
                          [
                            0.7777777777777778,
                            "#fb9f3a"
                          ],
                          [
                            0.8888888888888888,
                            "#fdca26"
                          ],
                          [
                            1,
                            "#f0f921"
                          ]
                        ],
                        "type": "histogram2d"
                      }
                    ],
                    "histogram2dcontour": [
                      {
                        "colorbar": {
                          "outlinewidth": 0,
                          "ticks": ""
                        },
                        "colorscale": [
                          [
                            0,
                            "#0d0887"
                          ],
                          [
                            0.1111111111111111,
                            "#46039f"
                          ],
                          [
                            0.2222222222222222,
                            "#7201a8"
                          ],
                          [
                            0.3333333333333333,
                            "#9c179e"
                          ],
                          [
                            0.4444444444444444,
                            "#bd3786"
                          ],
                          [
                            0.5555555555555556,
                            "#d8576b"
                          ],
                          [
                            0.6666666666666666,
                            "#ed7953"
                          ],
                          [
                            0.7777777777777778,
                            "#fb9f3a"
                          ],
                          [
                            0.8888888888888888,
                            "#fdca26"
                          ],
                          [
                            1,
                            "#f0f921"
                          ]
                        ],
                        "type": "histogram2dcontour"
                      }
                    ],
                    "mesh3d": [
                      {
                        "colorbar": {
                          "outlinewidth": 0,
                          "ticks": ""
                        },
                        "type": "mesh3d"
                      }
                    ],
                    "parcoords": [
                      {
                        "line": {
                          "colorbar": {
                            "outlinewidth": 0,
                            "ticks": ""
                          }
                        },
                        "type": "parcoords"
                      }
                    ],
                    "pie": [
                      {
                        "automargin": true,
                        "type": "pie"
                      }
                    ],
                    "scatter": [
                      {
                        "marker": {
                          "colorbar": {
                            "outlinewidth": 0,
                            "ticks": ""
                          }
                        },
                        "type": "scatter"
                      }
                    ],
                    "scatter3d": [
                      {
                        "line": {
                          "colorbar": {
                            "outlinewidth": 0,
                            "ticks": ""
                          }
                        },
                        "marker": {
                          "colorbar": {
                            "outlinewidth": 0,
                            "ticks": ""
                          }
                        },
                        "type": "scatter3d"
                      }
                    ],
                    "scattercarpet": [
                      {
                        "marker": {
                          "colorbar": {
                            "outlinewidth": 0,
                            "ticks": ""
                          }
                        },
                        "type": "scattercarpet"
                      }
                    ],
                    "scattergeo": [
                      {
                        "marker": {
                          "colorbar": {
                            "outlinewidth": 0,
                            "ticks": ""
                          }
                        },
                        "type": "scattergeo"
                      }
                    ],
                    "scattergl": [
                      {
                        "marker": {
                          "colorbar": {
                            "outlinewidth": 0,
                            "ticks": ""
                          }
                        },
                        "type": "scattergl"
                      }
                    ],
                    "scattermapbox": [
                      {
                        "marker": {
                          "colorbar": {
                            "outlinewidth": 0,
                            "ticks": ""
                          }
                        },
                        "type": "scattermapbox"
                      }
                    ],
                    "scatterpolar": [
                      {
                        "marker": {
                          "colorbar": {
                            "outlinewidth": 0,
                            "ticks": ""
                          }
                        },
                        "type": "scatterpolar"
                      }
                    ],
                    "scatterpolargl": [
                      {
                        "marker": {
                          "colorbar": {
                            "outlinewidth": 0,
                            "ticks": ""
                          }
                        },
                        "type": "scatterpolargl"
                      }
                    ],
                    "scatterternary": [
                      {
                        "marker": {
                          "colorbar": {
                            "outlinewidth": 0,
                            "ticks": ""
                          }
                        },
                        "type": "scatterternary"
                      }
                    ],
                    "surface": [
                      {
                        "colorbar": {
                          "outlinewidth": 0,
                          "ticks": ""
                        },
                        "colorscale": [
                          [
                            0,
                            "#0d0887"
                          ],
                          [
                            0.1111111111111111,
                            "#46039f"
                          ],
                          [
                            0.2222222222222222,
                            "#7201a8"
                          ],
                          [
                            0.3333333333333333,
                            "#9c179e"
                          ],
                          [
                            0.4444444444444444,
                            "#bd3786"
                          ],
                          [
                            0.5555555555555556,
                            "#d8576b"
                          ],
                          [
                            0.6666666666666666,
                            "#ed7953"
                          ],
                          [
                            0.7777777777777778,
                            "#fb9f3a"
                          ],
                          [
                            0.8888888888888888,
                            "#fdca26"
                          ],
                          [
                            1,
                            "#f0f921"
                          ]
                        ],
                        "type": "surface"
                      }
                    ],
                    "table": [
                      {
                        "cells": {
                          "fill": {
                            "color": "#EBF0F8"
                          },
                          "line": {
                            "color": "white"
                          }
                        },
                        "header": {
                          "fill": {
                            "color": "#C8D4E3"
                          },
                          "line": {
                            "color": "white"
                          }
                        },
                        "type": "table"
                      }
                    ]
                  },
                  "layout": {
                    "annotationdefaults": {
                      "arrowcolor": "#2a3f5f",
                      "arrowhead": 0,
                      "arrowwidth": 1
                    },
                    "autotypenumbers": "strict",
                    "coloraxis": {
                      "colorbar": {
                        "outlinewidth": 0,
                        "ticks": ""
                      }
                    },
                    "colorscale": {
                      "diverging": [
                        [
                          0,
                          "#8e0152"
                        ],
                        [
                          0.1,
                          "#c51b7d"
                        ],
                        [
                          0.2,
                          "#de77ae"
                        ],
                        [
                          0.3,
                          "#f1b6da"
                        ],
                        [
                          0.4,
                          "#fde0ef"
                        ],
                        [
                          0.5,
                          "#f7f7f7"
                        ],
                        [
                          0.6,
                          "#e6f5d0"
                        ],
                        [
                          0.7,
                          "#b8e186"
                        ],
                        [
                          0.8,
                          "#7fbc41"
                        ],
                        [
                          0.9,
                          "#4d9221"
                        ],
                        [
                          1,
                          "#276419"
                        ]
                      ],
                      "sequential": [
                        [
                          0,
                          "#0d0887"
                        ],
                        [
                          0.1111111111111111,
                          "#46039f"
                        ],
                        [
                          0.2222222222222222,
                          "#7201a8"
                        ],
                        [
                          0.3333333333333333,
                          "#9c179e"
                        ],
                        [
                          0.4444444444444444,
                          "#bd3786"
                        ],
                        [
                          0.5555555555555556,
                          "#d8576b"
                        ],
                        [
                          0.6666666666666666,
                          "#ed7953"
                        ],
                        [
                          0.7777777777777778,
                          "#fb9f3a"
                        ],
                        [
                          0.8888888888888888,
                          "#fdca26"
                        ],
                        [
                          1,
                          "#f0f921"
                        ]
                      ],
                      "sequentialminus": [
                        [
                          0,
                          "#0d0887"
                        ],
                        [
                          0.1111111111111111,
                          "#46039f"
                        ],
                        [
                          0.2222222222222222,
                          "#7201a8"
                        ],
                        [
                          0.3333333333333333,
                          "#9c179e"
                        ],
                        [
                          0.4444444444444444,
                          "#bd3786"
                        ],
                        [
                          0.5555555555555556,
                          "#d8576b"
                        ],
                        [
                          0.6666666666666666,
                          "#ed7953"
                        ],
                        [
                          0.7777777777777778,
                          "#fb9f3a"
                        ],
                        [
                          0.8888888888888888,
                          "#fdca26"
                        ],
                        [
                          1,
                          "#f0f921"
                        ]
                      ]
                    },
                    "colorway": [
                      "#636efa",
                      "#EF553B",
                      "#00cc96",
                      "#ab63fa",
                      "#FFA15A",
                      "#19d3f3",
                      "#FF6692",
                      "#B6E880",
                      "#FF97FF",
                      "#FECB52"
                    ],
                    "font": {
                      "color": "#2a3f5f"
                    },
                    "geo": {
                      "bgcolor": "white",
                      "lakecolor": "white",
                      "landcolor": "#E5ECF6",
                      "showlakes": true,
                      "showland": true,
                      "subunitcolor": "white"
                    },
                    "hoverlabel": {
                      "align": "left"
                    },
                    "hovermode": "closest",
                    "mapbox": {
                      "style": "light"
                    },
                    "paper_bgcolor": "white",
                    "plot_bgcolor": "#E5ECF6",
                    "polar": {
                      "angularaxis": {
                        "gridcolor": "white",
                        "linecolor": "white",
                        "ticks": ""
                      },
                      "bgcolor": "#E5ECF6",
                      "radialaxis": {
                        "gridcolor": "white",
                        "linecolor": "white",
                        "ticks": ""
                      }
                    },
                    "scene": {
                      "xaxis": {
                        "backgroundcolor": "#E5ECF6",
                        "gridcolor": "white",
                        "gridwidth": 2,
                        "linecolor": "white",
                        "showbackground": true,
                        "ticks": "",
                        "zerolinecolor": "white"
                      },
                      "yaxis": {
                        "backgroundcolor": "#E5ECF6",
                        "gridcolor": "white",
                        "gridwidth": 2,
                        "linecolor": "white",
                        "showbackground": true,
                        "ticks": "",
                        "zerolinecolor": "white"
                      },
                      "zaxis": {
                        "backgroundcolor": "#E5ECF6",
                        "gridcolor": "white",
                        "gridwidth": 2,
                        "linecolor": "white",
                        "showbackground": true,
                        "ticks": "",
                        "zerolinecolor": "white"
                      }
                    },
                    "shapedefaults": {
                      "line": {
                        "color": "#2a3f5f"
                      }
                    },
                    "ternary": {
                      "aaxis": {
                        "gridcolor": "white",
                        "linecolor": "white",
                        "ticks": ""
                      },
                      "baxis": {
                        "gridcolor": "white",
                        "linecolor": "white",
                        "ticks": ""
                      },
                      "bgcolor": "#E5ECF6",
                      "caxis": {
                        "gridcolor": "white",
                        "linecolor": "white",
                        "ticks": ""
                      }
                    },
                    "title": {
                      "x": 0.05
                    },
                    "xaxis": {
                      "automargin": true,
                      "gridcolor": "white",
                      "linecolor": "white",
                      "ticks": "",
                      "title": {
                        "standoff": 15
                      },
                      "zerolinecolor": "white",
                      "zerolinewidth": 2
                    },
                    "yaxis": {
                      "automargin": true,
                      "gridcolor": "white",
                      "linecolor": "white",
                      "ticks": "",
                      "title": {
                        "standoff": 15
                      },
                      "zerolinecolor": "white",
                      "zerolinewidth": 2
                    }
                  }
                },
                "title": {
                  "text": "Average Quantity VS Average Unit Price"
                },
                "width": 700,
                "xaxis": {
                  "title": {
                    "text": "Average Quantity"
                  }
                },
                "yaxis": {
                  "title": {
                    "text": "Average Unit Price"
                  }
                }
              }
            },
            "text/html": [
              "<div>                            <div id=\"0802f5c5-3c5b-44cf-82d4-0eb4bbb8e00b\" class=\"plotly-graph-div\" style=\"height:600px; width:700px;\"></div>            <script type=\"text/javascript\">                require([\"plotly\"], function(Plotly) {                    window.PLOTLYENV=window.PLOTLYENV || {};                                    if (document.getElementById(\"0802f5c5-3c5b-44cf-82d4-0eb4bbb8e00b\")) {                    Plotly.newPlot(                        \"0802f5c5-3c5b-44cf-82d4-0eb4bbb8e00b\",                        [{\"mode\":\"markers\",\"name\":\"Australia\",\"x\":[33.125],\"y\":[4.7125],\"type\":\"scatter\"},{\"mode\":\"markers\",\"name\":\"Austria\",\"x\":[8.0],\"y\":[4.95],\"type\":\"scatter\"},{\"mode\":\"markers\",\"name\":\"Belgium\",\"x\":[4.0],\"y\":[4.95],\"type\":\"scatter\"},{\"mode\":\"markers\",\"name\":\"Channel Islands\",\"x\":[13.333333333333334],\"y\":[4.95],\"type\":\"scatter\"},{\"mode\":\"markers\",\"name\":\"Cyprus\",\"x\":[2.3333333333333335],\"y\":[4.75],\"type\":\"scatter\"},{\"mode\":\"markers\",\"name\":\"Denmark\",\"x\":[12.0],\"y\":[4.95],\"type\":\"scatter\"},{\"mode\":\"markers\",\"name\":\"EIRE\",\"x\":[21.210526315789473],\"y\":[4.739473684210527],\"type\":\"scatter\"},{\"mode\":\"markers\",\"name\":\"Finland\",\"x\":[6.0],\"y\":[4.95],\"type\":\"scatter\"},{\"mode\":\"markers\",\"name\":\"France\",\"x\":[5.7272727272727275],\"y\":[4.922727272727273],\"type\":\"scatter\"},{\"mode\":\"markers\",\"name\":\"Germany\",\"x\":[6.8],\"y\":[4.890000000000001],\"type\":\"scatter\"},{\"mode\":\"markers\",\"name\":\"Israel\",\"x\":[1.0],\"y\":[4.95],\"type\":\"scatter\"},{\"mode\":\"markers\",\"name\":\"Japan\",\"x\":[56.666666666666664],\"y\":[4.183333333333334],\"type\":\"scatter\"},{\"mode\":\"markers\",\"name\":\"Lebanon\",\"x\":[15.0],\"y\":[4.65],\"type\":\"scatter\"},{\"mode\":\"markers\",\"name\":\"Netherlands\",\"x\":[50.0],\"y\":[4.15],\"type\":\"scatter\"},{\"mode\":\"markers\",\"name\":\"Norway\",\"x\":[6.0],\"y\":[4.95],\"type\":\"scatter\"},{\"mode\":\"markers\",\"name\":\"Singapore\",\"x\":[8.0],\"y\":[4.95],\"type\":\"scatter\"},{\"mode\":\"markers\",\"name\":\"South Africa\",\"x\":[4.0],\"y\":[4.95],\"type\":\"scatter\"},{\"mode\":\"markers\",\"name\":\"Spain\",\"x\":[4.75],\"y\":[4.8375],\"type\":\"scatter\"},{\"mode\":\"markers\",\"name\":\"Switzerland\",\"x\":[17.2],\"y\":[4.790000000000001],\"type\":\"scatter\"},{\"mode\":\"markers\",\"name\":\"United Kingdom\",\"x\":[10.705432287681713],\"y\":[4.880925784238714],\"type\":\"scatter\"}],                        {\"height\":600,\"template\":{\"data\":{\"barpolar\":[{\"marker\":{\"line\":{\"color\":\"#E5ECF6\",\"width\":0.5},\"pattern\":{\"fillmode\":\"overlay\",\"size\":10,\"solidity\":0.2}},\"type\":\"barpolar\"}],\"bar\":[{\"error_x\":{\"color\":\"#2a3f5f\"},\"error_y\":{\"color\":\"#2a3f5f\"},\"marker\":{\"line\":{\"color\":\"#E5ECF6\",\"width\":0.5},\"pattern\":{\"fillmode\":\"overlay\",\"size\":10,\"solidity\":0.2}},\"type\":\"bar\"}],\"carpet\":[{\"aaxis\":{\"endlinecolor\":\"#2a3f5f\",\"gridcolor\":\"white\",\"linecolor\":\"white\",\"minorgridcolor\":\"white\",\"startlinecolor\":\"#2a3f5f\"},\"baxis\":{\"endlinecolor\":\"#2a3f5f\",\"gridcolor\":\"white\",\"linecolor\":\"white\",\"minorgridcolor\":\"white\",\"startlinecolor\":\"#2a3f5f\"},\"type\":\"carpet\"}],\"choropleth\":[{\"colorbar\":{\"outlinewidth\":0,\"ticks\":\"\"},\"type\":\"choropleth\"}],\"contourcarpet\":[{\"colorbar\":{\"outlinewidth\":0,\"ticks\":\"\"},\"type\":\"contourcarpet\"}],\"contour\":[{\"colorbar\":{\"outlinewidth\":0,\"ticks\":\"\"},\"colorscale\":[[0.0,\"#0d0887\"],[0.1111111111111111,\"#46039f\"],[0.2222222222222222,\"#7201a8\"],[0.3333333333333333,\"#9c179e\"],[0.4444444444444444,\"#bd3786\"],[0.5555555555555556,\"#d8576b\"],[0.6666666666666666,\"#ed7953\"],[0.7777777777777778,\"#fb9f3a\"],[0.8888888888888888,\"#fdca26\"],[1.0,\"#f0f921\"]],\"type\":\"contour\"}],\"heatmapgl\":[{\"colorbar\":{\"outlinewidth\":0,\"ticks\":\"\"},\"colorscale\":[[0.0,\"#0d0887\"],[0.1111111111111111,\"#46039f\"],[0.2222222222222222,\"#7201a8\"],[0.3333333333333333,\"#9c179e\"],[0.4444444444444444,\"#bd3786\"],[0.5555555555555556,\"#d8576b\"],[0.6666666666666666,\"#ed7953\"],[0.7777777777777778,\"#fb9f3a\"],[0.8888888888888888,\"#fdca26\"],[1.0,\"#f0f921\"]],\"type\":\"heatmapgl\"}],\"heatmap\":[{\"colorbar\":{\"outlinewidth\":0,\"ticks\":\"\"},\"colorscale\":[[0.0,\"#0d0887\"],[0.1111111111111111,\"#46039f\"],[0.2222222222222222,\"#7201a8\"],[0.3333333333333333,\"#9c179e\"],[0.4444444444444444,\"#bd3786\"],[0.5555555555555556,\"#d8576b\"],[0.6666666666666666,\"#ed7953\"],[0.7777777777777778,\"#fb9f3a\"],[0.8888888888888888,\"#fdca26\"],[1.0,\"#f0f921\"]],\"type\":\"heatmap\"}],\"histogram2dcontour\":[{\"colorbar\":{\"outlinewidth\":0,\"ticks\":\"\"},\"colorscale\":[[0.0,\"#0d0887\"],[0.1111111111111111,\"#46039f\"],[0.2222222222222222,\"#7201a8\"],[0.3333333333333333,\"#9c179e\"],[0.4444444444444444,\"#bd3786\"],[0.5555555555555556,\"#d8576b\"],[0.6666666666666666,\"#ed7953\"],[0.7777777777777778,\"#fb9f3a\"],[0.8888888888888888,\"#fdca26\"],[1.0,\"#f0f921\"]],\"type\":\"histogram2dcontour\"}],\"histogram2d\":[{\"colorbar\":{\"outlinewidth\":0,\"ticks\":\"\"},\"colorscale\":[[0.0,\"#0d0887\"],[0.1111111111111111,\"#46039f\"],[0.2222222222222222,\"#7201a8\"],[0.3333333333333333,\"#9c179e\"],[0.4444444444444444,\"#bd3786\"],[0.5555555555555556,\"#d8576b\"],[0.6666666666666666,\"#ed7953\"],[0.7777777777777778,\"#fb9f3a\"],[0.8888888888888888,\"#fdca26\"],[1.0,\"#f0f921\"]],\"type\":\"histogram2d\"}],\"histogram\":[{\"marker\":{\"pattern\":{\"fillmode\":\"overlay\",\"size\":10,\"solidity\":0.2}},\"type\":\"histogram\"}],\"mesh3d\":[{\"colorbar\":{\"outlinewidth\":0,\"ticks\":\"\"},\"type\":\"mesh3d\"}],\"parcoords\":[{\"line\":{\"colorbar\":{\"outlinewidth\":0,\"ticks\":\"\"}},\"type\":\"parcoords\"}],\"pie\":[{\"automargin\":true,\"type\":\"pie\"}],\"scatter3d\":[{\"line\":{\"colorbar\":{\"outlinewidth\":0,\"ticks\":\"\"}},\"marker\":{\"colorbar\":{\"outlinewidth\":0,\"ticks\":\"\"}},\"type\":\"scatter3d\"}],\"scattercarpet\":[{\"marker\":{\"colorbar\":{\"outlinewidth\":0,\"ticks\":\"\"}},\"type\":\"scattercarpet\"}],\"scattergeo\":[{\"marker\":{\"colorbar\":{\"outlinewidth\":0,\"ticks\":\"\"}},\"type\":\"scattergeo\"}],\"scattergl\":[{\"marker\":{\"colorbar\":{\"outlinewidth\":0,\"ticks\":\"\"}},\"type\":\"scattergl\"}],\"scattermapbox\":[{\"marker\":{\"colorbar\":{\"outlinewidth\":0,\"ticks\":\"\"}},\"type\":\"scattermapbox\"}],\"scatterpolargl\":[{\"marker\":{\"colorbar\":{\"outlinewidth\":0,\"ticks\":\"\"}},\"type\":\"scatterpolargl\"}],\"scatterpolar\":[{\"marker\":{\"colorbar\":{\"outlinewidth\":0,\"ticks\":\"\"}},\"type\":\"scatterpolar\"}],\"scatter\":[{\"marker\":{\"colorbar\":{\"outlinewidth\":0,\"ticks\":\"\"}},\"type\":\"scatter\"}],\"scatterternary\":[{\"marker\":{\"colorbar\":{\"outlinewidth\":0,\"ticks\":\"\"}},\"type\":\"scatterternary\"}],\"surface\":[{\"colorbar\":{\"outlinewidth\":0,\"ticks\":\"\"},\"colorscale\":[[0.0,\"#0d0887\"],[0.1111111111111111,\"#46039f\"],[0.2222222222222222,\"#7201a8\"],[0.3333333333333333,\"#9c179e\"],[0.4444444444444444,\"#bd3786\"],[0.5555555555555556,\"#d8576b\"],[0.6666666666666666,\"#ed7953\"],[0.7777777777777778,\"#fb9f3a\"],[0.8888888888888888,\"#fdca26\"],[1.0,\"#f0f921\"]],\"type\":\"surface\"}],\"table\":[{\"cells\":{\"fill\":{\"color\":\"#EBF0F8\"},\"line\":{\"color\":\"white\"}},\"header\":{\"fill\":{\"color\":\"#C8D4E3\"},\"line\":{\"color\":\"white\"}},\"type\":\"table\"}]},\"layout\":{\"annotationdefaults\":{\"arrowcolor\":\"#2a3f5f\",\"arrowhead\":0,\"arrowwidth\":1},\"autotypenumbers\":\"strict\",\"coloraxis\":{\"colorbar\":{\"outlinewidth\":0,\"ticks\":\"\"}},\"colorscale\":{\"diverging\":[[0,\"#8e0152\"],[0.1,\"#c51b7d\"],[0.2,\"#de77ae\"],[0.3,\"#f1b6da\"],[0.4,\"#fde0ef\"],[0.5,\"#f7f7f7\"],[0.6,\"#e6f5d0\"],[0.7,\"#b8e186\"],[0.8,\"#7fbc41\"],[0.9,\"#4d9221\"],[1,\"#276419\"]],\"sequential\":[[0.0,\"#0d0887\"],[0.1111111111111111,\"#46039f\"],[0.2222222222222222,\"#7201a8\"],[0.3333333333333333,\"#9c179e\"],[0.4444444444444444,\"#bd3786\"],[0.5555555555555556,\"#d8576b\"],[0.6666666666666666,\"#ed7953\"],[0.7777777777777778,\"#fb9f3a\"],[0.8888888888888888,\"#fdca26\"],[1.0,\"#f0f921\"]],\"sequentialminus\":[[0.0,\"#0d0887\"],[0.1111111111111111,\"#46039f\"],[0.2222222222222222,\"#7201a8\"],[0.3333333333333333,\"#9c179e\"],[0.4444444444444444,\"#bd3786\"],[0.5555555555555556,\"#d8576b\"],[0.6666666666666666,\"#ed7953\"],[0.7777777777777778,\"#fb9f3a\"],[0.8888888888888888,\"#fdca26\"],[1.0,\"#f0f921\"]]},\"colorway\":[\"#636efa\",\"#EF553B\",\"#00cc96\",\"#ab63fa\",\"#FFA15A\",\"#19d3f3\",\"#FF6692\",\"#B6E880\",\"#FF97FF\",\"#FECB52\"],\"font\":{\"color\":\"#2a3f5f\"},\"geo\":{\"bgcolor\":\"white\",\"lakecolor\":\"white\",\"landcolor\":\"#E5ECF6\",\"showlakes\":true,\"showland\":true,\"subunitcolor\":\"white\"},\"hoverlabel\":{\"align\":\"left\"},\"hovermode\":\"closest\",\"mapbox\":{\"style\":\"light\"},\"paper_bgcolor\":\"white\",\"plot_bgcolor\":\"#E5ECF6\",\"polar\":{\"angularaxis\":{\"gridcolor\":\"white\",\"linecolor\":\"white\",\"ticks\":\"\"},\"bgcolor\":\"#E5ECF6\",\"radialaxis\":{\"gridcolor\":\"white\",\"linecolor\":\"white\",\"ticks\":\"\"}},\"scene\":{\"xaxis\":{\"backgroundcolor\":\"#E5ECF6\",\"gridcolor\":\"white\",\"gridwidth\":2,\"linecolor\":\"white\",\"showbackground\":true,\"ticks\":\"\",\"zerolinecolor\":\"white\"},\"yaxis\":{\"backgroundcolor\":\"#E5ECF6\",\"gridcolor\":\"white\",\"gridwidth\":2,\"linecolor\":\"white\",\"showbackground\":true,\"ticks\":\"\",\"zerolinecolor\":\"white\"},\"zaxis\":{\"backgroundcolor\":\"#E5ECF6\",\"gridcolor\":\"white\",\"gridwidth\":2,\"linecolor\":\"white\",\"showbackground\":true,\"ticks\":\"\",\"zerolinecolor\":\"white\"}},\"shapedefaults\":{\"line\":{\"color\":\"#2a3f5f\"}},\"ternary\":{\"aaxis\":{\"gridcolor\":\"white\",\"linecolor\":\"white\",\"ticks\":\"\"},\"baxis\":{\"gridcolor\":\"white\",\"linecolor\":\"white\",\"ticks\":\"\"},\"bgcolor\":\"#E5ECF6\",\"caxis\":{\"gridcolor\":\"white\",\"linecolor\":\"white\",\"ticks\":\"\"}},\"title\":{\"x\":0.05},\"xaxis\":{\"automargin\":true,\"gridcolor\":\"white\",\"linecolor\":\"white\",\"ticks\":\"\",\"title\":{\"standoff\":15},\"zerolinecolor\":\"white\",\"zerolinewidth\":2},\"yaxis\":{\"automargin\":true,\"gridcolor\":\"white\",\"linecolor\":\"white\",\"ticks\":\"\",\"title\":{\"standoff\":15},\"zerolinecolor\":\"white\",\"zerolinewidth\":2}}},\"title\":{\"text\":\"Average Quantity VS Average Unit Price\"},\"width\":700,\"xaxis\":{\"title\":{\"text\":\"Average Quantity\"}},\"yaxis\":{\"title\":{\"text\":\"Average Unit Price\"}}},                        {\"responsive\": true}                    ).then(function(){\n",
              "                            \n",
              "var gd = document.getElementById('0802f5c5-3c5b-44cf-82d4-0eb4bbb8e00b');\n",
              "var x = new MutationObserver(function (mutations, observer) {{\n",
              "        var display = window.getComputedStyle(gd).display;\n",
              "        if (!display || display === 'none') {{\n",
              "            console.log([gd, 'removed!']);\n",
              "            Plotly.purge(gd);\n",
              "            observer.disconnect();\n",
              "        }}\n",
              "}});\n",
              "\n",
              "// Listen for the removal of the full notebook cells\n",
              "var notebookContainer = gd.closest('#notebook-container');\n",
              "if (notebookContainer) {{\n",
              "    x.observe(notebookContainer, {childList: true});\n",
              "}}\n",
              "\n",
              "// Listen for the clearing of the current output cell\n",
              "var outputEl = gd.closest('.output');\n",
              "if (outputEl) {{\n",
              "    x.observe(outputEl, {childList: true});\n",
              "}}\n",
              "\n",
              "                        })                };                });            </script>        </div>"
            ]
          },
          "metadata": {},
          "output_type": "display_data"
        }
      ],
      "source": [
        "traces = [go.Scatter(x=[pb_country_qty_up['Quantity'][country]], \n",
        "                     y=[pb_country_qty_up['UnitPrice'][country]], \n",
        "                     mode='markers',\n",
        "                     name=country)\n",
        "          for country in pb_country_qty_up.index];\n",
        "# Layout \n",
        "layout = go.Layout(width=700, height=600,\n",
        "                   xaxis=go.layout.XAxis(title=go.layout.xaxis.Title(text='Average Quantity')),\n",
        "                   yaxis=go.layout.YAxis(title=go.layout.yaxis.Title(text='Average Unit Price')),\n",
        "                   title=go.layout.Title(text='Average Quantity VS Average Unit Price'));\n",
        "# Plot\n",
        "py.iplot(go.Figure(data=traces, layout=layout));"
      ]
    },
    {
      "cell_type": "markdown",
      "metadata": {
        "id": "pwjBscbdNAtE"
      },
      "source": [
        "#### 4. Create a set of interactive histograms showing the distributions of quantity per invoice for the following countries: EIRE, Germany, France, and Netherlands."
      ]
    },
    {
      "cell_type": "code",
      "execution_count": 33,
      "metadata": {},
      "outputs": [],
      "source": [
        "countries = ['EIRE', 'Germany', 'France', 'Netherlands']\n",
        "qty_invc = data[data['Country'].isin(countries)]\n",
        "qty_invc = qty_invc[['InvoiceNo', 'Quantity', 'Country']].pivot_table(index='InvoiceNo', columns='Country', values='Quantity', aggfunc='sum')"
      ]
    },
    {
      "cell_type": "code",
      "execution_count": 34,
      "metadata": {},
      "outputs": [
        {
          "data": {
            "text/html": [
              "<div>\n",
              "<style scoped>\n",
              "    .dataframe tbody tr th:only-of-type {\n",
              "        vertical-align: middle;\n",
              "    }\n",
              "\n",
              "    .dataframe tbody tr th {\n",
              "        vertical-align: top;\n",
              "    }\n",
              "\n",
              "    .dataframe thead th {\n",
              "        text-align: right;\n",
              "    }\n",
              "</style>\n",
              "<table border=\"1\" class=\"dataframe\">\n",
              "  <thead>\n",
              "    <tr style=\"text-align: right;\">\n",
              "      <th>Country</th>\n",
              "      <th>EIRE</th>\n",
              "      <th>France</th>\n",
              "      <th>Germany</th>\n",
              "      <th>Netherlands</th>\n",
              "    </tr>\n",
              "    <tr>\n",
              "      <th>InvoiceNo</th>\n",
              "      <th></th>\n",
              "      <th></th>\n",
              "      <th></th>\n",
              "      <th></th>\n",
              "    </tr>\n",
              "  </thead>\n",
              "  <tbody>\n",
              "    <tr>\n",
              "      <th>536370</th>\n",
              "      <td>NaN</td>\n",
              "      <td>446.0</td>\n",
              "      <td>NaN</td>\n",
              "      <td>NaN</td>\n",
              "    </tr>\n",
              "    <tr>\n",
              "      <th>536403</th>\n",
              "      <td>NaN</td>\n",
              "      <td>NaN</td>\n",
              "      <td>NaN</td>\n",
              "      <td>96.0</td>\n",
              "    </tr>\n",
              "    <tr>\n",
              "      <th>536527</th>\n",
              "      <td>NaN</td>\n",
              "      <td>NaN</td>\n",
              "      <td>156.0</td>\n",
              "      <td>NaN</td>\n",
              "    </tr>\n",
              "    <tr>\n",
              "      <th>536540</th>\n",
              "      <td>230.0</td>\n",
              "      <td>NaN</td>\n",
              "      <td>NaN</td>\n",
              "      <td>NaN</td>\n",
              "    </tr>\n",
              "    <tr>\n",
              "      <th>536541</th>\n",
              "      <td>12.0</td>\n",
              "      <td>NaN</td>\n",
              "      <td>NaN</td>\n",
              "      <td>NaN</td>\n",
              "    </tr>\n",
              "    <tr>\n",
              "      <th>...</th>\n",
              "      <td>...</td>\n",
              "      <td>...</td>\n",
              "      <td>...</td>\n",
              "      <td>...</td>\n",
              "    </tr>\n",
              "    <tr>\n",
              "      <th>581494</th>\n",
              "      <td>NaN</td>\n",
              "      <td>NaN</td>\n",
              "      <td>186.0</td>\n",
              "      <td>NaN</td>\n",
              "    </tr>\n",
              "    <tr>\n",
              "      <th>581570</th>\n",
              "      <td>NaN</td>\n",
              "      <td>NaN</td>\n",
              "      <td>95.0</td>\n",
              "      <td>NaN</td>\n",
              "    </tr>\n",
              "    <tr>\n",
              "      <th>581574</th>\n",
              "      <td>NaN</td>\n",
              "      <td>NaN</td>\n",
              "      <td>86.0</td>\n",
              "      <td>NaN</td>\n",
              "    </tr>\n",
              "    <tr>\n",
              "      <th>581578</th>\n",
              "      <td>NaN</td>\n",
              "      <td>NaN</td>\n",
              "      <td>505.0</td>\n",
              "      <td>NaN</td>\n",
              "    </tr>\n",
              "    <tr>\n",
              "      <th>581587</th>\n",
              "      <td>NaN</td>\n",
              "      <td>105.0</td>\n",
              "      <td>NaN</td>\n",
              "      <td>NaN</td>\n",
              "    </tr>\n",
              "  </tbody>\n",
              "</table>\n",
              "<p>1171 rows × 4 columns</p>\n",
              "</div>"
            ],
            "text/plain": [
              "Country     EIRE  France  Germany  Netherlands\n",
              "InvoiceNo                                     \n",
              "536370       NaN   446.0      NaN          NaN\n",
              "536403       NaN     NaN      NaN         96.0\n",
              "536527       NaN     NaN    156.0          NaN\n",
              "536540     230.0     NaN      NaN          NaN\n",
              "536541      12.0     NaN      NaN          NaN\n",
              "...          ...     ...      ...          ...\n",
              "581494       NaN     NaN    186.0          NaN\n",
              "581570       NaN     NaN     95.0          NaN\n",
              "581574       NaN     NaN     86.0          NaN\n",
              "581578       NaN     NaN    505.0          NaN\n",
              "581587       NaN   105.0      NaN          NaN\n",
              "\n",
              "[1171 rows x 4 columns]"
            ]
          },
          "execution_count": 34,
          "metadata": {},
          "output_type": "execute_result"
        }
      ],
      "source": [
        "qty_invc"
      ]
    },
    {
      "cell_type": "code",
      "execution_count": 35,
      "metadata": {},
      "outputs": [
        {
          "data": {
            "application/vnd.plotly.v1+json": {
              "config": {
                "linkText": "Export to plot.ly",
                "plotlyServerURL": "https://plot.ly",
                "showLink": false
              },
              "data": [
                {
                  "name": "EIRE",
                  "type": "histogram",
                  "x": [
                    null,
                    null,
                    null,
                    230,
                    12,
                    6,
                    null,
                    null,
                    null,
                    1548,
                    null,
                    null,
                    827,
                    null,
                    null,
                    null,
                    null,
                    null,
                    null,
                    null,
                    134,
                    475,
                    3,
                    null,
                    null,
                    null,
                    null,
                    null,
                    null,
                    null,
                    null,
                    null,
                    null,
                    null,
                    287,
                    null,
                    null,
                    null,
                    379,
                    null,
                    null,
                    null,
                    358,
                    null,
                    null,
                    null,
                    null,
                    null,
                    null,
                    null,
                    null,
                    373,
                    null,
                    null,
                    null,
                    154,
                    null,
                    null,
                    null,
                    null,
                    344,
                    null,
                    null,
                    null,
                    null,
                    null,
                    107,
                    null,
                    null,
                    null,
                    null,
                    null,
                    null,
                    null,
                    null,
                    null,
                    null,
                    null,
                    84,
                    null,
                    null,
                    null,
                    null,
                    null,
                    null,
                    null,
                    null,
                    null,
                    null,
                    null,
                    null,
                    null,
                    null,
                    null,
                    null,
                    null,
                    null,
                    null,
                    6198,
                    null,
                    null,
                    null,
                    null,
                    286,
                    null,
                    null,
                    null,
                    null,
                    null,
                    null,
                    1332,
                    null,
                    null,
                    null,
                    null,
                    null,
                    46,
                    null,
                    null,
                    null,
                    null,
                    null,
                    690,
                    null,
                    154,
                    null,
                    null,
                    null,
                    null,
                    null,
                    null,
                    null,
                    null,
                    null,
                    null,
                    null,
                    null,
                    null,
                    463,
                    null,
                    null,
                    null,
                    null,
                    null,
                    null,
                    null,
                    null,
                    270,
                    null,
                    74,
                    null,
                    null,
                    null,
                    null,
                    null,
                    null,
                    null,
                    null,
                    null,
                    939,
                    null,
                    null,
                    null,
                    470,
                    1932,
                    null,
                    null,
                    86,
                    null,
                    null,
                    null,
                    null,
                    60,
                    null,
                    null,
                    null,
                    null,
                    null,
                    null,
                    null,
                    null,
                    668,
                    null,
                    null,
                    null,
                    null,
                    null,
                    null,
                    null,
                    null,
                    null,
                    null,
                    null,
                    null,
                    null,
                    669,
                    null,
                    null,
                    null,
                    null,
                    null,
                    263,
                    593,
                    null,
                    null,
                    null,
                    null,
                    null,
                    null,
                    null,
                    263,
                    2826,
                    108,
                    218,
                    null,
                    null,
                    null,
                    null,
                    null,
                    206,
                    498,
                    230,
                    511,
                    328,
                    335,
                    null,
                    null,
                    null,
                    null,
                    null,
                    null,
                    416,
                    265,
                    null,
                    null,
                    null,
                    null,
                    null,
                    72,
                    null,
                    null,
                    null,
                    null,
                    null,
                    null,
                    null,
                    null,
                    null,
                    null,
                    null,
                    null,
                    null,
                    113,
                    null,
                    null,
                    533,
                    null,
                    null,
                    null,
                    null,
                    null,
                    744,
                    null,
                    null,
                    null,
                    null,
                    null,
                    null,
                    null,
                    null,
                    null,
                    null,
                    null,
                    44,
                    null,
                    null,
                    null,
                    null,
                    null,
                    713,
                    1162,
                    null,
                    null,
                    null,
                    76,
                    null,
                    null,
                    655,
                    null,
                    271,
                    118,
                    null,
                    null,
                    null,
                    null,
                    477,
                    null,
                    112,
                    null,
                    null,
                    null,
                    null,
                    null,
                    null,
                    null,
                    150,
                    null,
                    null,
                    null,
                    233,
                    null,
                    null,
                    null,
                    null,
                    null,
                    null,
                    null,
                    null,
                    null,
                    162,
                    null,
                    null,
                    null,
                    null,
                    null,
                    null,
                    null,
                    null,
                    null,
                    null,
                    297,
                    235,
                    null,
                    null,
                    null,
                    null,
                    null,
                    null,
                    192,
                    null,
                    1694,
                    null,
                    446,
                    null,
                    null,
                    null,
                    null,
                    null,
                    null,
                    null,
                    null,
                    null,
                    null,
                    null,
                    null,
                    null,
                    null,
                    null,
                    null,
                    null,
                    null,
                    null,
                    null,
                    null,
                    null,
                    null,
                    null,
                    null,
                    null,
                    null,
                    138,
                    526,
                    null,
                    543,
                    null,
                    711,
                    494,
                    null,
                    null,
                    null,
                    null,
                    null,
                    null,
                    636,
                    null,
                    null,
                    null,
                    null,
                    null,
                    null,
                    null,
                    null,
                    112,
                    284,
                    225,
                    null,
                    null,
                    null,
                    null,
                    null,
                    null,
                    null,
                    null,
                    401,
                    null,
                    null,
                    null,
                    null,
                    null,
                    null,
                    null,
                    null,
                    null,
                    null,
                    null,
                    null,
                    null,
                    304,
                    4,
                    4,
                    null,
                    null,
                    null,
                    null,
                    null,
                    null,
                    null,
                    null,
                    null,
                    null,
                    null,
                    null,
                    null,
                    null,
                    null,
                    null,
                    null,
                    null,
                    null,
                    null,
                    null,
                    null,
                    null,
                    null,
                    null,
                    404,
                    null,
                    191,
                    null,
                    null,
                    null,
                    null,
                    2090,
                    492,
                    null,
                    null,
                    244,
                    261,
                    null,
                    null,
                    null,
                    null,
                    null,
                    null,
                    null,
                    null,
                    null,
                    427,
                    null,
                    null,
                    null,
                    null,
                    null,
                    null,
                    null,
                    null,
                    2642,
                    384,
                    268,
                    null,
                    null,
                    null,
                    355,
                    null,
                    null,
                    null,
                    83,
                    null,
                    null,
                    null,
                    null,
                    null,
                    null,
                    48,
                    null,
                    null,
                    null,
                    308,
                    280,
                    null,
                    186,
                    1,
                    null,
                    null,
                    571,
                    48,
                    null,
                    314,
                    79,
                    null,
                    null,
                    null,
                    null,
                    null,
                    2086,
                    17,
                    null,
                    394,
                    null,
                    null,
                    81,
                    18,
                    697,
                    null,
                    null,
                    null,
                    null,
                    null,
                    20,
                    null,
                    null,
                    null,
                    null,
                    null,
                    null,
                    null,
                    null,
                    null,
                    null,
                    null,
                    null,
                    null,
                    null,
                    null,
                    null,
                    null,
                    null,
                    null,
                    null,
                    null,
                    null,
                    688,
                    null,
                    177,
                    null,
                    null,
                    null,
                    null,
                    1202,
                    null,
                    null,
                    5726,
                    496,
                    762,
                    null,
                    256,
                    null,
                    null,
                    null,
                    null,
                    null,
                    null,
                    null,
                    null,
                    null,
                    269,
                    null,
                    228,
                    146,
                    null,
                    null,
                    null,
                    null,
                    null,
                    251,
                    null,
                    null,
                    602,
                    55,
                    null,
                    362,
                    2270,
                    null,
                    286,
                    1410,
                    5246,
                    null,
                    null,
                    null,
                    null,
                    null,
                    null,
                    null,
                    null,
                    null,
                    2270,
                    null,
                    null,
                    null,
                    null,
                    null,
                    744,
                    null,
                    null,
                    603,
                    null,
                    null,
                    null,
                    null,
                    391,
                    314,
                    872,
                    null,
                    554,
                    null,
                    491,
                    null,
                    null,
                    null,
                    null,
                    579,
                    null,
                    null,
                    null,
                    null,
                    579,
                    12,
                    null,
                    38,
                    null,
                    null,
                    null,
                    null,
                    644,
                    null,
                    147,
                    null,
                    null,
                    null,
                    null,
                    null,
                    null,
                    null,
                    null,
                    null,
                    null,
                    null,
                    null,
                    null,
                    null,
                    null,
                    null,
                    null,
                    null,
                    null,
                    null,
                    null,
                    null,
                    null,
                    null,
                    572,
                    null,
                    null,
                    null,
                    276,
                    null,
                    null,
                    null,
                    null,
                    null,
                    null,
                    null,
                    null,
                    1776,
                    408,
                    null,
                    null,
                    163,
                    null,
                    null,
                    1272,
                    null,
                    null,
                    null,
                    null,
                    null,
                    null,
                    5034,
                    456,
                    null,
                    null,
                    1145,
                    140,
                    null,
                    null,
                    null,
                    null,
                    417,
                    null,
                    331,
                    null,
                    942,
                    null,
                    185,
                    null,
                    null,
                    null,
                    null,
                    null,
                    null,
                    null,
                    null,
                    null,
                    null,
                    null,
                    null,
                    null,
                    null,
                    null,
                    null,
                    null,
                    null,
                    734,
                    null,
                    null,
                    225,
                    null,
                    84,
                    null,
                    null,
                    null,
                    null,
                    null,
                    null,
                    null,
                    null,
                    null,
                    null,
                    null,
                    null,
                    null,
                    null,
                    166,
                    null,
                    615,
                    null,
                    342,
                    null,
                    null,
                    null,
                    93,
                    null,
                    null,
                    null,
                    null,
                    132,
                    null,
                    null,
                    null,
                    670,
                    5,
                    null,
                    null,
                    null,
                    null,
                    null,
                    null,
                    null,
                    null,
                    717,
                    null,
                    1242,
                    null,
                    null,
                    null,
                    223,
                    256,
                    null,
                    202,
                    null,
                    null,
                    null,
                    549,
                    70,
                    null,
                    333,
                    58,
                    16,
                    null,
                    null,
                    null,
                    null,
                    null,
                    null,
                    2720,
                    null,
                    385,
                    null,
                    null,
                    null,
                    18,
                    null,
                    null,
                    null,
                    null,
                    null,
                    null,
                    null,
                    null,
                    null,
                    null,
                    null,
                    null,
                    null,
                    null,
                    null,
                    228,
                    null,
                    null,
                    null,
                    null,
                    null,
                    null,
                    null,
                    null,
                    null,
                    448,
                    null,
                    null,
                    null,
                    null,
                    null,
                    null,
                    360,
                    null,
                    646,
                    null,
                    null,
                    12,
                    null,
                    null,
                    85,
                    416,
                    null,
                    1704,
                    46,
                    75,
                    510,
                    2,
                    null,
                    null,
                    null,
                    null,
                    null,
                    null,
                    null,
                    406,
                    null,
                    null,
                    null,
                    null,
                    null,
                    352,
                    null,
                    null,
                    null,
                    null,
                    null,
                    null,
                    668,
                    456,
                    null,
                    66,
                    599,
                    223,
                    572,
                    36,
                    null,
                    283,
                    342,
                    null,
                    null,
                    null,
                    null,
                    null,
                    null,
                    711,
                    null,
                    null,
                    null,
                    null,
                    4462,
                    null,
                    null,
                    null,
                    null,
                    null,
                    null,
                    490,
                    null,
                    null,
                    414,
                    487,
                    null,
                    null,
                    null,
                    null,
                    220,
                    null,
                    null,
                    null,
                    null,
                    null,
                    null,
                    null,
                    null,
                    null,
                    null,
                    null,
                    null,
                    null,
                    null,
                    null,
                    null,
                    null,
                    null,
                    184,
                    null,
                    null,
                    null,
                    null,
                    null,
                    null,
                    391,
                    null,
                    624,
                    null,
                    null,
                    null,
                    270,
                    null,
                    null,
                    null,
                    null,
                    null,
                    null,
                    null,
                    null,
                    null,
                    null,
                    null,
                    null,
                    null,
                    null,
                    null,
                    324,
                    29,
                    null,
                    334,
                    null,
                    78,
                    null,
                    null,
                    null,
                    null,
                    null,
                    580,
                    null,
                    null,
                    null,
                    null,
                    null,
                    null,
                    null,
                    null,
                    null,
                    null,
                    null,
                    null,
                    496,
                    null,
                    null,
                    152,
                    null,
                    null,
                    840,
                    null,
                    null,
                    258,
                    null,
                    null,
                    null,
                    null,
                    null,
                    1200,
                    945,
                    null,
                    null,
                    205,
                    null,
                    null,
                    null,
                    null,
                    533,
                    null,
                    null,
                    null,
                    198,
                    52,
                    226,
                    194,
                    null,
                    null,
                    null,
                    2900,
                    null,
                    null,
                    null,
                    null,
                    null,
                    null,
                    null,
                    null,
                    null,
                    147,
                    null,
                    null,
                    null,
                    null,
                    248,
                    null,
                    null,
                    null,
                    null,
                    null,
                    null,
                    383,
                    null,
                    null,
                    null,
                    null,
                    null,
                    null,
                    null,
                    null,
                    null,
                    296,
                    null,
                    null,
                    440,
                    null,
                    null,
                    12,
                    614,
                    null,
                    null,
                    null,
                    870,
                    null,
                    null,
                    null,
                    null,
                    null,
                    238,
                    null,
                    375,
                    59,
                    null,
                    null,
                    null,
                    null,
                    null,
                    null,
                    null,
                    null,
                    142,
                    null,
                    null,
                    null,
                    null,
                    null,
                    null,
                    null,
                    null,
                    null,
                    null,
                    null,
                    null,
                    91,
                    null,
                    225,
                    605,
                    null,
                    340,
                    null,
                    null,
                    null,
                    null,
                    null,
                    null,
                    null,
                    null,
                    null,
                    null,
                    null,
                    null,
                    99,
                    354,
                    null,
                    null,
                    null,
                    132,
                    null,
                    null,
                    null,
                    null,
                    131,
                    null,
                    null,
                    null,
                    256,
                    null,
                    null,
                    null,
                    null,
                    null,
                    null,
                    null,
                    534,
                    null,
                    null,
                    null,
                    null,
                    184,
                    34,
                    null,
                    null,
                    null,
                    null,
                    null,
                    null,
                    null,
                    null,
                    817,
                    609,
                    572,
                    null,
                    null,
                    null,
                    null,
                    null,
                    null,
                    null,
                    null,
                    null,
                    806,
                    null,
                    null,
                    null,
                    null,
                    null
                  ],
                  "xaxis": "x",
                  "yaxis": "y"
                },
                {
                  "name": "France",
                  "type": "histogram",
                  "x": [
                    446,
                    null,
                    null,
                    null,
                    null,
                    null,
                    null,
                    106,
                    null,
                    null,
                    null,
                    130,
                    null,
                    null,
                    602,
                    null,
                    null,
                    null,
                    null,
                    null,
                    null,
                    null,
                    null,
                    581,
                    164,
                    null,
                    null,
                    120,
                    null,
                    null,
                    106,
                    8,
                    null,
                    552,
                    null,
                    339,
                    null,
                    410,
                    null,
                    null,
                    134,
                    3,
                    null,
                    null,
                    null,
                    null,
                    null,
                    null,
                    null,
                    332,
                    null,
                    null,
                    64,
                    null,
                    null,
                    null,
                    null,
                    128,
                    599,
                    null,
                    null,
                    24,
                    null,
                    88,
                    null,
                    null,
                    null,
                    359,
                    369,
                    261,
                    177,
                    null,
                    null,
                    488,
                    null,
                    103,
                    null,
                    78,
                    null,
                    null,
                    null,
                    628,
                    168,
                    null,
                    576,
                    120,
                    114,
                    43,
                    null,
                    131,
                    498,
                    null,
                    543,
                    78,
                    null,
                    null,
                    440,
                    null,
                    null,
                    null,
                    null,
                    null,
                    263,
                    null,
                    null,
                    null,
                    383,
                    null,
                    null,
                    702,
                    null,
                    null,
                    120,
                    null,
                    null,
                    null,
                    null,
                    84,
                    null,
                    null,
                    null,
                    null,
                    null,
                    null,
                    null,
                    null,
                    null,
                    null,
                    59,
                    406,
                    102,
                    null,
                    null,
                    1617,
                    null,
                    null,
                    null,
                    202,
                    null,
                    null,
                    null,
                    197,
                    159,
                    null,
                    206,
                    null,
                    null,
                    null,
                    null,
                    null,
                    611,
                    null,
                    214,
                    298,
                    null,
                    null,
                    null,
                    452,
                    null,
                    null,
                    null,
                    null,
                    96,
                    null,
                    null,
                    772,
                    114,
                    null,
                    null,
                    null,
                    null,
                    748,
                    null,
                    15,
                    256,
                    null,
                    null,
                    null,
                    null,
                    77,
                    null,
                    null,
                    null,
                    264,
                    96,
                    null,
                    null,
                    70,
                    213,
                    310,
                    72,
                    54,
                    245,
                    null,
                    329,
                    null,
                    314,
                    24,
                    null,
                    null,
                    123,
                    null,
                    null,
                    null,
                    null,
                    null,
                    null,
                    null,
                    null,
                    null,
                    null,
                    null,
                    null,
                    null,
                    null,
                    323,
                    183,
                    null,
                    184,
                    null,
                    null,
                    null,
                    null,
                    null,
                    null,
                    314,
                    null,
                    97,
                    62,
                    null,
                    null,
                    null,
                    null,
                    null,
                    null,
                    null,
                    null,
                    null,
                    null,
                    null,
                    null,
                    422,
                    85,
                    5,
                    198,
                    null,
                    null,
                    null,
                    136,
                    713,
                    242,
                    130,
                    null,
                    null,
                    261,
                    null,
                    null,
                    null,
                    null,
                    null,
                    59,
                    null,
                    842,
                    null,
                    null,
                    null,
                    null,
                    null,
                    null,
                    null,
                    946,
                    132,
                    null,
                    null,
                    null,
                    2271,
                    88,
                    240,
                    null,
                    null,
                    null,
                    293,
                    null,
                    null,
                    null,
                    null,
                    null,
                    null,
                    null,
                    null,
                    null,
                    236,
                    null,
                    null,
                    null,
                    null,
                    null,
                    null,
                    null,
                    null,
                    null,
                    284,
                    null,
                    null,
                    null,
                    null,
                    375,
                    25,
                    null,
                    null,
                    null,
                    null,
                    196,
                    null,
                    23,
                    275,
                    null,
                    null,
                    84,
                    null,
                    null,
                    null,
                    146,
                    null,
                    null,
                    368,
                    350,
                    6,
                    120,
                    192,
                    null,
                    null,
                    null,
                    null,
                    null,
                    null,
                    null,
                    98,
                    null,
                    null,
                    null,
                    null,
                    null,
                    773,
                    162,
                    null,
                    332,
                    458,
                    null,
                    null,
                    859,
                    null,
                    null,
                    null,
                    734,
                    null,
                    null,
                    null,
                    null,
                    null,
                    null,
                    null,
                    105,
                    null,
                    null,
                    null,
                    202,
                    33,
                    267,
                    140,
                    null,
                    null,
                    220,
                    null,
                    58,
                    null,
                    null,
                    476,
                    null,
                    103,
                    152,
                    72,
                    null,
                    null,
                    null,
                    null,
                    null,
                    434,
                    null,
                    126,
                    null,
                    null,
                    null,
                    null,
                    null,
                    464,
                    null,
                    229,
                    null,
                    null,
                    62,
                    304,
                    null,
                    null,
                    null,
                    null,
                    null,
                    208,
                    null,
                    180,
                    null,
                    180,
                    374,
                    null,
                    null,
                    null,
                    null,
                    null,
                    null,
                    null,
                    null,
                    86,
                    null,
                    424,
                    null,
                    155,
                    null,
                    null,
                    null,
                    200,
                    null,
                    null,
                    null,
                    null,
                    null,
                    null,
                    null,
                    null,
                    null,
                    1184,
                    347,
                    null,
                    358,
                    null,
                    115,
                    null,
                    null,
                    null,
                    216,
                    216,
                    464,
                    444,
                    null,
                    null,
                    null,
                    null,
                    null,
                    null,
                    null,
                    320,
                    460,
                    160,
                    null,
                    714,
                    null,
                    549,
                    null,
                    null,
                    null,
                    110,
                    232,
                    null,
                    356,
                    170,
                    139,
                    206,
                    null,
                    null,
                    null,
                    null,
                    null,
                    267,
                    null,
                    514,
                    null,
                    62,
                    null,
                    null,
                    null,
                    50,
                    208,
                    null,
                    null,
                    null,
                    350,
                    270,
                    384,
                    null,
                    null,
                    null,
                    null,
                    null,
                    null,
                    410,
                    null,
                    null,
                    null,
                    null,
                    null,
                    118,
                    null,
                    null,
                    null,
                    108,
                    null,
                    null,
                    null,
                    null,
                    null,
                    null,
                    null,
                    null,
                    null,
                    284,
                    78,
                    null,
                    256,
                    null,
                    null,
                    321,
                    592,
                    null,
                    null,
                    null,
                    null,
                    322,
                    null,
                    135,
                    198,
                    236,
                    48,
                    76,
                    262,
                    null,
                    156,
                    null,
                    null,
                    116,
                    666,
                    null,
                    null,
                    null,
                    null,
                    null,
                    null,
                    null,
                    null,
                    46,
                    null,
                    82,
                    838,
                    null,
                    null,
                    null,
                    32,
                    null,
                    null,
                    null,
                    null,
                    null,
                    null,
                    null,
                    null,
                    null,
                    null,
                    null,
                    null,
                    null,
                    null,
                    null,
                    234,
                    null,
                    null,
                    null,
                    null,
                    null,
                    147,
                    null,
                    null,
                    null,
                    null,
                    null,
                    500,
                    null,
                    null,
                    null,
                    null,
                    null,
                    null,
                    52,
                    null,
                    null,
                    690,
                    279,
                    null,
                    null,
                    null,
                    320,
                    162,
                    null,
                    null,
                    null,
                    null,
                    null,
                    null,
                    null,
                    null,
                    null,
                    197,
                    null,
                    null,
                    null,
                    null,
                    null,
                    null,
                    null,
                    178,
                    3,
                    603,
                    null,
                    null,
                    null,
                    400,
                    null,
                    null,
                    null,
                    null,
                    231,
                    null,
                    228,
                    459,
                    null,
                    null,
                    null,
                    33,
                    null,
                    null,
                    234,
                    null,
                    null,
                    null,
                    null,
                    54,
                    null,
                    402,
                    null,
                    105,
                    null,
                    139,
                    null,
                    null,
                    null,
                    null,
                    null,
                    null,
                    784,
                    170,
                    null,
                    204,
                    145,
                    null,
                    null,
                    null,
                    null,
                    null,
                    null,
                    688,
                    null,
                    null,
                    820,
                    120,
                    198,
                    null,
                    null,
                    null,
                    270,
                    null,
                    null,
                    98,
                    54,
                    null,
                    null,
                    null,
                    null,
                    null,
                    null,
                    506,
                    null,
                    null,
                    142,
                    184,
                    null,
                    null,
                    null,
                    null,
                    null,
                    null,
                    null,
                    265,
                    null,
                    646,
                    null,
                    719,
                    null,
                    644,
                    209,
                    null,
                    null,
                    null,
                    null,
                    null,
                    104,
                    292,
                    719,
                    null,
                    null,
                    42,
                    null,
                    null,
                    72,
                    null,
                    null,
                    null,
                    436,
                    null,
                    null,
                    1060,
                    null,
                    164,
                    6,
                    null,
                    null,
                    null,
                    228,
                    null,
                    null,
                    null,
                    241,
                    177,
                    null,
                    189,
                    null,
                    null,
                    null,
                    null,
                    306,
                    null,
                    null,
                    274,
                    null,
                    null,
                    416,
                    64,
                    63,
                    null,
                    null,
                    484,
                    255,
                    null,
                    null,
                    null,
                    null,
                    172,
                    null,
                    282,
                    null,
                    null,
                    null,
                    475,
                    null,
                    null,
                    null,
                    null,
                    169,
                    111,
                    null,
                    null,
                    null,
                    null,
                    null,
                    64,
                    265,
                    null,
                    null,
                    null,
                    null,
                    null,
                    null,
                    335,
                    162,
                    null,
                    201,
                    286,
                    null,
                    null,
                    null,
                    null,
                    710,
                    173,
                    183,
                    null,
                    156,
                    80,
                    34,
                    null,
                    null,
                    885,
                    null,
                    null,
                    160,
                    188,
                    2,
                    null,
                    null,
                    null,
                    null,
                    null,
                    null,
                    null,
                    null,
                    null,
                    null,
                    null,
                    29,
                    null,
                    null,
                    null,
                    184,
                    342,
                    null,
                    null,
                    null,
                    null,
                    null,
                    60,
                    null,
                    158,
                    null,
                    null,
                    null,
                    null,
                    null,
                    null,
                    2801,
                    null,
                    null,
                    null,
                    null,
                    null,
                    null,
                    162,
                    null,
                    null,
                    null,
                    72,
                    98,
                    null,
                    218,
                    100,
                    122,
                    null,
                    null,
                    null,
                    null,
                    null,
                    232,
                    null,
                    null,
                    null,
                    null,
                    null,
                    null,
                    null,
                    null,
                    null,
                    null,
                    null,
                    null,
                    null,
                    null,
                    null,
                    null,
                    null,
                    null,
                    null,
                    null,
                    null,
                    null,
                    566,
                    null,
                    165,
                    null,
                    null,
                    null,
                    null,
                    null,
                    null,
                    null,
                    null,
                    524,
                    null,
                    null,
                    null,
                    null,
                    null,
                    null,
                    null,
                    null,
                    null,
                    null,
                    null,
                    null,
                    136,
                    297,
                    48,
                    null,
                    null,
                    null,
                    76,
                    null,
                    null,
                    5202,
                    36,
                    null,
                    null,
                    5,
                    null,
                    208,
                    null,
                    null,
                    326,
                    null,
                    90,
                    null,
                    null,
                    null,
                    344,
                    258,
                    421,
                    null,
                    null,
                    null,
                    null,
                    288,
                    null,
                    567,
                    null,
                    373,
                    92,
                    null,
                    304,
                    33,
                    null,
                    null,
                    null,
                    null,
                    null,
                    null,
                    null,
                    null,
                    null,
                    406,
                    459,
                    341,
                    151,
                    null,
                    null,
                    null,
                    null,
                    null,
                    183,
                    104,
                    100,
                    206,
                    213,
                    330,
                    203,
                    null,
                    null,
                    null,
                    null,
                    null,
                    null,
                    220,
                    null,
                    null,
                    null,
                    336,
                    null,
                    760,
                    200,
                    null,
                    null,
                    96,
                    null,
                    null,
                    69,
                    343,
                    null,
                    320,
                    222,
                    null,
                    null,
                    null,
                    36,
                    null,
                    439,
                    null,
                    null,
                    null,
                    null,
                    null,
                    null,
                    null,
                    null,
                    null,
                    null,
                    24,
                    662,
                    null,
                    null,
                    null,
                    null,
                    null,
                    null,
                    null,
                    null,
                    null,
                    108,
                    null,
                    null,
                    null,
                    766,
                    210,
                    null,
                    null,
                    null,
                    510,
                    null,
                    298,
                    null,
                    154,
                    null,
                    null,
                    null,
                    92,
                    null,
                    null,
                    null,
                    null,
                    221,
                    77,
                    null,
                    null,
                    null,
                    268,
                    null,
                    null,
                    182,
                    null,
                    171,
                    null,
                    null,
                    null,
                    null,
                    null,
                    null,
                    null,
                    null,
                    null,
                    null,
                    212,
                    7,
                    null,
                    null,
                    null,
                    null,
                    132,
                    null,
                    null,
                    null,
                    825,
                    null,
                    null,
                    null,
                    439,
                    null,
                    310,
                    null,
                    68,
                    null,
                    null,
                    null,
                    null,
                    null,
                    126,
                    386,
                    386,
                    null,
                    338,
                    null,
                    null,
                    null,
                    300,
                    null,
                    267,
                    null,
                    null,
                    147,
                    236,
                    null,
                    null,
                    null,
                    806,
                    97,
                    null,
                    null,
                    null,
                    168,
                    320,
                    null,
                    84,
                    null,
                    694,
                    14,
                    210,
                    null,
                    null,
                    null,
                    null,
                    74,
                    252,
                    null,
                    null,
                    null,
                    null,
                    467,
                    203,
                    300,
                    24,
                    250,
                    null,
                    309,
                    null,
                    null,
                    null,
                    247,
                    null,
                    null,
                    null,
                    null,
                    null,
                    null,
                    18,
                    null,
                    null,
                    null,
                    null,
                    null,
                    null,
                    105
                  ],
                  "xaxis": "x2",
                  "yaxis": "y2"
                },
                {
                  "name": "Germany",
                  "type": "histogram",
                  "x": [
                    null,
                    null,
                    156,
                    null,
                    null,
                    null,
                    147,
                    null,
                    76,
                    null,
                    30,
                    null,
                    null,
                    59,
                    null,
                    76,
                    10,
                    966,
                    295,
                    88,
                    null,
                    null,
                    null,
                    null,
                    null,
                    150,
                    132,
                    null,
                    84,
                    225,
                    null,
                    null,
                    82,
                    null,
                    null,
                    null,
                    1075,
                    null,
                    null,
                    2,
                    null,
                    null,
                    null,
                    42,
                    433,
                    6,
                    133,
                    81,
                    322,
                    null,
                    221,
                    null,
                    null,
                    388,
                    333,
                    null,
                    null,
                    null,
                    null,
                    228,
                    null,
                    null,
                    null,
                    null,
                    62,
                    866,
                    null,
                    null,
                    null,
                    null,
                    null,
                    92,
                    410,
                    null,
                    1775,
                    null,
                    363,
                    null,
                    null,
                    242,
                    389,
                    null,
                    null,
                    86,
                    null,
                    null,
                    null,
                    null,
                    95,
                    null,
                    null,
                    95,
                    null,
                    null,
                    164,
                    10,
                    null,
                    null,
                    null,
                    70,
                    404,
                    171,
                    null,
                    null,
                    112,
                    36,
                    null,
                    null,
                    null,
                    null,
                    null,
                    null,
                    null,
                    245,
                    45,
                    902,
                    null,
                    null,
                    603,
                    314,
                    221,
                    482,
                    null,
                    206,
                    null,
                    234,
                    125,
                    46,
                    null,
                    null,
                    null,
                    278,
                    180,
                    null,
                    126,
                    468,
                    null,
                    null,
                    null,
                    59,
                    null,
                    null,
                    null,
                    36,
                    null,
                    102,
                    174,
                    null,
                    182,
                    null,
                    null,
                    null,
                    null,
                    null,
                    159,
                    50,
                    177,
                    null,
                    639,
                    null,
                    46,
                    409,
                    null,
                    null,
                    null,
                    null,
                    null,
                    null,
                    302,
                    76,
                    108,
                    null,
                    null,
                    null,
                    null,
                    null,
                    null,
                    266,
                    515,
                    null,
                    null,
                    null,
                    198,
                    null,
                    null,
                    583,
                    122,
                    null,
                    null,
                    null,
                    null,
                    null,
                    null,
                    384,
                    null,
                    null,
                    null,
                    null,
                    341,
                    192,
                    null,
                    null,
                    null,
                    90,
                    190,
                    76,
                    75,
                    168,
                    189,
                    null,
                    null,
                    null,
                    null,
                    null,
                    613,
                    null,
                    null,
                    null,
                    null,
                    null,
                    null,
                    null,
                    null,
                    null,
                    null,
                    null,
                    48,
                    null,
                    null,
                    366,
                    388,
                    null,
                    null,
                    168,
                    288,
                    12,
                    222,
                    546,
                    null,
                    87,
                    24,
                    null,
                    null,
                    null,
                    null,
                    null,
                    484,
                    482,
                    null,
                    null,
                    null,
                    null,
                    null,
                    126,
                    null,
                    null,
                    null,
                    480,
                    506,
                    null,
                    null,
                    null,
                    null,
                    421,
                    268,
                    156,
                    null,
                    null,
                    null,
                    172,
                    null,
                    null,
                    48,
                    null,
                    44,
                    null,
                    null,
                    null,
                    108,
                    null,
                    null,
                    null,
                    347,
                    40,
                    null,
                    null,
                    null,
                    null,
                    236,
                    null,
                    null,
                    null,
                    757,
                    84,
                    218,
                    null,
                    244,
                    null,
                    40,
                    98,
                    728,
                    null,
                    78,
                    226,
                    27,
                    null,
                    null,
                    null,
                    617,
                    null,
                    401,
                    466,
                    null,
                    230,
                    null,
                    null,
                    145,
                    68,
                    null,
                    null,
                    460,
                    null,
                    null,
                    84,
                    639,
                    null,
                    null,
                    null,
                    null,
                    null,
                    null,
                    null,
                    110,
                    10,
                    142,
                    238,
                    48,
                    null,
                    null,
                    16,
                    null,
                    224,
                    null,
                    null,
                    null,
                    377,
                    null,
                    null,
                    164,
                    145,
                    null,
                    202,
                    null,
                    null,
                    null,
                    83,
                    643,
                    104,
                    695,
                    null,
                    null,
                    null,
                    null,
                    4282,
                    288,
                    32,
                    null,
                    null,
                    null,
                    null,
                    null,
                    null,
                    null,
                    null,
                    null,
                    null,
                    null,
                    null,
                    526,
                    null,
                    null,
                    null,
                    null,
                    null,
                    425,
                    90,
                    196,
                    null,
                    468,
                    null,
                    46,
                    34,
                    null,
                    null,
                    null,
                    null,
                    null,
                    null,
                    578,
                    382,
                    null,
                    null,
                    161,
                    null,
                    12,
                    30,
                    242,
                    null,
                    119,
                    null,
                    null,
                    null,
                    null,
                    191,
                    79,
                    39,
                    34,
                    null,
                    null,
                    null,
                    184,
                    null,
                    null,
                    null,
                    337,
                    null,
                    254,
                    null,
                    32,
                    null,
                    null,
                    null,
                    553,
                    null,
                    653,
                    420,
                    null,
                    22,
                    237,
                    null,
                    null,
                    288,
                    null,
                    null,
                    null,
                    null,
                    290,
                    null,
                    null,
                    null,
                    null,
                    null,
                    null,
                    null,
                    78,
                    36,
                    null,
                    null,
                    null,
                    null,
                    null,
                    null,
                    88,
                    null,
                    342,
                    null,
                    99,
                    null,
                    412,
                    null,
                    null,
                    784,
                    null,
                    null,
                    null,
                    null,
                    null,
                    null,
                    null,
                    457,
                    12,
                    null,
                    null,
                    null,
                    null,
                    null,
                    null,
                    null,
                    1346,
                    null,
                    null,
                    null,
                    270,
                    null,
                    null,
                    null,
                    null,
                    null,
                    null,
                    143,
                    null,
                    null,
                    71,
                    null,
                    null,
                    null,
                    15,
                    null,
                    null,
                    null,
                    null,
                    null,
                    null,
                    null,
                    null,
                    null,
                    166,
                    null,
                    46,
                    578,
                    null,
                    null,
                    null,
                    null,
                    null,
                    60,
                    null,
                    863,
                    null,
                    null,
                    null,
                    292,
                    148,
                    142,
                    396,
                    null,
                    159,
                    null,
                    null,
                    null,
                    null,
                    null,
                    null,
                    124,
                    null,
                    252,
                    192,
                    null,
                    null,
                    91,
                    776,
                    null,
                    300,
                    null,
                    115,
                    294,
                    105,
                    null,
                    null,
                    null,
                    null,
                    null,
                    null,
                    null,
                    null,
                    null,
                    25,
                    56,
                    192,
                    331,
                    812,
                    306,
                    null,
                    152,
                    516,
                    null,
                    297,
                    null,
                    null,
                    422,
                    null,
                    469,
                    408,
                    332,
                    null,
                    222,
                    null,
                    null,
                    null,
                    174,
                    null,
                    null,
                    null,
                    null,
                    null,
                    null,
                    645,
                    262,
                    136,
                    null,
                    325,
                    187,
                    null,
                    null,
                    552,
                    null,
                    32,
                    null,
                    null,
                    132,
                    416,
                    null,
                    60,
                    271,
                    null,
                    34,
                    null,
                    null,
                    null,
                    null,
                    null,
                    null,
                    null,
                    null,
                    null,
                    null,
                    null,
                    null,
                    null,
                    460,
                    null,
                    20,
                    null,
                    316,
                    48,
                    null,
                    null,
                    null,
                    null,
                    null,
                    null,
                    99,
                    214,
                    null,
                    null,
                    null,
                    185,
                    null,
                    384,
                    348,
                    322,
                    359,
                    null,
                    null,
                    null,
                    275,
                    null,
                    70,
                    null,
                    176,
                    29,
                    375,
                    6,
                    392,
                    109,
                    null,
                    null,
                    288,
                    null,
                    null,
                    null,
                    190,
                    null,
                    null,
                    null,
                    68,
                    null,
                    131,
                    1151,
                    null,
                    null,
                    null,
                    486,
                    null,
                    null,
                    null,
                    312,
                    null,
                    null,
                    null,
                    null,
                    402,
                    38,
                    340,
                    266,
                    556,
                    null,
                    null,
                    null,
                    null,
                    null,
                    null,
                    null,
                    324,
                    10,
                    316,
                    20,
                    null,
                    null,
                    null,
                    null,
                    null,
                    null,
                    null,
                    null,
                    null,
                    null,
                    null,
                    532,
                    124,
                    8,
                    null,
                    null,
                    null,
                    null,
                    766,
                    null,
                    193,
                    80,
                    null,
                    null,
                    212,
                    null,
                    null,
                    262,
                    null,
                    null,
                    null,
                    null,
                    null,
                    226,
                    181,
                    68,
                    null,
                    null,
                    null,
                    13,
                    null,
                    null,
                    1231,
                    null,
                    174,
                    null,
                    230,
                    null,
                    null,
                    null,
                    104,
                    null,
                    430,
                    null,
                    null,
                    null,
                    null,
                    336,
                    null,
                    null,
                    null,
                    null,
                    null,
                    null,
                    128,
                    null,
                    63,
                    null,
                    138,
                    424,
                    526,
                    null,
                    null,
                    456,
                    null,
                    292,
                    null,
                    null,
                    null,
                    null,
                    260,
                    null,
                    208,
                    null,
                    null,
                    null,
                    null,
                    163,
                    null,
                    null,
                    null,
                    null,
                    null,
                    321,
                    null,
                    null,
                    163,
                    null,
                    175,
                    null,
                    null,
                    null,
                    null,
                    null,
                    null,
                    null,
                    null,
                    395,
                    782,
                    null,
                    962,
                    null,
                    null,
                    null,
                    null,
                    null,
                    null,
                    194,
                    50,
                    null,
                    849,
                    66,
                    175,
                    244,
                    862,
                    12,
                    null,
                    346,
                    180,
                    null,
                    null,
                    null,
                    1292,
                    100,
                    122,
                    null,
                    null,
                    null,
                    null,
                    null,
                    112,
                    null,
                    311,
                    252,
                    null,
                    null,
                    null,
                    null,
                    null,
                    null,
                    null,
                    null,
                    322,
                    null,
                    93,
                    26,
                    328,
                    null,
                    null,
                    null,
                    null,
                    null,
                    null,
                    67,
                    878,
                    null,
                    176,
                    316,
                    null,
                    222,
                    532,
                    476,
                    null,
                    null,
                    1550,
                    null,
                    null,
                    null,
                    null,
                    null,
                    295,
                    null,
                    null,
                    82,
                    343,
                    null,
                    290,
                    576,
                    1,
                    null,
                    917,
                    null,
                    128,
                    null,
                    null,
                    null,
                    null,
                    null,
                    106,
                    48,
                    552,
                    null,
                    null,
                    null,
                    null,
                    null,
                    201,
                    null,
                    null,
                    68,
                    null,
                    292,
                    128,
                    4,
                    18,
                    null,
                    null,
                    null,
                    null,
                    null,
                    null,
                    null,
                    136,
                    108,
                    null,
                    null,
                    74,
                    457,
                    null,
                    null,
                    null,
                    160,
                    154,
                    null,
                    112,
                    null,
                    null,
                    64,
                    null,
                    null,
                    null,
                    null,
                    null,
                    null,
                    null,
                    null,
                    null,
                    63,
                    null,
                    372,
                    null,
                    null,
                    39,
                    null,
                    null,
                    520,
                    256,
                    105,
                    null,
                    null,
                    139,
                    null,
                    136,
                    null,
                    null,
                    null,
                    null,
                    null,
                    84,
                    null,
                    12,
                    null,
                    null,
                    null,
                    null,
                    null,
                    null,
                    null,
                    null,
                    null,
                    null,
                    146,
                    null,
                    48,
                    131,
                    null,
                    null,
                    158,
                    null,
                    321,
                    null,
                    null,
                    null,
                    null,
                    317,
                    603,
                    null,
                    null,
                    null,
                    null,
                    null,
                    null,
                    null,
                    null,
                    165,
                    70,
                    null,
                    null,
                    55,
                    null,
                    null,
                    null,
                    null,
                    null,
                    536,
                    250,
                    90,
                    null,
                    259,
                    null,
                    null,
                    null,
                    495,
                    108,
                    5,
                    121,
                    576,
                    null,
                    221,
                    42,
                    152,
                    null,
                    null,
                    511,
                    473,
                    null,
                    null,
                    127,
                    96,
                    null,
                    null,
                    338,
                    null,
                    56,
                    null,
                    80,
                    9,
                    null,
                    null,
                    null,
                    52,
                    null,
                    null,
                    null,
                    null,
                    null,
                    null,
                    317,
                    null,
                    3,
                    null,
                    null,
                    341,
                    null,
                    null,
                    219,
                    null,
                    null,
                    null,
                    null,
                    null,
                    null,
                    null,
                    39,
                    null,
                    null,
                    72,
                    458,
                    null,
                    200,
                    null,
                    256,
                    582,
                    130,
                    null,
                    358,
                    59,
                    322,
                    null,
                    45,
                    null,
                    null,
                    null,
                    null,
                    null,
                    292,
                    null,
                    382,
                    null,
                    null,
                    null,
                    48,
                    null,
                    306,
                    228,
                    48,
                    null,
                    null,
                    null,
                    null,
                    null,
                    null,
                    null,
                    148,
                    null,
                    108,
                    null,
                    null,
                    85,
                    null,
                    156,
                    null,
                    null,
                    null,
                    null,
                    8,
                    null,
                    null,
                    null,
                    286,
                    178,
                    null,
                    33,
                    null,
                    null,
                    6,
                    null,
                    null,
                    146,
                    null,
                    null,
                    null,
                    null,
                    null,
                    163,
                    null,
                    null,
                    null,
                    null,
                    null,
                    null,
                    null,
                    889,
                    134,
                    22,
                    987,
                    null,
                    null,
                    null,
                    186,
                    95,
                    86,
                    505,
                    null
                  ],
                  "xaxis": "x3",
                  "yaxis": "y3"
                },
                {
                  "name": "Netherlands",
                  "type": "histogram",
                  "x": [
                    null,
                    96,
                    null,
                    null,
                    null,
                    null,
                    null,
                    null,
                    null,
                    null,
                    null,
                    null,
                    null,
                    null,
                    null,
                    null,
                    null,
                    null,
                    null,
                    null,
                    null,
                    null,
                    null,
                    null,
                    null,
                    null,
                    null,
                    null,
                    null,
                    null,
                    null,
                    null,
                    null,
                    null,
                    null,
                    null,
                    null,
                    null,
                    null,
                    null,
                    null,
                    null,
                    null,
                    null,
                    null,
                    null,
                    null,
                    null,
                    null,
                    null,
                    null,
                    null,
                    null,
                    null,
                    null,
                    null,
                    45,
                    null,
                    null,
                    null,
                    null,
                    null,
                    6668,
                    null,
                    null,
                    null,
                    null,
                    null,
                    null,
                    null,
                    null,
                    null,
                    null,
                    null,
                    null,
                    null,
                    null,
                    null,
                    null,
                    null,
                    null,
                    null,
                    null,
                    null,
                    null,
                    null,
                    null,
                    null,
                    null,
                    null,
                    null,
                    null,
                    null,
                    null,
                    null,
                    null,
                    null,
                    8210,
                    null,
                    null,
                    null,
                    null,
                    null,
                    null,
                    null,
                    null,
                    null,
                    6072,
                    288,
                    null,
                    null,
                    5730,
                    null,
                    null,
                    null,
                    null,
                    null,
                    null,
                    null,
                    null,
                    null,
                    null,
                    null,
                    null,
                    null,
                    null,
                    null,
                    null,
                    null,
                    null,
                    null,
                    null,
                    null,
                    null,
                    null,
                    null,
                    116,
                    null,
                    null,
                    null,
                    111,
                    null,
                    null,
                    null,
                    null,
                    null,
                    null,
                    null,
                    null,
                    null,
                    null,
                    1116,
                    null,
                    null,
                    null,
                    null,
                    null,
                    null,
                    null,
                    null,
                    null,
                    null,
                    null,
                    null,
                    null,
                    null,
                    null,
                    null,
                    null,
                    null,
                    null,
                    null,
                    null,
                    null,
                    null,
                    8174,
                    4034,
                    null,
                    null,
                    null,
                    2940,
                    null,
                    null,
                    null,
                    null,
                    null,
                    null,
                    null,
                    null,
                    null,
                    null,
                    null,
                    null,
                    null,
                    null,
                    null,
                    null,
                    null,
                    null,
                    null,
                    null,
                    null,
                    null,
                    null,
                    null,
                    null,
                    null,
                    null,
                    null,
                    275,
                    null,
                    null,
                    null,
                    null,
                    null,
                    null,
                    null,
                    151,
                    null,
                    null,
                    null,
                    null,
                    null,
                    null,
                    null,
                    null,
                    null,
                    null,
                    null,
                    null,
                    null,
                    null,
                    null,
                    null,
                    null,
                    null,
                    null,
                    null,
                    null,
                    null,
                    null,
                    null,
                    null,
                    null,
                    null,
                    169,
                    null,
                    null,
                    null,
                    null,
                    null,
                    null,
                    null,
                    null,
                    null,
                    null,
                    722,
                    null,
                    null,
                    103,
                    null,
                    null,
                    null,
                    null,
                    null,
                    null,
                    1070,
                    11116,
                    1208,
                    null,
                    null,
                    null,
                    null,
                    null,
                    null,
                    null,
                    null,
                    null,
                    null,
                    null,
                    null,
                    null,
                    null,
                    null,
                    null,
                    636,
                    700,
                    null,
                    null,
                    null,
                    null,
                    null,
                    null,
                    null,
                    null,
                    null,
                    null,
                    null,
                    null,
                    null,
                    null,
                    null,
                    null,
                    null,
                    null,
                    null,
                    null,
                    null,
                    null,
                    null,
                    null,
                    null,
                    null,
                    null,
                    null,
                    null,
                    null,
                    null,
                    null,
                    null,
                    null,
                    426,
                    null,
                    null,
                    null,
                    null,
                    null,
                    null,
                    null,
                    null,
                    null,
                    null,
                    null,
                    null,
                    null,
                    null,
                    null,
                    null,
                    null,
                    null,
                    null,
                    null,
                    null,
                    null,
                    null,
                    null,
                    null,
                    null,
                    null,
                    null,
                    null,
                    null,
                    200,
                    72,
                    null,
                    null,
                    null,
                    null,
                    null,
                    924,
                    12266,
                    72,
                    null,
                    null,
                    null,
                    null,
                    null,
                    null,
                    null,
                    null,
                    null,
                    null,
                    null,
                    null,
                    null,
                    null,
                    null,
                    null,
                    null,
                    null,
                    null,
                    null,
                    408,
                    null,
                    null,
                    null,
                    null,
                    null,
                    null,
                    null,
                    null,
                    null,
                    null,
                    null,
                    null,
                    null,
                    126,
                    null,
                    null,
                    null,
                    null,
                    null,
                    null,
                    null,
                    null,
                    null,
                    null,
                    null,
                    null,
                    null,
                    960,
                    null,
                    null,
                    null,
                    null,
                    null,
                    null,
                    null,
                    null,
                    null,
                    null,
                    null,
                    4664,
                    null,
                    null,
                    null,
                    null,
                    64,
                    null,
                    null,
                    164,
                    1038,
                    null,
                    1836,
                    null,
                    null,
                    328,
                    null,
                    null,
                    null,
                    null,
                    null,
                    null,
                    312,
                    null,
                    null,
                    null,
                    null,
                    null,
                    null,
                    null,
                    null,
                    null,
                    null,
                    null,
                    null,
                    null,
                    null,
                    84,
                    null,
                    null,
                    null,
                    null,
                    null,
                    null,
                    null,
                    null,
                    null,
                    null,
                    null,
                    null,
                    null,
                    null,
                    null,
                    null,
                    null,
                    null,
                    null,
                    null,
                    null,
                    null,
                    null,
                    null,
                    null,
                    4718,
                    null,
                    null,
                    61,
                    null,
                    null,
                    null,
                    350,
                    null,
                    null,
                    null,
                    null,
                    null,
                    null,
                    null,
                    null,
                    null,
                    null,
                    null,
                    null,
                    null,
                    null,
                    null,
                    null,
                    null,
                    null,
                    8998,
                    424,
                    1588,
                    null,
                    null,
                    null,
                    null,
                    null,
                    null,
                    null,
                    null,
                    null,
                    null,
                    null,
                    null,
                    null,
                    null,
                    null,
                    null,
                    null,
                    null,
                    null,
                    null,
                    null,
                    null,
                    null,
                    null,
                    null,
                    null,
                    null,
                    null,
                    null,
                    null,
                    null,
                    null,
                    null,
                    null,
                    null,
                    null,
                    null,
                    null,
                    null,
                    null,
                    null,
                    null,
                    null,
                    null,
                    null,
                    null,
                    null,
                    null,
                    null,
                    null,
                    null,
                    null,
                    null,
                    null,
                    null,
                    null,
                    null,
                    null,
                    null,
                    9,
                    null,
                    null,
                    null,
                    null,
                    null,
                    null,
                    null,
                    null,
                    null,
                    null,
                    null,
                    null,
                    null,
                    null,
                    null,
                    null,
                    null,
                    null,
                    null,
                    null,
                    null,
                    null,
                    null,
                    null,
                    null,
                    null,
                    null,
                    null,
                    null,
                    null,
                    null,
                    null,
                    null,
                    null,
                    null,
                    null,
                    null,
                    null,
                    null,
                    null,
                    null,
                    null,
                    null,
                    7807,
                    375,
                    null,
                    null,
                    null,
                    null,
                    14730,
                    null,
                    992,
                    null,
                    null,
                    null,
                    null,
                    null,
                    null,
                    null,
                    null,
                    null,
                    null,
                    null,
                    null,
                    null,
                    null,
                    null,
                    null,
                    null,
                    null,
                    null,
                    null,
                    null,
                    null,
                    null,
                    null,
                    null,
                    null,
                    null,
                    null,
                    288,
                    null,
                    null,
                    null,
                    null,
                    null,
                    null,
                    null,
                    null,
                    null,
                    null,
                    null,
                    null,
                    null,
                    null,
                    null,
                    null,
                    null,
                    null,
                    4628,
                    480,
                    null,
                    null,
                    null,
                    null,
                    null,
                    null,
                    null,
                    null,
                    null,
                    null,
                    null,
                    null,
                    null,
                    null,
                    null,
                    null,
                    null,
                    null,
                    null,
                    null,
                    null,
                    null,
                    null,
                    null,
                    null,
                    null,
                    null,
                    null,
                    null,
                    null,
                    null,
                    null,
                    null,
                    null,
                    null,
                    null,
                    null,
                    null,
                    null,
                    null,
                    null,
                    null,
                    1012,
                    1,
                    null,
                    null,
                    null,
                    null,
                    null,
                    null,
                    144,
                    null,
                    null,
                    null,
                    null,
                    null,
                    4951,
                    null,
                    null,
                    null,
                    null,
                    null,
                    null,
                    null,
                    null,
                    null,
                    null,
                    null,
                    null,
                    null,
                    6932,
                    3717,
                    null,
                    null,
                    null,
                    null,
                    null,
                    null,
                    null,
                    null,
                    null,
                    null,
                    null,
                    null,
                    null,
                    null,
                    null,
                    null,
                    null,
                    null,
                    null,
                    null,
                    null,
                    null,
                    545,
                    null,
                    null,
                    null,
                    null,
                    null,
                    null,
                    null,
                    null,
                    null,
                    null,
                    null,
                    null,
                    null,
                    null,
                    null,
                    null,
                    null,
                    null,
                    null,
                    null,
                    null,
                    null,
                    null,
                    null,
                    null,
                    null,
                    null,
                    null,
                    null,
                    null,
                    null,
                    null,
                    null,
                    null,
                    null,
                    null,
                    null,
                    null,
                    null,
                    null,
                    null,
                    null,
                    null,
                    null,
                    null,
                    null,
                    null,
                    null,
                    null,
                    3,
                    null,
                    null,
                    null,
                    332,
                    15,
                    null,
                    null,
                    null,
                    null,
                    null,
                    null,
                    null,
                    null,
                    null,
                    null,
                    null,
                    null,
                    null,
                    null,
                    null,
                    null,
                    null,
                    null,
                    211,
                    null,
                    null,
                    null,
                    null,
                    null,
                    null,
                    null,
                    null,
                    null,
                    null,
                    null,
                    null,
                    null,
                    null,
                    null,
                    null,
                    null,
                    null,
                    null,
                    null,
                    null,
                    null,
                    null,
                    null,
                    null,
                    null,
                    null,
                    null,
                    null,
                    null,
                    null,
                    null,
                    null,
                    null,
                    null,
                    null,
                    null,
                    null,
                    null,
                    null,
                    null,
                    null,
                    null,
                    null,
                    null,
                    null,
                    null,
                    null,
                    null,
                    269,
                    null,
                    null,
                    null,
                    null,
                    null,
                    null,
                    null,
                    null,
                    null,
                    13392,
                    3020,
                    1728,
                    null,
                    null,
                    null,
                    null,
                    null,
                    1780,
                    null,
                    null,
                    null,
                    660,
                    29,
                    null,
                    null,
                    null,
                    null,
                    null,
                    null,
                    null,
                    null,
                    null,
                    3069,
                    2400,
                    300,
                    null,
                    null,
                    null,
                    null,
                    null,
                    null,
                    null,
                    null,
                    null,
                    null,
                    null,
                    null,
                    null,
                    null,
                    null,
                    null,
                    null,
                    null,
                    null,
                    null,
                    null,
                    null,
                    2454,
                    216,
                    62,
                    null,
                    null,
                    null,
                    null,
                    null,
                    null,
                    null,
                    null,
                    null,
                    null,
                    null,
                    null,
                    null,
                    null,
                    null,
                    null,
                    null,
                    null,
                    null,
                    null,
                    null,
                    null,
                    null,
                    null,
                    null,
                    6712,
                    1040,
                    null,
                    null,
                    null,
                    null,
                    null,
                    null,
                    null,
                    32,
                    null,
                    null,
                    null,
                    null,
                    null,
                    null,
                    null,
                    null,
                    null,
                    null,
                    null,
                    null,
                    null,
                    null,
                    null,
                    null,
                    null,
                    null,
                    null,
                    null,
                    null,
                    null,
                    null,
                    null,
                    null,
                    null,
                    null,
                    null,
                    null,
                    null,
                    null,
                    null,
                    null,
                    null,
                    null,
                    null,
                    null,
                    null,
                    146,
                    null,
                    null,
                    null,
                    null,
                    null,
                    null,
                    null,
                    null,
                    null,
                    null,
                    null,
                    null,
                    null,
                    null,
                    null,
                    null,
                    null,
                    null,
                    null,
                    null,
                    null,
                    null,
                    null,
                    null,
                    null,
                    null,
                    null,
                    32,
                    null,
                    null,
                    null,
                    152,
                    null,
                    null,
                    null,
                    null,
                    null,
                    null,
                    null,
                    null,
                    null,
                    null,
                    null,
                    null,
                    372,
                    null,
                    null,
                    136,
                    null,
                    null,
                    5760,
                    200,
                    1284,
                    null,
                    null,
                    null,
                    null,
                    null,
                    null,
                    null,
                    null,
                    null,
                    null,
                    null,
                    null,
                    null,
                    null,
                    null,
                    null,
                    null,
                    null,
                    null,
                    null,
                    null,
                    null,
                    null,
                    null,
                    null,
                    null,
                    null,
                    null,
                    null,
                    null,
                    null,
                    null,
                    null,
                    null,
                    50,
                    null,
                    null,
                    null,
                    null,
                    null,
                    null,
                    null,
                    null,
                    null,
                    null,
                    null,
                    null,
                    null,
                    null,
                    null,
                    null,
                    null,
                    null,
                    null,
                    null,
                    null,
                    null,
                    null,
                    null,
                    null,
                    null,
                    null,
                    null,
                    null,
                    null,
                    null,
                    null,
                    null,
                    null,
                    null,
                    null,
                    null,
                    null,
                    null,
                    null,
                    null,
                    null,
                    7366,
                    452,
                    null,
                    null,
                    null,
                    null,
                    null,
                    140,
                    null,
                    null,
                    null,
                    null,
                    null,
                    null
                  ],
                  "xaxis": "x4",
                  "yaxis": "y4"
                }
              ],
              "layout": {
                "annotations": [
                  {
                    "font": {
                      "size": 16
                    },
                    "showarrow": false,
                    "text": "EIRE",
                    "x": 0.225,
                    "xanchor": "center",
                    "xref": "paper",
                    "y": 1,
                    "yanchor": "bottom",
                    "yref": "paper"
                  },
                  {
                    "font": {
                      "size": 16
                    },
                    "showarrow": false,
                    "text": "Germany",
                    "x": 0.775,
                    "xanchor": "center",
                    "xref": "paper",
                    "y": 1,
                    "yanchor": "bottom",
                    "yref": "paper"
                  },
                  {
                    "font": {
                      "size": 16
                    },
                    "showarrow": false,
                    "text": "France",
                    "x": 0.225,
                    "xanchor": "center",
                    "xref": "paper",
                    "y": 0.375,
                    "yanchor": "bottom",
                    "yref": "paper"
                  },
                  {
                    "font": {
                      "size": 16
                    },
                    "showarrow": false,
                    "text": "Netherlands",
                    "x": 0.775,
                    "xanchor": "center",
                    "xref": "paper",
                    "y": 0.375,
                    "yanchor": "bottom",
                    "yref": "paper"
                  }
                ],
                "height": 600,
                "template": {
                  "data": {
                    "bar": [
                      {
                        "error_x": {
                          "color": "#2a3f5f"
                        },
                        "error_y": {
                          "color": "#2a3f5f"
                        },
                        "marker": {
                          "line": {
                            "color": "#E5ECF6",
                            "width": 0.5
                          },
                          "pattern": {
                            "fillmode": "overlay",
                            "size": 10,
                            "solidity": 0.2
                          }
                        },
                        "type": "bar"
                      }
                    ],
                    "barpolar": [
                      {
                        "marker": {
                          "line": {
                            "color": "#E5ECF6",
                            "width": 0.5
                          },
                          "pattern": {
                            "fillmode": "overlay",
                            "size": 10,
                            "solidity": 0.2
                          }
                        },
                        "type": "barpolar"
                      }
                    ],
                    "carpet": [
                      {
                        "aaxis": {
                          "endlinecolor": "#2a3f5f",
                          "gridcolor": "white",
                          "linecolor": "white",
                          "minorgridcolor": "white",
                          "startlinecolor": "#2a3f5f"
                        },
                        "baxis": {
                          "endlinecolor": "#2a3f5f",
                          "gridcolor": "white",
                          "linecolor": "white",
                          "minorgridcolor": "white",
                          "startlinecolor": "#2a3f5f"
                        },
                        "type": "carpet"
                      }
                    ],
                    "choropleth": [
                      {
                        "colorbar": {
                          "outlinewidth": 0,
                          "ticks": ""
                        },
                        "type": "choropleth"
                      }
                    ],
                    "contour": [
                      {
                        "colorbar": {
                          "outlinewidth": 0,
                          "ticks": ""
                        },
                        "colorscale": [
                          [
                            0,
                            "#0d0887"
                          ],
                          [
                            0.1111111111111111,
                            "#46039f"
                          ],
                          [
                            0.2222222222222222,
                            "#7201a8"
                          ],
                          [
                            0.3333333333333333,
                            "#9c179e"
                          ],
                          [
                            0.4444444444444444,
                            "#bd3786"
                          ],
                          [
                            0.5555555555555556,
                            "#d8576b"
                          ],
                          [
                            0.6666666666666666,
                            "#ed7953"
                          ],
                          [
                            0.7777777777777778,
                            "#fb9f3a"
                          ],
                          [
                            0.8888888888888888,
                            "#fdca26"
                          ],
                          [
                            1,
                            "#f0f921"
                          ]
                        ],
                        "type": "contour"
                      }
                    ],
                    "contourcarpet": [
                      {
                        "colorbar": {
                          "outlinewidth": 0,
                          "ticks": ""
                        },
                        "type": "contourcarpet"
                      }
                    ],
                    "heatmap": [
                      {
                        "colorbar": {
                          "outlinewidth": 0,
                          "ticks": ""
                        },
                        "colorscale": [
                          [
                            0,
                            "#0d0887"
                          ],
                          [
                            0.1111111111111111,
                            "#46039f"
                          ],
                          [
                            0.2222222222222222,
                            "#7201a8"
                          ],
                          [
                            0.3333333333333333,
                            "#9c179e"
                          ],
                          [
                            0.4444444444444444,
                            "#bd3786"
                          ],
                          [
                            0.5555555555555556,
                            "#d8576b"
                          ],
                          [
                            0.6666666666666666,
                            "#ed7953"
                          ],
                          [
                            0.7777777777777778,
                            "#fb9f3a"
                          ],
                          [
                            0.8888888888888888,
                            "#fdca26"
                          ],
                          [
                            1,
                            "#f0f921"
                          ]
                        ],
                        "type": "heatmap"
                      }
                    ],
                    "heatmapgl": [
                      {
                        "colorbar": {
                          "outlinewidth": 0,
                          "ticks": ""
                        },
                        "colorscale": [
                          [
                            0,
                            "#0d0887"
                          ],
                          [
                            0.1111111111111111,
                            "#46039f"
                          ],
                          [
                            0.2222222222222222,
                            "#7201a8"
                          ],
                          [
                            0.3333333333333333,
                            "#9c179e"
                          ],
                          [
                            0.4444444444444444,
                            "#bd3786"
                          ],
                          [
                            0.5555555555555556,
                            "#d8576b"
                          ],
                          [
                            0.6666666666666666,
                            "#ed7953"
                          ],
                          [
                            0.7777777777777778,
                            "#fb9f3a"
                          ],
                          [
                            0.8888888888888888,
                            "#fdca26"
                          ],
                          [
                            1,
                            "#f0f921"
                          ]
                        ],
                        "type": "heatmapgl"
                      }
                    ],
                    "histogram": [
                      {
                        "marker": {
                          "pattern": {
                            "fillmode": "overlay",
                            "size": 10,
                            "solidity": 0.2
                          }
                        },
                        "type": "histogram"
                      }
                    ],
                    "histogram2d": [
                      {
                        "colorbar": {
                          "outlinewidth": 0,
                          "ticks": ""
                        },
                        "colorscale": [
                          [
                            0,
                            "#0d0887"
                          ],
                          [
                            0.1111111111111111,
                            "#46039f"
                          ],
                          [
                            0.2222222222222222,
                            "#7201a8"
                          ],
                          [
                            0.3333333333333333,
                            "#9c179e"
                          ],
                          [
                            0.4444444444444444,
                            "#bd3786"
                          ],
                          [
                            0.5555555555555556,
                            "#d8576b"
                          ],
                          [
                            0.6666666666666666,
                            "#ed7953"
                          ],
                          [
                            0.7777777777777778,
                            "#fb9f3a"
                          ],
                          [
                            0.8888888888888888,
                            "#fdca26"
                          ],
                          [
                            1,
                            "#f0f921"
                          ]
                        ],
                        "type": "histogram2d"
                      }
                    ],
                    "histogram2dcontour": [
                      {
                        "colorbar": {
                          "outlinewidth": 0,
                          "ticks": ""
                        },
                        "colorscale": [
                          [
                            0,
                            "#0d0887"
                          ],
                          [
                            0.1111111111111111,
                            "#46039f"
                          ],
                          [
                            0.2222222222222222,
                            "#7201a8"
                          ],
                          [
                            0.3333333333333333,
                            "#9c179e"
                          ],
                          [
                            0.4444444444444444,
                            "#bd3786"
                          ],
                          [
                            0.5555555555555556,
                            "#d8576b"
                          ],
                          [
                            0.6666666666666666,
                            "#ed7953"
                          ],
                          [
                            0.7777777777777778,
                            "#fb9f3a"
                          ],
                          [
                            0.8888888888888888,
                            "#fdca26"
                          ],
                          [
                            1,
                            "#f0f921"
                          ]
                        ],
                        "type": "histogram2dcontour"
                      }
                    ],
                    "mesh3d": [
                      {
                        "colorbar": {
                          "outlinewidth": 0,
                          "ticks": ""
                        },
                        "type": "mesh3d"
                      }
                    ],
                    "parcoords": [
                      {
                        "line": {
                          "colorbar": {
                            "outlinewidth": 0,
                            "ticks": ""
                          }
                        },
                        "type": "parcoords"
                      }
                    ],
                    "pie": [
                      {
                        "automargin": true,
                        "type": "pie"
                      }
                    ],
                    "scatter": [
                      {
                        "marker": {
                          "colorbar": {
                            "outlinewidth": 0,
                            "ticks": ""
                          }
                        },
                        "type": "scatter"
                      }
                    ],
                    "scatter3d": [
                      {
                        "line": {
                          "colorbar": {
                            "outlinewidth": 0,
                            "ticks": ""
                          }
                        },
                        "marker": {
                          "colorbar": {
                            "outlinewidth": 0,
                            "ticks": ""
                          }
                        },
                        "type": "scatter3d"
                      }
                    ],
                    "scattercarpet": [
                      {
                        "marker": {
                          "colorbar": {
                            "outlinewidth": 0,
                            "ticks": ""
                          }
                        },
                        "type": "scattercarpet"
                      }
                    ],
                    "scattergeo": [
                      {
                        "marker": {
                          "colorbar": {
                            "outlinewidth": 0,
                            "ticks": ""
                          }
                        },
                        "type": "scattergeo"
                      }
                    ],
                    "scattergl": [
                      {
                        "marker": {
                          "colorbar": {
                            "outlinewidth": 0,
                            "ticks": ""
                          }
                        },
                        "type": "scattergl"
                      }
                    ],
                    "scattermapbox": [
                      {
                        "marker": {
                          "colorbar": {
                            "outlinewidth": 0,
                            "ticks": ""
                          }
                        },
                        "type": "scattermapbox"
                      }
                    ],
                    "scatterpolar": [
                      {
                        "marker": {
                          "colorbar": {
                            "outlinewidth": 0,
                            "ticks": ""
                          }
                        },
                        "type": "scatterpolar"
                      }
                    ],
                    "scatterpolargl": [
                      {
                        "marker": {
                          "colorbar": {
                            "outlinewidth": 0,
                            "ticks": ""
                          }
                        },
                        "type": "scatterpolargl"
                      }
                    ],
                    "scatterternary": [
                      {
                        "marker": {
                          "colorbar": {
                            "outlinewidth": 0,
                            "ticks": ""
                          }
                        },
                        "type": "scatterternary"
                      }
                    ],
                    "surface": [
                      {
                        "colorbar": {
                          "outlinewidth": 0,
                          "ticks": ""
                        },
                        "colorscale": [
                          [
                            0,
                            "#0d0887"
                          ],
                          [
                            0.1111111111111111,
                            "#46039f"
                          ],
                          [
                            0.2222222222222222,
                            "#7201a8"
                          ],
                          [
                            0.3333333333333333,
                            "#9c179e"
                          ],
                          [
                            0.4444444444444444,
                            "#bd3786"
                          ],
                          [
                            0.5555555555555556,
                            "#d8576b"
                          ],
                          [
                            0.6666666666666666,
                            "#ed7953"
                          ],
                          [
                            0.7777777777777778,
                            "#fb9f3a"
                          ],
                          [
                            0.8888888888888888,
                            "#fdca26"
                          ],
                          [
                            1,
                            "#f0f921"
                          ]
                        ],
                        "type": "surface"
                      }
                    ],
                    "table": [
                      {
                        "cells": {
                          "fill": {
                            "color": "#EBF0F8"
                          },
                          "line": {
                            "color": "white"
                          }
                        },
                        "header": {
                          "fill": {
                            "color": "#C8D4E3"
                          },
                          "line": {
                            "color": "white"
                          }
                        },
                        "type": "table"
                      }
                    ]
                  },
                  "layout": {
                    "annotationdefaults": {
                      "arrowcolor": "#2a3f5f",
                      "arrowhead": 0,
                      "arrowwidth": 1
                    },
                    "autotypenumbers": "strict",
                    "coloraxis": {
                      "colorbar": {
                        "outlinewidth": 0,
                        "ticks": ""
                      }
                    },
                    "colorscale": {
                      "diverging": [
                        [
                          0,
                          "#8e0152"
                        ],
                        [
                          0.1,
                          "#c51b7d"
                        ],
                        [
                          0.2,
                          "#de77ae"
                        ],
                        [
                          0.3,
                          "#f1b6da"
                        ],
                        [
                          0.4,
                          "#fde0ef"
                        ],
                        [
                          0.5,
                          "#f7f7f7"
                        ],
                        [
                          0.6,
                          "#e6f5d0"
                        ],
                        [
                          0.7,
                          "#b8e186"
                        ],
                        [
                          0.8,
                          "#7fbc41"
                        ],
                        [
                          0.9,
                          "#4d9221"
                        ],
                        [
                          1,
                          "#276419"
                        ]
                      ],
                      "sequential": [
                        [
                          0,
                          "#0d0887"
                        ],
                        [
                          0.1111111111111111,
                          "#46039f"
                        ],
                        [
                          0.2222222222222222,
                          "#7201a8"
                        ],
                        [
                          0.3333333333333333,
                          "#9c179e"
                        ],
                        [
                          0.4444444444444444,
                          "#bd3786"
                        ],
                        [
                          0.5555555555555556,
                          "#d8576b"
                        ],
                        [
                          0.6666666666666666,
                          "#ed7953"
                        ],
                        [
                          0.7777777777777778,
                          "#fb9f3a"
                        ],
                        [
                          0.8888888888888888,
                          "#fdca26"
                        ],
                        [
                          1,
                          "#f0f921"
                        ]
                      ],
                      "sequentialminus": [
                        [
                          0,
                          "#0d0887"
                        ],
                        [
                          0.1111111111111111,
                          "#46039f"
                        ],
                        [
                          0.2222222222222222,
                          "#7201a8"
                        ],
                        [
                          0.3333333333333333,
                          "#9c179e"
                        ],
                        [
                          0.4444444444444444,
                          "#bd3786"
                        ],
                        [
                          0.5555555555555556,
                          "#d8576b"
                        ],
                        [
                          0.6666666666666666,
                          "#ed7953"
                        ],
                        [
                          0.7777777777777778,
                          "#fb9f3a"
                        ],
                        [
                          0.8888888888888888,
                          "#fdca26"
                        ],
                        [
                          1,
                          "#f0f921"
                        ]
                      ]
                    },
                    "colorway": [
                      "#636efa",
                      "#EF553B",
                      "#00cc96",
                      "#ab63fa",
                      "#FFA15A",
                      "#19d3f3",
                      "#FF6692",
                      "#B6E880",
                      "#FF97FF",
                      "#FECB52"
                    ],
                    "font": {
                      "color": "#2a3f5f"
                    },
                    "geo": {
                      "bgcolor": "white",
                      "lakecolor": "white",
                      "landcolor": "#E5ECF6",
                      "showlakes": true,
                      "showland": true,
                      "subunitcolor": "white"
                    },
                    "hoverlabel": {
                      "align": "left"
                    },
                    "hovermode": "closest",
                    "mapbox": {
                      "style": "light"
                    },
                    "paper_bgcolor": "white",
                    "plot_bgcolor": "#E5ECF6",
                    "polar": {
                      "angularaxis": {
                        "gridcolor": "white",
                        "linecolor": "white",
                        "ticks": ""
                      },
                      "bgcolor": "#E5ECF6",
                      "radialaxis": {
                        "gridcolor": "white",
                        "linecolor": "white",
                        "ticks": ""
                      }
                    },
                    "scene": {
                      "xaxis": {
                        "backgroundcolor": "#E5ECF6",
                        "gridcolor": "white",
                        "gridwidth": 2,
                        "linecolor": "white",
                        "showbackground": true,
                        "ticks": "",
                        "zerolinecolor": "white"
                      },
                      "yaxis": {
                        "backgroundcolor": "#E5ECF6",
                        "gridcolor": "white",
                        "gridwidth": 2,
                        "linecolor": "white",
                        "showbackground": true,
                        "ticks": "",
                        "zerolinecolor": "white"
                      },
                      "zaxis": {
                        "backgroundcolor": "#E5ECF6",
                        "gridcolor": "white",
                        "gridwidth": 2,
                        "linecolor": "white",
                        "showbackground": true,
                        "ticks": "",
                        "zerolinecolor": "white"
                      }
                    },
                    "shapedefaults": {
                      "line": {
                        "color": "#2a3f5f"
                      }
                    },
                    "ternary": {
                      "aaxis": {
                        "gridcolor": "white",
                        "linecolor": "white",
                        "ticks": ""
                      },
                      "baxis": {
                        "gridcolor": "white",
                        "linecolor": "white",
                        "ticks": ""
                      },
                      "bgcolor": "#E5ECF6",
                      "caxis": {
                        "gridcolor": "white",
                        "linecolor": "white",
                        "ticks": ""
                      }
                    },
                    "title": {
                      "x": 0.05
                    },
                    "xaxis": {
                      "automargin": true,
                      "gridcolor": "white",
                      "linecolor": "white",
                      "ticks": "",
                      "title": {
                        "standoff": 15
                      },
                      "zerolinecolor": "white",
                      "zerolinewidth": 2
                    },
                    "yaxis": {
                      "automargin": true,
                      "gridcolor": "white",
                      "linecolor": "white",
                      "ticks": "",
                      "title": {
                        "standoff": 15
                      },
                      "zerolinecolor": "white",
                      "zerolinewidth": 2
                    }
                  }
                },
                "title": {
                  "text": "Histogram (Quantity per Invoice)"
                },
                "width": 1000,
                "xaxis": {
                  "anchor": "y",
                  "domain": [
                    0,
                    0.45
                  ]
                },
                "xaxis2": {
                  "anchor": "y2",
                  "domain": [
                    0.55,
                    1
                  ]
                },
                "xaxis3": {
                  "anchor": "y3",
                  "domain": [
                    0,
                    0.45
                  ]
                },
                "xaxis4": {
                  "anchor": "y4",
                  "domain": [
                    0.55,
                    1
                  ]
                },
                "yaxis": {
                  "anchor": "x",
                  "domain": [
                    0.625,
                    1
                  ]
                },
                "yaxis2": {
                  "anchor": "x2",
                  "domain": [
                    0.625,
                    1
                  ]
                },
                "yaxis3": {
                  "anchor": "x3",
                  "domain": [
                    0,
                    0.375
                  ]
                },
                "yaxis4": {
                  "anchor": "x4",
                  "domain": [
                    0,
                    0.375
                  ]
                }
              }
            },
            "text/html": [
              "<div>                            <div id=\"45347ee9-e6a8-405c-b13d-faf1d833ced5\" class=\"plotly-graph-div\" style=\"height:600px; width:1000px;\"></div>            <script type=\"text/javascript\">                require([\"plotly\"], function(Plotly) {                    window.PLOTLYENV=window.PLOTLYENV || {};                                    if (document.getElementById(\"45347ee9-e6a8-405c-b13d-faf1d833ced5\")) {                    Plotly.newPlot(                        \"45347ee9-e6a8-405c-b13d-faf1d833ced5\",                        [{\"name\":\"EIRE\",\"x\":[null,null,null,230.0,12.0,6.0,null,null,null,1548.0,null,null,827.0,null,null,null,null,null,null,null,134.0,475.0,3.0,null,null,null,null,null,null,null,null,null,null,null,287.0,null,null,null,379.0,null,null,null,358.0,null,null,null,null,null,null,null,null,373.0,null,null,null,154.0,null,null,null,null,344.0,null,null,null,null,null,107.0,null,null,null,null,null,null,null,null,null,null,null,84.0,null,null,null,null,null,null,null,null,null,null,null,null,null,null,null,null,null,null,null,6198.0,null,null,null,null,286.0,null,null,null,null,null,null,1332.0,null,null,null,null,null,46.0,null,null,null,null,null,690.0,null,154.0,null,null,null,null,null,null,null,null,null,null,null,null,null,463.0,null,null,null,null,null,null,null,null,270.0,null,74.0,null,null,null,null,null,null,null,null,null,939.0,null,null,null,470.0,1932.0,null,null,86.0,null,null,null,null,60.0,null,null,null,null,null,null,null,null,668.0,null,null,null,null,null,null,null,null,null,null,null,null,null,669.0,null,null,null,null,null,263.0,593.0,null,null,null,null,null,null,null,263.0,2826.0,108.0,218.0,null,null,null,null,null,206.0,498.0,230.0,511.0,328.0,335.0,null,null,null,null,null,null,416.0,265.0,null,null,null,null,null,72.0,null,null,null,null,null,null,null,null,null,null,null,null,null,113.0,null,null,533.0,null,null,null,null,null,744.0,null,null,null,null,null,null,null,null,null,null,null,44.0,null,null,null,null,null,713.0,1162.0,null,null,null,76.0,null,null,655.0,null,271.0,118.0,null,null,null,null,477.0,null,112.0,null,null,null,null,null,null,null,150.0,null,null,null,233.0,null,null,null,null,null,null,null,null,null,162.0,null,null,null,null,null,null,null,null,null,null,297.0,235.0,null,null,null,null,null,null,192.0,null,1694.0,null,446.0,null,null,null,null,null,null,null,null,null,null,null,null,null,null,null,null,null,null,null,null,null,null,null,null,null,null,null,138.0,526.0,null,543.0,null,711.0,494.0,null,null,null,null,null,null,636.0,null,null,null,null,null,null,null,null,112.0,284.0,225.0,null,null,null,null,null,null,null,null,401.0,null,null,null,null,null,null,null,null,null,null,null,null,null,304.0,4.0,4.0,null,null,null,null,null,null,null,null,null,null,null,null,null,null,null,null,null,null,null,null,null,null,null,null,null,404.0,null,191.0,null,null,null,null,2090.0,492.0,null,null,244.0,261.0,null,null,null,null,null,null,null,null,null,427.0,null,null,null,null,null,null,null,null,2642.0,384.0,268.0,null,null,null,355.0,null,null,null,83.0,null,null,null,null,null,null,48.0,null,null,null,308.0,280.0,null,186.0,1.0,null,null,571.0,48.0,null,314.0,79.0,null,null,null,null,null,2086.0,17.0,null,394.0,null,null,81.0,18.0,697.0,null,null,null,null,null,20.0,null,null,null,null,null,null,null,null,null,null,null,null,null,null,null,null,null,null,null,null,null,null,688.0,null,177.0,null,null,null,null,1202.0,null,null,5726.0,496.0,762.0,null,256.0,null,null,null,null,null,null,null,null,null,269.0,null,228.0,146.0,null,null,null,null,null,251.0,null,null,602.0,55.0,null,362.0,2270.0,null,286.0,1410.0,5246.0,null,null,null,null,null,null,null,null,null,2270.0,null,null,null,null,null,744.0,null,null,603.0,null,null,null,null,391.0,314.0,872.0,null,554.0,null,491.0,null,null,null,null,579.0,null,null,null,null,579.0,12.0,null,38.0,null,null,null,null,644.0,null,147.0,null,null,null,null,null,null,null,null,null,null,null,null,null,null,null,null,null,null,null,null,null,null,null,null,572.0,null,null,null,276.0,null,null,null,null,null,null,null,null,1776.0,408.0,null,null,163.0,null,null,1272.0,null,null,null,null,null,null,5034.0,456.0,null,null,1145.0,140.0,null,null,null,null,417.0,null,331.0,null,942.0,null,185.0,null,null,null,null,null,null,null,null,null,null,null,null,null,null,null,null,null,null,734.0,null,null,225.0,null,84.0,null,null,null,null,null,null,null,null,null,null,null,null,null,null,166.0,null,615.0,null,342.0,null,null,null,93.0,null,null,null,null,132.0,null,null,null,670.0,5.0,null,null,null,null,null,null,null,null,717.0,null,1242.0,null,null,null,223.0,256.0,null,202.0,null,null,null,549.0,70.0,null,333.0,58.0,16.0,null,null,null,null,null,null,2720.0,null,385.0,null,null,null,18.0,null,null,null,null,null,null,null,null,null,null,null,null,null,null,null,228.0,null,null,null,null,null,null,null,null,null,448.0,null,null,null,null,null,null,360.0,null,646.0,null,null,12.0,null,null,85.0,416.0,null,1704.0,46.0,75.0,510.0,2.0,null,null,null,null,null,null,null,406.0,null,null,null,null,null,352.0,null,null,null,null,null,null,668.0,456.0,null,66.0,599.0,223.0,572.0,36.0,null,283.0,342.0,null,null,null,null,null,null,711.0,null,null,null,null,4462.0,null,null,null,null,null,null,490.0,null,null,414.0,487.0,null,null,null,null,220.0,null,null,null,null,null,null,null,null,null,null,null,null,null,null,null,null,null,null,184.0,null,null,null,null,null,null,391.0,null,624.0,null,null,null,270.0,null,null,null,null,null,null,null,null,null,null,null,null,null,null,null,324.0,29.0,null,334.0,null,78.0,null,null,null,null,null,580.0,null,null,null,null,null,null,null,null,null,null,null,null,496.0,null,null,152.0,null,null,840.0,null,null,258.0,null,null,null,null,null,1200.0,945.0,null,null,205.0,null,null,null,null,533.0,null,null,null,198.0,52.0,226.0,194.0,null,null,null,2900.0,null,null,null,null,null,null,null,null,null,147.0,null,null,null,null,248.0,null,null,null,null,null,null,383.0,null,null,null,null,null,null,null,null,null,296.0,null,null,440.0,null,null,12.0,614.0,null,null,null,870.0,null,null,null,null,null,238.0,null,375.0,59.0,null,null,null,null,null,null,null,null,142.0,null,null,null,null,null,null,null,null,null,null,null,null,91.0,null,225.0,605.0,null,340.0,null,null,null,null,null,null,null,null,null,null,null,null,99.0,354.0,null,null,null,132.0,null,null,null,null,131.0,null,null,null,256.0,null,null,null,null,null,null,null,534.0,null,null,null,null,184.0,34.0,null,null,null,null,null,null,null,null,817.0,609.0,572.0,null,null,null,null,null,null,null,null,null,806.0,null,null,null,null,null],\"xaxis\":\"x\",\"yaxis\":\"y\",\"type\":\"histogram\"},{\"name\":\"France\",\"x\":[446.0,null,null,null,null,null,null,106.0,null,null,null,130.0,null,null,602.0,null,null,null,null,null,null,null,null,581.0,164.0,null,null,120.0,null,null,106.0,8.0,null,552.0,null,339.0,null,410.0,null,null,134.0,3.0,null,null,null,null,null,null,null,332.0,null,null,64.0,null,null,null,null,128.0,599.0,null,null,24.0,null,88.0,null,null,null,359.0,369.0,261.0,177.0,null,null,488.0,null,103.0,null,78.0,null,null,null,628.0,168.0,null,576.0,120.0,114.0,43.0,null,131.0,498.0,null,543.0,78.0,null,null,440.0,null,null,null,null,null,263.0,null,null,null,383.0,null,null,702.0,null,null,120.0,null,null,null,null,84.0,null,null,null,null,null,null,null,null,null,null,59.0,406.0,102.0,null,null,1617.0,null,null,null,202.0,null,null,null,197.0,159.0,null,206.0,null,null,null,null,null,611.0,null,214.0,298.0,null,null,null,452.0,null,null,null,null,96.0,null,null,772.0,114.0,null,null,null,null,748.0,null,15.0,256.0,null,null,null,null,77.0,null,null,null,264.0,96.0,null,null,70.0,213.0,310.0,72.0,54.0,245.0,null,329.0,null,314.0,24.0,null,null,123.0,null,null,null,null,null,null,null,null,null,null,null,null,null,null,323.0,183.0,null,184.0,null,null,null,null,null,null,314.0,null,97.0,62.0,null,null,null,null,null,null,null,null,null,null,null,null,422.0,85.0,5.0,198.0,null,null,null,136.0,713.0,242.0,130.0,null,null,261.0,null,null,null,null,null,59.0,null,842.0,null,null,null,null,null,null,null,946.0,132.0,null,null,null,2271.0,88.0,240.0,null,null,null,293.0,null,null,null,null,null,null,null,null,null,236.0,null,null,null,null,null,null,null,null,null,284.0,null,null,null,null,375.0,25.0,null,null,null,null,196.0,null,23.0,275.0,null,null,84.0,null,null,null,146.0,null,null,368.0,350.0,6.0,120.0,192.0,null,null,null,null,null,null,null,98.0,null,null,null,null,null,773.0,162.0,null,332.0,458.0,null,null,859.0,null,null,null,734.0,null,null,null,null,null,null,null,105.0,null,null,null,202.0,33.0,267.0,140.0,null,null,220.0,null,58.0,null,null,476.0,null,103.0,152.0,72.0,null,null,null,null,null,434.0,null,126.0,null,null,null,null,null,464.0,null,229.0,null,null,62.0,304.0,null,null,null,null,null,208.0,null,180.0,null,180.0,374.0,null,null,null,null,null,null,null,null,86.0,null,424.0,null,155.0,null,null,null,200.0,null,null,null,null,null,null,null,null,null,1184.0,347.0,null,358.0,null,115.0,null,null,null,216.0,216.0,464.0,444.0,null,null,null,null,null,null,null,320.0,460.0,160.0,null,714.0,null,549.0,null,null,null,110.0,232.0,null,356.0,170.0,139.0,206.0,null,null,null,null,null,267.0,null,514.0,null,62.0,null,null,null,50.0,208.0,null,null,null,350.0,270.0,384.0,null,null,null,null,null,null,410.0,null,null,null,null,null,118.0,null,null,null,108.0,null,null,null,null,null,null,null,null,null,284.0,78.0,null,256.0,null,null,321.0,592.0,null,null,null,null,322.0,null,135.0,198.0,236.0,48.0,76.0,262.0,null,156.0,null,null,116.0,666.0,null,null,null,null,null,null,null,null,46.0,null,82.0,838.0,null,null,null,32.0,null,null,null,null,null,null,null,null,null,null,null,null,null,null,null,234.0,null,null,null,null,null,147.0,null,null,null,null,null,500.0,null,null,null,null,null,null,52.0,null,null,690.0,279.0,null,null,null,320.0,162.0,null,null,null,null,null,null,null,null,null,197.0,null,null,null,null,null,null,null,178.0,3.0,603.0,null,null,null,400.0,null,null,null,null,231.0,null,228.0,459.0,null,null,null,33.0,null,null,234.0,null,null,null,null,54.0,null,402.0,null,105.0,null,139.0,null,null,null,null,null,null,784.0,170.0,null,204.0,145.0,null,null,null,null,null,null,688.0,null,null,820.0,120.0,198.0,null,null,null,270.0,null,null,98.0,54.0,null,null,null,null,null,null,506.0,null,null,142.0,184.0,null,null,null,null,null,null,null,265.0,null,646.0,null,719.0,null,644.0,209.0,null,null,null,null,null,104.0,292.0,719.0,null,null,42.0,null,null,72.0,null,null,null,436.0,null,null,1060.0,null,164.0,6.0,null,null,null,228.0,null,null,null,241.0,177.0,null,189.0,null,null,null,null,306.0,null,null,274.0,null,null,416.0,64.0,63.0,null,null,484.0,255.0,null,null,null,null,172.0,null,282.0,null,null,null,475.0,null,null,null,null,169.0,111.0,null,null,null,null,null,64.0,265.0,null,null,null,null,null,null,335.0,162.0,null,201.0,286.0,null,null,null,null,710.0,173.0,183.0,null,156.0,80.0,34.0,null,null,885.0,null,null,160.0,188.0,2.0,null,null,null,null,null,null,null,null,null,null,null,29.0,null,null,null,184.0,342.0,null,null,null,null,null,60.0,null,158.0,null,null,null,null,null,null,2801.0,null,null,null,null,null,null,162.0,null,null,null,72.0,98.0,null,218.0,100.0,122.0,null,null,null,null,null,232.0,null,null,null,null,null,null,null,null,null,null,null,null,null,null,null,null,null,null,null,null,null,null,566.0,null,165.0,null,null,null,null,null,null,null,null,524.0,null,null,null,null,null,null,null,null,null,null,null,null,136.0,297.0,48.0,null,null,null,76.0,null,null,5202.0,36.0,null,null,5.0,null,208.0,null,null,326.0,null,90.0,null,null,null,344.0,258.0,421.0,null,null,null,null,288.0,null,567.0,null,373.0,92.0,null,304.0,33.0,null,null,null,null,null,null,null,null,null,406.0,459.0,341.0,151.0,null,null,null,null,null,183.0,104.0,100.0,206.0,213.0,330.0,203.0,null,null,null,null,null,null,220.0,null,null,null,336.0,null,760.0,200.0,null,null,96.0,null,null,69.0,343.0,null,320.0,222.0,null,null,null,36.0,null,439.0,null,null,null,null,null,null,null,null,null,null,24.0,662.0,null,null,null,null,null,null,null,null,null,108.0,null,null,null,766.0,210.0,null,null,null,510.0,null,298.0,null,154.0,null,null,null,92.0,null,null,null,null,221.0,77.0,null,null,null,268.0,null,null,182.0,null,171.0,null,null,null,null,null,null,null,null,null,null,212.0,7.0,null,null,null,null,132.0,null,null,null,825.0,null,null,null,439.0,null,310.0,null,68.0,null,null,null,null,null,126.0,386.0,386.0,null,338.0,null,null,null,300.0,null,267.0,null,null,147.0,236.0,null,null,null,806.0,97.0,null,null,null,168.0,320.0,null,84.0,null,694.0,14.0,210.0,null,null,null,null,74.0,252.0,null,null,null,null,467.0,203.0,300.0,24.0,250.0,null,309.0,null,null,null,247.0,null,null,null,null,null,null,18.0,null,null,null,null,null,null,105.0],\"xaxis\":\"x2\",\"yaxis\":\"y2\",\"type\":\"histogram\"},{\"name\":\"Germany\",\"x\":[null,null,156.0,null,null,null,147.0,null,76.0,null,30.0,null,null,59.0,null,76.0,10.0,966.0,295.0,88.0,null,null,null,null,null,150.0,132.0,null,84.0,225.0,null,null,82.0,null,null,null,1075.0,null,null,2.0,null,null,null,42.0,433.0,6.0,133.0,81.0,322.0,null,221.0,null,null,388.0,333.0,null,null,null,null,228.0,null,null,null,null,62.0,866.0,null,null,null,null,null,92.0,410.0,null,1775.0,null,363.0,null,null,242.0,389.0,null,null,86.0,null,null,null,null,95.0,null,null,95.0,null,null,164.0,10.0,null,null,null,70.0,404.0,171.0,null,null,112.0,36.0,null,null,null,null,null,null,null,245.0,45.0,902.0,null,null,603.0,314.0,221.0,482.0,null,206.0,null,234.0,125.0,46.0,null,null,null,278.0,180.0,null,126.0,468.0,null,null,null,59.0,null,null,null,36.0,null,102.0,174.0,null,182.0,null,null,null,null,null,159.0,50.0,177.0,null,639.0,null,46.0,409.0,null,null,null,null,null,null,302.0,76.0,108.0,null,null,null,null,null,null,266.0,515.0,null,null,null,198.0,null,null,583.0,122.0,null,null,null,null,null,null,384.0,null,null,null,null,341.0,192.0,null,null,null,90.0,190.0,76.0,75.0,168.0,189.0,null,null,null,null,null,613.0,null,null,null,null,null,null,null,null,null,null,null,48.0,null,null,366.0,388.0,null,null,168.0,288.0,12.0,222.0,546.0,null,87.0,24.0,null,null,null,null,null,484.0,482.0,null,null,null,null,null,126.0,null,null,null,480.0,506.0,null,null,null,null,421.0,268.0,156.0,null,null,null,172.0,null,null,48.0,null,44.0,null,null,null,108.0,null,null,null,347.0,40.0,null,null,null,null,236.0,null,null,null,757.0,84.0,218.0,null,244.0,null,40.0,98.0,728.0,null,78.0,226.0,27.0,null,null,null,617.0,null,401.0,466.0,null,230.0,null,null,145.0,68.0,null,null,460.0,null,null,84.0,639.0,null,null,null,null,null,null,null,110.0,10.0,142.0,238.0,48.0,null,null,16.0,null,224.0,null,null,null,377.0,null,null,164.0,145.0,null,202.0,null,null,null,83.0,643.0,104.0,695.0,null,null,null,null,4282.0,288.0,32.0,null,null,null,null,null,null,null,null,null,null,null,null,526.0,null,null,null,null,null,425.0,90.0,196.0,null,468.0,null,46.0,34.0,null,null,null,null,null,null,578.0,382.0,null,null,161.0,null,12.0,30.0,242.0,null,119.0,null,null,null,null,191.0,79.0,39.0,34.0,null,null,null,184.0,null,null,null,337.0,null,254.0,null,32.0,null,null,null,553.0,null,653.0,420.0,null,22.0,237.0,null,null,288.0,null,null,null,null,290.0,null,null,null,null,null,null,null,78.0,36.0,null,null,null,null,null,null,88.0,null,342.0,null,99.0,null,412.0,null,null,784.0,null,null,null,null,null,null,null,457.0,12.0,null,null,null,null,null,null,null,1346.0,null,null,null,270.0,null,null,null,null,null,null,143.0,null,null,71.0,null,null,null,15.0,null,null,null,null,null,null,null,null,null,166.0,null,46.0,578.0,null,null,null,null,null,60.0,null,863.0,null,null,null,292.0,148.0,142.0,396.0,null,159.0,null,null,null,null,null,null,124.0,null,252.0,192.0,null,null,91.0,776.0,null,300.0,null,115.0,294.0,105.0,null,null,null,null,null,null,null,null,null,25.0,56.0,192.0,331.0,812.0,306.0,null,152.0,516.0,null,297.0,null,null,422.0,null,469.0,408.0,332.0,null,222.0,null,null,null,174.0,null,null,null,null,null,null,645.0,262.0,136.0,null,325.0,187.0,null,null,552.0,null,32.0,null,null,132.0,416.0,null,60.0,271.0,null,34.0,null,null,null,null,null,null,null,null,null,null,null,null,null,460.0,null,20.0,null,316.0,48.0,null,null,null,null,null,null,99.0,214.0,null,null,null,185.0,null,384.0,348.0,322.0,359.0,null,null,null,275.0,null,70.0,null,176.0,29.0,375.0,6.0,392.0,109.0,null,null,288.0,null,null,null,190.0,null,null,null,68.0,null,131.0,1151.0,null,null,null,486.0,null,null,null,312.0,null,null,null,null,402.0,38.0,340.0,266.0,556.0,null,null,null,null,null,null,null,324.0,10.0,316.0,20.0,null,null,null,null,null,null,null,null,null,null,null,532.0,124.0,8.0,null,null,null,null,766.0,null,193.0,80.0,null,null,212.0,null,null,262.0,null,null,null,null,null,226.0,181.0,68.0,null,null,null,13.0,null,null,1231.0,null,174.0,null,230.0,null,null,null,104.0,null,430.0,null,null,null,null,336.0,null,null,null,null,null,null,128.0,null,63.0,null,138.0,424.0,526.0,null,null,456.0,null,292.0,null,null,null,null,260.0,null,208.0,null,null,null,null,163.0,null,null,null,null,null,321.0,null,null,163.0,null,175.0,null,null,null,null,null,null,null,null,395.0,782.0,null,962.0,null,null,null,null,null,null,194.0,50.0,null,849.0,66.0,175.0,244.0,862.0,12.0,null,346.0,180.0,null,null,null,1292.0,100.0,122.0,null,null,null,null,null,112.0,null,311.0,252.0,null,null,null,null,null,null,null,null,322.0,null,93.0,26.0,328.0,null,null,null,null,null,null,67.0,878.0,null,176.0,316.0,null,222.0,532.0,476.0,null,null,1550.0,null,null,null,null,null,295.0,null,null,82.0,343.0,null,290.0,576.0,1.0,null,917.0,null,128.0,null,null,null,null,null,106.0,48.0,552.0,null,null,null,null,null,201.0,null,null,68.0,null,292.0,128.0,4.0,18.0,null,null,null,null,null,null,null,136.0,108.0,null,null,74.0,457.0,null,null,null,160.0,154.0,null,112.0,null,null,64.0,null,null,null,null,null,null,null,null,null,63.0,null,372.0,null,null,39.0,null,null,520.0,256.0,105.0,null,null,139.0,null,136.0,null,null,null,null,null,84.0,null,12.0,null,null,null,null,null,null,null,null,null,null,146.0,null,48.0,131.0,null,null,158.0,null,321.0,null,null,null,null,317.0,603.0,null,null,null,null,null,null,null,null,165.0,70.0,null,null,55.0,null,null,null,null,null,536.0,250.0,90.0,null,259.0,null,null,null,495.0,108.0,5.0,121.0,576.0,null,221.0,42.0,152.0,null,null,511.0,473.0,null,null,127.0,96.0,null,null,338.0,null,56.0,null,80.0,9.0,null,null,null,52.0,null,null,null,null,null,null,317.0,null,3.0,null,null,341.0,null,null,219.0,null,null,null,null,null,null,null,39.0,null,null,72.0,458.0,null,200.0,null,256.0,582.0,130.0,null,358.0,59.0,322.0,null,45.0,null,null,null,null,null,292.0,null,382.0,null,null,null,48.0,null,306.0,228.0,48.0,null,null,null,null,null,null,null,148.0,null,108.0,null,null,85.0,null,156.0,null,null,null,null,8.0,null,null,null,286.0,178.0,null,33.0,null,null,6.0,null,null,146.0,null,null,null,null,null,163.0,null,null,null,null,null,null,null,889.0,134.0,22.0,987.0,null,null,null,186.0,95.0,86.0,505.0,null],\"xaxis\":\"x3\",\"yaxis\":\"y3\",\"type\":\"histogram\"},{\"name\":\"Netherlands\",\"x\":[null,96.0,null,null,null,null,null,null,null,null,null,null,null,null,null,null,null,null,null,null,null,null,null,null,null,null,null,null,null,null,null,null,null,null,null,null,null,null,null,null,null,null,null,null,null,null,null,null,null,null,null,null,null,null,null,null,45.0,null,null,null,null,null,6668.0,null,null,null,null,null,null,null,null,null,null,null,null,null,null,null,null,null,null,null,null,null,null,null,null,null,null,null,null,null,null,null,null,null,null,8210.0,null,null,null,null,null,null,null,null,null,6072.0,288.0,null,null,5730.0,null,null,null,null,null,null,null,null,null,null,null,null,null,null,null,null,null,null,null,null,null,null,null,null,116.0,null,null,null,111.0,null,null,null,null,null,null,null,null,null,null,1116.0,null,null,null,null,null,null,null,null,null,null,null,null,null,null,null,null,null,null,null,null,null,null,null,8174.0,4034.0,null,null,null,2940.0,null,null,null,null,null,null,null,null,null,null,null,null,null,null,null,null,null,null,null,null,null,null,null,null,null,null,null,null,275.0,null,null,null,null,null,null,null,151.0,null,null,null,null,null,null,null,null,null,null,null,null,null,null,null,null,null,null,null,null,null,null,null,null,null,null,null,169.0,null,null,null,null,null,null,null,null,null,null,722.0,null,null,103.0,null,null,null,null,null,null,1070.0,11116.0,1208.0,null,null,null,null,null,null,null,null,null,null,null,null,null,null,null,null,636.0,700.0,null,null,null,null,null,null,null,null,null,null,null,null,null,null,null,null,null,null,null,null,null,null,null,null,null,null,null,null,null,null,null,null,null,null,426.0,null,null,null,null,null,null,null,null,null,null,null,null,null,null,null,null,null,null,null,null,null,null,null,null,null,null,null,null,null,null,200.0,72.0,null,null,null,null,null,924.0,12266.0,72.0,null,null,null,null,null,null,null,null,null,null,null,null,null,null,null,null,null,null,null,null,408.0,null,null,null,null,null,null,null,null,null,null,null,null,null,126.0,null,null,null,null,null,null,null,null,null,null,null,null,null,960.0,null,null,null,null,null,null,null,null,null,null,null,4664.0,null,null,null,null,64.0,null,null,164.0,1038.0,null,1836.0,null,null,328.0,null,null,null,null,null,null,312.0,null,null,null,null,null,null,null,null,null,null,null,null,null,null,84.0,null,null,null,null,null,null,null,null,null,null,null,null,null,null,null,null,null,null,null,null,null,null,null,null,null,4718.0,null,null,61.0,null,null,null,350.0,null,null,null,null,null,null,null,null,null,null,null,null,null,null,null,null,null,null,8998.0,424.0,1588.0,null,null,null,null,null,null,null,null,null,null,null,null,null,null,null,null,null,null,null,null,null,null,null,null,null,null,null,null,null,null,null,null,null,null,null,null,null,null,null,null,null,null,null,null,null,null,null,null,null,null,null,null,null,null,null,null,null,null,null,9.0,null,null,null,null,null,null,null,null,null,null,null,null,null,null,null,null,null,null,null,null,null,null,null,null,null,null,null,null,null,null,null,null,null,null,null,null,null,null,null,null,null,null,null,7807.0,375.0,null,null,null,null,14730.0,null,992.0,null,null,null,null,null,null,null,null,null,null,null,null,null,null,null,null,null,null,null,null,null,null,null,null,null,null,null,null,288.0,null,null,null,null,null,null,null,null,null,null,null,null,null,null,null,null,null,null,4628.0,480.0,null,null,null,null,null,null,null,null,null,null,null,null,null,null,null,null,null,null,null,null,null,null,null,null,null,null,null,null,null,null,null,null,null,null,null,null,null,null,null,null,null,null,1012.0,1.0,null,null,null,null,null,null,144.0,null,null,null,null,null,4951.0,null,null,null,null,null,null,null,null,null,null,null,null,null,6932.0,3717.0,null,null,null,null,null,null,null,null,null,null,null,null,null,null,null,null,null,null,null,null,null,null,545.0,null,null,null,null,null,null,null,null,null,null,null,null,null,null,null,null,null,null,null,null,null,null,null,null,null,null,null,null,null,null,null,null,null,null,null,null,null,null,null,null,null,null,null,null,null,null,null,null,null,3.0,null,null,null,332.0,15.0,null,null,null,null,null,null,null,null,null,null,null,null,null,null,null,null,null,null,211.0,null,null,null,null,null,null,null,null,null,null,null,null,null,null,null,null,null,null,null,null,null,null,null,null,null,null,null,null,null,null,null,null,null,null,null,null,null,null,null,null,null,null,null,null,null,null,null,null,null,269.0,null,null,null,null,null,null,null,null,null,13392.0,3020.0,1728.0,null,null,null,null,null,1780.0,null,null,null,660.0,29.0,null,null,null,null,null,null,null,null,null,3069.0,2400.0,300.0,null,null,null,null,null,null,null,null,null,null,null,null,null,null,null,null,null,null,null,null,null,null,2454.0,216.0,62.0,null,null,null,null,null,null,null,null,null,null,null,null,null,null,null,null,null,null,null,null,null,null,null,null,null,6712.0,1040.0,null,null,null,null,null,null,null,32.0,null,null,null,null,null,null,null,null,null,null,null,null,null,null,null,null,null,null,null,null,null,null,null,null,null,null,null,null,null,null,null,null,null,null,null,null,null,null,146.0,null,null,null,null,null,null,null,null,null,null,null,null,null,null,null,null,null,null,null,null,null,null,null,null,null,null,null,32.0,null,null,null,152.0,null,null,null,null,null,null,null,null,null,null,null,null,372.0,null,null,136.0,null,null,5760.0,200.0,1284.0,null,null,null,null,null,null,null,null,null,null,null,null,null,null,null,null,null,null,null,null,null,null,null,null,null,null,null,null,null,null,null,null,null,null,50.0,null,null,null,null,null,null,null,null,null,null,null,null,null,null,null,null,null,null,null,null,null,null,null,null,null,null,null,null,null,null,null,null,null,null,null,null,null,null,null,null,null,null,7366.0,452.0,null,null,null,null,null,140.0,null,null,null,null,null,null],\"xaxis\":\"x4\",\"yaxis\":\"y4\",\"type\":\"histogram\"}],                        {\"annotations\":[{\"font\":{\"size\":16},\"showarrow\":false,\"text\":\"EIRE\",\"x\":0.225,\"xanchor\":\"center\",\"xref\":\"paper\",\"y\":1.0,\"yanchor\":\"bottom\",\"yref\":\"paper\"},{\"font\":{\"size\":16},\"showarrow\":false,\"text\":\"Germany\",\"x\":0.775,\"xanchor\":\"center\",\"xref\":\"paper\",\"y\":1.0,\"yanchor\":\"bottom\",\"yref\":\"paper\"},{\"font\":{\"size\":16},\"showarrow\":false,\"text\":\"France\",\"x\":0.225,\"xanchor\":\"center\",\"xref\":\"paper\",\"y\":0.375,\"yanchor\":\"bottom\",\"yref\":\"paper\"},{\"font\":{\"size\":16},\"showarrow\":false,\"text\":\"Netherlands\",\"x\":0.775,\"xanchor\":\"center\",\"xref\":\"paper\",\"y\":0.375,\"yanchor\":\"bottom\",\"yref\":\"paper\"}],\"height\":600,\"template\":{\"data\":{\"barpolar\":[{\"marker\":{\"line\":{\"color\":\"#E5ECF6\",\"width\":0.5},\"pattern\":{\"fillmode\":\"overlay\",\"size\":10,\"solidity\":0.2}},\"type\":\"barpolar\"}],\"bar\":[{\"error_x\":{\"color\":\"#2a3f5f\"},\"error_y\":{\"color\":\"#2a3f5f\"},\"marker\":{\"line\":{\"color\":\"#E5ECF6\",\"width\":0.5},\"pattern\":{\"fillmode\":\"overlay\",\"size\":10,\"solidity\":0.2}},\"type\":\"bar\"}],\"carpet\":[{\"aaxis\":{\"endlinecolor\":\"#2a3f5f\",\"gridcolor\":\"white\",\"linecolor\":\"white\",\"minorgridcolor\":\"white\",\"startlinecolor\":\"#2a3f5f\"},\"baxis\":{\"endlinecolor\":\"#2a3f5f\",\"gridcolor\":\"white\",\"linecolor\":\"white\",\"minorgridcolor\":\"white\",\"startlinecolor\":\"#2a3f5f\"},\"type\":\"carpet\"}],\"choropleth\":[{\"colorbar\":{\"outlinewidth\":0,\"ticks\":\"\"},\"type\":\"choropleth\"}],\"contourcarpet\":[{\"colorbar\":{\"outlinewidth\":0,\"ticks\":\"\"},\"type\":\"contourcarpet\"}],\"contour\":[{\"colorbar\":{\"outlinewidth\":0,\"ticks\":\"\"},\"colorscale\":[[0.0,\"#0d0887\"],[0.1111111111111111,\"#46039f\"],[0.2222222222222222,\"#7201a8\"],[0.3333333333333333,\"#9c179e\"],[0.4444444444444444,\"#bd3786\"],[0.5555555555555556,\"#d8576b\"],[0.6666666666666666,\"#ed7953\"],[0.7777777777777778,\"#fb9f3a\"],[0.8888888888888888,\"#fdca26\"],[1.0,\"#f0f921\"]],\"type\":\"contour\"}],\"heatmapgl\":[{\"colorbar\":{\"outlinewidth\":0,\"ticks\":\"\"},\"colorscale\":[[0.0,\"#0d0887\"],[0.1111111111111111,\"#46039f\"],[0.2222222222222222,\"#7201a8\"],[0.3333333333333333,\"#9c179e\"],[0.4444444444444444,\"#bd3786\"],[0.5555555555555556,\"#d8576b\"],[0.6666666666666666,\"#ed7953\"],[0.7777777777777778,\"#fb9f3a\"],[0.8888888888888888,\"#fdca26\"],[1.0,\"#f0f921\"]],\"type\":\"heatmapgl\"}],\"heatmap\":[{\"colorbar\":{\"outlinewidth\":0,\"ticks\":\"\"},\"colorscale\":[[0.0,\"#0d0887\"],[0.1111111111111111,\"#46039f\"],[0.2222222222222222,\"#7201a8\"],[0.3333333333333333,\"#9c179e\"],[0.4444444444444444,\"#bd3786\"],[0.5555555555555556,\"#d8576b\"],[0.6666666666666666,\"#ed7953\"],[0.7777777777777778,\"#fb9f3a\"],[0.8888888888888888,\"#fdca26\"],[1.0,\"#f0f921\"]],\"type\":\"heatmap\"}],\"histogram2dcontour\":[{\"colorbar\":{\"outlinewidth\":0,\"ticks\":\"\"},\"colorscale\":[[0.0,\"#0d0887\"],[0.1111111111111111,\"#46039f\"],[0.2222222222222222,\"#7201a8\"],[0.3333333333333333,\"#9c179e\"],[0.4444444444444444,\"#bd3786\"],[0.5555555555555556,\"#d8576b\"],[0.6666666666666666,\"#ed7953\"],[0.7777777777777778,\"#fb9f3a\"],[0.8888888888888888,\"#fdca26\"],[1.0,\"#f0f921\"]],\"type\":\"histogram2dcontour\"}],\"histogram2d\":[{\"colorbar\":{\"outlinewidth\":0,\"ticks\":\"\"},\"colorscale\":[[0.0,\"#0d0887\"],[0.1111111111111111,\"#46039f\"],[0.2222222222222222,\"#7201a8\"],[0.3333333333333333,\"#9c179e\"],[0.4444444444444444,\"#bd3786\"],[0.5555555555555556,\"#d8576b\"],[0.6666666666666666,\"#ed7953\"],[0.7777777777777778,\"#fb9f3a\"],[0.8888888888888888,\"#fdca26\"],[1.0,\"#f0f921\"]],\"type\":\"histogram2d\"}],\"histogram\":[{\"marker\":{\"pattern\":{\"fillmode\":\"overlay\",\"size\":10,\"solidity\":0.2}},\"type\":\"histogram\"}],\"mesh3d\":[{\"colorbar\":{\"outlinewidth\":0,\"ticks\":\"\"},\"type\":\"mesh3d\"}],\"parcoords\":[{\"line\":{\"colorbar\":{\"outlinewidth\":0,\"ticks\":\"\"}},\"type\":\"parcoords\"}],\"pie\":[{\"automargin\":true,\"type\":\"pie\"}],\"scatter3d\":[{\"line\":{\"colorbar\":{\"outlinewidth\":0,\"ticks\":\"\"}},\"marker\":{\"colorbar\":{\"outlinewidth\":0,\"ticks\":\"\"}},\"type\":\"scatter3d\"}],\"scattercarpet\":[{\"marker\":{\"colorbar\":{\"outlinewidth\":0,\"ticks\":\"\"}},\"type\":\"scattercarpet\"}],\"scattergeo\":[{\"marker\":{\"colorbar\":{\"outlinewidth\":0,\"ticks\":\"\"}},\"type\":\"scattergeo\"}],\"scattergl\":[{\"marker\":{\"colorbar\":{\"outlinewidth\":0,\"ticks\":\"\"}},\"type\":\"scattergl\"}],\"scattermapbox\":[{\"marker\":{\"colorbar\":{\"outlinewidth\":0,\"ticks\":\"\"}},\"type\":\"scattermapbox\"}],\"scatterpolargl\":[{\"marker\":{\"colorbar\":{\"outlinewidth\":0,\"ticks\":\"\"}},\"type\":\"scatterpolargl\"}],\"scatterpolar\":[{\"marker\":{\"colorbar\":{\"outlinewidth\":0,\"ticks\":\"\"}},\"type\":\"scatterpolar\"}],\"scatter\":[{\"marker\":{\"colorbar\":{\"outlinewidth\":0,\"ticks\":\"\"}},\"type\":\"scatter\"}],\"scatterternary\":[{\"marker\":{\"colorbar\":{\"outlinewidth\":0,\"ticks\":\"\"}},\"type\":\"scatterternary\"}],\"surface\":[{\"colorbar\":{\"outlinewidth\":0,\"ticks\":\"\"},\"colorscale\":[[0.0,\"#0d0887\"],[0.1111111111111111,\"#46039f\"],[0.2222222222222222,\"#7201a8\"],[0.3333333333333333,\"#9c179e\"],[0.4444444444444444,\"#bd3786\"],[0.5555555555555556,\"#d8576b\"],[0.6666666666666666,\"#ed7953\"],[0.7777777777777778,\"#fb9f3a\"],[0.8888888888888888,\"#fdca26\"],[1.0,\"#f0f921\"]],\"type\":\"surface\"}],\"table\":[{\"cells\":{\"fill\":{\"color\":\"#EBF0F8\"},\"line\":{\"color\":\"white\"}},\"header\":{\"fill\":{\"color\":\"#C8D4E3\"},\"line\":{\"color\":\"white\"}},\"type\":\"table\"}]},\"layout\":{\"annotationdefaults\":{\"arrowcolor\":\"#2a3f5f\",\"arrowhead\":0,\"arrowwidth\":1},\"autotypenumbers\":\"strict\",\"coloraxis\":{\"colorbar\":{\"outlinewidth\":0,\"ticks\":\"\"}},\"colorscale\":{\"diverging\":[[0,\"#8e0152\"],[0.1,\"#c51b7d\"],[0.2,\"#de77ae\"],[0.3,\"#f1b6da\"],[0.4,\"#fde0ef\"],[0.5,\"#f7f7f7\"],[0.6,\"#e6f5d0\"],[0.7,\"#b8e186\"],[0.8,\"#7fbc41\"],[0.9,\"#4d9221\"],[1,\"#276419\"]],\"sequential\":[[0.0,\"#0d0887\"],[0.1111111111111111,\"#46039f\"],[0.2222222222222222,\"#7201a8\"],[0.3333333333333333,\"#9c179e\"],[0.4444444444444444,\"#bd3786\"],[0.5555555555555556,\"#d8576b\"],[0.6666666666666666,\"#ed7953\"],[0.7777777777777778,\"#fb9f3a\"],[0.8888888888888888,\"#fdca26\"],[1.0,\"#f0f921\"]],\"sequentialminus\":[[0.0,\"#0d0887\"],[0.1111111111111111,\"#46039f\"],[0.2222222222222222,\"#7201a8\"],[0.3333333333333333,\"#9c179e\"],[0.4444444444444444,\"#bd3786\"],[0.5555555555555556,\"#d8576b\"],[0.6666666666666666,\"#ed7953\"],[0.7777777777777778,\"#fb9f3a\"],[0.8888888888888888,\"#fdca26\"],[1.0,\"#f0f921\"]]},\"colorway\":[\"#636efa\",\"#EF553B\",\"#00cc96\",\"#ab63fa\",\"#FFA15A\",\"#19d3f3\",\"#FF6692\",\"#B6E880\",\"#FF97FF\",\"#FECB52\"],\"font\":{\"color\":\"#2a3f5f\"},\"geo\":{\"bgcolor\":\"white\",\"lakecolor\":\"white\",\"landcolor\":\"#E5ECF6\",\"showlakes\":true,\"showland\":true,\"subunitcolor\":\"white\"},\"hoverlabel\":{\"align\":\"left\"},\"hovermode\":\"closest\",\"mapbox\":{\"style\":\"light\"},\"paper_bgcolor\":\"white\",\"plot_bgcolor\":\"#E5ECF6\",\"polar\":{\"angularaxis\":{\"gridcolor\":\"white\",\"linecolor\":\"white\",\"ticks\":\"\"},\"bgcolor\":\"#E5ECF6\",\"radialaxis\":{\"gridcolor\":\"white\",\"linecolor\":\"white\",\"ticks\":\"\"}},\"scene\":{\"xaxis\":{\"backgroundcolor\":\"#E5ECF6\",\"gridcolor\":\"white\",\"gridwidth\":2,\"linecolor\":\"white\",\"showbackground\":true,\"ticks\":\"\",\"zerolinecolor\":\"white\"},\"yaxis\":{\"backgroundcolor\":\"#E5ECF6\",\"gridcolor\":\"white\",\"gridwidth\":2,\"linecolor\":\"white\",\"showbackground\":true,\"ticks\":\"\",\"zerolinecolor\":\"white\"},\"zaxis\":{\"backgroundcolor\":\"#E5ECF6\",\"gridcolor\":\"white\",\"gridwidth\":2,\"linecolor\":\"white\",\"showbackground\":true,\"ticks\":\"\",\"zerolinecolor\":\"white\"}},\"shapedefaults\":{\"line\":{\"color\":\"#2a3f5f\"}},\"ternary\":{\"aaxis\":{\"gridcolor\":\"white\",\"linecolor\":\"white\",\"ticks\":\"\"},\"baxis\":{\"gridcolor\":\"white\",\"linecolor\":\"white\",\"ticks\":\"\"},\"bgcolor\":\"#E5ECF6\",\"caxis\":{\"gridcolor\":\"white\",\"linecolor\":\"white\",\"ticks\":\"\"}},\"title\":{\"x\":0.05},\"xaxis\":{\"automargin\":true,\"gridcolor\":\"white\",\"linecolor\":\"white\",\"ticks\":\"\",\"title\":{\"standoff\":15},\"zerolinecolor\":\"white\",\"zerolinewidth\":2},\"yaxis\":{\"automargin\":true,\"gridcolor\":\"white\",\"linecolor\":\"white\",\"ticks\":\"\",\"title\":{\"standoff\":15},\"zerolinecolor\":\"white\",\"zerolinewidth\":2}}},\"title\":{\"text\":\"Histogram (Quantity per Invoice)\"},\"width\":1000,\"xaxis\":{\"anchor\":\"y\",\"domain\":[0.0,0.45]},\"yaxis\":{\"anchor\":\"x\",\"domain\":[0.625,1.0]},\"xaxis2\":{\"anchor\":\"y2\",\"domain\":[0.55,1.0]},\"yaxis2\":{\"anchor\":\"x2\",\"domain\":[0.625,1.0]},\"xaxis3\":{\"anchor\":\"y3\",\"domain\":[0.0,0.45]},\"yaxis3\":{\"anchor\":\"x3\",\"domain\":[0.0,0.375]},\"xaxis4\":{\"anchor\":\"y4\",\"domain\":[0.55,1.0]},\"yaxis4\":{\"anchor\":\"x4\",\"domain\":[0.0,0.375]}},                        {\"responsive\": true}                    ).then(function(){\n",
              "                            \n",
              "var gd = document.getElementById('45347ee9-e6a8-405c-b13d-faf1d833ced5');\n",
              "var x = new MutationObserver(function (mutations, observer) {{\n",
              "        var display = window.getComputedStyle(gd).display;\n",
              "        if (!display || display === 'none') {{\n",
              "            console.log([gd, 'removed!']);\n",
              "            Plotly.purge(gd);\n",
              "            observer.disconnect();\n",
              "        }}\n",
              "}});\n",
              "\n",
              "// Listen for the removal of the full notebook cells\n",
              "var notebookContainer = gd.closest('#notebook-container');\n",
              "if (notebookContainer) {{\n",
              "    x.observe(notebookContainer, {childList: true});\n",
              "}}\n",
              "\n",
              "// Listen for the clearing of the current output cell\n",
              "var outputEl = gd.closest('.output');\n",
              "if (outputEl) {{\n",
              "    x.observe(outputEl, {childList: true});\n",
              "}}\n",
              "\n",
              "                        })                };                });            </script>        </div>"
            ]
          },
          "metadata": {},
          "output_type": "display_data"
        }
      ],
      "source": [
        "traces = [go.Histogram(x=qty_invc[country], name=country) for country in qty_invc.columns]\n",
        "# Subplots\n",
        "fig = tools.make_subplots(rows=2, cols=2, subplot_titles=tuple(countries), print_grid=False)\n",
        "subplots = pd.MultiIndex.from_product([range(1,3), range(1,3)])\n",
        "for trace, subplot in zip(traces, subplots):\n",
        "    fig.append_trace(trace, subplot[0], subplot[1])\n",
        "# Layout\n",
        "fig['layout'].update(width=1000, height=600, title='Histogram (Quantity per Invoice)')\n",
        "# Plot\n",
        "py.iplot(fig)"
      ]
    },
    {
      "cell_type": "markdown",
      "metadata": {
        "id": "OXbE5Hg6NAtF"
      },
      "source": [
        "#### 5. Create an interactive side-by-side bar chart showing the revenue by country listed below (bars) for each of the products listed below."
      ]
    },
    {
      "cell_type": "code",
      "execution_count": 36,
      "metadata": {
        "id": "VVGK5IofNAtG"
      },
      "outputs": [],
      "source": [
        "# Variables\n",
        "product_list = ['JUMBO BAG RED RETROSPOT', 'CREAM HANGING HEART T-LIGHT HOLDER', 'REGENCY CAKESTAND 3 TIER']\n",
        "\n",
        "country_list = ['EIRE', 'Germany', 'France', 'Netherlands']"
      ]
    },
    {
      "cell_type": "code",
      "execution_count": 37,
      "metadata": {
        "id": "mu4DdnxINAtG"
      },
      "outputs": [],
      "source": [
        "# Transform the data\n",
        "rvn_country = data[data['Country'].isin(country_list) & data['Description'].isin(product_list)]\n",
        "rvn_country = rvn_country.pivot_table(index='Country', columns='Description', values='Revenue', aggfunc='sum')"
      ]
    },
    {
      "cell_type": "code",
      "execution_count": 38,
      "metadata": {},
      "outputs": [
        {
          "data": {
            "text/plain": [
              "Country\n",
              "EIRE           2740.80\n",
              "France          131.75\n",
              "Germany          35.40\n",
              "Netherlands    1167.00\n",
              "Name: CREAM HANGING HEART T-LIGHT HOLDER, dtype: float64"
            ]
          },
          "execution_count": 38,
          "metadata": {},
          "output_type": "execute_result"
        }
      ],
      "source": [
        "rvn_country['CREAM HANGING HEART T-LIGHT HOLDER']"
      ]
    },
    {
      "cell_type": "code",
      "execution_count": 39,
      "metadata": {},
      "outputs": [
        {
          "data": {
            "text/plain": [
              "Index(['EIRE', 'France', 'Germany', 'Netherlands'], dtype='object', name='Country')"
            ]
          },
          "execution_count": 39,
          "metadata": {},
          "output_type": "execute_result"
        }
      ],
      "source": [
        "rvn_country.index"
      ]
    },
    {
      "cell_type": "code",
      "execution_count": 40,
      "metadata": {},
      "outputs": [
        {
          "data": {
            "application/vnd.plotly.v1+json": {
              "config": {
                "linkText": "Export to plot.ly",
                "plotlyServerURL": "https://plot.ly",
                "showLink": false
              },
              "data": [
                {
                  "name": "CREAM HANGING HEART T-LIGHT HOLDER",
                  "type": "bar",
                  "x": [
                    "EIRE",
                    "France",
                    "Germany",
                    "Netherlands"
                  ],
                  "y": [
                    2740.8,
                    131.75,
                    35.40000000000001,
                    1167
                  ]
                },
                {
                  "name": "JUMBO BAG RED RETROSPOT",
                  "type": "bar",
                  "x": [
                    "EIRE",
                    "France",
                    "Germany",
                    "Netherlands"
                  ],
                  "y": [
                    278.72,
                    903.37,
                    1072.76,
                    3468
                  ]
                },
                {
                  "name": "REGENCY CAKESTAND 3 TIER",
                  "type": "bar",
                  "x": [
                    "EIRE",
                    "France",
                    "Germany",
                    "Netherlands"
                  ],
                  "y": [
                    7388.55,
                    2816.85,
                    9061.949999999999,
                    3166.35
                  ]
                }
              ],
              "layout": {
                "template": {
                  "data": {
                    "bar": [
                      {
                        "error_x": {
                          "color": "#2a3f5f"
                        },
                        "error_y": {
                          "color": "#2a3f5f"
                        },
                        "marker": {
                          "line": {
                            "color": "#E5ECF6",
                            "width": 0.5
                          },
                          "pattern": {
                            "fillmode": "overlay",
                            "size": 10,
                            "solidity": 0.2
                          }
                        },
                        "type": "bar"
                      }
                    ],
                    "barpolar": [
                      {
                        "marker": {
                          "line": {
                            "color": "#E5ECF6",
                            "width": 0.5
                          },
                          "pattern": {
                            "fillmode": "overlay",
                            "size": 10,
                            "solidity": 0.2
                          }
                        },
                        "type": "barpolar"
                      }
                    ],
                    "carpet": [
                      {
                        "aaxis": {
                          "endlinecolor": "#2a3f5f",
                          "gridcolor": "white",
                          "linecolor": "white",
                          "minorgridcolor": "white",
                          "startlinecolor": "#2a3f5f"
                        },
                        "baxis": {
                          "endlinecolor": "#2a3f5f",
                          "gridcolor": "white",
                          "linecolor": "white",
                          "minorgridcolor": "white",
                          "startlinecolor": "#2a3f5f"
                        },
                        "type": "carpet"
                      }
                    ],
                    "choropleth": [
                      {
                        "colorbar": {
                          "outlinewidth": 0,
                          "ticks": ""
                        },
                        "type": "choropleth"
                      }
                    ],
                    "contour": [
                      {
                        "colorbar": {
                          "outlinewidth": 0,
                          "ticks": ""
                        },
                        "colorscale": [
                          [
                            0,
                            "#0d0887"
                          ],
                          [
                            0.1111111111111111,
                            "#46039f"
                          ],
                          [
                            0.2222222222222222,
                            "#7201a8"
                          ],
                          [
                            0.3333333333333333,
                            "#9c179e"
                          ],
                          [
                            0.4444444444444444,
                            "#bd3786"
                          ],
                          [
                            0.5555555555555556,
                            "#d8576b"
                          ],
                          [
                            0.6666666666666666,
                            "#ed7953"
                          ],
                          [
                            0.7777777777777778,
                            "#fb9f3a"
                          ],
                          [
                            0.8888888888888888,
                            "#fdca26"
                          ],
                          [
                            1,
                            "#f0f921"
                          ]
                        ],
                        "type": "contour"
                      }
                    ],
                    "contourcarpet": [
                      {
                        "colorbar": {
                          "outlinewidth": 0,
                          "ticks": ""
                        },
                        "type": "contourcarpet"
                      }
                    ],
                    "heatmap": [
                      {
                        "colorbar": {
                          "outlinewidth": 0,
                          "ticks": ""
                        },
                        "colorscale": [
                          [
                            0,
                            "#0d0887"
                          ],
                          [
                            0.1111111111111111,
                            "#46039f"
                          ],
                          [
                            0.2222222222222222,
                            "#7201a8"
                          ],
                          [
                            0.3333333333333333,
                            "#9c179e"
                          ],
                          [
                            0.4444444444444444,
                            "#bd3786"
                          ],
                          [
                            0.5555555555555556,
                            "#d8576b"
                          ],
                          [
                            0.6666666666666666,
                            "#ed7953"
                          ],
                          [
                            0.7777777777777778,
                            "#fb9f3a"
                          ],
                          [
                            0.8888888888888888,
                            "#fdca26"
                          ],
                          [
                            1,
                            "#f0f921"
                          ]
                        ],
                        "type": "heatmap"
                      }
                    ],
                    "heatmapgl": [
                      {
                        "colorbar": {
                          "outlinewidth": 0,
                          "ticks": ""
                        },
                        "colorscale": [
                          [
                            0,
                            "#0d0887"
                          ],
                          [
                            0.1111111111111111,
                            "#46039f"
                          ],
                          [
                            0.2222222222222222,
                            "#7201a8"
                          ],
                          [
                            0.3333333333333333,
                            "#9c179e"
                          ],
                          [
                            0.4444444444444444,
                            "#bd3786"
                          ],
                          [
                            0.5555555555555556,
                            "#d8576b"
                          ],
                          [
                            0.6666666666666666,
                            "#ed7953"
                          ],
                          [
                            0.7777777777777778,
                            "#fb9f3a"
                          ],
                          [
                            0.8888888888888888,
                            "#fdca26"
                          ],
                          [
                            1,
                            "#f0f921"
                          ]
                        ],
                        "type": "heatmapgl"
                      }
                    ],
                    "histogram": [
                      {
                        "marker": {
                          "pattern": {
                            "fillmode": "overlay",
                            "size": 10,
                            "solidity": 0.2
                          }
                        },
                        "type": "histogram"
                      }
                    ],
                    "histogram2d": [
                      {
                        "colorbar": {
                          "outlinewidth": 0,
                          "ticks": ""
                        },
                        "colorscale": [
                          [
                            0,
                            "#0d0887"
                          ],
                          [
                            0.1111111111111111,
                            "#46039f"
                          ],
                          [
                            0.2222222222222222,
                            "#7201a8"
                          ],
                          [
                            0.3333333333333333,
                            "#9c179e"
                          ],
                          [
                            0.4444444444444444,
                            "#bd3786"
                          ],
                          [
                            0.5555555555555556,
                            "#d8576b"
                          ],
                          [
                            0.6666666666666666,
                            "#ed7953"
                          ],
                          [
                            0.7777777777777778,
                            "#fb9f3a"
                          ],
                          [
                            0.8888888888888888,
                            "#fdca26"
                          ],
                          [
                            1,
                            "#f0f921"
                          ]
                        ],
                        "type": "histogram2d"
                      }
                    ],
                    "histogram2dcontour": [
                      {
                        "colorbar": {
                          "outlinewidth": 0,
                          "ticks": ""
                        },
                        "colorscale": [
                          [
                            0,
                            "#0d0887"
                          ],
                          [
                            0.1111111111111111,
                            "#46039f"
                          ],
                          [
                            0.2222222222222222,
                            "#7201a8"
                          ],
                          [
                            0.3333333333333333,
                            "#9c179e"
                          ],
                          [
                            0.4444444444444444,
                            "#bd3786"
                          ],
                          [
                            0.5555555555555556,
                            "#d8576b"
                          ],
                          [
                            0.6666666666666666,
                            "#ed7953"
                          ],
                          [
                            0.7777777777777778,
                            "#fb9f3a"
                          ],
                          [
                            0.8888888888888888,
                            "#fdca26"
                          ],
                          [
                            1,
                            "#f0f921"
                          ]
                        ],
                        "type": "histogram2dcontour"
                      }
                    ],
                    "mesh3d": [
                      {
                        "colorbar": {
                          "outlinewidth": 0,
                          "ticks": ""
                        },
                        "type": "mesh3d"
                      }
                    ],
                    "parcoords": [
                      {
                        "line": {
                          "colorbar": {
                            "outlinewidth": 0,
                            "ticks": ""
                          }
                        },
                        "type": "parcoords"
                      }
                    ],
                    "pie": [
                      {
                        "automargin": true,
                        "type": "pie"
                      }
                    ],
                    "scatter": [
                      {
                        "marker": {
                          "colorbar": {
                            "outlinewidth": 0,
                            "ticks": ""
                          }
                        },
                        "type": "scatter"
                      }
                    ],
                    "scatter3d": [
                      {
                        "line": {
                          "colorbar": {
                            "outlinewidth": 0,
                            "ticks": ""
                          }
                        },
                        "marker": {
                          "colorbar": {
                            "outlinewidth": 0,
                            "ticks": ""
                          }
                        },
                        "type": "scatter3d"
                      }
                    ],
                    "scattercarpet": [
                      {
                        "marker": {
                          "colorbar": {
                            "outlinewidth": 0,
                            "ticks": ""
                          }
                        },
                        "type": "scattercarpet"
                      }
                    ],
                    "scattergeo": [
                      {
                        "marker": {
                          "colorbar": {
                            "outlinewidth": 0,
                            "ticks": ""
                          }
                        },
                        "type": "scattergeo"
                      }
                    ],
                    "scattergl": [
                      {
                        "marker": {
                          "colorbar": {
                            "outlinewidth": 0,
                            "ticks": ""
                          }
                        },
                        "type": "scattergl"
                      }
                    ],
                    "scattermapbox": [
                      {
                        "marker": {
                          "colorbar": {
                            "outlinewidth": 0,
                            "ticks": ""
                          }
                        },
                        "type": "scattermapbox"
                      }
                    ],
                    "scatterpolar": [
                      {
                        "marker": {
                          "colorbar": {
                            "outlinewidth": 0,
                            "ticks": ""
                          }
                        },
                        "type": "scatterpolar"
                      }
                    ],
                    "scatterpolargl": [
                      {
                        "marker": {
                          "colorbar": {
                            "outlinewidth": 0,
                            "ticks": ""
                          }
                        },
                        "type": "scatterpolargl"
                      }
                    ],
                    "scatterternary": [
                      {
                        "marker": {
                          "colorbar": {
                            "outlinewidth": 0,
                            "ticks": ""
                          }
                        },
                        "type": "scatterternary"
                      }
                    ],
                    "surface": [
                      {
                        "colorbar": {
                          "outlinewidth": 0,
                          "ticks": ""
                        },
                        "colorscale": [
                          [
                            0,
                            "#0d0887"
                          ],
                          [
                            0.1111111111111111,
                            "#46039f"
                          ],
                          [
                            0.2222222222222222,
                            "#7201a8"
                          ],
                          [
                            0.3333333333333333,
                            "#9c179e"
                          ],
                          [
                            0.4444444444444444,
                            "#bd3786"
                          ],
                          [
                            0.5555555555555556,
                            "#d8576b"
                          ],
                          [
                            0.6666666666666666,
                            "#ed7953"
                          ],
                          [
                            0.7777777777777778,
                            "#fb9f3a"
                          ],
                          [
                            0.8888888888888888,
                            "#fdca26"
                          ],
                          [
                            1,
                            "#f0f921"
                          ]
                        ],
                        "type": "surface"
                      }
                    ],
                    "table": [
                      {
                        "cells": {
                          "fill": {
                            "color": "#EBF0F8"
                          },
                          "line": {
                            "color": "white"
                          }
                        },
                        "header": {
                          "fill": {
                            "color": "#C8D4E3"
                          },
                          "line": {
                            "color": "white"
                          }
                        },
                        "type": "table"
                      }
                    ]
                  },
                  "layout": {
                    "annotationdefaults": {
                      "arrowcolor": "#2a3f5f",
                      "arrowhead": 0,
                      "arrowwidth": 1
                    },
                    "autotypenumbers": "strict",
                    "coloraxis": {
                      "colorbar": {
                        "outlinewidth": 0,
                        "ticks": ""
                      }
                    },
                    "colorscale": {
                      "diverging": [
                        [
                          0,
                          "#8e0152"
                        ],
                        [
                          0.1,
                          "#c51b7d"
                        ],
                        [
                          0.2,
                          "#de77ae"
                        ],
                        [
                          0.3,
                          "#f1b6da"
                        ],
                        [
                          0.4,
                          "#fde0ef"
                        ],
                        [
                          0.5,
                          "#f7f7f7"
                        ],
                        [
                          0.6,
                          "#e6f5d0"
                        ],
                        [
                          0.7,
                          "#b8e186"
                        ],
                        [
                          0.8,
                          "#7fbc41"
                        ],
                        [
                          0.9,
                          "#4d9221"
                        ],
                        [
                          1,
                          "#276419"
                        ]
                      ],
                      "sequential": [
                        [
                          0,
                          "#0d0887"
                        ],
                        [
                          0.1111111111111111,
                          "#46039f"
                        ],
                        [
                          0.2222222222222222,
                          "#7201a8"
                        ],
                        [
                          0.3333333333333333,
                          "#9c179e"
                        ],
                        [
                          0.4444444444444444,
                          "#bd3786"
                        ],
                        [
                          0.5555555555555556,
                          "#d8576b"
                        ],
                        [
                          0.6666666666666666,
                          "#ed7953"
                        ],
                        [
                          0.7777777777777778,
                          "#fb9f3a"
                        ],
                        [
                          0.8888888888888888,
                          "#fdca26"
                        ],
                        [
                          1,
                          "#f0f921"
                        ]
                      ],
                      "sequentialminus": [
                        [
                          0,
                          "#0d0887"
                        ],
                        [
                          0.1111111111111111,
                          "#46039f"
                        ],
                        [
                          0.2222222222222222,
                          "#7201a8"
                        ],
                        [
                          0.3333333333333333,
                          "#9c179e"
                        ],
                        [
                          0.4444444444444444,
                          "#bd3786"
                        ],
                        [
                          0.5555555555555556,
                          "#d8576b"
                        ],
                        [
                          0.6666666666666666,
                          "#ed7953"
                        ],
                        [
                          0.7777777777777778,
                          "#fb9f3a"
                        ],
                        [
                          0.8888888888888888,
                          "#fdca26"
                        ],
                        [
                          1,
                          "#f0f921"
                        ]
                      ]
                    },
                    "colorway": [
                      "#636efa",
                      "#EF553B",
                      "#00cc96",
                      "#ab63fa",
                      "#FFA15A",
                      "#19d3f3",
                      "#FF6692",
                      "#B6E880",
                      "#FF97FF",
                      "#FECB52"
                    ],
                    "font": {
                      "color": "#2a3f5f"
                    },
                    "geo": {
                      "bgcolor": "white",
                      "lakecolor": "white",
                      "landcolor": "#E5ECF6",
                      "showlakes": true,
                      "showland": true,
                      "subunitcolor": "white"
                    },
                    "hoverlabel": {
                      "align": "left"
                    },
                    "hovermode": "closest",
                    "mapbox": {
                      "style": "light"
                    },
                    "paper_bgcolor": "white",
                    "plot_bgcolor": "#E5ECF6",
                    "polar": {
                      "angularaxis": {
                        "gridcolor": "white",
                        "linecolor": "white",
                        "ticks": ""
                      },
                      "bgcolor": "#E5ECF6",
                      "radialaxis": {
                        "gridcolor": "white",
                        "linecolor": "white",
                        "ticks": ""
                      }
                    },
                    "scene": {
                      "xaxis": {
                        "backgroundcolor": "#E5ECF6",
                        "gridcolor": "white",
                        "gridwidth": 2,
                        "linecolor": "white",
                        "showbackground": true,
                        "ticks": "",
                        "zerolinecolor": "white"
                      },
                      "yaxis": {
                        "backgroundcolor": "#E5ECF6",
                        "gridcolor": "white",
                        "gridwidth": 2,
                        "linecolor": "white",
                        "showbackground": true,
                        "ticks": "",
                        "zerolinecolor": "white"
                      },
                      "zaxis": {
                        "backgroundcolor": "#E5ECF6",
                        "gridcolor": "white",
                        "gridwidth": 2,
                        "linecolor": "white",
                        "showbackground": true,
                        "ticks": "",
                        "zerolinecolor": "white"
                      }
                    },
                    "shapedefaults": {
                      "line": {
                        "color": "#2a3f5f"
                      }
                    },
                    "ternary": {
                      "aaxis": {
                        "gridcolor": "white",
                        "linecolor": "white",
                        "ticks": ""
                      },
                      "baxis": {
                        "gridcolor": "white",
                        "linecolor": "white",
                        "ticks": ""
                      },
                      "bgcolor": "#E5ECF6",
                      "caxis": {
                        "gridcolor": "white",
                        "linecolor": "white",
                        "ticks": ""
                      }
                    },
                    "title": {
                      "x": 0.05
                    },
                    "xaxis": {
                      "automargin": true,
                      "gridcolor": "white",
                      "linecolor": "white",
                      "ticks": "",
                      "title": {
                        "standoff": 15
                      },
                      "zerolinecolor": "white",
                      "zerolinewidth": 2
                    },
                    "yaxis": {
                      "automargin": true,
                      "gridcolor": "white",
                      "linecolor": "white",
                      "ticks": "",
                      "title": {
                        "standoff": 15
                      },
                      "zerolinecolor": "white",
                      "zerolinewidth": 2
                    }
                  }
                },
                "title": {
                  "text": "Total Revenue per country for given product"
                },
                "xaxis": {
                  "title": {
                    "text": "Country"
                  }
                },
                "yaxis": {
                  "title": {
                    "text": "Total Revenue"
                  }
                }
              }
            },
            "text/html": [
              "<div>                            <div id=\"bd16ccf7-3ffe-432f-8ebd-a7d85e64f779\" class=\"plotly-graph-div\" style=\"height:525px; width:100%;\"></div>            <script type=\"text/javascript\">                require([\"plotly\"], function(Plotly) {                    window.PLOTLYENV=window.PLOTLYENV || {};                                    if (document.getElementById(\"bd16ccf7-3ffe-432f-8ebd-a7d85e64f779\")) {                    Plotly.newPlot(                        \"bd16ccf7-3ffe-432f-8ebd-a7d85e64f779\",                        [{\"name\":\"CREAM HANGING HEART T-LIGHT HOLDER\",\"x\":[\"EIRE\",\"France\",\"Germany\",\"Netherlands\"],\"y\":[2740.8,131.75,35.40000000000001,1167.0],\"type\":\"bar\"},{\"name\":\"JUMBO BAG RED RETROSPOT\",\"x\":[\"EIRE\",\"France\",\"Germany\",\"Netherlands\"],\"y\":[278.72,903.37,1072.76,3468.0],\"type\":\"bar\"},{\"name\":\"REGENCY CAKESTAND 3 TIER\",\"x\":[\"EIRE\",\"France\",\"Germany\",\"Netherlands\"],\"y\":[7388.55,2816.85,9061.949999999999,3166.35],\"type\":\"bar\"}],                        {\"template\":{\"data\":{\"barpolar\":[{\"marker\":{\"line\":{\"color\":\"#E5ECF6\",\"width\":0.5},\"pattern\":{\"fillmode\":\"overlay\",\"size\":10,\"solidity\":0.2}},\"type\":\"barpolar\"}],\"bar\":[{\"error_x\":{\"color\":\"#2a3f5f\"},\"error_y\":{\"color\":\"#2a3f5f\"},\"marker\":{\"line\":{\"color\":\"#E5ECF6\",\"width\":0.5},\"pattern\":{\"fillmode\":\"overlay\",\"size\":10,\"solidity\":0.2}},\"type\":\"bar\"}],\"carpet\":[{\"aaxis\":{\"endlinecolor\":\"#2a3f5f\",\"gridcolor\":\"white\",\"linecolor\":\"white\",\"minorgridcolor\":\"white\",\"startlinecolor\":\"#2a3f5f\"},\"baxis\":{\"endlinecolor\":\"#2a3f5f\",\"gridcolor\":\"white\",\"linecolor\":\"white\",\"minorgridcolor\":\"white\",\"startlinecolor\":\"#2a3f5f\"},\"type\":\"carpet\"}],\"choropleth\":[{\"colorbar\":{\"outlinewidth\":0,\"ticks\":\"\"},\"type\":\"choropleth\"}],\"contourcarpet\":[{\"colorbar\":{\"outlinewidth\":0,\"ticks\":\"\"},\"type\":\"contourcarpet\"}],\"contour\":[{\"colorbar\":{\"outlinewidth\":0,\"ticks\":\"\"},\"colorscale\":[[0.0,\"#0d0887\"],[0.1111111111111111,\"#46039f\"],[0.2222222222222222,\"#7201a8\"],[0.3333333333333333,\"#9c179e\"],[0.4444444444444444,\"#bd3786\"],[0.5555555555555556,\"#d8576b\"],[0.6666666666666666,\"#ed7953\"],[0.7777777777777778,\"#fb9f3a\"],[0.8888888888888888,\"#fdca26\"],[1.0,\"#f0f921\"]],\"type\":\"contour\"}],\"heatmapgl\":[{\"colorbar\":{\"outlinewidth\":0,\"ticks\":\"\"},\"colorscale\":[[0.0,\"#0d0887\"],[0.1111111111111111,\"#46039f\"],[0.2222222222222222,\"#7201a8\"],[0.3333333333333333,\"#9c179e\"],[0.4444444444444444,\"#bd3786\"],[0.5555555555555556,\"#d8576b\"],[0.6666666666666666,\"#ed7953\"],[0.7777777777777778,\"#fb9f3a\"],[0.8888888888888888,\"#fdca26\"],[1.0,\"#f0f921\"]],\"type\":\"heatmapgl\"}],\"heatmap\":[{\"colorbar\":{\"outlinewidth\":0,\"ticks\":\"\"},\"colorscale\":[[0.0,\"#0d0887\"],[0.1111111111111111,\"#46039f\"],[0.2222222222222222,\"#7201a8\"],[0.3333333333333333,\"#9c179e\"],[0.4444444444444444,\"#bd3786\"],[0.5555555555555556,\"#d8576b\"],[0.6666666666666666,\"#ed7953\"],[0.7777777777777778,\"#fb9f3a\"],[0.8888888888888888,\"#fdca26\"],[1.0,\"#f0f921\"]],\"type\":\"heatmap\"}],\"histogram2dcontour\":[{\"colorbar\":{\"outlinewidth\":0,\"ticks\":\"\"},\"colorscale\":[[0.0,\"#0d0887\"],[0.1111111111111111,\"#46039f\"],[0.2222222222222222,\"#7201a8\"],[0.3333333333333333,\"#9c179e\"],[0.4444444444444444,\"#bd3786\"],[0.5555555555555556,\"#d8576b\"],[0.6666666666666666,\"#ed7953\"],[0.7777777777777778,\"#fb9f3a\"],[0.8888888888888888,\"#fdca26\"],[1.0,\"#f0f921\"]],\"type\":\"histogram2dcontour\"}],\"histogram2d\":[{\"colorbar\":{\"outlinewidth\":0,\"ticks\":\"\"},\"colorscale\":[[0.0,\"#0d0887\"],[0.1111111111111111,\"#46039f\"],[0.2222222222222222,\"#7201a8\"],[0.3333333333333333,\"#9c179e\"],[0.4444444444444444,\"#bd3786\"],[0.5555555555555556,\"#d8576b\"],[0.6666666666666666,\"#ed7953\"],[0.7777777777777778,\"#fb9f3a\"],[0.8888888888888888,\"#fdca26\"],[1.0,\"#f0f921\"]],\"type\":\"histogram2d\"}],\"histogram\":[{\"marker\":{\"pattern\":{\"fillmode\":\"overlay\",\"size\":10,\"solidity\":0.2}},\"type\":\"histogram\"}],\"mesh3d\":[{\"colorbar\":{\"outlinewidth\":0,\"ticks\":\"\"},\"type\":\"mesh3d\"}],\"parcoords\":[{\"line\":{\"colorbar\":{\"outlinewidth\":0,\"ticks\":\"\"}},\"type\":\"parcoords\"}],\"pie\":[{\"automargin\":true,\"type\":\"pie\"}],\"scatter3d\":[{\"line\":{\"colorbar\":{\"outlinewidth\":0,\"ticks\":\"\"}},\"marker\":{\"colorbar\":{\"outlinewidth\":0,\"ticks\":\"\"}},\"type\":\"scatter3d\"}],\"scattercarpet\":[{\"marker\":{\"colorbar\":{\"outlinewidth\":0,\"ticks\":\"\"}},\"type\":\"scattercarpet\"}],\"scattergeo\":[{\"marker\":{\"colorbar\":{\"outlinewidth\":0,\"ticks\":\"\"}},\"type\":\"scattergeo\"}],\"scattergl\":[{\"marker\":{\"colorbar\":{\"outlinewidth\":0,\"ticks\":\"\"}},\"type\":\"scattergl\"}],\"scattermapbox\":[{\"marker\":{\"colorbar\":{\"outlinewidth\":0,\"ticks\":\"\"}},\"type\":\"scattermapbox\"}],\"scatterpolargl\":[{\"marker\":{\"colorbar\":{\"outlinewidth\":0,\"ticks\":\"\"}},\"type\":\"scatterpolargl\"}],\"scatterpolar\":[{\"marker\":{\"colorbar\":{\"outlinewidth\":0,\"ticks\":\"\"}},\"type\":\"scatterpolar\"}],\"scatter\":[{\"marker\":{\"colorbar\":{\"outlinewidth\":0,\"ticks\":\"\"}},\"type\":\"scatter\"}],\"scatterternary\":[{\"marker\":{\"colorbar\":{\"outlinewidth\":0,\"ticks\":\"\"}},\"type\":\"scatterternary\"}],\"surface\":[{\"colorbar\":{\"outlinewidth\":0,\"ticks\":\"\"},\"colorscale\":[[0.0,\"#0d0887\"],[0.1111111111111111,\"#46039f\"],[0.2222222222222222,\"#7201a8\"],[0.3333333333333333,\"#9c179e\"],[0.4444444444444444,\"#bd3786\"],[0.5555555555555556,\"#d8576b\"],[0.6666666666666666,\"#ed7953\"],[0.7777777777777778,\"#fb9f3a\"],[0.8888888888888888,\"#fdca26\"],[1.0,\"#f0f921\"]],\"type\":\"surface\"}],\"table\":[{\"cells\":{\"fill\":{\"color\":\"#EBF0F8\"},\"line\":{\"color\":\"white\"}},\"header\":{\"fill\":{\"color\":\"#C8D4E3\"},\"line\":{\"color\":\"white\"}},\"type\":\"table\"}]},\"layout\":{\"annotationdefaults\":{\"arrowcolor\":\"#2a3f5f\",\"arrowhead\":0,\"arrowwidth\":1},\"autotypenumbers\":\"strict\",\"coloraxis\":{\"colorbar\":{\"outlinewidth\":0,\"ticks\":\"\"}},\"colorscale\":{\"diverging\":[[0,\"#8e0152\"],[0.1,\"#c51b7d\"],[0.2,\"#de77ae\"],[0.3,\"#f1b6da\"],[0.4,\"#fde0ef\"],[0.5,\"#f7f7f7\"],[0.6,\"#e6f5d0\"],[0.7,\"#b8e186\"],[0.8,\"#7fbc41\"],[0.9,\"#4d9221\"],[1,\"#276419\"]],\"sequential\":[[0.0,\"#0d0887\"],[0.1111111111111111,\"#46039f\"],[0.2222222222222222,\"#7201a8\"],[0.3333333333333333,\"#9c179e\"],[0.4444444444444444,\"#bd3786\"],[0.5555555555555556,\"#d8576b\"],[0.6666666666666666,\"#ed7953\"],[0.7777777777777778,\"#fb9f3a\"],[0.8888888888888888,\"#fdca26\"],[1.0,\"#f0f921\"]],\"sequentialminus\":[[0.0,\"#0d0887\"],[0.1111111111111111,\"#46039f\"],[0.2222222222222222,\"#7201a8\"],[0.3333333333333333,\"#9c179e\"],[0.4444444444444444,\"#bd3786\"],[0.5555555555555556,\"#d8576b\"],[0.6666666666666666,\"#ed7953\"],[0.7777777777777778,\"#fb9f3a\"],[0.8888888888888888,\"#fdca26\"],[1.0,\"#f0f921\"]]},\"colorway\":[\"#636efa\",\"#EF553B\",\"#00cc96\",\"#ab63fa\",\"#FFA15A\",\"#19d3f3\",\"#FF6692\",\"#B6E880\",\"#FF97FF\",\"#FECB52\"],\"font\":{\"color\":\"#2a3f5f\"},\"geo\":{\"bgcolor\":\"white\",\"lakecolor\":\"white\",\"landcolor\":\"#E5ECF6\",\"showlakes\":true,\"showland\":true,\"subunitcolor\":\"white\"},\"hoverlabel\":{\"align\":\"left\"},\"hovermode\":\"closest\",\"mapbox\":{\"style\":\"light\"},\"paper_bgcolor\":\"white\",\"plot_bgcolor\":\"#E5ECF6\",\"polar\":{\"angularaxis\":{\"gridcolor\":\"white\",\"linecolor\":\"white\",\"ticks\":\"\"},\"bgcolor\":\"#E5ECF6\",\"radialaxis\":{\"gridcolor\":\"white\",\"linecolor\":\"white\",\"ticks\":\"\"}},\"scene\":{\"xaxis\":{\"backgroundcolor\":\"#E5ECF6\",\"gridcolor\":\"white\",\"gridwidth\":2,\"linecolor\":\"white\",\"showbackground\":true,\"ticks\":\"\",\"zerolinecolor\":\"white\"},\"yaxis\":{\"backgroundcolor\":\"#E5ECF6\",\"gridcolor\":\"white\",\"gridwidth\":2,\"linecolor\":\"white\",\"showbackground\":true,\"ticks\":\"\",\"zerolinecolor\":\"white\"},\"zaxis\":{\"backgroundcolor\":\"#E5ECF6\",\"gridcolor\":\"white\",\"gridwidth\":2,\"linecolor\":\"white\",\"showbackground\":true,\"ticks\":\"\",\"zerolinecolor\":\"white\"}},\"shapedefaults\":{\"line\":{\"color\":\"#2a3f5f\"}},\"ternary\":{\"aaxis\":{\"gridcolor\":\"white\",\"linecolor\":\"white\",\"ticks\":\"\"},\"baxis\":{\"gridcolor\":\"white\",\"linecolor\":\"white\",\"ticks\":\"\"},\"bgcolor\":\"#E5ECF6\",\"caxis\":{\"gridcolor\":\"white\",\"linecolor\":\"white\",\"ticks\":\"\"}},\"title\":{\"x\":0.05},\"xaxis\":{\"automargin\":true,\"gridcolor\":\"white\",\"linecolor\":\"white\",\"ticks\":\"\",\"title\":{\"standoff\":15},\"zerolinecolor\":\"white\",\"zerolinewidth\":2},\"yaxis\":{\"automargin\":true,\"gridcolor\":\"white\",\"linecolor\":\"white\",\"ticks\":\"\",\"title\":{\"standoff\":15},\"zerolinecolor\":\"white\",\"zerolinewidth\":2}}},\"title\":{\"text\":\"Total Revenue per country for given product\"},\"xaxis\":{\"title\":{\"text\":\"Country\"}},\"yaxis\":{\"title\":{\"text\":\"Total Revenue\"}}},                        {\"responsive\": true}                    ).then(function(){\n",
              "                            \n",
              "var gd = document.getElementById('bd16ccf7-3ffe-432f-8ebd-a7d85e64f779');\n",
              "var x = new MutationObserver(function (mutations, observer) {{\n",
              "        var display = window.getComputedStyle(gd).display;\n",
              "        if (!display || display === 'none') {{\n",
              "            console.log([gd, 'removed!']);\n",
              "            Plotly.purge(gd);\n",
              "            observer.disconnect();\n",
              "        }}\n",
              "}});\n",
              "\n",
              "// Listen for the removal of the full notebook cells\n",
              "var notebookContainer = gd.closest('#notebook-container');\n",
              "if (notebookContainer) {{\n",
              "    x.observe(notebookContainer, {childList: true});\n",
              "}}\n",
              "\n",
              "// Listen for the clearing of the current output cell\n",
              "var outputEl = gd.closest('.output');\n",
              "if (outputEl) {{\n",
              "    x.observe(outputEl, {childList: true});\n",
              "}}\n",
              "\n",
              "                        })                };                });            </script>        </div>"
            ]
          },
          "metadata": {},
          "output_type": "display_data"
        }
      ],
      "source": [
        "# Traces\n",
        "traces = [\n",
        "\tgo.Bar(x=rvn_country.index, y=rvn_country['CREAM HANGING HEART T-LIGHT HOLDER'], name='CREAM HANGING HEART T-LIGHT HOLDER'),\n",
        "\tgo.Bar(x=rvn_country.index, y=rvn_country['JUMBO BAG RED RETROSPOT'], name='JUMBO BAG RED RETROSPOT'),\n",
        "\tgo.Bar(x=rvn_country.index, y=rvn_country['REGENCY CAKESTAND 3 TIER'], name='REGENCY CAKESTAND 3 TIER'),\n",
        "]\n",
        "# Layout\n",
        "layout = go.Layout(xaxis=go.layout.XAxis(title=go.layout.xaxis.Title(text='Country')),\n",
        "                   yaxis=go.layout.YAxis(title=go.layout.yaxis.Title(text='Total Revenue')),\n",
        "                   title=go.layout.Title(text='Total Revenue per country for given product'))\n",
        "\n",
        "\n",
        "# Plot\n",
        "py.iplot(go.Figure(data=traces, layout=layout));"
      ]
    },
    {
      "cell_type": "markdown",
      "metadata": {
        "id": "a59UtlFxNAtG"
      },
      "source": [
        "#### 6. Create an interactive line chart showing quantity sold by day for the United Kingdom. Add drop-down boxes for Year and Month that allow you to filter the date range that appears in the chart."
      ]
    },
    {
      "cell_type": "code",
      "execution_count": 41,
      "metadata": {},
      "outputs": [
        {
          "data": {
            "text/html": [
              "<div>\n",
              "<style scoped>\n",
              "    .dataframe tbody tr th:only-of-type {\n",
              "        vertical-align: middle;\n",
              "    }\n",
              "\n",
              "    .dataframe tbody tr th {\n",
              "        vertical-align: top;\n",
              "    }\n",
              "\n",
              "    .dataframe thead th {\n",
              "        text-align: right;\n",
              "    }\n",
              "</style>\n",
              "<table border=\"1\" class=\"dataframe\">\n",
              "  <thead>\n",
              "    <tr style=\"text-align: right;\">\n",
              "      <th></th>\n",
              "      <th>InvoiceNo</th>\n",
              "      <th>InvoiceDate</th>\n",
              "      <th>StockCode</th>\n",
              "      <th>Description</th>\n",
              "      <th>Quantity</th>\n",
              "      <th>UnitPrice</th>\n",
              "      <th>Revenue</th>\n",
              "      <th>CustomerID</th>\n",
              "      <th>Country</th>\n",
              "      <th>month</th>\n",
              "      <th>year</th>\n",
              "    </tr>\n",
              "  </thead>\n",
              "  <tbody>\n",
              "    <tr>\n",
              "      <th>0</th>\n",
              "      <td>536365</td>\n",
              "      <td>2010-12-01 08:26:00</td>\n",
              "      <td>85123A</td>\n",
              "      <td>CREAM HANGING HEART T-LIGHT HOLDER</td>\n",
              "      <td>6</td>\n",
              "      <td>2.55</td>\n",
              "      <td>15.3</td>\n",
              "      <td>17850</td>\n",
              "      <td>United Kingdom</td>\n",
              "      <td>12</td>\n",
              "      <td>2010</td>\n",
              "    </tr>\n",
              "    <tr>\n",
              "      <th>1</th>\n",
              "      <td>536373</td>\n",
              "      <td>2010-12-01 09:02:00</td>\n",
              "      <td>85123A</td>\n",
              "      <td>CREAM HANGING HEART T-LIGHT HOLDER</td>\n",
              "      <td>6</td>\n",
              "      <td>2.55</td>\n",
              "      <td>15.3</td>\n",
              "      <td>17850</td>\n",
              "      <td>United Kingdom</td>\n",
              "      <td>12</td>\n",
              "      <td>2010</td>\n",
              "    </tr>\n",
              "    <tr>\n",
              "      <th>2</th>\n",
              "      <td>536375</td>\n",
              "      <td>2010-12-01 09:32:00</td>\n",
              "      <td>85123A</td>\n",
              "      <td>CREAM HANGING HEART T-LIGHT HOLDER</td>\n",
              "      <td>6</td>\n",
              "      <td>2.55</td>\n",
              "      <td>15.3</td>\n",
              "      <td>17850</td>\n",
              "      <td>United Kingdom</td>\n",
              "      <td>12</td>\n",
              "      <td>2010</td>\n",
              "    </tr>\n",
              "    <tr>\n",
              "      <th>3</th>\n",
              "      <td>536390</td>\n",
              "      <td>2010-12-01 10:19:00</td>\n",
              "      <td>85123A</td>\n",
              "      <td>CREAM HANGING HEART T-LIGHT HOLDER</td>\n",
              "      <td>64</td>\n",
              "      <td>2.55</td>\n",
              "      <td>163.2</td>\n",
              "      <td>17511</td>\n",
              "      <td>United Kingdom</td>\n",
              "      <td>12</td>\n",
              "      <td>2010</td>\n",
              "    </tr>\n",
              "    <tr>\n",
              "      <th>4</th>\n",
              "      <td>536394</td>\n",
              "      <td>2010-12-01 10:39:00</td>\n",
              "      <td>85123A</td>\n",
              "      <td>CREAM HANGING HEART T-LIGHT HOLDER</td>\n",
              "      <td>32</td>\n",
              "      <td>2.55</td>\n",
              "      <td>81.6</td>\n",
              "      <td>13408</td>\n",
              "      <td>United Kingdom</td>\n",
              "      <td>12</td>\n",
              "      <td>2010</td>\n",
              "    </tr>\n",
              "  </tbody>\n",
              "</table>\n",
              "</div>"
            ],
            "text/plain": [
              "   InvoiceNo         InvoiceDate StockCode  \\\n",
              "0     536365 2010-12-01 08:26:00    85123A   \n",
              "1     536373 2010-12-01 09:02:00    85123A   \n",
              "2     536375 2010-12-01 09:32:00    85123A   \n",
              "3     536390 2010-12-01 10:19:00    85123A   \n",
              "4     536394 2010-12-01 10:39:00    85123A   \n",
              "\n",
              "                          Description  Quantity  UnitPrice  Revenue  \\\n",
              "0  CREAM HANGING HEART T-LIGHT HOLDER         6       2.55     15.3   \n",
              "1  CREAM HANGING HEART T-LIGHT HOLDER         6       2.55     15.3   \n",
              "2  CREAM HANGING HEART T-LIGHT HOLDER         6       2.55     15.3   \n",
              "3  CREAM HANGING HEART T-LIGHT HOLDER        64       2.55    163.2   \n",
              "4  CREAM HANGING HEART T-LIGHT HOLDER        32       2.55     81.6   \n",
              "\n",
              "   CustomerID         Country  month  year  \n",
              "0       17850  United Kingdom     12  2010  \n",
              "1       17850  United Kingdom     12  2010  \n",
              "2       17850  United Kingdom     12  2010  \n",
              "3       17511  United Kingdom     12  2010  \n",
              "4       13408  United Kingdom     12  2010  "
            ]
          },
          "execution_count": 41,
          "metadata": {},
          "output_type": "execute_result"
        }
      ],
      "source": [
        "data.head()"
      ]
    },
    {
      "cell_type": "code",
      "execution_count": 42,
      "metadata": {
        "id": "t1v0acnwNAtH"
      },
      "outputs": [],
      "source": [
        "# Transform the data\n",
        "data['Year'] = pd.DatetimeIndex(data['InvoiceDate']).year;\n",
        "data['Month'] = pd.DatetimeIndex(data['InvoiceDate']).month;\n",
        "data['Day'] = pd.DatetimeIndex(data['InvoiceDate']).day;\n",
        "uk = data[data['Country']=='United Kingdom'];"
      ]
    },
    {
      "cell_type": "code",
      "execution_count": 44,
      "metadata": {
        "id": "84QsN0n3NAtH"
      },
      "outputs": [],
      "source": [
        "# Variables\n",
        "years = uk['Year'].unique()\n",
        "months = uk['Month'].unique()\n",
        "months.sort()"
      ]
    },
    {
      "cell_type": "code",
      "execution_count": 45,
      "metadata": {},
      "outputs": [],
      "source": [
        "uk = uk.groupby(uk['InvoiceDate'].dt.date).sum()"
      ]
    },
    {
      "cell_type": "code",
      "execution_count": 46,
      "metadata": {},
      "outputs": [
        {
          "data": {
            "text/html": [
              "<div>\n",
              "<style scoped>\n",
              "    .dataframe tbody tr th:only-of-type {\n",
              "        vertical-align: middle;\n",
              "    }\n",
              "\n",
              "    .dataframe tbody tr th {\n",
              "        vertical-align: top;\n",
              "    }\n",
              "\n",
              "    .dataframe thead th {\n",
              "        text-align: right;\n",
              "    }\n",
              "</style>\n",
              "<table border=\"1\" class=\"dataframe\">\n",
              "  <thead>\n",
              "    <tr style=\"text-align: right;\">\n",
              "      <th></th>\n",
              "      <th>InvoiceDate</th>\n",
              "      <th>InvoiceNo</th>\n",
              "      <th>Quantity</th>\n",
              "      <th>UnitPrice</th>\n",
              "      <th>Revenue</th>\n",
              "      <th>CustomerID</th>\n",
              "      <th>month</th>\n",
              "      <th>year</th>\n",
              "      <th>Year</th>\n",
              "      <th>Month</th>\n",
              "      <th>Day</th>\n",
              "    </tr>\n",
              "  </thead>\n",
              "  <tbody>\n",
              "    <tr>\n",
              "      <th>0</th>\n",
              "      <td>2010-12-01</td>\n",
              "      <td>962990626</td>\n",
              "      <td>21308</td>\n",
              "      <td>5695.23</td>\n",
              "      <td>42213.58</td>\n",
              "      <td>28546258</td>\n",
              "      <td>21540</td>\n",
              "      <td>3607950</td>\n",
              "      <td>2010</td>\n",
              "      <td>12</td>\n",
              "      <td>1</td>\n",
              "    </tr>\n",
              "    <tr>\n",
              "      <th>1</th>\n",
              "      <td>2010-12-02</td>\n",
              "      <td>1066483759</td>\n",
              "      <td>30987</td>\n",
              "      <td>6333.65</td>\n",
              "      <td>47123.68</td>\n",
              "      <td>32068635</td>\n",
              "      <td>23844</td>\n",
              "      <td>3993870</td>\n",
              "      <td>2010</td>\n",
              "      <td>12</td>\n",
              "      <td>2</td>\n",
              "    </tr>\n",
              "    <tr>\n",
              "      <th>2</th>\n",
              "      <td>2010-12-03</td>\n",
              "      <td>495069128</td>\n",
              "      <td>7646</td>\n",
              "      <td>2898.19</td>\n",
              "      <td>18833.99</td>\n",
              "      <td>14412975</td>\n",
              "      <td>11064</td>\n",
              "      <td>1853220</td>\n",
              "      <td>2010</td>\n",
              "      <td>12</td>\n",
              "      <td>3</td>\n",
              "    </tr>\n",
              "    <tr>\n",
              "      <th>3</th>\n",
              "      <td>2010-12-05</td>\n",
              "      <td>1326219980</td>\n",
              "      <td>13603</td>\n",
              "      <td>6957.73</td>\n",
              "      <td>25807.89</td>\n",
              "      <td>38058112</td>\n",
              "      <td>29628</td>\n",
              "      <td>4962690</td>\n",
              "      <td>2010</td>\n",
              "      <td>12</td>\n",
              "      <td>5</td>\n",
              "    </tr>\n",
              "    <tr>\n",
              "      <th>4</th>\n",
              "      <td>2010-12-06</td>\n",
              "      <td>1012381024</td>\n",
              "      <td>15515</td>\n",
              "      <td>5418.19</td>\n",
              "      <td>29651.87</td>\n",
              "      <td>30091235</td>\n",
              "      <td>22608</td>\n",
              "      <td>3786840</td>\n",
              "      <td>2010</td>\n",
              "      <td>12</td>\n",
              "      <td>6</td>\n",
              "    </tr>\n",
              "    <tr>\n",
              "      <th>...</th>\n",
              "      <td>...</td>\n",
              "      <td>...</td>\n",
              "      <td>...</td>\n",
              "      <td>...</td>\n",
              "      <td>...</td>\n",
              "      <td>...</td>\n",
              "      <td>...</td>\n",
              "      <td>...</td>\n",
              "      <td>...</td>\n",
              "      <td>...</td>\n",
              "      <td>...</td>\n",
              "    </tr>\n",
              "    <tr>\n",
              "      <th>300</th>\n",
              "      <td>2011-12-05</td>\n",
              "      <td>1882509023</td>\n",
              "      <td>35874</td>\n",
              "      <td>8337.57</td>\n",
              "      <td>52893.63</td>\n",
              "      <td>49661076</td>\n",
              "      <td>38904</td>\n",
              "      <td>6519662</td>\n",
              "      <td>2011</td>\n",
              "      <td>12</td>\n",
              "      <td>5</td>\n",
              "    </tr>\n",
              "    <tr>\n",
              "      <th>301</th>\n",
              "      <td>2011-12-06</td>\n",
              "      <td>1362188999</td>\n",
              "      <td>25909</td>\n",
              "      <td>5273.92</td>\n",
              "      <td>42063.55</td>\n",
              "      <td>37641959</td>\n",
              "      <td>28140</td>\n",
              "      <td>4715795</td>\n",
              "      <td>2011</td>\n",
              "      <td>12</td>\n",
              "      <td>6</td>\n",
              "    </tr>\n",
              "    <tr>\n",
              "      <th>302</th>\n",
              "      <td>2011-12-07</td>\n",
              "      <td>1001277220</td>\n",
              "      <td>29078</td>\n",
              "      <td>4011.86</td>\n",
              "      <td>49238.47</td>\n",
              "      <td>27133558</td>\n",
              "      <td>20676</td>\n",
              "      <td>3464953</td>\n",
              "      <td>2011</td>\n",
              "      <td>12</td>\n",
              "      <td>7</td>\n",
              "    </tr>\n",
              "    <tr>\n",
              "      <th>303</th>\n",
              "      <td>2011-12-08</td>\n",
              "      <td>1390073879</td>\n",
              "      <td>25441</td>\n",
              "      <td>6134.17</td>\n",
              "      <td>47146.11</td>\n",
              "      <td>36337109</td>\n",
              "      <td>28692</td>\n",
              "      <td>4808301</td>\n",
              "      <td>2011</td>\n",
              "      <td>12</td>\n",
              "      <td>8</td>\n",
              "    </tr>\n",
              "    <tr>\n",
              "      <th>304</th>\n",
              "      <td>2011-12-09</td>\n",
              "      <td>253544933</td>\n",
              "      <td>6172</td>\n",
              "      <td>1021.89</td>\n",
              "      <td>11093.18</td>\n",
              "      <td>6732613</td>\n",
              "      <td>5232</td>\n",
              "      <td>876796</td>\n",
              "      <td>2011</td>\n",
              "      <td>12</td>\n",
              "      <td>9</td>\n",
              "    </tr>\n",
              "  </tbody>\n",
              "</table>\n",
              "<p>305 rows × 11 columns</p>\n",
              "</div>"
            ],
            "text/plain": [
              "    InvoiceDate   InvoiceNo  Quantity  UnitPrice   Revenue  CustomerID  month  \\\n",
              "0    2010-12-01   962990626     21308    5695.23  42213.58    28546258  21540   \n",
              "1    2010-12-02  1066483759     30987    6333.65  47123.68    32068635  23844   \n",
              "2    2010-12-03   495069128      7646    2898.19  18833.99    14412975  11064   \n",
              "3    2010-12-05  1326219980     13603    6957.73  25807.89    38058112  29628   \n",
              "4    2010-12-06  1012381024     15515    5418.19  29651.87    30091235  22608   \n",
              "..          ...         ...       ...        ...       ...         ...    ...   \n",
              "300  2011-12-05  1882509023     35874    8337.57  52893.63    49661076  38904   \n",
              "301  2011-12-06  1362188999     25909    5273.92  42063.55    37641959  28140   \n",
              "302  2011-12-07  1001277220     29078    4011.86  49238.47    27133558  20676   \n",
              "303  2011-12-08  1390073879     25441    6134.17  47146.11    36337109  28692   \n",
              "304  2011-12-09   253544933      6172    1021.89  11093.18     6732613   5232   \n",
              "\n",
              "        year  Year  Month  Day  \n",
              "0    3607950  2010     12    1  \n",
              "1    3993870  2010     12    2  \n",
              "2    1853220  2010     12    3  \n",
              "3    4962690  2010     12    5  \n",
              "4    3786840  2010     12    6  \n",
              "..       ...   ...    ...  ...  \n",
              "300  6519662  2011     12    5  \n",
              "301  4715795  2011     12    6  \n",
              "302  3464953  2011     12    7  \n",
              "303  4808301  2011     12    8  \n",
              "304   876796  2011     12    9  \n",
              "\n",
              "[305 rows x 11 columns]"
            ]
          },
          "execution_count": 46,
          "metadata": {},
          "output_type": "execute_result"
        }
      ],
      "source": [
        "uk = uk.reset_index()\n",
        "uk['Year'] = pd.DatetimeIndex(uk['InvoiceDate']).year\n",
        "uk['Month'] = pd.DatetimeIndex(uk['InvoiceDate']).month\n",
        "uk['Day'] = pd.DatetimeIndex(uk['InvoiceDate']).day\n",
        "uk"
      ]
    },
    {
      "cell_type": "code",
      "execution_count": 48,
      "metadata": {
        "colab": {
          "referenced_widgets": [
            "32df48c1d431443bb2f121f23202ae9b"
          ]
        },
        "id": "HKRGdmQ5NAtH",
        "outputId": "86c73a78-39ca-495c-f03d-1925da9c013a"
      },
      "outputs": [
        {
          "data": {
            "application/vnd.jupyter.widget-view+json": {
              "model_id": "1f74df92779a495bbc8af48a056a8f77",
              "version_major": 2,
              "version_minor": 0
            },
            "text/plain": [
              "interactive(children=(Dropdown(description='year', index=1, options=(2010, 2011), value=2011), Dropdown(descri…"
            ]
          },
          "metadata": {},
          "output_type": "display_data"
        }
      ],
      "source": [
        "# Interactive menu\n",
        "@interact(year=years, \n",
        "          month=months)\n",
        "\n",
        "# Update function\n",
        "def linechart(year=2011, month=4):\n",
        "    # Transform the data\n",
        "    uk_data= uk[(uk['Year'] ==  year) & (uk['Month'] == month)]\n",
        "    # Traces\n",
        "    trace = go.Line(x=uk_data.Day, y=uk_data.Quantity)\n",
        "  \n",
        "    # Layout\n",
        "    layout = go.Layout(xaxis=go.layout.XAxis(title=go.layout.xaxis.Title(text='Day')), yaxis=go.layout.YAxis(title=go.layout.yaxis.Title(text='Total Quqntity')), title=go.layout.Title(text='Quantity for a given month and year'))\n",
        "   \n",
        "    # Plot\n",
        "    return py.iplot(go.Figure(data=trace, layout=layout))\n",
        " "
      ]
    },
    {
      "cell_type": "markdown",
      "metadata": {
        "id": "QfXfw8NCNAtH"
      },
      "source": [
        "#### 7. Create an interactive scatter plot that plots number of invoices (x-axis) vs. number of customers (y-axis) and the plot points represent individual products. Add two sliders that control the x and y axis ranges."
      ]
    },
    {
      "cell_type": "code",
      "execution_count": 49,
      "metadata": {},
      "outputs": [
        {
          "data": {
            "text/html": [
              "<div>\n",
              "<style scoped>\n",
              "    .dataframe tbody tr th:only-of-type {\n",
              "        vertical-align: middle;\n",
              "    }\n",
              "\n",
              "    .dataframe tbody tr th {\n",
              "        vertical-align: top;\n",
              "    }\n",
              "\n",
              "    .dataframe thead th {\n",
              "        text-align: right;\n",
              "    }\n",
              "</style>\n",
              "<table border=\"1\" class=\"dataframe\">\n",
              "  <thead>\n",
              "    <tr style=\"text-align: right;\">\n",
              "      <th></th>\n",
              "      <th>InvoiceNo</th>\n",
              "      <th>InvoiceDate</th>\n",
              "      <th>StockCode</th>\n",
              "      <th>Description</th>\n",
              "      <th>Quantity</th>\n",
              "      <th>UnitPrice</th>\n",
              "      <th>Revenue</th>\n",
              "      <th>CustomerID</th>\n",
              "      <th>Country</th>\n",
              "      <th>month</th>\n",
              "      <th>year</th>\n",
              "      <th>Year</th>\n",
              "      <th>Month</th>\n",
              "      <th>Day</th>\n",
              "    </tr>\n",
              "  </thead>\n",
              "  <tbody>\n",
              "    <tr>\n",
              "      <th>0</th>\n",
              "      <td>536365</td>\n",
              "      <td>2010-12-01 08:26:00</td>\n",
              "      <td>85123A</td>\n",
              "      <td>CREAM HANGING HEART T-LIGHT HOLDER</td>\n",
              "      <td>6</td>\n",
              "      <td>2.55</td>\n",
              "      <td>15.3</td>\n",
              "      <td>17850</td>\n",
              "      <td>United Kingdom</td>\n",
              "      <td>12</td>\n",
              "      <td>2010</td>\n",
              "      <td>2010</td>\n",
              "      <td>12</td>\n",
              "      <td>1</td>\n",
              "    </tr>\n",
              "    <tr>\n",
              "      <th>1</th>\n",
              "      <td>536373</td>\n",
              "      <td>2010-12-01 09:02:00</td>\n",
              "      <td>85123A</td>\n",
              "      <td>CREAM HANGING HEART T-LIGHT HOLDER</td>\n",
              "      <td>6</td>\n",
              "      <td>2.55</td>\n",
              "      <td>15.3</td>\n",
              "      <td>17850</td>\n",
              "      <td>United Kingdom</td>\n",
              "      <td>12</td>\n",
              "      <td>2010</td>\n",
              "      <td>2010</td>\n",
              "      <td>12</td>\n",
              "      <td>1</td>\n",
              "    </tr>\n",
              "    <tr>\n",
              "      <th>2</th>\n",
              "      <td>536375</td>\n",
              "      <td>2010-12-01 09:32:00</td>\n",
              "      <td>85123A</td>\n",
              "      <td>CREAM HANGING HEART T-LIGHT HOLDER</td>\n",
              "      <td>6</td>\n",
              "      <td>2.55</td>\n",
              "      <td>15.3</td>\n",
              "      <td>17850</td>\n",
              "      <td>United Kingdom</td>\n",
              "      <td>12</td>\n",
              "      <td>2010</td>\n",
              "      <td>2010</td>\n",
              "      <td>12</td>\n",
              "      <td>1</td>\n",
              "    </tr>\n",
              "    <tr>\n",
              "      <th>3</th>\n",
              "      <td>536390</td>\n",
              "      <td>2010-12-01 10:19:00</td>\n",
              "      <td>85123A</td>\n",
              "      <td>CREAM HANGING HEART T-LIGHT HOLDER</td>\n",
              "      <td>64</td>\n",
              "      <td>2.55</td>\n",
              "      <td>163.2</td>\n",
              "      <td>17511</td>\n",
              "      <td>United Kingdom</td>\n",
              "      <td>12</td>\n",
              "      <td>2010</td>\n",
              "      <td>2010</td>\n",
              "      <td>12</td>\n",
              "      <td>1</td>\n",
              "    </tr>\n",
              "    <tr>\n",
              "      <th>4</th>\n",
              "      <td>536394</td>\n",
              "      <td>2010-12-01 10:39:00</td>\n",
              "      <td>85123A</td>\n",
              "      <td>CREAM HANGING HEART T-LIGHT HOLDER</td>\n",
              "      <td>32</td>\n",
              "      <td>2.55</td>\n",
              "      <td>81.6</td>\n",
              "      <td>13408</td>\n",
              "      <td>United Kingdom</td>\n",
              "      <td>12</td>\n",
              "      <td>2010</td>\n",
              "      <td>2010</td>\n",
              "      <td>12</td>\n",
              "      <td>1</td>\n",
              "    </tr>\n",
              "  </tbody>\n",
              "</table>\n",
              "</div>"
            ],
            "text/plain": [
              "   InvoiceNo         InvoiceDate StockCode  \\\n",
              "0     536365 2010-12-01 08:26:00    85123A   \n",
              "1     536373 2010-12-01 09:02:00    85123A   \n",
              "2     536375 2010-12-01 09:32:00    85123A   \n",
              "3     536390 2010-12-01 10:19:00    85123A   \n",
              "4     536394 2010-12-01 10:39:00    85123A   \n",
              "\n",
              "                          Description  Quantity  UnitPrice  Revenue  \\\n",
              "0  CREAM HANGING HEART T-LIGHT HOLDER         6       2.55     15.3   \n",
              "1  CREAM HANGING HEART T-LIGHT HOLDER         6       2.55     15.3   \n",
              "2  CREAM HANGING HEART T-LIGHT HOLDER         6       2.55     15.3   \n",
              "3  CREAM HANGING HEART T-LIGHT HOLDER        64       2.55    163.2   \n",
              "4  CREAM HANGING HEART T-LIGHT HOLDER        32       2.55     81.6   \n",
              "\n",
              "   CustomerID         Country  month  year  Year  Month  Day  \n",
              "0       17850  United Kingdom     12  2010  2010     12    1  \n",
              "1       17850  United Kingdom     12  2010  2010     12    1  \n",
              "2       17850  United Kingdom     12  2010  2010     12    1  \n",
              "3       17511  United Kingdom     12  2010  2010     12    1  \n",
              "4       13408  United Kingdom     12  2010  2010     12    1  "
            ]
          },
          "execution_count": 49,
          "metadata": {},
          "output_type": "execute_result"
        }
      ],
      "source": [
        "data.head()"
      ]
    },
    {
      "cell_type": "code",
      "execution_count": 51,
      "metadata": {
        "id": "0rt8_YlKNAtI"
      },
      "outputs": [],
      "source": [
        "# Transform the data\n",
        "agg_func = {'InvoiceNo':'nunique', 'Quantity':'sum', 'UnitPrice':'mean', 'Revenue':'sum', 'CustomerID':'nunique'}\n",
        "\n",
        "products = data.groupby(data.Description)['InvoiceNo','Quantity','UnitPrice','Revenue','CustomerID'].agg(agg_func)\n"
      ]
    },
    {
      "cell_type": "code",
      "execution_count": 52,
      "metadata": {},
      "outputs": [
        {
          "data": {
            "text/html": [
              "<div>\n",
              "<style scoped>\n",
              "    .dataframe tbody tr th:only-of-type {\n",
              "        vertical-align: middle;\n",
              "    }\n",
              "\n",
              "    .dataframe tbody tr th {\n",
              "        vertical-align: top;\n",
              "    }\n",
              "\n",
              "    .dataframe thead th {\n",
              "        text-align: right;\n",
              "    }\n",
              "</style>\n",
              "<table border=\"1\" class=\"dataframe\">\n",
              "  <thead>\n",
              "    <tr style=\"text-align: right;\">\n",
              "      <th></th>\n",
              "      <th>InvoiceNo</th>\n",
              "      <th>Quantity</th>\n",
              "      <th>UnitPrice</th>\n",
              "      <th>Revenue</th>\n",
              "      <th>CustomerID</th>\n",
              "    </tr>\n",
              "    <tr>\n",
              "      <th>Description</th>\n",
              "      <th></th>\n",
              "      <th></th>\n",
              "      <th></th>\n",
              "      <th></th>\n",
              "      <th></th>\n",
              "    </tr>\n",
              "  </thead>\n",
              "  <tbody>\n",
              "    <tr>\n",
              "      <th>4 PURPLE FLOCK DINNER CANDLES</th>\n",
              "      <td>36</td>\n",
              "      <td>140</td>\n",
              "      <td>2.324359</td>\n",
              "      <td>270.76</td>\n",
              "      <td>31</td>\n",
              "    </tr>\n",
              "    <tr>\n",
              "      <th>50'S CHRISTMAS GIFT BAG LARGE</th>\n",
              "      <td>111</td>\n",
              "      <td>1909</td>\n",
              "      <td>1.248108</td>\n",
              "      <td>2302.25</td>\n",
              "      <td>108</td>\n",
              "    </tr>\n",
              "    <tr>\n",
              "      <th>DOLLY GIRL BEAKER</th>\n",
              "      <td>133</td>\n",
              "      <td>2398</td>\n",
              "      <td>1.243841</td>\n",
              "      <td>2759.50</td>\n",
              "      <td>100</td>\n",
              "    </tr>\n",
              "    <tr>\n",
              "      <th>I LOVE LONDON MINI BACKPACK</th>\n",
              "      <td>69</td>\n",
              "      <td>361</td>\n",
              "      <td>4.138732</td>\n",
              "      <td>1458.15</td>\n",
              "      <td>58</td>\n",
              "    </tr>\n",
              "    <tr>\n",
              "      <th>NINE DRAWER OFFICE TIDY</th>\n",
              "      <td>30</td>\n",
              "      <td>55</td>\n",
              "      <td>14.791935</td>\n",
              "      <td>792.85</td>\n",
              "      <td>29</td>\n",
              "    </tr>\n",
              "    <tr>\n",
              "      <th>...</th>\n",
              "      <td>...</td>\n",
              "      <td>...</td>\n",
              "      <td>...</td>\n",
              "      <td>...</td>\n",
              "      <td>...</td>\n",
              "    </tr>\n",
              "    <tr>\n",
              "      <th>ZINC T-LIGHT HOLDER STARS SMALL</th>\n",
              "      <td>237</td>\n",
              "      <td>4894</td>\n",
              "      <td>0.836975</td>\n",
              "      <td>3879.98</td>\n",
              "      <td>180</td>\n",
              "    </tr>\n",
              "    <tr>\n",
              "      <th>ZINC TOP  2 DOOR WOODEN SHELF</th>\n",
              "      <td>9</td>\n",
              "      <td>10</td>\n",
              "      <td>16.950000</td>\n",
              "      <td>169.50</td>\n",
              "      <td>9</td>\n",
              "    </tr>\n",
              "    <tr>\n",
              "      <th>ZINC WILLIE WINKIE  CANDLE STICK</th>\n",
              "      <td>188</td>\n",
              "      <td>2607</td>\n",
              "      <td>0.872344</td>\n",
              "      <td>2176.95</td>\n",
              "      <td>137</td>\n",
              "    </tr>\n",
              "    <tr>\n",
              "      <th>ZINC WIRE KITCHEN ORGANISER</th>\n",
              "      <td>12</td>\n",
              "      <td>25</td>\n",
              "      <td>7.175000</td>\n",
              "      <td>156.80</td>\n",
              "      <td>12</td>\n",
              "    </tr>\n",
              "    <tr>\n",
              "      <th>ZINC WIRE SWEETHEART LETTER TRAY</th>\n",
              "      <td>20</td>\n",
              "      <td>80</td>\n",
              "      <td>3.454000</td>\n",
              "      <td>253.24</td>\n",
              "      <td>18</td>\n",
              "    </tr>\n",
              "  </tbody>\n",
              "</table>\n",
              "<p>3640 rows × 5 columns</p>\n",
              "</div>"
            ],
            "text/plain": [
              "                                  InvoiceNo  Quantity  UnitPrice  Revenue  \\\n",
              "Description                                                                 \n",
              " 4 PURPLE FLOCK DINNER CANDLES           36       140   2.324359   270.76   \n",
              " 50'S CHRISTMAS GIFT BAG LARGE          111      1909   1.248108  2302.25   \n",
              " DOLLY GIRL BEAKER                      133      2398   1.243841  2759.50   \n",
              " I LOVE LONDON MINI BACKPACK             69       361   4.138732  1458.15   \n",
              " NINE DRAWER OFFICE TIDY                 30        55  14.791935   792.85   \n",
              "...                                     ...       ...        ...      ...   \n",
              "ZINC T-LIGHT HOLDER STARS SMALL         237      4894   0.836975  3879.98   \n",
              "ZINC TOP  2 DOOR WOODEN SHELF             9        10  16.950000   169.50   \n",
              "ZINC WILLIE WINKIE  CANDLE STICK        188      2607   0.872344  2176.95   \n",
              "ZINC WIRE KITCHEN ORGANISER              12        25   7.175000   156.80   \n",
              "ZINC WIRE SWEETHEART LETTER TRAY         20        80   3.454000   253.24   \n",
              "\n",
              "                                  CustomerID  \n",
              "Description                                   \n",
              " 4 PURPLE FLOCK DINNER CANDLES            31  \n",
              " 50'S CHRISTMAS GIFT BAG LARGE           108  \n",
              " DOLLY GIRL BEAKER                       100  \n",
              " I LOVE LONDON MINI BACKPACK              58  \n",
              " NINE DRAWER OFFICE TIDY                  29  \n",
              "...                                      ...  \n",
              "ZINC T-LIGHT HOLDER STARS SMALL          180  \n",
              "ZINC TOP  2 DOOR WOODEN SHELF              9  \n",
              "ZINC WILLIE WINKIE  CANDLE STICK         137  \n",
              "ZINC WIRE KITCHEN ORGANISER               12  \n",
              "ZINC WIRE SWEETHEART LETTER TRAY          18  \n",
              "\n",
              "[3640 rows x 5 columns]"
            ]
          },
          "execution_count": 52,
          "metadata": {},
          "output_type": "execute_result"
        }
      ],
      "source": [
        "products"
      ]
    },
    {
      "cell_type": "code",
      "execution_count": 53,
      "metadata": {
        "colab": {
          "referenced_widgets": [
            "66bba1a9a1d14afd896f17a6dd5c8e8b"
          ]
        },
        "id": "OZyt32ZQNAtI",
        "outputId": "e15c1047-c766-420a-e4b5-d0f368d21f62"
      },
      "outputs": [
        {
          "data": {
            "application/vnd.jupyter.widget-view+json": {
              "model_id": "e5a8e5c4bd55403d8b918ece555038b5",
              "version_major": 2,
              "version_minor": 0
            },
            "text/plain": [
              "interactive(children=(IntSlider(value=1, description='invoices', max=1978, min=1, step=10), IntSlider(value=1,…"
            ]
          },
          "metadata": {},
          "output_type": "display_data"
        }
      ],
      "source": [
        "# Interactive menu\n",
        "@interact(\n",
        "    invoices=(products[\"InvoiceNo\"].min(), products[\"InvoiceNo\"].max(), 10),\n",
        "    customers=(products[\"CustomerID\"].min(), products[\"CustomerID\"].max(), 10),\n",
        ")\n",
        "\n",
        "# Update function\n",
        "def scatter(invoices=1, customers=1):\n",
        "    # Transform the data\n",
        "    products_data = products[\n",
        "        (products[\"InvoiceNo\"] < invoices) & (products[\"CustomerID\"] < customers)\n",
        "    ]\n",
        "    products_data.sort_values(\"InvoiceNo\")\n",
        "\n",
        "    # Traces\n",
        "    trace = go.Scatter(x=products_data.InvoiceNo, y=products_data.CustomerID, mode='markers')\n",
        "    # Layout\n",
        "    layout = go.Layout(\n",
        "        xaxis=go.layout.XAxis(title=go.layout.xaxis.Title(text=\"Number of invoices\")),\n",
        "        yaxis=go.layout.YAxis(title=go.layout.yaxis.Title(text=\"Number of customers\")),\n",
        "        title=go.layout.Title(text=\"Number of invoices vs customers\"),\n",
        "    )\n",
        "\n",
        "    # Plot\n",
        "    return py.iplot(go.Figure(data=trace, layout=layout))\n",
        "\n"
      ]
    },
    {
      "cell_type": "code",
      "execution_count": 54,
      "metadata": {},
      "outputs": [
        {
          "data": {
            "application/vnd.jupyter.widget-view+json": {
              "model_id": "0a1e8819abb24158bb5d77bf40e547d5",
              "version_major": 2,
              "version_minor": 0
            },
            "text/plain": [
              "interactive(children=(IntSlider(value=1, description='invoices', max=1978, min=1, step=10), IntSlider(value=1,…"
            ]
          },
          "metadata": {},
          "output_type": "display_data"
        }
      ],
      "source": [
        "# Interactive menu\n",
        "@interact(\n",
        "    invoices=(products[\"InvoiceNo\"].min(), products[\"InvoiceNo\"].max(), 10),\n",
        "    customers=(products[\"CustomerID\"].min(), products[\"CustomerID\"].max(), 10),\n",
        ")\n",
        "\n",
        "# Update function\n",
        "def scatter(invoices=1, customers=1):\n",
        "    # Transform the data\n",
        "    products_data = products[(products[\"InvoiceNo\"] < invoices) & (products[\"CustomerID\"] < customers)]\n",
        "    products_data.sort_values(\"InvoiceNo\")\n",
        "\n",
        "    return px.scatter(products_data, x=\"InvoiceNo\", y=\"CustomerID\")"
      ]
    },
    {
      "cell_type": "markdown",
      "metadata": {
        "id": "C1Ylpbt2NAtI"
      },
      "source": [
        "#### 8. Create an interactive bar chart that shows revenue by product description. Add a text field widget that filters the results to show the product that contain the text entered in their description."
      ]
    },
    {
      "cell_type": "code",
      "execution_count": 55,
      "metadata": {},
      "outputs": [
        {
          "data": {
            "text/html": [
              "<div>\n",
              "<style scoped>\n",
              "    .dataframe tbody tr th:only-of-type {\n",
              "        vertical-align: middle;\n",
              "    }\n",
              "\n",
              "    .dataframe tbody tr th {\n",
              "        vertical-align: top;\n",
              "    }\n",
              "\n",
              "    .dataframe thead th {\n",
              "        text-align: right;\n",
              "    }\n",
              "</style>\n",
              "<table border=\"1\" class=\"dataframe\">\n",
              "  <thead>\n",
              "    <tr style=\"text-align: right;\">\n",
              "      <th></th>\n",
              "      <th>InvoiceNo</th>\n",
              "      <th>InvoiceDate</th>\n",
              "      <th>StockCode</th>\n",
              "      <th>Description</th>\n",
              "      <th>Quantity</th>\n",
              "      <th>UnitPrice</th>\n",
              "      <th>Revenue</th>\n",
              "      <th>CustomerID</th>\n",
              "      <th>Country</th>\n",
              "      <th>month</th>\n",
              "      <th>year</th>\n",
              "      <th>Year</th>\n",
              "      <th>Month</th>\n",
              "      <th>Day</th>\n",
              "    </tr>\n",
              "  </thead>\n",
              "  <tbody>\n",
              "    <tr>\n",
              "      <th>0</th>\n",
              "      <td>536365</td>\n",
              "      <td>2010-12-01 08:26:00</td>\n",
              "      <td>85123A</td>\n",
              "      <td>CREAM HANGING HEART T-LIGHT HOLDER</td>\n",
              "      <td>6</td>\n",
              "      <td>2.55</td>\n",
              "      <td>15.3</td>\n",
              "      <td>17850</td>\n",
              "      <td>United Kingdom</td>\n",
              "      <td>12</td>\n",
              "      <td>2010</td>\n",
              "      <td>2010</td>\n",
              "      <td>12</td>\n",
              "      <td>1</td>\n",
              "    </tr>\n",
              "    <tr>\n",
              "      <th>1</th>\n",
              "      <td>536373</td>\n",
              "      <td>2010-12-01 09:02:00</td>\n",
              "      <td>85123A</td>\n",
              "      <td>CREAM HANGING HEART T-LIGHT HOLDER</td>\n",
              "      <td>6</td>\n",
              "      <td>2.55</td>\n",
              "      <td>15.3</td>\n",
              "      <td>17850</td>\n",
              "      <td>United Kingdom</td>\n",
              "      <td>12</td>\n",
              "      <td>2010</td>\n",
              "      <td>2010</td>\n",
              "      <td>12</td>\n",
              "      <td>1</td>\n",
              "    </tr>\n",
              "    <tr>\n",
              "      <th>2</th>\n",
              "      <td>536375</td>\n",
              "      <td>2010-12-01 09:32:00</td>\n",
              "      <td>85123A</td>\n",
              "      <td>CREAM HANGING HEART T-LIGHT HOLDER</td>\n",
              "      <td>6</td>\n",
              "      <td>2.55</td>\n",
              "      <td>15.3</td>\n",
              "      <td>17850</td>\n",
              "      <td>United Kingdom</td>\n",
              "      <td>12</td>\n",
              "      <td>2010</td>\n",
              "      <td>2010</td>\n",
              "      <td>12</td>\n",
              "      <td>1</td>\n",
              "    </tr>\n",
              "    <tr>\n",
              "      <th>3</th>\n",
              "      <td>536390</td>\n",
              "      <td>2010-12-01 10:19:00</td>\n",
              "      <td>85123A</td>\n",
              "      <td>CREAM HANGING HEART T-LIGHT HOLDER</td>\n",
              "      <td>64</td>\n",
              "      <td>2.55</td>\n",
              "      <td>163.2</td>\n",
              "      <td>17511</td>\n",
              "      <td>United Kingdom</td>\n",
              "      <td>12</td>\n",
              "      <td>2010</td>\n",
              "      <td>2010</td>\n",
              "      <td>12</td>\n",
              "      <td>1</td>\n",
              "    </tr>\n",
              "    <tr>\n",
              "      <th>4</th>\n",
              "      <td>536394</td>\n",
              "      <td>2010-12-01 10:39:00</td>\n",
              "      <td>85123A</td>\n",
              "      <td>CREAM HANGING HEART T-LIGHT HOLDER</td>\n",
              "      <td>32</td>\n",
              "      <td>2.55</td>\n",
              "      <td>81.6</td>\n",
              "      <td>13408</td>\n",
              "      <td>United Kingdom</td>\n",
              "      <td>12</td>\n",
              "      <td>2010</td>\n",
              "      <td>2010</td>\n",
              "      <td>12</td>\n",
              "      <td>1</td>\n",
              "    </tr>\n",
              "  </tbody>\n",
              "</table>\n",
              "</div>"
            ],
            "text/plain": [
              "   InvoiceNo         InvoiceDate StockCode  \\\n",
              "0     536365 2010-12-01 08:26:00    85123A   \n",
              "1     536373 2010-12-01 09:02:00    85123A   \n",
              "2     536375 2010-12-01 09:32:00    85123A   \n",
              "3     536390 2010-12-01 10:19:00    85123A   \n",
              "4     536394 2010-12-01 10:39:00    85123A   \n",
              "\n",
              "                          Description  Quantity  UnitPrice  Revenue  \\\n",
              "0  CREAM HANGING HEART T-LIGHT HOLDER         6       2.55     15.3   \n",
              "1  CREAM HANGING HEART T-LIGHT HOLDER         6       2.55     15.3   \n",
              "2  CREAM HANGING HEART T-LIGHT HOLDER         6       2.55     15.3   \n",
              "3  CREAM HANGING HEART T-LIGHT HOLDER        64       2.55    163.2   \n",
              "4  CREAM HANGING HEART T-LIGHT HOLDER        32       2.55     81.6   \n",
              "\n",
              "   CustomerID         Country  month  year  Year  Month  Day  \n",
              "0       17850  United Kingdom     12  2010  2010     12    1  \n",
              "1       17850  United Kingdom     12  2010  2010     12    1  \n",
              "2       17850  United Kingdom     12  2010  2010     12    1  \n",
              "3       17511  United Kingdom     12  2010  2010     12    1  \n",
              "4       13408  United Kingdom     12  2010  2010     12    1  "
            ]
          },
          "execution_count": 55,
          "metadata": {},
          "output_type": "execute_result"
        }
      ],
      "source": [
        "data.head()"
      ]
    },
    {
      "cell_type": "code",
      "execution_count": 56,
      "metadata": {},
      "outputs": [],
      "source": [
        "pro_data = data.groupby('Description')['Revenue'].agg('sum')"
      ]
    },
    {
      "cell_type": "code",
      "execution_count": 57,
      "metadata": {},
      "outputs": [],
      "source": [
        "pro_data = pd.DataFrame(pro_data)"
      ]
    },
    {
      "cell_type": "code",
      "execution_count": 58,
      "metadata": {},
      "outputs": [],
      "source": [
        "pro_data = pro_data.reset_index()"
      ]
    },
    {
      "cell_type": "code",
      "execution_count": 59,
      "metadata": {},
      "outputs": [
        {
          "data": {
            "text/html": [
              "<div>\n",
              "<style scoped>\n",
              "    .dataframe tbody tr th:only-of-type {\n",
              "        vertical-align: middle;\n",
              "    }\n",
              "\n",
              "    .dataframe tbody tr th {\n",
              "        vertical-align: top;\n",
              "    }\n",
              "\n",
              "    .dataframe thead th {\n",
              "        text-align: right;\n",
              "    }\n",
              "</style>\n",
              "<table border=\"1\" class=\"dataframe\">\n",
              "  <thead>\n",
              "    <tr style=\"text-align: right;\">\n",
              "      <th></th>\n",
              "      <th>Description</th>\n",
              "      <th>Revenue</th>\n",
              "    </tr>\n",
              "  </thead>\n",
              "  <tbody>\n",
              "    <tr>\n",
              "      <th>0</th>\n",
              "      <td>4 PURPLE FLOCK DINNER CANDLES</td>\n",
              "      <td>270.76</td>\n",
              "    </tr>\n",
              "    <tr>\n",
              "      <th>1</th>\n",
              "      <td>50'S CHRISTMAS GIFT BAG LARGE</td>\n",
              "      <td>2302.25</td>\n",
              "    </tr>\n",
              "    <tr>\n",
              "      <th>2</th>\n",
              "      <td>DOLLY GIRL BEAKER</td>\n",
              "      <td>2759.50</td>\n",
              "    </tr>\n",
              "    <tr>\n",
              "      <th>3</th>\n",
              "      <td>I LOVE LONDON MINI BACKPACK</td>\n",
              "      <td>1458.15</td>\n",
              "    </tr>\n",
              "    <tr>\n",
              "      <th>4</th>\n",
              "      <td>NINE DRAWER OFFICE TIDY</td>\n",
              "      <td>792.85</td>\n",
              "    </tr>\n",
              "    <tr>\n",
              "      <th>...</th>\n",
              "      <td>...</td>\n",
              "      <td>...</td>\n",
              "    </tr>\n",
              "    <tr>\n",
              "      <th>3635</th>\n",
              "      <td>ZINC T-LIGHT HOLDER STARS SMALL</td>\n",
              "      <td>3879.98</td>\n",
              "    </tr>\n",
              "    <tr>\n",
              "      <th>3636</th>\n",
              "      <td>ZINC TOP  2 DOOR WOODEN SHELF</td>\n",
              "      <td>169.50</td>\n",
              "    </tr>\n",
              "    <tr>\n",
              "      <th>3637</th>\n",
              "      <td>ZINC WILLIE WINKIE  CANDLE STICK</td>\n",
              "      <td>2176.95</td>\n",
              "    </tr>\n",
              "    <tr>\n",
              "      <th>3638</th>\n",
              "      <td>ZINC WIRE KITCHEN ORGANISER</td>\n",
              "      <td>156.80</td>\n",
              "    </tr>\n",
              "    <tr>\n",
              "      <th>3639</th>\n",
              "      <td>ZINC WIRE SWEETHEART LETTER TRAY</td>\n",
              "      <td>253.24</td>\n",
              "    </tr>\n",
              "  </tbody>\n",
              "</table>\n",
              "<p>3640 rows × 2 columns</p>\n",
              "</div>"
            ],
            "text/plain": [
              "                           Description  Revenue\n",
              "0        4 PURPLE FLOCK DINNER CANDLES   270.76\n",
              "1        50'S CHRISTMAS GIFT BAG LARGE  2302.25\n",
              "2                    DOLLY GIRL BEAKER  2759.50\n",
              "3          I LOVE LONDON MINI BACKPACK  1458.15\n",
              "4              NINE DRAWER OFFICE TIDY   792.85\n",
              "...                                ...      ...\n",
              "3635   ZINC T-LIGHT HOLDER STARS SMALL  3879.98\n",
              "3636    ZINC TOP  2 DOOR WOODEN SHELF    169.50\n",
              "3637  ZINC WILLIE WINKIE  CANDLE STICK  2176.95\n",
              "3638       ZINC WIRE KITCHEN ORGANISER   156.80\n",
              "3639  ZINC WIRE SWEETHEART LETTER TRAY   253.24\n",
              "\n",
              "[3640 rows x 2 columns]"
            ]
          },
          "execution_count": 59,
          "metadata": {},
          "output_type": "execute_result"
        }
      ],
      "source": [
        "pro_data"
      ]
    },
    {
      "cell_type": "code",
      "execution_count": 60,
      "metadata": {},
      "outputs": [],
      "source": [
        "pro_data['Description'] = pro_data['Description'].str.strip(' ')"
      ]
    },
    {
      "cell_type": "code",
      "execution_count": 61,
      "metadata": {},
      "outputs": [
        {
          "data": {
            "text/html": [
              "<div>\n",
              "<style scoped>\n",
              "    .dataframe tbody tr th:only-of-type {\n",
              "        vertical-align: middle;\n",
              "    }\n",
              "\n",
              "    .dataframe tbody tr th {\n",
              "        vertical-align: top;\n",
              "    }\n",
              "\n",
              "    .dataframe thead th {\n",
              "        text-align: right;\n",
              "    }\n",
              "</style>\n",
              "<table border=\"1\" class=\"dataframe\">\n",
              "  <thead>\n",
              "    <tr style=\"text-align: right;\">\n",
              "      <th></th>\n",
              "      <th>Description</th>\n",
              "      <th>Revenue</th>\n",
              "    </tr>\n",
              "  </thead>\n",
              "  <tbody>\n",
              "    <tr>\n",
              "      <th>2</th>\n",
              "      <td>DOLLY GIRL BEAKER</td>\n",
              "      <td>2759.5</td>\n",
              "    </tr>\n",
              "  </tbody>\n",
              "</table>\n",
              "</div>"
            ],
            "text/plain": [
              "         Description  Revenue\n",
              "2  DOLLY GIRL BEAKER   2759.5"
            ]
          },
          "execution_count": 61,
          "metadata": {},
          "output_type": "execute_result"
        }
      ],
      "source": [
        "pro_data[pro_data['Description']=='DOLLY GIRL BEAKER']\n"
      ]
    },
    {
      "cell_type": "code",
      "execution_count": 62,
      "metadata": {
        "colab": {
          "referenced_widgets": [
            "c698b7cf4d6b49b3a02f3ec7ca1cd285"
          ]
        },
        "id": "V6p7_KLjNAtI",
        "outputId": "ade748e2-d6fa-4138-94ec-a128d70e57d8"
      },
      "outputs": [
        {
          "data": {
            "application/vnd.jupyter.widget-view+json": {
              "model_id": "ef85db3c8b4f45ccbbb71c2beaa3c69a",
              "version_major": 2,
              "version_minor": 0
            },
            "text/plain": [
              "interactive(children=(Text(value='', description='product'), Output()), _dom_classes=('widget-interact',))"
            ]
          },
          "metadata": {},
          "output_type": "display_data"
        }
      ],
      "source": [
        "# Interactive menu\n",
        "@interact(product='')\n",
        "\n",
        "# Update function\n",
        "def chart(product):\n",
        "    # Transform the data\n",
        "    if (len(product) > 0) :\n",
        "        pro_data2 = pro_data[pro_data['Description'].str.contains(product, case=False, na=False)]\n",
        "    else:\n",
        "      pro_data2 = pro_data\n",
        "  \n",
        "    # Traces\n",
        "    trace= go.Bar(\n",
        "        x=pro_data2.Description,\n",
        "        y=pro_data2.Revenue\n",
        "    )\n",
        "    # Layout\n",
        "    layout = go.Layout(xaxis=go.layout.XAxis(title=go.layout.xaxis.Title(text='Product')),\n",
        "                   yaxis=go.layout.YAxis(title=go.layout.yaxis.Title(text='Revenue')),\n",
        "                   title=go.layout.Title(text='Total revenue for each product'))\n",
        "   \n",
        "    # Plot\n",
        "    return py.iplot(go.Figure(data=trace, layout=layout));\n"
      ]
    },
    {
      "cell_type": "code",
      "execution_count": null,
      "metadata": {},
      "outputs": [],
      "source": []
    }
  ],
  "metadata": {
    "colab": {
      "name": "main.ipynb",
      "provenance": []
    },
    "interpreter": {
      "hash": "52ea6b0ad24995bd1b60e6cd08f3ba54ab5b22533dfe61991e44dc13c4ce39e3"
    },
    "kernelspec": {
      "display_name": "ironhack-3.7",
      "language": "python",
      "name": "python3"
    },
    "language_info": {
      "codemirror_mode": {
        "name": "ipython",
        "version": 3
      },
      "file_extension": ".py",
      "mimetype": "text/x-python",
      "name": "python",
      "nbconvert_exporter": "python",
      "pygments_lexer": "ipython3",
      "version": "3.9.6"
    }
  },
  "nbformat": 4,
  "nbformat_minor": 0
}
