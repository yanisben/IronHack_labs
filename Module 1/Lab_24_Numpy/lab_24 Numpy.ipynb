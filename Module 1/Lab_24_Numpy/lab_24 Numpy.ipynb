{
 "cells": [
  {
   "cell_type": "markdown",
   "metadata": {},
   "source": [
    "# Intrduction to NumPy\n",
    "\n",
    "\n",
    "#### 1. Import NumPy under the name np."
   ]
  },
  {
   "cell_type": "code",
   "execution_count": 1,
   "metadata": {},
   "outputs": [],
   "source": [
    "# your code here\n",
    "import numpy as np"
   ]
  },
  {
   "cell_type": "markdown",
   "metadata": {},
   "source": [
    "#### 2. Print your NumPy version."
   ]
  },
  {
   "cell_type": "code",
   "execution_count": 2,
   "metadata": {},
   "outputs": [
    {
     "name": "stdout",
     "output_type": "stream",
     "text": [
      "1.20.1\n"
     ]
    }
   ],
   "source": [
    "# your code here\n",
    "print(np.__version__)"
   ]
  },
  {
   "cell_type": "markdown",
   "metadata": {},
   "source": [
    "#### 3. Generate a 2x3x5 3-dimensional array with random values. Assign the array to variable *a*.\n",
    "**Challenge**: there are at least three easy ways that use numpy to generate random arrays. How many ways can you find?"
   ]
  },
  {
   "cell_type": "code",
   "execution_count": 142,
   "metadata": {},
   "outputs": [
    {
     "name": "stdout",
     "output_type": "stream",
     "text": [
      "[[[0.21233346 0.96466878 0.84109772 0.67680719 0.16203315]\n",
      "  [0.67750131 0.90783792 0.05383761 0.95734362 0.09583884]\n",
      "  [0.56107234 0.69821029 0.18523298 0.62353948 0.66604765]]\n",
      "\n",
      " [[0.56515596 0.9693256  0.37978256 0.97433554 0.54602399]\n",
      "  [0.06332824 0.16697846 0.49838966 0.5470211  0.24211586]\n",
      "  [0.72563467 0.37611156 0.03886992 0.8662187  0.10386118]]]\n"
     ]
    }
   ],
   "source": [
    "# Method 1\n",
    "a = np.random.random((2, 3, 5))\n",
    "print(a)"
   ]
  },
  {
   "cell_type": "code",
   "execution_count": 124,
   "metadata": {},
   "outputs": [],
   "source": [
    "# Method 2\n",
    "a = np.empty((2, 3, 5))"
   ]
  },
  {
   "cell_type": "code",
   "execution_count": 134,
   "metadata": {},
   "outputs": [
    {
     "data": {
      "text/plain": [
       "array([[[0.51182162, 0.9504637 , 0.14415961, 0.94864945, 0.31183145],\n",
       "        [0.42332645, 0.82770259, 0.40919914, 0.54959369, 0.02755911],\n",
       "        [0.75351311, 0.53814331, 0.32973172, 0.7884287 , 0.30319483]],\n",
       "\n",
       "       [[0.45349789, 0.1340417 , 0.40311299, 0.20345524, 0.26231334],\n",
       "        [0.75036467, 0.28040876, 0.48519097, 0.9807372 , 0.96165719],\n",
       "        [0.72478994, 0.54122686, 0.2768912 , 0.16065201, 0.96992541]]])"
      ]
     },
     "execution_count": 134,
     "metadata": {},
     "output_type": "execute_result"
    }
   ],
   "source": [
    "# Method 3\n",
    "a = np.random.default_rng(1)\n",
    "a.random((2, 3, 5))"
   ]
  },
  {
   "cell_type": "markdown",
   "metadata": {},
   "source": [
    "#### 4. Print *a*.\n"
   ]
  },
  {
   "cell_type": "code",
   "execution_count": 135,
   "metadata": {},
   "outputs": [],
   "source": [
    "# your code here"
   ]
  },
  {
   "cell_type": "markdown",
   "metadata": {},
   "source": [
    "#### 5. Create a 5x2x3 3-dimensional array with all values equaling 1. Assign the array to variable *b*."
   ]
  },
  {
   "cell_type": "code",
   "execution_count": 143,
   "metadata": {},
   "outputs": [
    {
     "data": {
      "text/plain": [
       "(5, 2, 3)"
      ]
     },
     "execution_count": 143,
     "metadata": {},
     "output_type": "execute_result"
    }
   ],
   "source": [
    "# your code here\n",
    "b = np.ones((5, 2, 3))\n",
    "b.shape"
   ]
  },
  {
   "cell_type": "markdown",
   "metadata": {},
   "source": [
    "#### 6. Print *b*.\n"
   ]
  },
  {
   "cell_type": "code",
   "execution_count": 144,
   "metadata": {},
   "outputs": [
    {
     "name": "stdout",
     "output_type": "stream",
     "text": [
      "[[[1. 1. 1.]\n",
      "  [1. 1. 1.]]\n",
      "\n",
      " [[1. 1. 1.]\n",
      "  [1. 1. 1.]]\n",
      "\n",
      " [[1. 1. 1.]\n",
      "  [1. 1. 1.]]\n",
      "\n",
      " [[1. 1. 1.]\n",
      "  [1. 1. 1.]]\n",
      "\n",
      " [[1. 1. 1.]\n",
      "  [1. 1. 1.]]]\n"
     ]
    }
   ],
   "source": [
    "# your code here\n",
    "print(b)"
   ]
  },
  {
   "cell_type": "markdown",
   "metadata": {},
   "source": [
    "#### 7. Do *a* and *b* have the same size? How do you prove that in Python code?"
   ]
  },
  {
   "cell_type": "code",
   "execution_count": 145,
   "metadata": {},
   "outputs": [
    {
     "name": "stdout",
     "output_type": "stream",
     "text": [
      "30\n",
      "30\n"
     ]
    }
   ],
   "source": [
    "# your code here\n",
    "print(a.size)\n",
    "print(b.size)\n",
    "# a and b have the same length"
   ]
  },
  {
   "cell_type": "markdown",
   "metadata": {},
   "source": [
    "#### 8. Are you able to add *a* and *b*? Why or why not?\n"
   ]
  },
  {
   "cell_type": "code",
   "execution_count": 146,
   "metadata": {},
   "outputs": [],
   "source": [
    "# your answer here\n",
    "# No, because they're not the same shape"
   ]
  },
  {
   "cell_type": "markdown",
   "metadata": {},
   "source": [
    "#### 9. Transpose *b* so that it has the same structure of *a* (i.e. become a 2x3x5 array). Assign the transposed array to variable *c*."
   ]
  },
  {
   "cell_type": "code",
   "execution_count": 147,
   "metadata": {},
   "outputs": [
    {
     "name": "stdout",
     "output_type": "stream",
     "text": [
      "[[[1. 1. 1. 1. 1.]\n",
      "  [1. 1. 1. 1. 1.]\n",
      "  [1. 1. 1. 1. 1.]]\n",
      "\n",
      " [[1. 1. 1. 1. 1.]\n",
      "  [1. 1. 1. 1. 1.]\n",
      "  [1. 1. 1. 1. 1.]]]\n"
     ]
    },
    {
     "data": {
      "text/plain": [
       "(2, 3, 5)"
      ]
     },
     "execution_count": 147,
     "metadata": {},
     "output_type": "execute_result"
    }
   ],
   "source": [
    "# your code here\n",
    "c = np.transpose(b, (1, 2, 0))\n",
    "print(c)\n",
    "c.shape"
   ]
  },
  {
   "cell_type": "markdown",
   "metadata": {},
   "source": [
    "#### 10. Try to add *a* and *c*. Now it should work. Assign the sum to variable *d*. But why does it work now?"
   ]
  },
  {
   "cell_type": "code",
   "execution_count": 148,
   "metadata": {},
   "outputs": [],
   "source": [
    "# your code/answer here\n",
    "d = a + c"
   ]
  },
  {
   "cell_type": "markdown",
   "metadata": {},
   "source": [
    "#### 11. Print *a* and *d*. Notice the difference and relation of the two array in terms of the values? Explain."
   ]
  },
  {
   "cell_type": "code",
   "execution_count": 149,
   "metadata": {},
   "outputs": [
    {
     "name": "stdout",
     "output_type": "stream",
     "text": [
      "[[[0.21233346 0.96466878 0.84109772 0.67680719 0.16203315]\n",
      "  [0.67750131 0.90783792 0.05383761 0.95734362 0.09583884]\n",
      "  [0.56107234 0.69821029 0.18523298 0.62353948 0.66604765]]\n",
      "\n",
      " [[0.56515596 0.9693256  0.37978256 0.97433554 0.54602399]\n",
      "  [0.06332824 0.16697846 0.49838966 0.5470211  0.24211586]\n",
      "  [0.72563467 0.37611156 0.03886992 0.8662187  0.10386118]]]\n",
      "--------\n",
      "[[[1.21233346 1.96466878 1.84109772 1.67680719 1.16203315]\n",
      "  [1.67750131 1.90783792 1.05383761 1.95734362 1.09583884]\n",
      "  [1.56107234 1.69821029 1.18523298 1.62353948 1.66604765]]\n",
      "\n",
      " [[1.56515596 1.9693256  1.37978256 1.97433554 1.54602399]\n",
      "  [1.06332824 1.16697846 1.49838966 1.5470211  1.24211586]\n",
      "  [1.72563467 1.37611156 1.03886992 1.8662187  1.10386118]]]\n"
     ]
    }
   ],
   "source": [
    "# your code/answer here\n",
    "print(a)\n",
    "print(\"--------\")\n",
    "print(d)"
   ]
  },
  {
   "cell_type": "markdown",
   "metadata": {},
   "source": [
    "#### 12. Multiply *a* and *c*. Assign the result to *e*."
   ]
  },
  {
   "cell_type": "code",
   "execution_count": 150,
   "metadata": {},
   "outputs": [
    {
     "name": "stdout",
     "output_type": "stream",
     "text": [
      "[[[0.21233346 0.96466878 0.84109772 0.67680719 0.16203315]\n",
      "  [0.67750131 0.90783792 0.05383761 0.95734362 0.09583884]\n",
      "  [0.56107234 0.69821029 0.18523298 0.62353948 0.66604765]]\n",
      "\n",
      " [[0.56515596 0.9693256  0.37978256 0.97433554 0.54602399]\n",
      "  [0.06332824 0.16697846 0.49838966 0.5470211  0.24211586]\n",
      "  [0.72563467 0.37611156 0.03886992 0.8662187  0.10386118]]]\n"
     ]
    }
   ],
   "source": [
    "# your code here\n",
    "e = a * c\n",
    "print(e)"
   ]
  },
  {
   "cell_type": "markdown",
   "metadata": {},
   "source": [
    "#### 13. Does *e* equal to *a*? Why or why not?\n"
   ]
  },
  {
   "cell_type": "code",
   "execution_count": 151,
   "metadata": {},
   "outputs": [],
   "source": [
    "# your code/answer here\n",
    "# Because"
   ]
  },
  {
   "cell_type": "markdown",
   "metadata": {},
   "source": [
    "#### 14. Identify the max, min, and mean values in *d*. Assign those values to variables *d_max*, *d_min* and *d_mean*."
   ]
  },
  {
   "cell_type": "code",
   "execution_count": 152,
   "metadata": {},
   "outputs": [],
   "source": [
    "# your code here\n",
    "d_max = np.amax(d)\n",
    "d_min = np.amin(d)\n",
    "d_mean = np.mean(d)"
   ]
  },
  {
   "cell_type": "markdown",
   "metadata": {},
   "source": [
    "#### 15. Now we want to label the values in *d*. First create an empty array *f* with the same shape (i.e. 2x3x5) as *d* using `np.empty`.\n"
   ]
  },
  {
   "cell_type": "code",
   "execution_count": 153,
   "metadata": {},
   "outputs": [
    {
     "data": {
      "text/plain": [
       "array([[[0.21233346, 0.96466878, 0.84109772, 0.67680719, 0.16203315],\n",
       "        [0.67750131, 0.90783792, 0.05383761, 0.95734362, 0.09583884],\n",
       "        [0.56107234, 0.69821029, 0.18523298, 0.62353948, 0.66604765]],\n",
       "\n",
       "       [[0.56515596, 0.9693256 , 0.37978256, 0.97433554, 0.54602399],\n",
       "        [0.06332824, 0.16697846, 0.49838966, 0.5470211 , 0.24211586],\n",
       "        [0.72563467, 0.37611156, 0.03886992, 0.8662187 , 0.10386118]]])"
      ]
     },
     "execution_count": 153,
     "metadata": {},
     "output_type": "execute_result"
    }
   ],
   "source": [
    "# your code here\n",
    "f = np.empty((2, 3, 5))\n",
    "f"
   ]
  },
  {
   "cell_type": "markdown",
   "metadata": {},
   "source": [
    "#### 16. Populate the values in *f*. \n",
    "\n",
    "For each value in *d*, if it's larger than *d_min* but smaller than *d_mean*, assign 25 to the corresponding value in *f*. If a value in *d* is larger than *d_mean* but smaller than *d_max*, assign 75 to the corresponding value in *f*. If a value equals to *d_mean*, assign 50 to the corresponding value in *f*. Assign 0 to the corresponding value(s) in *f* for *d_min* in *d*. Assign 100 to the corresponding value(s) in *f* for *d_max* in *d*. In the end, f should have only the following values: 0, 25, 50, 75, and 100.\n",
    "\n",
    "**Note**: you don't have to use Numpy in this question."
   ]
  },
  {
   "cell_type": "code",
   "execution_count": 154,
   "metadata": {},
   "outputs": [
    {
     "name": "stdout",
     "output_type": "stream",
     "text": [
      "[[[ 25.  75.  75.  75.  25.]\n",
      "  [ 75.  75.  25.  75.  25.]\n",
      "  [ 75.  75.  25.  75.  75.]]\n",
      "\n",
      " [[ 75.  75.  25. 100.  75.]\n",
      "  [ 25.  25.  25.  75.  25.]\n",
      "  [ 75.  25.   0.  75.  25.]]]\n"
     ]
    }
   ],
   "source": [
    "# your code here\n",
    "\n",
    "\n",
    "for i in range(2):\n",
    "    for j in range(3):\n",
    "        for k in range(5):\n",
    "            if d_min < d[i][j][k] < d_mean:\n",
    "                f[i][j][k] = 25\n",
    "            elif d_mean < d[i][j][k] < d_max:\n",
    "                f[i][j][k] = 75\n",
    "            elif d[i][j][k] == d_mean:\n",
    "                f[i][j][k] = 50\n",
    "            elif d[i][j][k] == d_min:\n",
    "                f[i][j][k] = 0\n",
    "            elif d[i][j][k] == d_max:\n",
    "                f[i][j][k] = 100\n",
    "                \n",
    "print(f)"
   ]
  },
  {
   "cell_type": "markdown",
   "metadata": {},
   "source": [
    "#### 17. Print *d* and *f*. Do you have your expected *f*?\n",
    "For instance, if your *d* is:\n",
    "```python\n",
    "[[[1.85836099, 1.67064465, 1.62576044, 1.40243961, 1.88454931],\n",
    "[1.75354326, 1.69403643, 1.36729252, 1.61415071, 1.12104981],\n",
    "[1.72201435, 1.1862918 , 1.87078449, 1.7726778 , 1.88180042]],\n",
    "[[1.44747908, 1.31673383, 1.02000951, 1.52218947, 1.97066381],\n",
    "[1.79129243, 1.74983003, 1.96028037, 1.85166831, 1.65450881],\n",
    "[1.18068344, 1.9587381 , 1.00656599, 1.93402165, 1.73514584]]]\n",
    "```\n",
    "Your *f* should be:\n",
    "```python\n",
    "[[[ 75.,  75.,  75.,  25.,  75.],\n",
    "[ 75.,  75.,  25.,  25.,  25.],\n",
    "[ 75.,  25.,  75.,  75.,  75.]],\n",
    "[[ 25.,  25.,  25.,  25., 100.],\n",
    "[ 75.,  75.,  75.,  75.,  75.],\n",
    "[ 25.,  75.,   0.,  75.,  75.]]]\n",
    "```"
   ]
  },
  {
   "cell_type": "code",
   "execution_count": 155,
   "metadata": {},
   "outputs": [],
   "source": [
    "# your code here\n",
    "# Yes, I have my expected f"
   ]
  },
  {
   "cell_type": "markdown",
   "metadata": {},
   "source": [
    "#### 18. Bonus question: instead of using numbers (i.e. 0, 25, 50, 75, and 100), use string values  (\"A\", \"B\", \"C\", \"D\", and \"E\") to label the array elements. For the example above, the expected result is:\n",
    "\n",
    "```python\n",
    "[[[ 'D',  'D',  'D',  'B',  'D'],\n",
    "[ 'D',  'D',  'B',  'B',  'B'],\n",
    "[ 'D',  'B',  'D',  'D',  'D']],\n",
    "[[ 'B',  'B',  'B',  'B',  'E'],\n",
    "[ 'D',  'D',  'D',  'D',  'D'],\n",
    "[ 'B',  'D',   'A',  'D', 'D']]]\n",
    "```\n",
    "**Note**: you don't have to use Numpy in this question."
   ]
  }
 ],
 "metadata": {
  "kernelspec": {
   "display_name": "Python 3",
   "language": "python",
   "name": "python3"
  },
  "language_info": {
   "codemirror_mode": {
    "name": "ipython",
    "version": 3
   },
   "file_extension": ".py",
   "mimetype": "text/x-python",
   "name": "python",
   "nbconvert_exporter": "python",
   "pygments_lexer": "ipython3",
   "version": "3.8.8"
  }
 },
 "nbformat": 4,
 "nbformat_minor": 2
}
