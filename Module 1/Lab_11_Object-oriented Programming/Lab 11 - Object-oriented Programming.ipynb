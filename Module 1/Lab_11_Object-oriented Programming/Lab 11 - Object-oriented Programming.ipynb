{
 "cells": [
  {
   "cell_type": "code",
   "execution_count": 4,
   "id": "61c49e1f",
   "metadata": {},
   "outputs": [
    {
     "data": {
      "text/plain": [
       "[5, 6, 7, 8]"
      ]
     },
     "execution_count": 4,
     "metadata": {},
     "output_type": "execute_result"
    }
   ],
   "source": [
    "# Remove All The Marked Elements of a List\n",
    "\n",
    "class List:\n",
    "    def remove_(self, integer_list, values_list):\n",
    "        \n",
    "        for element in values_list:\n",
    "            while element in integer_list:\n",
    "                integer_list.remove(element)\n",
    "        \n",
    "        return integer_list\n",
    "\n",
    "l = List()\n",
    "l.remove_([1, 1, 2 ,3 ,1 ,2 ,3 ,4, 4, 3 ,5, 6, 7, 2, 8], [1, 3, 4, 2])"
   ]
  },
  {
   "cell_type": "code",
   "execution_count": 6,
   "id": "d91dd223",
   "metadata": {},
   "outputs": [
    {
     "data": {
      "text/plain": [
       "[('a', 5), ('b', 2), ('r', 2), ('c', 1), ('d', 1)]"
      ]
     },
     "execution_count": 6,
     "metadata": {},
     "output_type": "execute_result"
    }
   ],
   "source": [
    "class List:    \n",
    "    def ordered_count(self, inp):\n",
    "        \n",
    "        tuples_list = []\n",
    "        \n",
    "        for element in inp:\n",
    "            count = inp.count(element)\n",
    "            tuple_count = (element, count)\n",
    "            if tuple_count not in tuples_list:\n",
    "                tuples_list.append(tuple_count)\n",
    "        \n",
    "        return tuples_list\n",
    "    \n",
    "l = List()\n",
    "l.ordered_count(\"abracadabra\")"
   ]
  },
  {
   "cell_type": "code",
   "execution_count": null,
   "id": "2262b101",
   "metadata": {},
   "outputs": [],
   "source": []
  }
 ],
 "metadata": {
  "kernelspec": {
   "display_name": "Python 3",
   "language": "python",
   "name": "python3"
  },
  "language_info": {
   "codemirror_mode": {
    "name": "ipython",
    "version": 3
   },
   "file_extension": ".py",
   "mimetype": "text/x-python",
   "name": "python",
   "nbconvert_exporter": "python",
   "pygments_lexer": "ipython3",
   "version": "3.8.8"
  }
 },
 "nbformat": 4,
 "nbformat_minor": 5
}
