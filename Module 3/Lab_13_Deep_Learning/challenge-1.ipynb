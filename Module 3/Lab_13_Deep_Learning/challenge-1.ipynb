{
 "cells": [
  {
   "cell_type": "markdown",
   "metadata": {},
   "source": [
    "# Challenge 1 - Tic Tac Toe\n",
    "\n",
    "In this lab you will perform deep learning analysis on a dataset of playing [Tic Tac Toe](https://en.wikipedia.org/wiki/Tic-tac-toe).\n",
    "\n",
    "There are 9 grids in Tic Tac Toe that are coded as the following picture shows:\n",
    "\n",
    "![Tic Tac Toe Grids](tttboard.jpg)\n",
    "\n",
    "In the first 9 columns of the dataset you can find which marks (`x` or `o`) exist in the grids. If there is no mark in a certain grid, it is labeled as `b`. The last column is `class` which tells you whether Player X (who always moves first in Tic Tac Toe) wins in this configuration. Note that when `class` has the value `False`, it means either Player O wins the game or it ends up as a draw."
   ]
  },
  {
   "cell_type": "markdown",
   "metadata": {},
   "source": [
    "Follow the steps suggested below to conduct a neural network analysis using Tensorflow and Keras. You will build a deep learning model to predict whether Player X wins the game or not.\n",
    "\n",
    "## Step 1: Data Engineering\n",
    "\n",
    "This dataset is almost in the ready-to-use state so you do not need to worry about missing values and so on. Still, some simple data engineering is needed.\n",
    "\n",
    "1. Read `tic-tac-toe.csv` into a dataframe.\n",
    "1. Inspect the dataset. Determine if the dataset is reliable by eyeballing the data.\n",
    "1. Convert the categorical values to numeric in all columns.\n",
    "1. Separate the inputs and output.\n",
    "1. Normalize the input data."
   ]
  },
  {
   "cell_type": "code",
   "execution_count": 1,
   "metadata": {},
   "outputs": [],
   "source": [
    "import pandas as pd \n",
    "import numpy as np\n",
    "import matplotlib.pyplot as plt \n",
    "import seaborn as sns\n",
    "\n",
    "# Keras specific\n",
    "import keras\n",
    "from keras.models import Sequential\n",
    "from keras.layers import Dense\n",
    "from tensorflow.keras.utils import to_categorical\n",
    "\n",
    "# Import necessary modules\n",
    "from sklearn.model_selection import train_test_split\n",
    "from sklearn.metrics import mean_squared_error\n",
    "from math import sqrt\n"
   ]
  },
  {
   "cell_type": "code",
   "execution_count": 2,
   "metadata": {},
   "outputs": [],
   "source": [
    "# your code here\n",
    "data = pd.read_csv('/Users/bene/Downloads/tic-tac-toe.csv')"
   ]
  },
  {
   "cell_type": "code",
   "execution_count": 3,
   "metadata": {},
   "outputs": [
    {
     "data": {
      "text/html": [
       "<div>\n",
       "<style scoped>\n",
       "    .dataframe tbody tr th:only-of-type {\n",
       "        vertical-align: middle;\n",
       "    }\n",
       "\n",
       "    .dataframe tbody tr th {\n",
       "        vertical-align: top;\n",
       "    }\n",
       "\n",
       "    .dataframe thead th {\n",
       "        text-align: right;\n",
       "    }\n",
       "</style>\n",
       "<table border=\"1\" class=\"dataframe\">\n",
       "  <thead>\n",
       "    <tr style=\"text-align: right;\">\n",
       "      <th></th>\n",
       "      <th>TL</th>\n",
       "      <th>TM</th>\n",
       "      <th>TR</th>\n",
       "      <th>ML</th>\n",
       "      <th>MM</th>\n",
       "      <th>MR</th>\n",
       "      <th>BL</th>\n",
       "      <th>BM</th>\n",
       "      <th>BR</th>\n",
       "      <th>class</th>\n",
       "    </tr>\n",
       "  </thead>\n",
       "  <tbody>\n",
       "    <tr>\n",
       "      <th>0</th>\n",
       "      <td>x</td>\n",
       "      <td>x</td>\n",
       "      <td>x</td>\n",
       "      <td>x</td>\n",
       "      <td>o</td>\n",
       "      <td>o</td>\n",
       "      <td>x</td>\n",
       "      <td>o</td>\n",
       "      <td>o</td>\n",
       "      <td>True</td>\n",
       "    </tr>\n",
       "    <tr>\n",
       "      <th>1</th>\n",
       "      <td>x</td>\n",
       "      <td>x</td>\n",
       "      <td>x</td>\n",
       "      <td>x</td>\n",
       "      <td>o</td>\n",
       "      <td>o</td>\n",
       "      <td>o</td>\n",
       "      <td>x</td>\n",
       "      <td>o</td>\n",
       "      <td>True</td>\n",
       "    </tr>\n",
       "    <tr>\n",
       "      <th>2</th>\n",
       "      <td>x</td>\n",
       "      <td>x</td>\n",
       "      <td>x</td>\n",
       "      <td>x</td>\n",
       "      <td>o</td>\n",
       "      <td>o</td>\n",
       "      <td>o</td>\n",
       "      <td>o</td>\n",
       "      <td>x</td>\n",
       "      <td>True</td>\n",
       "    </tr>\n",
       "    <tr>\n",
       "      <th>3</th>\n",
       "      <td>x</td>\n",
       "      <td>x</td>\n",
       "      <td>x</td>\n",
       "      <td>x</td>\n",
       "      <td>o</td>\n",
       "      <td>o</td>\n",
       "      <td>o</td>\n",
       "      <td>b</td>\n",
       "      <td>b</td>\n",
       "      <td>True</td>\n",
       "    </tr>\n",
       "    <tr>\n",
       "      <th>4</th>\n",
       "      <td>x</td>\n",
       "      <td>x</td>\n",
       "      <td>x</td>\n",
       "      <td>x</td>\n",
       "      <td>o</td>\n",
       "      <td>o</td>\n",
       "      <td>b</td>\n",
       "      <td>o</td>\n",
       "      <td>b</td>\n",
       "      <td>True</td>\n",
       "    </tr>\n",
       "  </tbody>\n",
       "</table>\n",
       "</div>"
      ],
      "text/plain": [
       "  TL TM TR ML MM MR BL BM BR  class\n",
       "0  x  x  x  x  o  o  x  o  o   True\n",
       "1  x  x  x  x  o  o  o  x  o   True\n",
       "2  x  x  x  x  o  o  o  o  x   True\n",
       "3  x  x  x  x  o  o  o  b  b   True\n",
       "4  x  x  x  x  o  o  b  o  b   True"
      ]
     },
     "execution_count": 3,
     "metadata": {},
     "output_type": "execute_result"
    }
   ],
   "source": [
    "data.head()"
   ]
  },
  {
   "cell_type": "code",
   "execution_count": 4,
   "metadata": {},
   "outputs": [
    {
     "data": {
      "text/plain": [
       "(958, 10)"
      ]
     },
     "execution_count": 4,
     "metadata": {},
     "output_type": "execute_result"
    }
   ],
   "source": [
    "data.shape"
   ]
  },
  {
   "cell_type": "code",
   "execution_count": 5,
   "metadata": {},
   "outputs": [
    {
     "data": {
      "text/plain": [
       "TL       0\n",
       "TM       0\n",
       "TR       0\n",
       "ML       0\n",
       "MM       0\n",
       "MR       0\n",
       "BL       0\n",
       "BM       0\n",
       "BR       0\n",
       "class    0\n",
       "dtype: int64"
      ]
     },
     "execution_count": 5,
     "metadata": {},
     "output_type": "execute_result"
    }
   ],
   "source": [
    "data.isna().sum()"
   ]
  },
  {
   "cell_type": "code",
   "execution_count": 6,
   "metadata": {},
   "outputs": [],
   "source": [
    "for col in data.columns:\n",
    "\tdata[col] = data[col].replace('x', 1)\n",
    "\tdata[col] = data[col].replace('o', -1)\n",
    "\tdata[col] = data[col].replace('b', 0)"
   ]
  },
  {
   "cell_type": "code",
   "execution_count": 7,
   "metadata": {},
   "outputs": [
    {
     "data": {
      "text/html": [
       "<div>\n",
       "<style scoped>\n",
       "    .dataframe tbody tr th:only-of-type {\n",
       "        vertical-align: middle;\n",
       "    }\n",
       "\n",
       "    .dataframe tbody tr th {\n",
       "        vertical-align: top;\n",
       "    }\n",
       "\n",
       "    .dataframe thead th {\n",
       "        text-align: right;\n",
       "    }\n",
       "</style>\n",
       "<table border=\"1\" class=\"dataframe\">\n",
       "  <thead>\n",
       "    <tr style=\"text-align: right;\">\n",
       "      <th></th>\n",
       "      <th>TL</th>\n",
       "      <th>TM</th>\n",
       "      <th>TR</th>\n",
       "      <th>ML</th>\n",
       "      <th>MM</th>\n",
       "      <th>MR</th>\n",
       "      <th>BL</th>\n",
       "      <th>BM</th>\n",
       "      <th>BR</th>\n",
       "      <th>class</th>\n",
       "    </tr>\n",
       "  </thead>\n",
       "  <tbody>\n",
       "    <tr>\n",
       "      <th>0</th>\n",
       "      <td>1</td>\n",
       "      <td>1</td>\n",
       "      <td>1</td>\n",
       "      <td>1</td>\n",
       "      <td>-1</td>\n",
       "      <td>-1</td>\n",
       "      <td>1</td>\n",
       "      <td>-1</td>\n",
       "      <td>-1</td>\n",
       "      <td>True</td>\n",
       "    </tr>\n",
       "    <tr>\n",
       "      <th>1</th>\n",
       "      <td>1</td>\n",
       "      <td>1</td>\n",
       "      <td>1</td>\n",
       "      <td>1</td>\n",
       "      <td>-1</td>\n",
       "      <td>-1</td>\n",
       "      <td>-1</td>\n",
       "      <td>1</td>\n",
       "      <td>-1</td>\n",
       "      <td>True</td>\n",
       "    </tr>\n",
       "    <tr>\n",
       "      <th>2</th>\n",
       "      <td>1</td>\n",
       "      <td>1</td>\n",
       "      <td>1</td>\n",
       "      <td>1</td>\n",
       "      <td>-1</td>\n",
       "      <td>-1</td>\n",
       "      <td>-1</td>\n",
       "      <td>-1</td>\n",
       "      <td>1</td>\n",
       "      <td>True</td>\n",
       "    </tr>\n",
       "    <tr>\n",
       "      <th>3</th>\n",
       "      <td>1</td>\n",
       "      <td>1</td>\n",
       "      <td>1</td>\n",
       "      <td>1</td>\n",
       "      <td>-1</td>\n",
       "      <td>-1</td>\n",
       "      <td>-1</td>\n",
       "      <td>0</td>\n",
       "      <td>0</td>\n",
       "      <td>True</td>\n",
       "    </tr>\n",
       "    <tr>\n",
       "      <th>4</th>\n",
       "      <td>1</td>\n",
       "      <td>1</td>\n",
       "      <td>1</td>\n",
       "      <td>1</td>\n",
       "      <td>-1</td>\n",
       "      <td>-1</td>\n",
       "      <td>0</td>\n",
       "      <td>-1</td>\n",
       "      <td>0</td>\n",
       "      <td>True</td>\n",
       "    </tr>\n",
       "  </tbody>\n",
       "</table>\n",
       "</div>"
      ],
      "text/plain": [
       "   TL  TM  TR  ML  MM  MR  BL  BM  BR  class\n",
       "0   1   1   1   1  -1  -1   1  -1  -1   True\n",
       "1   1   1   1   1  -1  -1  -1   1  -1   True\n",
       "2   1   1   1   1  -1  -1  -1  -1   1   True\n",
       "3   1   1   1   1  -1  -1  -1   0   0   True\n",
       "4   1   1   1   1  -1  -1   0  -1   0   True"
      ]
     },
     "execution_count": 7,
     "metadata": {},
     "output_type": "execute_result"
    }
   ],
   "source": [
    "data.head()"
   ]
  },
  {
   "cell_type": "code",
   "execution_count": 8,
   "metadata": {},
   "outputs": [],
   "source": [
    "data['class'] = np.where(data['class'] == True, 1,0)"
   ]
  },
  {
   "cell_type": "code",
   "execution_count": 9,
   "metadata": {},
   "outputs": [
    {
     "data": {
      "text/html": [
       "<div>\n",
       "<style scoped>\n",
       "    .dataframe tbody tr th:only-of-type {\n",
       "        vertical-align: middle;\n",
       "    }\n",
       "\n",
       "    .dataframe tbody tr th {\n",
       "        vertical-align: top;\n",
       "    }\n",
       "\n",
       "    .dataframe thead th {\n",
       "        text-align: right;\n",
       "    }\n",
       "</style>\n",
       "<table border=\"1\" class=\"dataframe\">\n",
       "  <thead>\n",
       "    <tr style=\"text-align: right;\">\n",
       "      <th></th>\n",
       "      <th>TL</th>\n",
       "      <th>TM</th>\n",
       "      <th>TR</th>\n",
       "      <th>ML</th>\n",
       "      <th>MM</th>\n",
       "      <th>MR</th>\n",
       "      <th>BL</th>\n",
       "      <th>BM</th>\n",
       "      <th>BR</th>\n",
       "      <th>class</th>\n",
       "    </tr>\n",
       "  </thead>\n",
       "  <tbody>\n",
       "    <tr>\n",
       "      <th>0</th>\n",
       "      <td>1</td>\n",
       "      <td>1</td>\n",
       "      <td>1</td>\n",
       "      <td>1</td>\n",
       "      <td>-1</td>\n",
       "      <td>-1</td>\n",
       "      <td>1</td>\n",
       "      <td>-1</td>\n",
       "      <td>-1</td>\n",
       "      <td>1</td>\n",
       "    </tr>\n",
       "    <tr>\n",
       "      <th>1</th>\n",
       "      <td>1</td>\n",
       "      <td>1</td>\n",
       "      <td>1</td>\n",
       "      <td>1</td>\n",
       "      <td>-1</td>\n",
       "      <td>-1</td>\n",
       "      <td>-1</td>\n",
       "      <td>1</td>\n",
       "      <td>-1</td>\n",
       "      <td>1</td>\n",
       "    </tr>\n",
       "    <tr>\n",
       "      <th>2</th>\n",
       "      <td>1</td>\n",
       "      <td>1</td>\n",
       "      <td>1</td>\n",
       "      <td>1</td>\n",
       "      <td>-1</td>\n",
       "      <td>-1</td>\n",
       "      <td>-1</td>\n",
       "      <td>-1</td>\n",
       "      <td>1</td>\n",
       "      <td>1</td>\n",
       "    </tr>\n",
       "    <tr>\n",
       "      <th>3</th>\n",
       "      <td>1</td>\n",
       "      <td>1</td>\n",
       "      <td>1</td>\n",
       "      <td>1</td>\n",
       "      <td>-1</td>\n",
       "      <td>-1</td>\n",
       "      <td>-1</td>\n",
       "      <td>0</td>\n",
       "      <td>0</td>\n",
       "      <td>1</td>\n",
       "    </tr>\n",
       "    <tr>\n",
       "      <th>4</th>\n",
       "      <td>1</td>\n",
       "      <td>1</td>\n",
       "      <td>1</td>\n",
       "      <td>1</td>\n",
       "      <td>-1</td>\n",
       "      <td>-1</td>\n",
       "      <td>0</td>\n",
       "      <td>-1</td>\n",
       "      <td>0</td>\n",
       "      <td>1</td>\n",
       "    </tr>\n",
       "  </tbody>\n",
       "</table>\n",
       "</div>"
      ],
      "text/plain": [
       "   TL  TM  TR  ML  MM  MR  BL  BM  BR  class\n",
       "0   1   1   1   1  -1  -1   1  -1  -1      1\n",
       "1   1   1   1   1  -1  -1  -1   1  -1      1\n",
       "2   1   1   1   1  -1  -1  -1  -1   1      1\n",
       "3   1   1   1   1  -1  -1  -1   0   0      1\n",
       "4   1   1   1   1  -1  -1   0  -1   0      1"
      ]
     },
     "execution_count": 9,
     "metadata": {},
     "output_type": "execute_result"
    }
   ],
   "source": [
    "data.head()"
   ]
  },
  {
   "cell_type": "code",
   "execution_count": 10,
   "metadata": {},
   "outputs": [
    {
     "data": {
      "text/plain": [
       "TL       int64\n",
       "TM       int64\n",
       "TR       int64\n",
       "ML       int64\n",
       "MM       int64\n",
       "MR       int64\n",
       "BL       int64\n",
       "BM       int64\n",
       "BR       int64\n",
       "class    int64\n",
       "dtype: object"
      ]
     },
     "execution_count": 10,
     "metadata": {},
     "output_type": "execute_result"
    }
   ],
   "source": [
    "data.dtypes"
   ]
  },
  {
   "cell_type": "code",
   "execution_count": 11,
   "metadata": {},
   "outputs": [
    {
     "data": {
      "text/plain": [
       "1    626\n",
       "0    332\n",
       "Name: class, dtype: int64"
      ]
     },
     "execution_count": 11,
     "metadata": {},
     "output_type": "execute_result"
    }
   ],
   "source": [
    "data['class'].value_counts()"
   ]
  },
  {
   "cell_type": "code",
   "execution_count": 12,
   "metadata": {},
   "outputs": [],
   "source": [
    "x = data.drop(columns='class')\n",
    "y = data['class']"
   ]
  },
  {
   "cell_type": "code",
   "execution_count": 13,
   "metadata": {},
   "outputs": [],
   "source": [
    "from sklearn.preprocessing import normalize\n",
    "x_scaled = normalize(x)"
   ]
  },
  {
   "cell_type": "markdown",
   "metadata": {},
   "source": [
    "## Step 2: Build Neural Network\n",
    "\n",
    "To build the neural network, you can refer to your own codes you wrote while following the [Deep Learning with Python, TensorFlow, and Keras tutorial](https://www.youtube.com/watch?v=wQ8BIBpya2k) in the lesson. It's pretty similar to what you will be doing in this lab.\n",
    "\n",
    "1. Split the training and test data.\n",
    "1. Create a `Sequential` model.\n",
    "1. Add several layers to your model. Make sure you use ReLU as the activation function for the middle layers. Use Softmax for the output layer because each output has a single lable and all the label probabilities add up to 1.\n",
    "1. Compile the model using `adam` as the optimizer and `sparse_categorical_crossentropy` as the loss function. For metrics, use `accuracy` for now.\n",
    "1. Fit the training data.\n",
    "1. Evaluate your neural network model with the test data.\n",
    "1. Save your model as `tic-tac-toe.model`."
   ]
  },
  {
   "cell_type": "code",
   "execution_count": 14,
   "metadata": {},
   "outputs": [
    {
     "name": "stdout",
     "output_type": "stream",
     "text": [
      "(766, 9)\n",
      "(192, 9)\n"
     ]
    }
   ],
   "source": [
    "# your code here\n",
    "x_train, x_test, y_train, y_test = train_test_split(x_scaled, y, test_size=0.20, random_state=42)\n",
    "print(x_train.shape); print(x_test.shape)"
   ]
  },
  {
   "cell_type": "code",
   "execution_count": 15,
   "metadata": {},
   "outputs": [
    {
     "name": "stderr",
     "output_type": "stream",
     "text": [
      "2022-02-10 23:04:02.281504: I tensorflow/core/platform/cpu_feature_guard.cc:151] This TensorFlow binary is optimized with oneAPI Deep Neural Network Library (oneDNN) to use the following CPU instructions in performance-critical operations:  AVX2 AVX512F FMA\n",
      "To enable them in other operations, rebuild TensorFlow with the appropriate compiler flags.\n"
     ]
    }
   ],
   "source": [
    "model = Sequential()\n",
    "\n",
    "model.add(Dense(500, activation='relu', input_dim=9))\n",
    "model.add(Dense(100, activation='relu'))\n",
    "model.add(Dense(50, activation='relu'))\n",
    "model.add(Dense(2, activation='softmax'))\n",
    "\n",
    "# compile model\n",
    "model.compile(optimizer='adam', loss='sparse_categorical_crossentropy', metrics=['accuracy'])"
   ]
  },
  {
   "cell_type": "code",
   "execution_count": 16,
   "metadata": {},
   "outputs": [
    {
     "name": "stdout",
     "output_type": "stream",
     "text": [
      "Epoch 1/30\n",
      "24/24 [==============================] - 1s 2ms/step - loss: 0.5947 - accuracy: 0.6762\n",
      "Epoch 2/30\n",
      "24/24 [==============================] - 0s 2ms/step - loss: 0.4958 - accuracy: 0.7833\n",
      "Epoch 3/30\n",
      "24/24 [==============================] - 0s 2ms/step - loss: 0.3660 - accuracy: 0.8642\n",
      "Epoch 4/30\n",
      "24/24 [==============================] - 0s 2ms/step - loss: 0.1760 - accuracy: 0.9687\n",
      "Epoch 5/30\n",
      "24/24 [==============================] - 0s 2ms/step - loss: 0.0577 - accuracy: 0.9883\n",
      "Epoch 6/30\n",
      "24/24 [==============================] - 0s 2ms/step - loss: 0.0282 - accuracy: 0.9922\n",
      "Epoch 7/30\n",
      "24/24 [==============================] - 0s 2ms/step - loss: 0.0163 - accuracy: 0.9974\n",
      "Epoch 8/30\n",
      "24/24 [==============================] - 0s 2ms/step - loss: 0.0080 - accuracy: 1.0000\n",
      "Epoch 9/30\n",
      "24/24 [==============================] - 0s 2ms/step - loss: 0.0040 - accuracy: 1.0000\n",
      "Epoch 10/30\n",
      "24/24 [==============================] - 0s 2ms/step - loss: 0.0024 - accuracy: 1.0000\n",
      "Epoch 11/30\n",
      "24/24 [==============================] - 0s 2ms/step - loss: 0.0016 - accuracy: 1.0000\n",
      "Epoch 12/30\n",
      "24/24 [==============================] - 0s 2ms/step - loss: 0.0013 - accuracy: 1.0000\n",
      "Epoch 13/30\n",
      "24/24 [==============================] - 0s 2ms/step - loss: 9.7315e-04 - accuracy: 1.0000\n",
      "Epoch 14/30\n",
      "24/24 [==============================] - 0s 2ms/step - loss: 7.9049e-04 - accuracy: 1.0000\n",
      "Epoch 15/30\n",
      "24/24 [==============================] - 0s 2ms/step - loss: 6.4169e-04 - accuracy: 1.0000\n",
      "Epoch 16/30\n",
      "24/24 [==============================] - 0s 2ms/step - loss: 5.2823e-04 - accuracy: 1.0000\n",
      "Epoch 17/30\n",
      "24/24 [==============================] - 0s 2ms/step - loss: 4.4546e-04 - accuracy: 1.0000\n",
      "Epoch 18/30\n",
      "24/24 [==============================] - 0s 2ms/step - loss: 3.7985e-04 - accuracy: 1.0000\n",
      "Epoch 19/30\n",
      "24/24 [==============================] - 0s 2ms/step - loss: 3.1808e-04 - accuracy: 1.0000\n",
      "Epoch 20/30\n",
      "24/24 [==============================] - 0s 2ms/step - loss: 2.7356e-04 - accuracy: 1.0000\n",
      "Epoch 21/30\n",
      "24/24 [==============================] - 0s 2ms/step - loss: 2.4203e-04 - accuracy: 1.0000\n",
      "Epoch 22/30\n",
      "24/24 [==============================] - 0s 2ms/step - loss: 2.1204e-04 - accuracy: 1.0000\n",
      "Epoch 23/30\n",
      "24/24 [==============================] - 0s 3ms/step - loss: 1.8516e-04 - accuracy: 1.0000\n",
      "Epoch 24/30\n",
      "24/24 [==============================] - 0s 2ms/step - loss: 1.6579e-04 - accuracy: 1.0000\n",
      "Epoch 25/30\n",
      "24/24 [==============================] - 0s 3ms/step - loss: 1.4945e-04 - accuracy: 1.0000\n",
      "Epoch 26/30\n",
      "24/24 [==============================] - 0s 3ms/step - loss: 1.3530e-04 - accuracy: 1.0000\n",
      "Epoch 27/30\n",
      "24/24 [==============================] - 0s 3ms/step - loss: 1.1980e-04 - accuracy: 1.0000\n",
      "Epoch 28/30\n",
      "24/24 [==============================] - 0s 2ms/step - loss: 1.0928e-04 - accuracy: 1.0000\n",
      "Epoch 29/30\n",
      "24/24 [==============================] - 0s 2ms/step - loss: 1.0057e-04 - accuracy: 1.0000\n",
      "Epoch 30/30\n",
      "24/24 [==============================] - 0s 2ms/step - loss: 9.1024e-05 - accuracy: 1.0000\n"
     ]
    },
    {
     "data": {
      "text/plain": [
       "<keras.callbacks.History at 0x7fc90fdbadc0>"
      ]
     },
     "execution_count": 16,
     "metadata": {},
     "output_type": "execute_result"
    }
   ],
   "source": [
    "model.fit(x_train, y_train, epochs=30)"
   ]
  },
  {
   "cell_type": "code",
   "execution_count": 17,
   "metadata": {},
   "outputs": [
    {
     "name": "stderr",
     "output_type": "stream",
     "text": [
      "2022-02-10 23:04:23.374052: W tensorflow/python/util/util.cc:368] Sets are not currently considered sequences, but this may change in the future, so consider avoiding using them.\n"
     ]
    },
    {
     "name": "stdout",
     "output_type": "stream",
     "text": [
      "INFO:tensorflow:Assets written to: tic-tac-toe.model/assets\n"
     ]
    }
   ],
   "source": [
    "#Saving the model \n",
    "model.save('tic-tac-toe.model')"
   ]
  },
  {
   "cell_type": "markdown",
   "metadata": {},
   "source": [
    "## Step 3: Make Predictions\n",
    "\n",
    "Now load your saved model and use it to make predictions on a few random rows in the test dataset. Check if the predictions are correct."
   ]
  },
  {
   "cell_type": "code",
   "execution_count": 19,
   "metadata": {},
   "outputs": [
    {
     "name": "stdout",
     "output_type": "stream",
     "text": [
      "Accuracy on training data: 1.0% \n",
      " Error on training data: 0.0\n",
      "Accuracy on test data: 0.984375% \n",
      " Error on test data: 0.015625,\n",
      " Loss: 0.024371853098273277\n"
     ]
    }
   ],
   "source": [
    "# your code here\n",
    "pred_train= model.predict(x_train)\n",
    "scores = model.evaluate(x_train, y_train, verbose=0)\n",
    "print('Accuracy on training data: {}% \\n Error on training data: {}'.format(scores[1], 1 - scores[1]))   \n",
    " \n",
    "pred_test= model.predict(x_test)\n",
    "scores2 = model.evaluate(x_test, y_test, verbose=0)\n",
    "print('Accuracy on test data: {}% \\n Error on test data: {},\\n Loss: {}'.format(scores2[1], 1 - scores2[1], scores2[0]))    "
   ]
  },
  {
   "cell_type": "code",
   "execution_count": 20,
   "metadata": {},
   "outputs": [
    {
     "data": {
      "text/plain": [
       "[0.024371853098273277, 0.984375]"
      ]
     },
     "execution_count": 20,
     "metadata": {},
     "output_type": "execute_result"
    }
   ],
   "source": [
    "scores2"
   ]
  },
  {
   "cell_type": "code",
   "execution_count": 22,
   "metadata": {},
   "outputs": [],
   "source": [
    "#checking if the model works for first five rows\n",
    "\n",
    "keras.models.load_model('tic-tac-toe.model')\n",
    "predictions = model.predict(x_test[:5]) "
   ]
  },
  {
   "cell_type": "code",
   "execution_count": 23,
   "metadata": {},
   "outputs": [
    {
     "name": "stdout",
     "output_type": "stream",
     "text": [
      "[0 1 1 0 0]\n",
      "836    0\n",
      "477    1\n",
      "350    1\n",
      "891    0\n",
      "855    0\n",
      "Name: class, dtype: int64\n"
     ]
    }
   ],
   "source": [
    "print(np.argmax(predictions, axis = 1))\n",
    "print(y_test[:5])"
   ]
  },
  {
   "cell_type": "code",
   "execution_count": 24,
   "metadata": {},
   "outputs": [],
   "source": [
    "#The model works good for 5 first rows"
   ]
  },
  {
   "cell_type": "markdown",
   "metadata": {},
   "source": [
    "## Step 4: Improve Your Model\n",
    "\n",
    "Did your model achieve low loss (<0.1) and high accuracy (>0.95)? If not, try to improve your model.\n",
    "\n",
    "But how? There are so many things you can play with in Tensorflow and in the next challenge you'll learn about these things. But in this challenge, let's just do a few things to see if they will help.\n",
    "\n",
    "* Add more layers to your model. If the data are complex you need more layers. But don't use more layers than you need. If adding more layers does not improve the model performance you don't need additional layers.\n",
    "* Adjust the learning rate when you compile the model. This means you will create a custom `tf.keras.optimizers.Adam` instance where you specify the learning rate you want. Then pass the instance to `model.compile` as the optimizer.\n",
    "    * `tf.keras.optimizers.Adam` [reference](https://www.tensorflow.org/api_docs/python/tf/keras/optimizers/Adam).\n",
    "    * Don't worry if you don't understand what the learning rate does. You'll learn about it in the next challenge.\n",
    "* Adjust the number of epochs when you fit the training data to the model. Your model performance continues to improve as you train more epochs. But eventually it will reach the ceiling and the performance will stay the same."
   ]
  },
  {
   "cell_type": "code",
   "execution_count": 26,
   "metadata": {},
   "outputs": [],
   "source": [
    "# your code here\n",
    "##\n",
    "model = Sequential()\n",
    "\n",
    "model.add(Dense(500, activation='relu', input_dim=9))\n",
    "model.add(Dense(300, activation='relu'))\n",
    "model.add(Dense(200, activation='relu'))\n",
    "model.add(Dense(100, activation='relu'))\n",
    "model.add(Dense(50, activation='relu'))\n",
    "model.add(Dense(2, activation='softmax'))\n",
    "\n",
    "# compile model\n",
    "model.compile(optimizer='adam', loss='sparse_categorical_crossentropy', metrics=['accuracy'])"
   ]
  },
  {
   "cell_type": "code",
   "execution_count": 27,
   "metadata": {},
   "outputs": [
    {
     "name": "stdout",
     "output_type": "stream",
     "text": [
      "Epoch 1/30\n",
      "24/24 [==============================] - 1s 3ms/step - loss: 0.5894 - accuracy: 0.6984\n",
      "Epoch 2/30\n",
      "24/24 [==============================] - 0s 3ms/step - loss: 0.3588 - accuracy: 0.8629\n",
      "Epoch 3/30\n",
      "24/24 [==============================] - 0s 3ms/step - loss: 0.0677 - accuracy: 0.9830\n",
      "Epoch 4/30\n",
      "24/24 [==============================] - 0s 3ms/step - loss: 0.0153 - accuracy: 0.9961\n",
      "Epoch 5/30\n",
      "24/24 [==============================] - 0s 3ms/step - loss: 0.0131 - accuracy: 0.9935\n",
      "Epoch 6/30\n",
      "24/24 [==============================] - 0s 3ms/step - loss: 0.0144 - accuracy: 0.9935\n",
      "Epoch 7/30\n",
      "24/24 [==============================] - 0s 3ms/step - loss: 0.0306 - accuracy: 0.9856\n",
      "Epoch 8/30\n",
      "24/24 [==============================] - 0s 3ms/step - loss: 0.0220 - accuracy: 0.9856\n",
      "Epoch 9/30\n",
      "24/24 [==============================] - 0s 3ms/step - loss: 0.0098 - accuracy: 0.9948\n",
      "Epoch 10/30\n",
      "24/24 [==============================] - 0s 3ms/step - loss: 0.0021 - accuracy: 1.0000\n",
      "Epoch 11/30\n",
      "24/24 [==============================] - 0s 3ms/step - loss: 4.1764e-04 - accuracy: 1.0000\n",
      "Epoch 12/30\n",
      "24/24 [==============================] - 0s 3ms/step - loss: 2.0108e-04 - accuracy: 1.0000\n",
      "Epoch 13/30\n",
      "24/24 [==============================] - 0s 3ms/step - loss: 1.4052e-04 - accuracy: 1.0000\n",
      "Epoch 14/30\n",
      "24/24 [==============================] - 0s 3ms/step - loss: 1.0960e-04 - accuracy: 1.0000\n",
      "Epoch 15/30\n",
      "24/24 [==============================] - 0s 3ms/step - loss: 9.0804e-05 - accuracy: 1.0000\n",
      "Epoch 16/30\n",
      "24/24 [==============================] - 0s 3ms/step - loss: 7.7476e-05 - accuracy: 1.0000\n",
      "Epoch 17/30\n",
      "24/24 [==============================] - 0s 3ms/step - loss: 6.7551e-05 - accuracy: 1.0000\n",
      "Epoch 18/30\n",
      "24/24 [==============================] - 0s 3ms/step - loss: 5.9243e-05 - accuracy: 1.0000\n",
      "Epoch 19/30\n",
      "24/24 [==============================] - 0s 3ms/step - loss: 5.2739e-05 - accuracy: 1.0000\n",
      "Epoch 20/30\n",
      "24/24 [==============================] - 0s 3ms/step - loss: 4.7486e-05 - accuracy: 1.0000\n",
      "Epoch 21/30\n",
      "24/24 [==============================] - 0s 3ms/step - loss: 4.2909e-05 - accuracy: 1.0000\n",
      "Epoch 22/30\n",
      "24/24 [==============================] - 0s 3ms/step - loss: 3.8953e-05 - accuracy: 1.0000\n",
      "Epoch 23/30\n",
      "24/24 [==============================] - 0s 3ms/step - loss: 3.5679e-05 - accuracy: 1.0000\n",
      "Epoch 24/30\n",
      "24/24 [==============================] - 0s 3ms/step - loss: 3.2785e-05 - accuracy: 1.0000\n",
      "Epoch 25/30\n",
      "24/24 [==============================] - 0s 3ms/step - loss: 3.0185e-05 - accuracy: 1.0000\n",
      "Epoch 26/30\n",
      "24/24 [==============================] - 0s 3ms/step - loss: 2.7926e-05 - accuracy: 1.0000\n",
      "Epoch 27/30\n",
      "24/24 [==============================] - 0s 3ms/step - loss: 2.5938e-05 - accuracy: 1.0000\n",
      "Epoch 28/30\n",
      "24/24 [==============================] - 0s 3ms/step - loss: 2.4121e-05 - accuracy: 1.0000\n",
      "Epoch 29/30\n",
      "24/24 [==============================] - 0s 3ms/step - loss: 2.2511e-05 - accuracy: 1.0000\n",
      "Epoch 30/30\n",
      "24/24 [==============================] - 0s 3ms/step - loss: 2.1014e-05 - accuracy: 1.0000\n",
      "Accuracy on training data: 1.0% \n",
      " Error on training data: 0.0\n",
      "Accuracy on test data: 0.9791666865348816% \n",
      " Error on test data: 0.020833313465118408,\n",
      " Loss: 0.08200941234827042\n"
     ]
    }
   ],
   "source": [
    "model.fit(x_train, y_train, epochs=30)\n",
    "pred_train= model.predict(x_train)\n",
    "scores = model.evaluate(x_train, y_train, verbose=0)\n",
    "print('Accuracy on training data: {}% \\n Error on training data: {}'.format(scores[1], 1 - scores[1]))   \n",
    " \n",
    "pred_test= model.predict(x_test)\n",
    "scores2 = model.evaluate(x_test, y_test, verbose=0)\n",
    "print('Accuracy on test data: {}% \\n Error on test data: {},\\n Loss: {}'.format(scores2[1], 1 - scores2[1], scores2[0]))    "
   ]
  },
  {
   "cell_type": "code",
   "execution_count": 29,
   "metadata": {},
   "outputs": [
    {
     "name": "stdout",
     "output_type": "stream",
     "text": [
      "Epoch 1/15\n",
      "24/24 [==============================] - 0s 2ms/step - loss: 0.6173 - accuracy: 0.6514\n",
      "Epoch 2/15\n",
      "24/24 [==============================] - 0s 2ms/step - loss: 0.4773 - accuracy: 0.7911\n",
      "Epoch 3/15\n",
      "24/24 [==============================] - 0s 2ms/step - loss: 0.2474 - accuracy: 0.9269\n",
      "Epoch 4/15\n",
      "24/24 [==============================] - 0s 2ms/step - loss: 0.0619 - accuracy: 0.9922\n",
      "Epoch 5/15\n",
      "24/24 [==============================] - 0s 2ms/step - loss: 0.0159 - accuracy: 0.9961\n",
      "Epoch 6/15\n",
      "24/24 [==============================] - 0s 2ms/step - loss: 0.0093 - accuracy: 0.9987\n",
      "Epoch 7/15\n",
      "24/24 [==============================] - 0s 2ms/step - loss: 0.0055 - accuracy: 0.9987\n",
      "Epoch 8/15\n",
      "24/24 [==============================] - 0s 2ms/step - loss: 0.0022 - accuracy: 1.0000\n",
      "Epoch 9/15\n",
      "24/24 [==============================] - 0s 2ms/step - loss: 9.1877e-04 - accuracy: 1.0000\n",
      "Epoch 10/15\n",
      "24/24 [==============================] - 0s 2ms/step - loss: 4.3717e-04 - accuracy: 1.0000\n",
      "Epoch 11/15\n",
      "24/24 [==============================] - 0s 2ms/step - loss: 3.2475e-04 - accuracy: 1.0000\n",
      "Epoch 12/15\n",
      "24/24 [==============================] - 0s 2ms/step - loss: 2.7554e-04 - accuracy: 1.0000\n",
      "Epoch 13/15\n",
      "24/24 [==============================] - 0s 2ms/step - loss: 2.3399e-04 - accuracy: 1.0000\n",
      "Epoch 14/15\n",
      "24/24 [==============================] - 0s 2ms/step - loss: 2.0626e-04 - accuracy: 1.0000\n",
      "Epoch 15/15\n",
      "24/24 [==============================] - 0s 2ms/step - loss: 1.8266e-04 - accuracy: 1.0000\n",
      "Accuracy on training data: 1.0% \n",
      " Error on training data: 0.0\n",
      "Accuracy on test data: 0.9895833134651184% \n",
      " Error on test data: 0.010416686534881592,\n",
      " Loss: 0.02633158303797245\n"
     ]
    }
   ],
   "source": [
    "#This approach improved accuracy ans loss but not that much\n",
    "#Now I will try second approach \n",
    "import tensorflow as tf\n",
    "\n",
    "learning_rate=0.01\n",
    "\n",
    "\n",
    "model = Sequential()\n",
    "model.add(Dense(180, activation='relu', input_dim=9))\n",
    "# model.add(Dense(180, activation='relu'))\n",
    "model.add(Dense(180, activation='relu'))\n",
    "model.add(Dense(140, activation='relu'))\n",
    "model.add(Dense(100, activation='relu'))\n",
    "# model.add(Dense(200, activation='relu'))\n",
    "model.add(Dense(2, activation='softmax'))\n",
    "\n",
    "# compile model\n",
    "model.compile(optimizer=tf.keras.optimizers.Adam(\n",
    "    learning_rate=0.001, beta_1=0.9, beta_2=0.999, epsilon=1e-07, amsgrad=False,\n",
    "    name='Adam',), \n",
    "              loss='sparse_categorical_crossentropy', \n",
    "              metrics=['accuracy'])\n",
    "\n",
    "model.fit(x_train, y_train, epochs=15)\n",
    "pred_train = model.predict(x_train)\n",
    "scores = model.evaluate(x_train, y_train, verbose=0)\n",
    "print('Accuracy on training data: {}% \\n Error on training data: {}'.format(scores[1], 1 - scores[1]))   \n",
    " \n",
    "pred_test = model.predict(x_test)\n",
    "scores2 = model.evaluate(x_test, y_test, verbose=0)\n",
    "print('Accuracy on test data: {}% \\n Error on test data: {},\\n Loss: {}'.format(scores2[1], 1 - scores2[1], scores2[0]))   "
   ]
  },
  {
   "cell_type": "markdown",
   "metadata": {},
   "source": [
    "**Which approach(es) did you find helpful to improve your model performance?**"
   ]
  },
  {
   "cell_type": "code",
   "execution_count": 30,
   "metadata": {},
   "outputs": [],
   "source": [
    "# your answer here\n"
   ]
  }
 ],
 "metadata": {
  "kernelspec": {
   "display_name": "Python 3",
   "language": "python",
   "name": "python3"
  },
  "language_info": {
   "codemirror_mode": {
    "name": "ipython",
    "version": 3
   },
   "file_extension": ".py",
   "mimetype": "text/x-python",
   "name": "python",
   "nbconvert_exporter": "python",
   "pygments_lexer": "ipython3",
   "version": "3.9.6"
  }
 },
 "nbformat": 4,
 "nbformat_minor": 2
}
