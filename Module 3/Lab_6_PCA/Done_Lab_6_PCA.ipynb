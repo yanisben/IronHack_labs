{
 "cells": [
  {
   "cell_type": "markdown",
   "metadata": {
    "id": "xLLW4yjDFDOg"
   },
   "source": [
    "# Before your start:\n",
    "- Read the README.md file\n",
    "- Comment as much as you can and use the resources (README.md file)\n",
    "- Happy learning!"
   ]
  },
  {
   "cell_type": "code",
   "execution_count": 1,
   "metadata": {
    "id": "5IO5yAWPFDOl"
   },
   "outputs": [],
   "source": [
    "# Run this code:\n",
    "\n",
    "%matplotlib inline\n",
    "\n",
    "import matplotlib.pyplot as plt"
   ]
  },
  {
   "cell_type": "code",
   "execution_count": 2,
   "metadata": {
    "id": "MGqPNs-JFDOm"
   },
   "outputs": [],
   "source": [
    "# Import numpy and pandas:\n",
    "import numpy as np\n",
    "import pandas as pd\n"
   ]
  },
  {
   "cell_type": "markdown",
   "metadata": {
    "id": "nISH216QFDOm"
   },
   "source": [
    "# Challenge 1 - Reading and Standardizing the Data\n",
    "\n",
    "In this challenge we will work with image data and reduce the dimensions of the data to create a 2 dimensional plot. While we have not worked much with image data before, it can be represented as a numpy array where each pixel is assigned a numeric value. In this lesson, we will look at a dataset of cats and a dataset of dogs and see whether reducing them to two dimensions allows us to see if the data is separable. We will start by loading and processing the data. Run the cell below to load the two csv files and convert them into numpy arrays."
   ]
  },
  {
   "cell_type": "code",
   "execution_count": 3,
   "metadata": {
    "id": "6sb4RKhGFDOm"
   },
   "outputs": [],
   "source": [
    "# Run this code\n",
    "\n",
    "cats = np.array(pd.read_csv(\"https://raw.githubusercontent.com/bioramble/pca/master/cat.csv\", header=None))\n",
    "dogs = np.array(pd.read_csv(\"https://raw.githubusercontent.com/bioramble/pca/master/dog.csv\", header=None))"
   ]
  },
  {
   "cell_type": "markdown",
   "metadata": {
    "id": "ea9CtFZOFDOn"
   },
   "source": [
    "Next, we'll examine the shape of both the cats and the dogs arrays. Print out both shapes below."
   ]
  },
  {
   "cell_type": "code",
   "execution_count": 4,
   "metadata": {
    "id": "zwfJ_fAzFDOn",
    "outputId": "7ba12f2a-ea93-45a9-b98d-8ab77ae243c6"
   },
   "outputs": [
    {
     "data": {
      "text/plain": [
       "(4096, 80)"
      ]
     },
     "execution_count": 4,
     "metadata": {},
     "output_type": "execute_result"
    }
   ],
   "source": [
    "# Your code here:\n",
    "cats.shape"
   ]
  },
  {
   "cell_type": "code",
   "execution_count": null,
   "metadata": {},
   "outputs": [],
   "source": []
  },
  {
   "cell_type": "code",
   "execution_count": 5,
   "metadata": {
    "id": "FFzKMIp2FDOo",
    "outputId": "a719376c-ac66-4766-cb59-9c7461c6a3db"
   },
   "outputs": [
    {
     "data": {
      "text/plain": [
       "(4096, 80)"
      ]
     },
     "execution_count": 5,
     "metadata": {},
     "output_type": "execute_result"
    }
   ],
   "source": [
    "dogs.shape"
   ]
  },
  {
   "cell_type": "markdown",
   "metadata": {
    "id": "y_lOarPjFDOo"
   },
   "source": [
    "What this means is that both arrays contain 80 images each (the number of columns). Each image is comprised of 64x64 pixels (so a total of 4096 pixels per image). The images have been flattened such that all 4096 are in a single row.\n",
    "\n",
    "Print out column 0 of the cats array to see what the pixels values look like."
   ]
  },
  {
   "cell_type": "code",
   "execution_count": 6,
   "metadata": {
    "ExecuteTime": {
     "end_time": "2021-02-25T13:05:54.979105Z",
     "start_time": "2021-02-25T13:05:54.969235Z"
    },
    "id": "hiQS9EY8FDOo"
   },
   "outputs": [
    {
     "data": {
      "text/plain": [
       "array([64, 64, 64, ..., 64, 64, 61])"
      ]
     },
     "execution_count": 6,
     "metadata": {},
     "output_type": "execute_result"
    }
   ],
   "source": [
    "# Your code here:\n",
    "cats[:,0]\n"
   ]
  },
  {
   "cell_type": "markdown",
   "metadata": {
    "id": "9UvFnMgPFDOo"
   },
   "source": [
    "Using `matplotlib` we can plot a single cat or a single dog. We do this by reshaping the vector back to a 64x64 image and then using the `imshow` function.\n",
    "\n",
    "Run the code below to look at the first dog and the first cat."
   ]
  },
  {
   "cell_type": "code",
   "execution_count": 7,
   "metadata": {
    "id": "AcqumTdRFDOp",
    "outputId": "97aa7604-9987-474a-dd74-8a0b45cfbd79"
   },
   "outputs": [
    {
     "data": {
      "text/plain": [
       "<matplotlib.image.AxesImage at 0x7fe570fc3850>"
      ]
     },
     "execution_count": 7,
     "metadata": {},
     "output_type": "execute_result"
    },
    {
     "data": {
      "image/png": "[encoded data removed]",
      "text/plain": [
       "<Figure size 432x288 with 1 Axes>"
      ]
     },
     "metadata": {
      "needs_background": "light"
     },
     "output_type": "display_data"
    }
   ],
   "source": [
    "# Run this code:\n",
    "\n",
    "fig, ax = plt.subplots()\n",
    "ax.imshow(cats[:,0].reshape(64, 64).T, cmap=plt.cm.bone, interpolation='nearest') "
   ]
  },
  {
   "cell_type": "code",
   "execution_count": 8,
   "metadata": {
    "id": "CZzjFZRdFDOp",
    "outputId": "4e5bd9ca-1742-4f29-c9bb-f893baf36747"
   },
   "outputs": [
    {
     "data": {
      "text/plain": [
       "<matplotlib.image.AxesImage at 0x7fe573072e80>"
      ]
     },
     "execution_count": 8,
     "metadata": {},
     "output_type": "execute_result"
    },
    {
     "data": {
      "image/png": "[encoded data removed]",
      "text/plain": [
       "<Figure size 432x288 with 1 Axes>"
      ]
     },
     "metadata": {
      "needs_background": "light"
     },
     "output_type": "display_data"
    }
   ],
   "source": [
    "# Run this code:\n",
    "\n",
    "fig, ax = plt.subplots()\n",
    "ax.imshow(dogs[:,0].reshape(64, 64).T, cmap=plt.cm.bone, interpolation='nearest') "
   ]
  },
  {
   "cell_type": "markdown",
   "metadata": {
    "id": "bOFINuuHFDOq"
   },
   "source": [
    "Now, use the `np.concatenate` function to combine the cats and dogs arrays. Use `axis=1` to combine the two correctly. Make sure to put dogs first."
   ]
  },
  {
   "cell_type": "code",
   "execution_count": 9,
   "metadata": {
    "id": "V2VJM2NYFDOq"
   },
   "outputs": [],
   "source": [
    "# Your code here:\n",
    "CD = np.concatenate((dogs,cats),axis=1)\n",
    "\n"
   ]
  },
  {
   "cell_type": "code",
   "execution_count": 10,
   "metadata": {},
   "outputs": [
    {
     "data": {
      "text/plain": [
       "<matplotlib.image.AxesImage at 0x7fe570fc3490>"
      ]
     },
     "execution_count": 10,
     "metadata": {},
     "output_type": "execute_result"
    },
    {
     "data": {
      "image/png": "[encoded data removed]",
      "text/plain": [
       "<Figure size 432x288 with 1 Axes>"
      ]
     },
     "metadata": {
      "needs_background": "light"
     },
     "output_type": "display_data"
    }
   ],
   "source": [
    "fig, ax = plt.subplots()\n",
    "ax.imshow(CD[:,79].reshape(64, 64).T, cmap=plt.cm.bone, interpolation='nearest') "
   ]
  },
  {
   "cell_type": "code",
   "execution_count": 11,
   "metadata": {},
   "outputs": [
    {
     "data": {
      "text/plain": [
       "<matplotlib.image.AxesImage at 0x7fe573060850>"
      ]
     },
     "execution_count": 11,
     "metadata": {},
     "output_type": "execute_result"
    },
    {
     "data": {
      "image/png": "[encoded data removed]",
      "text/plain": [
       "<Figure size 432x288 with 1 Axes>"
      ]
     },
     "metadata": {
      "needs_background": "light"
     },
     "output_type": "display_data"
    }
   ],
   "source": [
    "fig, ax = plt.subplots()\n",
    "ax.imshow(CD[:,81].reshape(64, 64).T, cmap=plt.cm.bone, interpolation='nearest') "
   ]
  },
  {
   "cell_type": "markdown",
   "metadata": {
    "id": "PycXeWQNFDOp"
   },
   "source": [
    "Next, we would like to create a standardization function. This function will find the mean and standard deviation of each image. We subtract the mean from each pixel and divide each pixel by the standard deviation. Write the function below."
   ]
  },
  {
   "cell_type": "code",
   "execution_count": 12,
   "metadata": {
    "id": "7JM7-kq0FDOp"
   },
   "outputs": [],
   "source": [
    "#Your code here:\n",
    "def standardization(array):\n",
    "    standardized = np.copy(array)\n",
    "    for i in range(standardized.shape[1]):\n",
    "        mean = np.mean(standardized[:, i])\n",
    "        std = np.std(standardized[:, i])\n",
    "        standardized[:, i] = (standardized[:, i] - mean) / std\n",
    "    return standardized"
   ]
  },
  {
   "cell_type": "code",
   "execution_count": 14,
   "metadata": {},
   "outputs": [
    {
     "data": {
      "text/plain": [
       "(4096, 160)"
      ]
     },
     "execution_count": 14,
     "metadata": {},
     "output_type": "execute_result"
    }
   ],
   "source": [
    "CDSTD = standardization(CD)\n",
    "CDSTD.shape"
   ]
  },
  {
   "cell_type": "markdown",
   "metadata": {},
   "source": [
    "Standarized images"
   ]
  },
  {
   "cell_type": "code",
   "execution_count": 15,
   "metadata": {},
   "outputs": [
    {
     "data": {
      "text/plain": [
       "<matplotlib.image.AxesImage at 0x7fe5732186d0>"
      ]
     },
     "execution_count": 15,
     "metadata": {},
     "output_type": "execute_result"
    },
    {
     "data": {
      "image/png": "[encoded data removed]",
      "text/plain": [
       "<Figure size 432x288 with 1 Axes>"
      ]
     },
     "metadata": {
      "needs_background": "light"
     },
     "output_type": "display_data"
    }
   ],
   "source": [
    "fig, ax = plt.subplots()\n",
    "ax.imshow(CD[:,159].reshape(64, 64).T, cmap=plt.cm.bone, interpolation='nearest') "
   ]
  },
  {
   "cell_type": "code",
   "execution_count": 16,
   "metadata": {},
   "outputs": [
    {
     "data": {
      "text/plain": [
       "<matplotlib.image.AxesImage at 0x7fe573315760>"
      ]
     },
     "execution_count": 16,
     "metadata": {},
     "output_type": "execute_result"
    },
    {
     "data": {
      "image/png": "[encoded data removed]",
      "text/plain": [
       "<Figure size 432x288 with 1 Axes>"
      ]
     },
     "metadata": {
      "needs_background": "light"
     },
     "output_type": "display_data"
    }
   ],
   "source": [
    "fig, ax = plt.subplots()\n",
    "ax.imshow(CDSTD[:,159].reshape(64, 64).T, cmap=plt.cm.bone, interpolation='nearest') "
   ]
  },
  {
   "cell_type": "code",
   "execution_count": 17,
   "metadata": {},
   "outputs": [
    {
     "data": {
      "text/plain": [
       "(160, 4096)"
      ]
     },
     "execution_count": 17,
     "metadata": {},
     "output_type": "execute_result"
    }
   ],
   "source": [
    "CDSTD.T.shape"
   ]
  },
  {
   "cell_type": "markdown",
   "metadata": {
    "id": "kRMcgTapFDOq"
   },
   "source": [
    "# Challenge 2 - Using PCA\n",
    "\n",
    "Now that we have created a standardized matrix of cats and dogs, we'll find the two most important components in the data.\n",
    "\n",
    "1. Load the `PCA` function from statsmodel. Create a PCA model with two components.\n",
    "You might need to transpose your data to get the right results."
   ]
  },
  {
   "cell_type": "code",
   "execution_count": 18,
   "metadata": {
    "id": "o6JKMVCpFDOq"
   },
   "outputs": [],
   "source": [
    "# Your code here:\n",
    "from statsmodels.multivariate.pca import PCA\n",
    "\n",
    "pca_stats = PCA(CDSTD.T, ncomp=2)\n"
   ]
  },
  {
   "cell_type": "code",
   "execution_count": 19,
   "metadata": {},
   "outputs": [],
   "source": [
    "components_stats = pca_stats.factors"
   ]
  },
  {
   "cell_type": "markdown",
   "metadata": {
    "id": "HJ0il4Ggehd3"
   },
   "source": [
    "2.  And now lets do the same with sklearn library."
   ]
  },
  {
   "cell_type": "code",
   "execution_count": 20,
   "metadata": {
    "id": "aXde8FwZFDOr"
   },
   "outputs": [],
   "source": [
    "from sklearn.decomposition import PCA\n",
    "pca = PCA(n_components=2)\n",
    "pca_sklearn = pca.fit_transform(CDSTD.T)"
   ]
  },
  {
   "cell_type": "markdown",
   "metadata": {
    "id": "no-JSnrxFDOr"
   },
   "source": [
    "# Challenge 3 - Plotting the Data\n",
    "\n",
    "Now that we have reduced our cats and dogs arrays, we can easily plot the data in a way that the human eye can understand. We can look at this plot to see whether there are differences between the cat and dog images. \n",
    "\n",
    "In the cell below, turn the two dimensional projection into a pandas dataframe and name the columns `pc1`, and `pc2` respectively."
   ]
  },
  {
   "cell_type": "markdown",
   "metadata": {},
   "source": [
    "### First I will do that for the PCA obtained from stats models"
   ]
  },
  {
   "cell_type": "markdown",
   "metadata": {},
   "source": [
    "### PCA from sklearn"
   ]
  },
  {
   "cell_type": "code",
   "execution_count": 21,
   "metadata": {
    "id": "65tZL3XTFDOr"
   },
   "outputs": [
    {
     "data": {
      "text/plain": [
       "array([[ 2.87110319e+01,  1.81156328e+01],\n",
       "       [ 2.35876703e+01, -8.60241772e+00],\n",
       "       [-6.25011172e+00,  1.40591261e-02],\n",
       "       [ 4.15210441e+00, -1.86780038e+01],\n",
       "       [ 1.55528759e+01, -3.48181053e-01],\n",
       "       [-4.93141425e+00, -2.42692224e+01],\n",
       "       [ 1.02934381e+01, -3.20363591e+00],\n",
       "       [ 1.13429528e+01, -1.70641550e+01],\n",
       "       [ 9.19733513e+00, -2.02722521e+01],\n",
       "       [ 2.07340723e+01,  5.28357807e+00],\n",
       "       [-2.12372232e+00, -1.63099630e+01],\n",
       "       [ 1.27094357e+01, -1.20208477e+01],\n",
       "       [ 3.81267878e+00, -2.54255148e+00],\n",
       "       [ 1.99424156e-01, -8.61809471e-01],\n",
       "       [ 1.14740303e+01, -1.02507914e+01],\n",
       "       [ 1.44066748e+01, -1.75955656e+01],\n",
       "       [ 9.27944466e+00,  1.14217642e-01],\n",
       "       [ 2.55182056e+01, -8.51618527e+00],\n",
       "       [ 1.17061595e+01, -1.16193707e+01],\n",
       "       [ 1.15473566e+01, -2.15805469e+01],\n",
       "       [-6.36388722e+00, -2.06429816e+01],\n",
       "       [ 1.56399139e+00, -1.91510253e+01],\n",
       "       [ 4.60996600e+00,  2.12766061e+00],\n",
       "       [ 1.04595746e+01, -2.07274486e+01],\n",
       "       [ 1.97352028e+01, -1.57006063e+01],\n",
       "       [-1.56572817e+00, -1.69443679e+01],\n",
       "       [ 3.65383130e-01, -3.92718628e-01],\n",
       "       [-1.39903795e+00, -9.44183400e+00],\n",
       "       [ 4.78780274e+00, -2.53605324e+01],\n",
       "       [ 6.51502716e+00, -7.53766577e+00],\n",
       "       [ 3.39966806e+00, -9.76410549e+00],\n",
       "       [ 5.25852270e+00, -8.92663795e+00],\n",
       "       [ 2.11092081e+01, -1.31702411e+01],\n",
       "       [ 1.24292451e+01, -1.83007597e+01],\n",
       "       [-6.15629978e+00, -2.12827659e+01],\n",
       "       [ 9.91937788e+00, -1.12260580e+00],\n",
       "       [-1.14049655e+01, -1.94448231e+01],\n",
       "       [-2.41950232e+00, -1.52069777e+01],\n",
       "       [-4.52333865e+00, -1.96875675e+01],\n",
       "       [ 1.99034288e+01, -6.06829184e+00],\n",
       "       [ 1.17500715e+01, -1.57674462e+01],\n",
       "       [ 4.03543113e+00,  1.67359252e+01],\n",
       "       [-7.85905692e+00, -2.22269427e+01],\n",
       "       [ 1.27930928e+01, -1.47997688e+01],\n",
       "       [-3.76277938e+00, -4.72217922e+00],\n",
       "       [ 1.48377357e+01,  1.25034777e+01],\n",
       "       [ 8.80039067e+00, -1.61273171e+00],\n",
       "       [-2.24995067e+00, -4.61100747e+00],\n",
       "       [ 6.10268281e+00,  4.70178555e+00],\n",
       "       [-1.35670453e+01, -1.61429104e+01],\n",
       "       [ 1.84293211e+01,  4.73114991e+00],\n",
       "       [ 2.97257742e+01,  2.58275762e+01],\n",
       "       [-1.02245560e+00,  1.03516113e+01],\n",
       "       [-1.36652619e+01, -2.19862214e+01],\n",
       "       [-1.08988936e+01,  6.85541000e+00],\n",
       "       [-9.58559796e+00, -6.33529990e-01],\n",
       "       [ 1.35812903e+01,  6.96251324e+00],\n",
       "       [ 9.34931558e+00,  9.26620177e+00],\n",
       "       [-1.20183465e+01, -1.29069588e+01],\n",
       "       [-2.36308040e+00, -9.54302265e+00],\n",
       "       [ 5.65929107e+00, -2.12857370e+01],\n",
       "       [ 1.88318599e+01,  1.15652944e+01],\n",
       "       [ 2.40484941e+01,  5.78113398e+00],\n",
       "       [-1.13180692e+01,  7.87172852e+00],\n",
       "       [-3.65068943e+00, -6.81671866e+00],\n",
       "       [ 1.92946750e+01, -1.00086600e-01],\n",
       "       [ 5.13291376e+00,  1.52397523e+01],\n",
       "       [-2.22810728e+01, -5.19265264e+00],\n",
       "       [-1.14849912e+00,  3.52477579e+00],\n",
       "       [ 9.72545990e+00, -1.36811725e+01],\n",
       "       [-3.62138703e+00, -3.92538100e+00],\n",
       "       [ 3.21336546e+00, -1.22905483e+01],\n",
       "       [ 1.60712186e+01, -1.18860935e+01],\n",
       "       [-1.08977114e+01, -1.58957068e+01],\n",
       "       [ 4.81462380e+00,  1.56518687e+01],\n",
       "       [ 2.59085089e+01,  1.26964308e+01],\n",
       "       [ 1.64368431e+01, -4.11673945e+00],\n",
       "       [-5.73167020e+00, -1.66031339e+01],\n",
       "       [-4.08594841e+00, -2.03786179e+01],\n",
       "       [ 2.81007312e+01,  2.66176866e+00],\n",
       "       [-1.26612320e+01,  1.25014170e+01],\n",
       "       [-2.85591172e+01,  4.32033865e+00],\n",
       "       [ 2.16517969e+01,  8.10569549e+00],\n",
       "       [ 2.37133156e+01,  2.46803691e+00],\n",
       "       [-1.51532812e+01,  1.86728049e+01],\n",
       "       [-1.32916049e+01,  1.99568284e+01],\n",
       "       [-2.91220514e+01,  1.58403078e+00],\n",
       "       [-8.19581613e+00,  1.24985109e+01],\n",
       "       [-2.64819100e+01,  9.16997644e+00],\n",
       "       [-1.09943664e+01,  1.33624476e+01],\n",
       "       [ 2.64961252e+00,  4.11933336e+00],\n",
       "       [-9.47873496e-01,  6.64516575e+00],\n",
       "       [-3.29512583e+01,  9.17721349e+00],\n",
       "       [-1.82175880e+01,  1.80776230e+01],\n",
       "       [ 1.54991625e+01,  1.21098067e+01],\n",
       "       [-1.74904346e+01,  1.54068301e+01],\n",
       "       [ 1.84332789e+01,  9.82843362e+00],\n",
       "       [-2.26695625e+01,  1.32120330e+01],\n",
       "       [ 2.87679742e+01,  1.87139301e-01],\n",
       "       [-3.13751851e+01,  8.96333087e+00],\n",
       "       [-4.65214205e+00,  1.47561594e+01],\n",
       "       [-2.22683154e+01,  3.95184056e+00],\n",
       "       [-2.27851587e+01, -1.64866197e+00],\n",
       "       [-2.34774750e+01, -1.59189030e+01],\n",
       "       [ 3.56645018e+01,  1.47705967e+01],\n",
       "       [-1.98882902e+00, -5.10156452e+00],\n",
       "       [-1.55617685e+01,  1.74754359e+01],\n",
       "       [-2.22224707e+01, -9.20800459e+00],\n",
       "       [ 1.31679435e+01,  6.38922218e+00],\n",
       "       [-8.91988446e+00,  1.27844829e+01],\n",
       "       [-6.69680092e-02,  1.32576851e+01],\n",
       "       [ 6.43511181e+00,  1.85964903e+01],\n",
       "       [-1.45440597e+01,  2.13148277e+01],\n",
       "       [ 2.24984520e+01,  1.01896076e+01],\n",
       "       [-3.68595461e+01, -3.91987544e-01],\n",
       "       [-6.44631729e+00, -1.07079491e+00],\n",
       "       [ 3.49375091e+01,  3.88208256e+00],\n",
       "       [-2.59572038e+01,  6.88661045e+00],\n",
       "       [-1.63666092e+01, -8.08199087e+00],\n",
       "       [-3.60057541e+00,  1.06208336e+01],\n",
       "       [-4.05594173e+00,  8.54993361e+00],\n",
       "       [-1.15289106e+01,  1.41101880e+01],\n",
       "       [-2.51307089e+01, -4.84856518e+00],\n",
       "       [-1.38967385e+01, -1.19111020e+01],\n",
       "       [-2.45829028e+01, -9.75817656e+00],\n",
       "       [ 1.97455221e+01,  8.28887376e+00],\n",
       "       [ 2.22425710e+01,  3.17386954e+00],\n",
       "       [ 1.85799334e+01,  6.34540867e+00],\n",
       "       [-2.84011506e+01, -3.48550838e+00],\n",
       "       [-4.90866874e+00,  7.49604014e+00],\n",
       "       [-1.01541015e+01,  1.11548082e+01],\n",
       "       [-1.13761701e+01, -4.89559203e+00],\n",
       "       [-2.82907685e+01,  1.53490598e+01],\n",
       "       [-2.15804976e+01,  1.35451538e+01],\n",
       "       [ 1.38361034e+01,  1.51208511e+01],\n",
       "       [-1.97929076e+01,  1.52125813e+01],\n",
       "       [-1.76174681e+01,  2.37261859e+01],\n",
       "       [-9.69057938e+00,  4.01889568e-01],\n",
       "       [ 2.25289865e+01,  2.27781824e+01],\n",
       "       [-1.41085659e+01, -1.15858508e+01],\n",
       "       [-2.97540387e+00,  1.66718654e+00],\n",
       "       [-6.15010859e+00,  1.72361766e+01],\n",
       "       [-2.90098925e+01,  1.24615253e+01],\n",
       "       [-2.32018318e+01, -4.06421414e+00],\n",
       "       [ 9.74350289e+00,  2.14106437e+00],\n",
       "       [-8.21158223e-01,  1.40041972e+01],\n",
       "       [ 3.75274896e+01,  1.16998824e+01],\n",
       "       [-7.46099369e+00,  6.04170993e+00],\n",
       "       [ 1.54912458e+01,  5.92358230e+00],\n",
       "       [ 1.64163726e+01, -7.51736903e-01],\n",
       "       [ 1.25422921e+01,  9.32349963e+00],\n",
       "       [-2.30819474e+01, -1.60529145e+00],\n",
       "       [-4.75814425e+00,  1.84087940e+01],\n",
       "       [ 1.51779011e-01,  5.13679497e+00],\n",
       "       [ 8.99565273e+00,  2.96059640e+00],\n",
       "       [-1.31870908e+01, -3.93079834e+00],\n",
       "       [-1.58558028e+01, -1.21660698e+01],\n",
       "       [-3.04026758e+01, -6.65134267e+00],\n",
       "       [ 1.33116059e+01,  3.39228834e-01],\n",
       "       [-2.74083712e+00,  1.03872317e+01]])"
      ]
     },
     "execution_count": 21,
     "metadata": {},
     "output_type": "execute_result"
    }
   ],
   "source": [
    "# Your code here:\n",
    "pca_sklearn\n"
   ]
  },
  {
   "cell_type": "code",
   "execution_count": 23,
   "metadata": {},
   "outputs": [
    {
     "data": {
      "text/html": [
       "<div>\n",
       "<style scoped>\n",
       "    .dataframe tbody tr th:only-of-type {\n",
       "        vertical-align: middle;\n",
       "    }\n",
       "\n",
       "    .dataframe tbody tr th {\n",
       "        vertical-align: top;\n",
       "    }\n",
       "\n",
       "    .dataframe thead th {\n",
       "        text-align: right;\n",
       "    }\n",
       "</style>\n",
       "<table border=\"1\" class=\"dataframe\">\n",
       "  <thead>\n",
       "    <tr style=\"text-align: right;\">\n",
       "      <th></th>\n",
       "      <th>pca1</th>\n",
       "      <th>pca2</th>\n",
       "    </tr>\n",
       "  </thead>\n",
       "  <tbody>\n",
       "    <tr>\n",
       "      <th>0</th>\n",
       "      <td>28.711032</td>\n",
       "      <td>18.115633</td>\n",
       "    </tr>\n",
       "    <tr>\n",
       "      <th>1</th>\n",
       "      <td>23.587670</td>\n",
       "      <td>-8.602418</td>\n",
       "    </tr>\n",
       "    <tr>\n",
       "      <th>2</th>\n",
       "      <td>-6.250112</td>\n",
       "      <td>0.014059</td>\n",
       "    </tr>\n",
       "    <tr>\n",
       "      <th>3</th>\n",
       "      <td>4.152104</td>\n",
       "      <td>-18.678004</td>\n",
       "    </tr>\n",
       "    <tr>\n",
       "      <th>4</th>\n",
       "      <td>15.552876</td>\n",
       "      <td>-0.348181</td>\n",
       "    </tr>\n",
       "    <tr>\n",
       "      <th>...</th>\n",
       "      <td>...</td>\n",
       "      <td>...</td>\n",
       "    </tr>\n",
       "    <tr>\n",
       "      <th>155</th>\n",
       "      <td>-13.187091</td>\n",
       "      <td>-3.930798</td>\n",
       "    </tr>\n",
       "    <tr>\n",
       "      <th>156</th>\n",
       "      <td>-15.855803</td>\n",
       "      <td>-12.166070</td>\n",
       "    </tr>\n",
       "    <tr>\n",
       "      <th>157</th>\n",
       "      <td>-30.402676</td>\n",
       "      <td>-6.651343</td>\n",
       "    </tr>\n",
       "    <tr>\n",
       "      <th>158</th>\n",
       "      <td>13.311606</td>\n",
       "      <td>0.339229</td>\n",
       "    </tr>\n",
       "    <tr>\n",
       "      <th>159</th>\n",
       "      <td>-2.740837</td>\n",
       "      <td>10.387232</td>\n",
       "    </tr>\n",
       "  </tbody>\n",
       "</table>\n",
       "<p>160 rows × 2 columns</p>\n",
       "</div>"
      ],
      "text/plain": [
       "          pca1       pca2\n",
       "0    28.711032  18.115633\n",
       "1    23.587670  -8.602418\n",
       "2    -6.250112   0.014059\n",
       "3     4.152104 -18.678004\n",
       "4    15.552876  -0.348181\n",
       "..         ...        ...\n",
       "155 -13.187091  -3.930798\n",
       "156 -15.855803 -12.166070\n",
       "157 -30.402676  -6.651343\n",
       "158  13.311606   0.339229\n",
       "159  -2.740837  10.387232\n",
       "\n",
       "[160 rows x 2 columns]"
      ]
     },
     "execution_count": 23,
     "metadata": {},
     "output_type": "execute_result"
    }
   ],
   "source": [
    "df = pd.DataFrame(pca_sklearn)\n",
    "df.columns = ['pca1','pca2']\n",
    "df"
   ]
  },
  {
   "cell_type": "markdown",
   "metadata": {
    "id": "a77mi_VUFDOr"
   },
   "source": [
    "Create a labels list. This list will be of size 160. The first 80 elements in the list will be the word `blue`, and the last 80 elements will be `red`. This will ensure that all dog observations will be colored in blue and all cats will be colored in red. Name this list `colors`."
   ]
  },
  {
   "cell_type": "code",
   "execution_count": 24,
   "metadata": {
    "ExecuteTime": {
     "end_time": "2021-02-25T13:07:40.558939Z",
     "start_time": "2021-02-25T13:07:40.547968Z"
    },
    "id": "uEOkkp9aFDOr"
   },
   "outputs": [],
   "source": [
    "# Your code here:\n",
    "labels = ['blue'] * 80 + ['red'] * 80"
   ]
  },
  {
   "cell_type": "markdown",
   "metadata": {
    "id": "3IrkGs-gFDOr"
   },
   "source": [
    "Create a scatter plot of `pc1` and `pc2` below. Use the `colors` list above to color the observations by setting `c=colors`."
   ]
  },
  {
   "cell_type": "code",
   "execution_count": 25,
   "metadata": {
    "ExecuteTime": {
     "end_time": "2021-02-25T13:07:44.414315Z",
     "start_time": "2021-02-25T13:07:44.398349Z"
    },
    "id": "-AbrrG-TFDOr"
   },
   "outputs": [
    {
     "data": {
      "text/plain": [
       "<AxesSubplot:xlabel='pca1', ylabel='pca2'>"
      ]
     },
     "execution_count": 25,
     "metadata": {},
     "output_type": "execute_result"
    },
    {
     "data": {
      "image/png": "[encoded data removed]",
      "text/plain": [
       "<Figure size 432x288 with 1 Axes>"
      ]
     },
     "metadata": {
      "needs_background": "light"
     },
     "output_type": "display_data"
    }
   ],
   "source": [
    "# Your code here:\n",
    "import seaborn as sns \n",
    "import matplotlib.pyplot as plt\n",
    "\n",
    "df.plot.scatter(x='pca1', y='pca2', c=labels)\n"
   ]
  },
  {
   "cell_type": "markdown",
   "metadata": {},
   "source": [
    "### PCA from stats model"
   ]
  },
  {
   "cell_type": "code",
   "execution_count": 26,
   "metadata": {},
   "outputs": [
    {
     "data": {
      "text/plain": [
       "Principal Component Analysis(nobs: 160, nvar: 4096, transformation: Standardize (Correlation), normalization: True, number of components: 2, SVD, id: 0x7fe573b297c0)"
      ]
     },
     "execution_count": 26,
     "metadata": {},
     "output_type": "execute_result"
    }
   ],
   "source": [
    "pca_stats"
   ]
  },
  {
   "cell_type": "code",
   "execution_count": 27,
   "metadata": {},
   "outputs": [
    {
     "data": {
      "text/html": [
       "<div>\n",
       "<style scoped>\n",
       "    .dataframe tbody tr th:only-of-type {\n",
       "        vertical-align: middle;\n",
       "    }\n",
       "\n",
       "    .dataframe tbody tr th {\n",
       "        vertical-align: top;\n",
       "    }\n",
       "\n",
       "    .dataframe thead th {\n",
       "        text-align: right;\n",
       "    }\n",
       "</style>\n",
       "<table border=\"1\" class=\"dataframe\">\n",
       "  <thead>\n",
       "    <tr style=\"text-align: right;\">\n",
       "      <th></th>\n",
       "      <th>pca1</th>\n",
       "      <th>pca2</th>\n",
       "    </tr>\n",
       "  </thead>\n",
       "  <tbody>\n",
       "    <tr>\n",
       "      <th>0</th>\n",
       "      <td>-0.126925</td>\n",
       "      <td>-0.130697</td>\n",
       "    </tr>\n",
       "    <tr>\n",
       "      <th>1</th>\n",
       "      <td>-0.128883</td>\n",
       "      <td>0.016662</td>\n",
       "    </tr>\n",
       "    <tr>\n",
       "      <th>2</th>\n",
       "      <td>0.026380</td>\n",
       "      <td>0.029428</td>\n",
       "    </tr>\n",
       "    <tr>\n",
       "      <th>3</th>\n",
       "      <td>-0.040758</td>\n",
       "      <td>0.118589</td>\n",
       "    </tr>\n",
       "    <tr>\n",
       "      <th>4</th>\n",
       "      <td>-0.072766</td>\n",
       "      <td>-0.040100</td>\n",
       "    </tr>\n",
       "    <tr>\n",
       "      <th>...</th>\n",
       "      <td>...</td>\n",
       "      <td>...</td>\n",
       "    </tr>\n",
       "    <tr>\n",
       "      <th>155</th>\n",
       "      <td>0.072222</td>\n",
       "      <td>0.046915</td>\n",
       "    </tr>\n",
       "    <tr>\n",
       "      <th>156</th>\n",
       "      <td>0.066406</td>\n",
       "      <td>0.106850</td>\n",
       "    </tr>\n",
       "    <tr>\n",
       "      <th>157</th>\n",
       "      <td>0.126079</td>\n",
       "      <td>0.058476</td>\n",
       "    </tr>\n",
       "    <tr>\n",
       "      <th>158</th>\n",
       "      <td>-0.047874</td>\n",
       "      <td>-0.001204</td>\n",
       "    </tr>\n",
       "    <tr>\n",
       "      <th>159</th>\n",
       "      <td>0.030278</td>\n",
       "      <td>-0.074388</td>\n",
       "    </tr>\n",
       "  </tbody>\n",
       "</table>\n",
       "<p>160 rows × 2 columns</p>\n",
       "</div>"
      ],
      "text/plain": [
       "         pca1      pca2\n",
       "0   -0.126925 -0.130697\n",
       "1   -0.128883  0.016662\n",
       "2    0.026380  0.029428\n",
       "3   -0.040758  0.118589\n",
       "4   -0.072766 -0.040100\n",
       "..        ...       ...\n",
       "155  0.072222  0.046915\n",
       "156  0.066406  0.106850\n",
       "157  0.126079  0.058476\n",
       "158 -0.047874 -0.001204\n",
       "159  0.030278 -0.074388\n",
       "\n",
       "[160 rows x 2 columns]"
      ]
     },
     "execution_count": 27,
     "metadata": {},
     "output_type": "execute_result"
    }
   ],
   "source": [
    "df_stats = pd.DataFrame(components_stats)\n",
    "df_stats.columns =['pca1','pca2']\n",
    "df_stats"
   ]
  },
  {
   "cell_type": "code",
   "execution_count": 28,
   "metadata": {},
   "outputs": [
    {
     "data": {
      "text/plain": [
       "<AxesSubplot:xlabel='pca1', ylabel='pca2'>"
      ]
     },
     "execution_count": 28,
     "metadata": {},
     "output_type": "execute_result"
    },
    {
     "data": {
      "image/png": "[encoded data removed]",
      "text/plain": [
       "<Figure size 432x288 with 1 Axes>"
      ]
     },
     "metadata": {
      "needs_background": "light"
     },
     "output_type": "display_data"
    }
   ],
   "source": [
    "df_stats.plot.scatter(x='pca1', y='pca2', c=labels)"
   ]
  },
  {
   "cell_type": "markdown",
   "metadata": {
    "id": "I-meGOYBFDOs"
   },
   "source": [
    "Do you see a clear separation between cats and dogs? Write your answer below."
   ]
  },
  {
   "cell_type": "code",
   "execution_count": 29,
   "metadata": {
    "ExecuteTime": {
     "end_time": "2021-02-25T13:07:49.361753Z",
     "start_time": "2021-02-25T13:07:49.348769Z"
    },
    "id": "nBPHDwtIFDOs"
   },
   "outputs": [],
   "source": [
    "# Your conclusions here:\n",
    "# There is a clear diffrence bwteen two groups cats(red) and dogs (blue)"
   ]
  },
  {
   "cell_type": "markdown",
   "metadata": {
    "id": "Qe4Em6IRevAK"
   },
   "source": [
    "## TSNE"
   ]
  },
  {
   "cell_type": "code",
   "execution_count": 30,
   "metadata": {
    "id": "1DqU2K1zFDOs"
   },
   "outputs": [],
   "source": [
    "# Your code here:\n",
    "from sklearn.manifold import TSNE"
   ]
  },
  {
   "cell_type": "markdown",
   "metadata": {
    "id": "5HvnGNv5e3GZ"
   },
   "source": [
    "And now let's use t-SNE to reduce the dimensions till 2 components"
   ]
  },
  {
   "cell_type": "code",
   "execution_count": 31,
   "metadata": {
    "id": "WOe6hJyNezfs"
   },
   "outputs": [
    {
     "name": "stdout",
     "output_type": "stream",
     "text": [
      "[t-SNE] Computing 121 nearest neighbors...\n",
      "[t-SNE] Indexed 160 samples in 0.001s...\n",
      "[t-SNE] Computed neighbors for 160 samples in 0.013s...\n",
      "[t-SNE] Computed conditional probabilities for sample 160 / 160\n",
      "[t-SNE] Mean sigma: 15.056200\n",
      "[t-SNE] KL divergence after 250 iterations with early exaggeration: 73.361465\n",
      "[t-SNE] KL divergence after 300 iterations: 1.527368\n"
     ]
    }
   ],
   "source": [
    "# Your code here:\n",
    "\n",
    "tsne = TSNE(n_components=2, verbose=1, perplexity=40, n_iter=300)\n",
    "X_reduced = tsne.fit_transform(CDSTD.T)"
   ]
  },
  {
   "cell_type": "markdown",
   "metadata": {
    "id": "s7uiHdrWe7vp"
   },
   "source": [
    "How many information we can describe with 2 components?"
   ]
  },
  {
   "cell_type": "markdown",
   "metadata": {
    "id": "fJSJ3tiie5Ou"
   },
   "source": [
    "The 2 components described the whole picture of cat or dog so 4096 features were replaced by 2 components, but as a graph below showed maybe the t-SNE method is not the best here because the diffrence between cat and dogs was more clear with PCA"
   ]
  },
  {
   "cell_type": "markdown",
   "metadata": {
    "id": "WTf4b5ePe-rx"
   },
   "source": [
    "Create a scatter plott"
   ]
  },
  {
   "cell_type": "code",
   "execution_count": 32,
   "metadata": {
    "id": "Yb1F8jlXe_Oq"
   },
   "outputs": [
    {
     "data": {
      "text/plain": [
       "<matplotlib.collections.PathCollection at 0x7fe54e0c9820>"
      ]
     },
     "execution_count": 32,
     "metadata": {},
     "output_type": "execute_result"
    },
    {
     "data": {
      "image/png": "[encoded data removed]",
      "text/plain": [
       "<Figure size 432x288 with 1 Axes>"
      ]
     },
     "metadata": {},
     "output_type": "display_data"
    }
   ],
   "source": [
    "import seaborn as sns; sns.set()\n",
    "import matplotlib.pyplot as plt\n",
    "\n",
    "\n",
    "\n",
    "plt.scatter(X_reduced[:, 0], X_reduced[:, 1], c=labels, cmap=plt.cm.hot)"
   ]
  },
  {
   "cell_type": "code",
   "execution_count": null,
   "metadata": {},
   "outputs": [],
   "source": []
  }
 ],
 "metadata": {
  "colab": {
   "collapsed_sections": [],
   "name": "main.ipynb",
   "provenance": []
  },
  "kernelspec": {
   "display_name": "Python 3",
   "language": "python",
   "name": "python3"
  },
  "language_info": {
   "codemirror_mode": {
    "name": "ipython",
    "version": 3
   },
   "file_extension": ".py",
   "mimetype": "text/x-python",
   "name": "python",
   "nbconvert_exporter": "python",
   "pygments_lexer": "ipython3",
   "version": "3.8.8"
  },
  "toc": {
   "base_numbering": 1,
   "nav_menu": {},
   "number_sections": true,
   "sideBar": true,
   "skip_h1_title": false,
   "title_cell": "Table of Contents",
   "title_sidebar": "Contents",
   "toc_cell": false,
   "toc_position": {},
   "toc_section_display": true,
   "toc_window_display": false
  },
  "varInspector": {
   "cols": {
    "lenName": 16,
    "lenType": 16,
    "lenVar": 40
   },
   "kernels_config": {
    "python": {
     "delete_cmd_postfix": "",
     "delete_cmd_prefix": "del ",
     "library": "var_list.py",
     "varRefreshCmd": "print(var_dic_list())"
    },
    "r": {
     "delete_cmd_postfix": ") ",
     "delete_cmd_prefix": "rm(",
     "library": "var_list.r",
     "varRefreshCmd": "cat(var_dic_list()) "
    }
   },
   "types_to_exclude": [
    "module",
    "function",
    "builtin_function_or_method",
    "instance",
    "_Feature"
   ],
   "window_display": false
  }
 },
 "nbformat": 4,
 "nbformat_minor": 1
}
