{
 "cells": [
  {
   "cell_type": "code",
   "execution_count": 22,
   "id": "f509b4a5",
   "metadata": {},
   "outputs": [
    {
     "data": {
      "text/plain": [
       "17"
      ]
     },
     "execution_count": 22,
     "metadata": {},
     "output_type": "execute_result"
    }
   ],
   "source": [
    "# Counting Sheeps\n",
    "\n",
    "def count_sheeps(sheep):\n",
    "    \n",
    "  # TODO May the force be with you\n",
    "    result = 0\n",
    "    for animal in sheep:\n",
    "        if animal is True:\n",
    "            result += 1\n",
    "    return result\n",
    "            \n",
    "count_sheeps([True,  True,  True,  False,\n",
    "  True,  True,  True,  True ,\n",
    "  True,  False, True,  False,\n",
    "  True,  False, False, True ,\n",
    "  True,  True,  True,  True ,\n",
    "  False, False, True,  True])\n"
   ]
  },
  {
   "cell_type": "code",
   "execution_count": 23,
   "id": "876aa624",
   "metadata": {},
   "outputs": [
    {
     "data": {
      "text/plain": [
       "[1, 3, 5, 7, 9]"
      ]
     },
     "execution_count": 23,
     "metadata": {},
     "output_type": "execute_result"
    }
   ],
   "source": [
    "# Removing elements\n",
    "\n",
    "def remove_every_other(my_list):\n",
    "    \n",
    "    # Get hold of the first element of the list \n",
    "    for number in my_list:\n",
    "        # Assigning current element's index to a variable\n",
    "        index_of_number = my_list.index(number)\n",
    "        # Making sure there is a element left after the current one\n",
    "        if number != my_list[-1]:\n",
    "            second_number = my_list[index_of_number + 1]\n",
    "            my_list.remove(second_number)\n",
    "    return my_list\n",
    "            \n",
    "remove_every_other([1, 2, 3, 4, 5, 6, 7, 8, 9, 10])"
   ]
  },
  {
   "cell_type": "code",
   "execution_count": 24,
   "id": "04953a84",
   "metadata": {},
   "outputs": [
    {
     "data": {
      "text/plain": [
       "[8, 4, 5, 6]"
      ]
     },
     "execution_count": 24,
     "metadata": {},
     "output_type": "execute_result"
    }
   ],
   "source": [
    "# Convert number to reversed array of digits\n",
    "\n",
    "def digitize(n):\n",
    "    \n",
    "    array = []\n",
    "    # Transform the number into a string\n",
    "    num_string = str(n)\n",
    "    # Reverse the string\n",
    "    reversed = num_string[::-1]\n",
    "    # Turn every element of the list into an int and append it to the array\n",
    "    for element in reversed:\n",
    "        element = int(element)\n",
    "        array.append(element)\n",
    "    return array\n",
    "\n",
    "digitize(6548)"
   ]
  },
  {
   "cell_type": "code",
   "execution_count": 25,
   "id": "7eccac36",
   "metadata": {},
   "outputs": [
    {
     "data": {
      "text/plain": [
       "64161681"
      ]
     },
     "execution_count": 25,
     "metadata": {},
     "output_type": "execute_result"
    }
   ],
   "source": [
    "# Square every digit\n",
    "\n",
    "def square_digits(num):\n",
    "    \n",
    "    concatenated = \"\"\n",
    "    num_string = str(num)\n",
    "    for char in num_string:\n",
    "        char = int(char)\n",
    "        char = char ** 2\n",
    "        char = str(char)\n",
    "        concatenated += char\n",
    "    return int(concatenated)\n",
    "\n",
    "square_digits(8449)"
   ]
  },
  {
   "cell_type": "code",
   "execution_count": 17,
   "id": "87eda34d",
   "metadata": {},
   "outputs": [
    {
     "data": {
      "text/plain": [
       "[(1, 7), (8, 5), (4, 0)]"
      ]
     },
     "execution_count": 17,
     "metadata": {},
     "output_type": "execute_result"
    }
   ],
   "source": [
    "# Counting Total Occurence Of Specific Digits\n",
    "\n",
    "def count_spec_digits(integers_list, digits_list):   \n",
    "    \n",
    "    import re\n",
    "\n",
    "    #integers_list = [-18, -31, 81, -19, 111, -888]\n",
    "    #digits_list = [1, 8, 4]\n",
    "    # l.count_spec_digits(integers_list, digits_list) == [(1, 7), (8, 5), (4, 0)]\n",
    "    digits_string = \"\"\n",
    "    tuples_list = []\n",
    "\n",
    "    for element in integers_list:\n",
    "        element = str(element)\n",
    "        digit = re.findall(\"[0-9]\", element) # returns a list with the digits of a sigle number\n",
    "        for element in digit:\n",
    "            digits_string += element # adds every digit to a string\n",
    "\n",
    "    for element in digits_list:\n",
    "        element = str(element)\n",
    "        digit_count = digits_string.count(element) # Frequency of element in int_list\n",
    "        element = int(element)\n",
    "        count_tuple = (element, digit_count)\n",
    "        tuples_list.append(count_tuple)\n",
    "        #print(count_tuple)\n",
    "    \n",
    "        \n",
    "    return tuples_list\n",
    "\n",
    "count_spec_digits([-18, -31, 81, -19, 111, -888], [1, 8, 4])"
   ]
  },
  {
   "cell_type": "code",
   "execution_count": 20,
   "id": "64f49e91",
   "metadata": {},
   "outputs": [
    {
     "data": {
      "text/plain": [
       "[(1, 7), (8, 5), (4, 0)]"
      ]
     },
     "execution_count": 20,
     "metadata": {},
     "output_type": "execute_result"
    }
   ],
   "source": [
    "class List(object):\n",
    "    \n",
    "    def count_spec_digits(self, integers_list, digits_list):\n",
    "        # your code here\n",
    "        import re\n",
    "\n",
    "        digits_string = \"\"\n",
    "        self.tuples_list = []\n",
    "\n",
    "        for element in integers_list:\n",
    "            element = str(element)\n",
    "            digit = re.findall(\"[0-9]\", element) # returns a list with the digits of a sigle number\n",
    "            for element in digit:\n",
    "                digits_string += element # adds every digit to a string\n",
    "\n",
    "        for element in digits_list:\n",
    "            element = str(element)\n",
    "            digit_count = digits_string.count(element) # Frequency of element in int_list\n",
    "            element = int(element)\n",
    "            count_tuple = (element, digit_count)\n",
    "            self.tuples_list.append(count_tuple)\n",
    "            \n",
    "        return self.tuples_list\n",
    "        \n",
    "l = List() # Instanciating List class with an object\n",
    "l.count_spec_digits([-18, -31, 81, -19, 111, -888], [1, 8, 4])"
   ]
  },
  {
   "cell_type": "code",
   "execution_count": null,
   "id": "2bc7602b",
   "metadata": {},
   "outputs": [],
   "source": []
  }
 ],
 "metadata": {
  "kernelspec": {
   "display_name": "Python 3",
   "language": "python",
   "name": "python3"
  },
  "language_info": {
   "codemirror_mode": {
    "name": "ipython",
    "version": 3
   },
   "file_extension": ".py",
   "mimetype": "text/x-python",
   "name": "python",
   "nbconvert_exporter": "python",
   "pygments_lexer": "ipython3",
   "version": "3.8.8"
  }
 },
 "nbformat": 4,
 "nbformat_minor": 5
}
