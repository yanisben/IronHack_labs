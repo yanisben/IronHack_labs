{
 "cells": [
  {
   "cell_type": "code",
   "execution_count": 1,
   "id": "0e1c5a3c",
   "metadata": {},
   "outputs": [],
   "source": [
    "import numpy as np\n",
    "import pandas as pd"
   ]
  },
  {
   "cell_type": "code",
   "execution_count": 2,
   "id": "95792310",
   "metadata": {},
   "outputs": [
    {
     "data": {
      "text/html": [
       "<div>\n",
       "<style scoped>\n",
       "    .dataframe tbody tr th:only-of-type {\n",
       "        vertical-align: middle;\n",
       "    }\n",
       "\n",
       "    .dataframe tbody tr th {\n",
       "        vertical-align: top;\n",
       "    }\n",
       "\n",
       "    .dataframe thead th {\n",
       "        text-align: right;\n",
       "    }\n",
       "</style>\n",
       "<table border=\"1\" class=\"dataframe\">\n",
       "  <thead>\n",
       "    <tr style=\"text-align: right;\">\n",
       "      <th></th>\n",
       "      <th>TransactionID</th>\n",
       "      <th>ClientID</th>\n",
       "      <th>Profession</th>\n",
       "      <th>Bank_dep</th>\n",
       "      <th>Risk</th>\n",
       "      <th>Number of credits</th>\n",
       "      <th>Revenue</th>\n",
       "    </tr>\n",
       "  </thead>\n",
       "  <tbody>\n",
       "    <tr>\n",
       "      <th>1</th>\n",
       "      <td>1</td>\n",
       "      <td>231</td>\n",
       "      <td>Self-employed</td>\n",
       "      <td>009</td>\n",
       "      <td>High</td>\n",
       "      <td>2</td>\n",
       "      <td>30200</td>\n",
       "    </tr>\n",
       "    <tr>\n",
       "      <th>2</th>\n",
       "      <td>2</td>\n",
       "      <td>765</td>\n",
       "      <td>students</td>\n",
       "      <td>005</td>\n",
       "      <td>high</td>\n",
       "      <td>3</td>\n",
       "      <td>12700</td>\n",
       "    </tr>\n",
       "    <tr>\n",
       "      <th>3</th>\n",
       "      <td>3</td>\n",
       "      <td>453</td>\n",
       "      <td>Horeca</td>\n",
       "      <td>007</td>\n",
       "      <td>medium</td>\n",
       "      <td>5</td>\n",
       "      <td>89400</td>\n",
       "    </tr>\n",
       "    <tr>\n",
       "      <th>4</th>\n",
       "      <td>4</td>\n",
       "      <td>231</td>\n",
       "      <td>self-employed</td>\n",
       "      <td>009</td>\n",
       "      <td>high</td>\n",
       "      <td>2</td>\n",
       "      <td>30200</td>\n",
       "    </tr>\n",
       "    <tr>\n",
       "      <th>5</th>\n",
       "      <td>5</td>\n",
       "      <td>892</td>\n",
       "      <td>finance</td>\n",
       "      <td>003</td>\n",
       "      <td>low</td>\n",
       "      <td>3</td>\n",
       "      <td>740000</td>\n",
       "    </tr>\n",
       "  </tbody>\n",
       "</table>\n",
       "</div>"
      ],
      "text/plain": [
       "   TransactionID  ClientID     Profession Bank_dep    Risk  Number of credits  \\\n",
       "1              1       231  Self-employed      009    High                  2   \n",
       "2              2       765       students      005    high                  3   \n",
       "3              3       453         Horeca      007  medium                  5   \n",
       "4              4       231  self-employed      009    high                  2   \n",
       "5              5       892        finance      003     low                  3   \n",
       "\n",
       "   Revenue  \n",
       "1    30200  \n",
       "2    12700  \n",
       "3    89400  \n",
       "4    30200  \n",
       "5   740000  "
      ]
     },
     "execution_count": 2,
     "metadata": {},
     "output_type": "execute_result"
    }
   ],
   "source": [
    "df = pd.DataFrame([(1,231,\"Self-employed\",\"009\",\"High\", 2, 30200),\n",
    "                   (2,765,\"students\",\"005\",\"high\",3,12700),\n",
    "                   (3,453,\"Horeca\",\"007\",\"medium\",5,89400),\n",
    "                   (4,231,\"self-employed\",\"009\",\"high\",2,30200),\n",
    "                   (5,892,\"finance\",\"003\",\"low\",3,740000),],\n",
    "                  index=[\"1\", \"2\", \"3\", \"4\", \"5\"],\n",
    "columns=(\"TransactionID\",\"ClientID\",\"Profession\",\"Bank_dep\",\"Risk\",\"Number of credits\",\"Revenue\",),\n",
    ")\n",
    "df"
   ]
  },
  {
   "cell_type": "code",
   "execution_count": null,
   "id": "97eae34a",
   "metadata": {},
   "outputs": [],
   "source": []
  }
 ],
 "metadata": {
  "kernelspec": {
   "display_name": "Python 3",
   "language": "python",
   "name": "python3"
  },
  "language_info": {
   "codemirror_mode": {
    "name": "ipython",
    "version": 3
   },
   "file_extension": ".py",
   "mimetype": "text/x-python",
   "name": "python",
   "nbconvert_exporter": "python",
   "pygments_lexer": "ipython3",
   "version": "3.8.8"
  }
 },
 "nbformat": 4,
 "nbformat_minor": 5
}
